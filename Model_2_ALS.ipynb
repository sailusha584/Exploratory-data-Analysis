{
  "cells": [
    {
      "cell_type": "markdown",
      "metadata": {
        "id": "view-in-github",
        "colab_type": "text"
      },
      "source": [
        "<a href=\"https://colab.research.google.com/github/sailusha584/Exploratory-data-Analysis/blob/main/Model_2_ALS.ipynb\" target=\"_parent\"><img src=\"https://colab.research.google.com/assets/colab-badge.svg\" alt=\"Open In Colab\"/></a>"
      ]
    },
    {
      "cell_type": "markdown",
      "metadata": {
        "id": "c289a034"
      },
      "source": [
        "# Model-2: Matrix factorizartion-Alternating Least Squares"
      ],
      "id": "c289a034"
    },
    {
      "cell_type": "code",
      "source": [
        "#\n",
        "# Packages used\n",
        "# pyspark :It is a package developed to integrate Apache Spark with python.\n",
        "# This definition of Apache Spark is based on Yogesh Kumar gupta\n",
        "# Apache Spark is technology used in open-source in memory clusters to increasing the processing of the code computations."
      ],
      "metadata": {
        "id": "AghaxTMwxEwK"
      },
      "id": "AghaxTMwxEwK",
      "execution_count": 2,
      "outputs": []
    },
    {
      "cell_type": "code",
      "execution_count": null,
      "metadata": {
        "colab": {
          "base_uri": "https://localhost:8080/",
          "height": 36
        },
        "id": "P23PkRjD1RAs",
        "outputId": "b6de5e7d-21ed-4c95-c1fd-9d33be0f504e"
      },
      "outputs": [
        {
          "data": {
            "application/vnd.google.colaboratory.intrinsic+json": {
              "type": "string"
            },
            "text/plain": [
              "'/device:GPU:0'"
            ]
          },
          "execution_count": 2,
          "metadata": {},
          "output_type": "execute_result"
        }
      ],
      "source": [
        "import tensorflow as tf\n",
        "tf.test.gpu_device_name()"
      ],
      "id": "P23PkRjD1RAs"
    },
    {
      "cell_type": "code",
      "source": [
        "#Installed pyspark package"
      ],
      "metadata": {
        "id": "XfS9yGOD1-yR"
      },
      "id": "XfS9yGOD1-yR",
      "execution_count": null,
      "outputs": []
    },
    {
      "cell_type": "code",
      "execution_count": 3,
      "metadata": {
        "colab": {
          "base_uri": "https://localhost:8080/"
        },
        "id": "707f968f",
        "outputId": "34a60382-02df-47da-f4be-8a083b9f619c"
      },
      "outputs": [
        {
          "output_type": "stream",
          "name": "stdout",
          "text": [
            "Looking in indexes: https://pypi.org/simple, https://us-python.pkg.dev/colab-wheels/public/simple/\n",
            "Collecting pyspark\n",
            "  Downloading pyspark-3.3.0.tar.gz (281.3 MB)\n",
            "\u001b[K     |████████████████████████████████| 281.3 MB 42 kB/s \n",
            "\u001b[?25hCollecting py4j==0.10.9.5\n",
            "  Downloading py4j-0.10.9.5-py2.py3-none-any.whl (199 kB)\n",
            "\u001b[K     |████████████████████████████████| 199 kB 60.6 MB/s \n",
            "\u001b[?25hBuilding wheels for collected packages: pyspark\n",
            "  Building wheel for pyspark (setup.py) ... \u001b[?25l\u001b[?25hdone\n",
            "  Created wheel for pyspark: filename=pyspark-3.3.0-py2.py3-none-any.whl size=281764026 sha256=81f67081ce62460995215f304d7a94db6c2f225cdfb96da45c5250bbce5b48b8\n",
            "  Stored in directory: /root/.cache/pip/wheels/7a/8e/1b/f73a52650d2e5f337708d9f6a1750d451a7349a867f928b885\n",
            "Successfully built pyspark\n",
            "Installing collected packages: py4j, pyspark\n",
            "Successfully installed py4j-0.10.9.5 pyspark-3.3.0\n"
          ]
        }
      ],
      "source": [
        "pip install pyspark"
      ],
      "id": "707f968f"
    },
    {
      "cell_type": "code",
      "execution_count": null,
      "metadata": {
        "id": "5202a6b2"
      },
      "outputs": [],
      "source": [
        "import os\n",
        "import time\n",
        "\n",
        "# spark imports\n",
        "from pyspark.sql import SparkSession\n",
        "from pyspark.sql.functions import  explode, desc\n",
        "from pyspark.sql.types import StringType, ArrayType\n",
        "from pyspark.mllib.recommendation import ALS\n",
        "\n",
        "# data science imports\n",
        "import math\n",
        "import numpy as np\n",
        "import pandas as pd\n",
        "\n",
        "# visualization imports\n",
        "import seaborn as sns\n",
        "import matplotlib.pyplot as plt\n",
        "\n",
        "%matplotlib inline"
      ],
      "id": "5202a6b2"
    },
    {
      "cell_type": "code",
      "execution_count": null,
      "metadata": {
        "id": "53d83720"
      },
      "outputs": [],
      "source": [
        "# created path  configuration to extract data using spark commands\n",
        "data_path = os.path.join(os.environ['DATA_PATH'], 'GoodreadBooks')"
      ],
      "id": "53d83720"
    },
    {
      "cell_type": "code",
      "source": [
        "#@title Reloading data from CSV files\n",
        "#@markdown Reloading dataset in this notebook as the extracting format of data is different "
      ],
      "metadata": {
        "cellView": "form",
        "id": "z6KtmlmV3Bm5"
      },
      "id": "z6KtmlmV3Bm5",
      "execution_count": 4,
      "outputs": []
    },
    {
      "cell_type": "code",
      "execution_count": null,
      "metadata": {
        "id": "dc274dec"
      },
      "outputs": [],
      "source": [
        "##read book and ratings data \n",
        "books = spark.read.load(os.path.join(data_path, 'books_preprocess_13_july.csv'), format='csv', header=True, inferSchema=True)\n",
        "ratings = spark.read.load(os.path.join(data_path, 'ratings.csv'), format='csv', header=True, inferSchema=True)"
      ],
      "id": "dc274dec"
    },
    {
      "cell_type": "code",
      "execution_count": null,
      "metadata": {
        "colab": {
          "base_uri": "https://localhost:8080/"
        },
        "id": "97c8a995",
        "outputId": "31493b60-544f-4076-c733-7ced8c290a0d"
      },
      "outputs": [
        {
          "name": "stdout",
          "output_type": "stream",
          "text": [
            "+--------------------+--------------+-------+-----------+--------------------+-----------------+--------------------+-------------+-------------------------+-----+-----------+---------+---------+---------+---------+---------+--------------------+\n",
            "|             authors|average_rating|book_id|books_count|              genres|goodreads_book_id|           image_url|language_code|original_publication_year|pages|publishDate|ratings_1|ratings_2|ratings_3|ratings_4|ratings_5|               title|\n",
            "+--------------------+--------------+-------+-----------+--------------------+-----------------+--------------------+-------------+-------------------------+-----+-----------+---------+---------+---------+---------+---------+--------------------+\n",
            "| ['Suzanne Collins']|          4.34|      1|        272|['young-adult', '...|          2767052|https://images.gr...|          eng|                     2008|  374|   09/14/08|    66715|   127936|   560092|  1481305|  2706317|The Hunger Games ...|\n",
            "|['J.K. Rowling', ...|          4.44|      2|        491|['fantasy', 'fict...|                3|https://images.gr...|          eng|                     1997|  309| 11/01/2003|    75504|   101676|   455024|  1156318|  3011543|Harry Potter and ...|\n",
            "| ['Stephenie Meyer']|          3.57|      3|        226|['young-adult', '...|            41865|https://images.gr...|          eng|                     2005|  501| 09/06/2006|   456191|   436802|   793319|   875073|  1355439|Twilight (Twiligh...|\n",
            "|      ['Harper Lee']|          4.25|      4|        487|['classics', 'fic...|             2657|https://images.gr...|          eng|                     1960|  324|   05/23/06|    60427|   117415|   446835|  1001952|  1714267|To Kill a Mocking...|\n",
            "|['F. Scott Fitzge...|          3.89|      5|       1356|['classics', 'fic...|             4671|https://images.gr...|          eng|                     1925|  200|   09/28/04|    86236|   197621|   606158|   936012|   947718|    The Great Gatsby|\n",
            "+--------------------+--------------+-------+-----------+--------------------+-----------------+--------------------+-------------+-------------------------+-----+-----------+---------+---------+---------+---------+---------+--------------------+\n",
            "only showing top 5 rows\n",
            "\n"
          ]
        }
      ],
      "source": [
        "#displaying the first 5 rows of books dataset\n",
        "books.show(5)"
      ],
      "id": "97c8a995"
    },
    {
      "cell_type": "code",
      "execution_count": null,
      "metadata": {
        "colab": {
          "base_uri": "https://localhost:8080/"
        },
        "id": "18620496",
        "outputId": "da30cdba-3505-41a6-b9f9-05377e3c3208",
        "scrolled": true
      },
      "outputs": [
        {
          "name": "stdout",
          "output_type": "stream",
          "text": [
            "+-------+-------+------+\n",
            "|user_id|book_id|rating|\n",
            "+-------+-------+------+\n",
            "|      1|    258|     5|\n",
            "|      2|   4081|     4|\n",
            "|      2|    260|     5|\n",
            "|      2|   9296|     5|\n",
            "|      2|   2318|     3|\n",
            "+-------+-------+------+\n",
            "only showing top 5 rows\n",
            "\n"
          ]
        }
      ],
      "source": [
        "ratings.show(5)"
      ],
      "id": "18620496"
    },
    {
      "cell_type": "code",
      "execution_count": null,
      "metadata": {
        "colab": {
          "base_uri": "https://localhost:8080/"
        },
        "id": "d671ea53",
        "outputId": "b9305add-f923-4a55-ab77-861db3a4bce7"
      },
      "outputs": [
        {
          "name": "stdout",
          "output_type": "stream",
          "text": [
            "Distinct values of ratings:\n",
            "['1', '2', '3', '4', '5']\n"
          ]
        }
      ],
      "source": [
        "##Analysing the distinct ratings in the entire dataset\n",
        "print('Distinct values of ratings:')\n",
        "print(sorted(ratings.select('rating').distinct().rdd.map(lambda r: r[0]).collect()))"
      ],
      "id": "d671ea53"
    },
    {
      "cell_type": "code",
      "execution_count": null,
      "metadata": {
        "colab": {
          "base_uri": "https://localhost:8080/"
        },
        "id": "e7750058",
        "outputId": "98a3b5cc-1b03-4d15-c682-a3b6b3923e0b"
      },
      "outputs": [
        {
          "name": "stdout",
          "output_type": "stream",
          "text": [
            "For the users that rated books and the books that were rated:\n",
            "Minimum number of ratings per user is 19\n",
            "Minimum number of ratings per book is 8\n"
          ]
        }
      ],
      "source": [
        "##Finding the minimum ratings given by user \n",
        "tmp1 = ratings.groupBy(\"user_id\").count().toPandas()['count'].min()\n",
        "tmp2 = ratings.groupBy(\"book_id\").count().toPandas()['count'].min()\n",
        "print('For the users that rated books and the books that were rated:')\n",
        "print('Minimum number of ratings per user is {}'.format(tmp1))\n",
        "print('Minimum number of ratings per book is {}'.format(tmp2))"
      ],
      "id": "e7750058"
    },
    {
      "cell_type": "code",
      "execution_count": null,
      "metadata": {
        "colab": {
          "base_uri": "https://localhost:8080/"
        },
        "id": "cbdd31db",
        "outputId": "87e8ef63-1945-429f-de90-098639890d11"
      },
      "outputs": [
        {
          "name": "stdout",
          "output_type": "stream",
          "text": [
            "We have a total of 53424 distinct users in the data sets\n"
          ]
        }
      ],
      "source": [
        "#distinct users in ratings\n",
        "tmp = ratings.select('user_id').distinct().count()\n",
        "print('We have a total of {} distinct users in the data sets'.format(tmp))"
      ],
      "id": "cbdd31db"
    },
    {
      "cell_type": "code",
      "execution_count": null,
      "metadata": {
        "colab": {
          "base_uri": "https://localhost:8080/"
        },
        "id": "37aee29f",
        "outputId": "86eda050-1c55-495d-e306-6a0b21eff39e"
      },
      "outputs": [
        {
          "name": "stdout",
          "output_type": "stream",
          "text": [
            "We have a total of 9964 distinct books in the data sets\n"
          ]
        }
      ],
      "source": [
        "##distinct books from preprocessed books csv file\n",
        "tmp = books.select('book_id').distinct().count()\n",
        "print('We have a total of {} distinct books in the data sets'.format(tmp))"
      ],
      "id": "37aee29f"
    },
    {
      "cell_type": "code",
      "execution_count": null,
      "metadata": {
        "id": "490d9665"
      },
      "outputs": [],
      "source": [
        "##Alternative implementation of ALS from blog :\n",
        "#https://towardsdatascience.com/build-recommendation-system-with-pyspark-using-alternating-least-squares-als-matrix-factorisation-ebe1ad2e7679"
      ],
      "id": "490d9665"
    },
    {
      "cell_type": "code",
      "execution_count": null,
      "metadata": {
        "id": "f932975d"
      },
      "outputs": [],
      "source": [
        "#Import the libraries for modelling\n",
        "import pandas as pd\n",
        "from pyspark.sql.functions import col, explode\n",
        "from pyspark import SparkContext\n",
        "from pyspark.ml.tuning import CrossValidatorModel\n",
        "from pyspark.ml.tuning import TrainValidationSplit"
      ],
      "id": "f932975d"
    },
    {
      "cell_type": "code",
      "execution_count": null,
      "metadata": {
        "id": "f886975b"
      },
      "outputs": [],
      "source": [
        "##Created a spark session\n",
        "from pyspark.sql import SparkSession\n",
        "sc = SparkContext\n",
        "# sc.setCheckpointDir('checkpoint')\n",
        "spark = SparkSession.builder.appName('Recommendations').getOrCreate()"
      ],
      "id": "f886975b"
    },
    {
      "cell_type": "code",
      "execution_count": null,
      "metadata": {
        "colab": {
          "base_uri": "https://localhost:8080/"
        },
        "id": "zUPpTK-Dih00",
        "outputId": "ae715cfa-0dd5-42b8-cc10-44513ba56a2a"
      },
      "outputs": [
        {
          "output_type": "stream",
          "name": "stdout",
          "text": [
            "Mounted at /content/drive\n"
          ]
        }
      ],
      "source": [
        "##Mounted google drive to access drive \n",
        "from google.colab import drive\n",
        "drive.mount('/content/drive')"
      ],
      "id": "zUPpTK-Dih00"
    },
    {
      "cell_type": "code",
      "source": [
        "#@title Train-Validation-Test-Split\n",
        "#@markdown Created Train-Test Split to reduce overfitting and also to reproduce cold start scenarios"
      ],
      "metadata": {
        "id": "GcksN99P65iM"
      },
      "id": "GcksN99P65iM",
      "execution_count": 5,
      "outputs": []
    },
    {
      "cell_type": "code",
      "execution_count": null,
      "metadata": {
        "id": "7LGUej5evcnN"
      },
      "outputs": [],
      "source": [
        "# Create train, validation and test set with 80-10-10 split \n",
        "(train_otherset, validation_otherset, test_otherset) = ratings.randomSplit([0.8, 0.1, 0.1], seed = 234)"
      ],
      "id": "7LGUej5evcnN"
    },
    {
      "cell_type": "code",
      "execution_count": null,
      "metadata": {
        "id": "1JVATYzCvcB-"
      },
      "outputs": [],
      "source": [
        "# Created train, validation and test set   with 60-20-20 split \n",
        "(train, validation, test) = ratings.randomSplit([0.6, 0.2, 0.2], seed = 1234)"
      ],
      "id": "1JVATYzCvcB-"
    },
    {
      "cell_type": "code",
      "source": [
        "##writing the data to csv files\n",
        "train_otherset.write.csv('/content/drive/MyDrive/saved_data/train.csv')\n",
        "validation_otherset.write.csv('/content/drive/MyDrive/saved_data/validation.csv')\n",
        "test_otherset.write.csv('/content/drive/MyDrive/saved_data/test.csv')"
      ],
      "metadata": {
        "id": "c7lqdSs03eiy"
      },
      "execution_count": null,
      "outputs": [],
      "id": "c7lqdSs03eiy"
    },
    {
      "cell_type": "code",
      "source": [
        "##Loading already created train-validation-test files to have same data even after multiple runs\n",
        "train_ratings=spark.read.csv('/content/drive/MyDrive/saved_data/train.csv',inferSchema=True)\n",
        "validation_ratings=spark.read.csv('/content/drive/MyDrive/saved_data/validation.csv',inferSchema=True)\n",
        "test_ratings=spark.read.csv('/content/drive/MyDrive/saved_data/test.csv',inferSchema=True)"
      ],
      "metadata": {
        "id": "c_WaY1INZgLY"
      },
      "id": "c_WaY1INZgLY",
      "execution_count": null,
      "outputs": []
    },
    {
      "cell_type": "code",
      "source": [
        "#@markdown Loading first few rows of validation ,test rows to check headers of the dataframe"
      ],
      "metadata": {
        "id": "FJ5tFswh8FRB"
      },
      "id": "FJ5tFswh8FRB",
      "execution_count": null,
      "outputs": []
    },
    {
      "cell_type": "code",
      "source": [
        "\n",
        "validation_ratings.head()"
      ],
      "metadata": {
        "colab": {
          "base_uri": "https://localhost:8080/"
        },
        "id": "U-swAgYVfMNk",
        "outputId": "3e378a27-14b3-489b-98dc-8459f94ece3f"
      },
      "id": "U-swAgYVfMNk",
      "execution_count": null,
      "outputs": [
        {
          "output_type": "execute_result",
          "data": {
            "text/plain": [
              "Row(_c0=1, _c1=13, _c2=4.0)"
            ]
          },
          "metadata": {},
          "execution_count": 18
        }
      ]
    },
    {
      "cell_type": "code",
      "source": [
        "##renamed the ratings dataframe columns to more understandable name \n",
        "validation_ratings=validation_ratings.withColumnRenamed(\"_c0\",\"user_id\").withColumnRenamed(\"_c1\",\"book_id\").withColumnRenamed(\"_c2\",\"rating\")"
      ],
      "metadata": {
        "id": "4rHYykU_fDBA"
      },
      "id": "4rHYykU_fDBA",
      "execution_count": null,
      "outputs": []
    },
    {
      "cell_type": "code",
      "source": [
        "#read first few rows\n",
        "test_ratings.head()"
      ],
      "metadata": {
        "colab": {
          "base_uri": "https://localhost:8080/"
        },
        "id": "0p2mUwdHh7mv",
        "outputId": "b95eaf19-ee6c-4477-d1ba-af221f03a748"
      },
      "id": "0p2mUwdHh7mv",
      "execution_count": null,
      "outputs": [
        {
          "output_type": "execute_result",
          "data": {
            "text/plain": [
              "Row(_c0=1, _c1=35, _c2=5.0)"
            ]
          },
          "metadata": {},
          "execution_count": 26
        }
      ]
    },
    {
      "cell_type": "code",
      "source": [
        "##read first few rows of test ratings file\n",
        "test_ratings=test_ratings.withColumnRenamed(\"_c0\",\"user_id\").withColumnRenamed(\"_c1\",\"book_id\").withColumnRenamed(\"_c2\",\"rating\")"
      ],
      "metadata": {
        "id": "-O6nHebXhZcq"
      },
      "id": "-O6nHebXhZcq",
      "execution_count": null,
      "outputs": []
    },
    {
      "cell_type": "code",
      "source": [
        "test_ratings.head()"
      ],
      "metadata": {
        "colab": {
          "base_uri": "https://localhost:8080/"
        },
        "id": "jN9L1eYrhJrX",
        "outputId": "9f549050-2f36-4b91-d267-c8a4c826414b"
      },
      "id": "jN9L1eYrhJrX",
      "execution_count": null,
      "outputs": [
        {
          "output_type": "execute_result",
          "data": {
            "text/plain": [
              "Row(user_id=1, book_id=35, rating=5.0)"
            ]
          },
          "metadata": {},
          "execution_count": 28
        }
      ]
    },
    {
      "cell_type": "code",
      "source": [
        "##converted the datatype of ratings from double to float \n",
        "validation_ratings = validation_ratings.\\\n",
        "    withColumn('rating', col('rating').cast('float'))"
      ],
      "metadata": {
        "id": "9QQGTPf2dU_N"
      },
      "id": "9QQGTPf2dU_N",
      "execution_count": null,
      "outputs": []
    },
    {
      "cell_type": "code",
      "source": [
        "##converted the datatype of ratings from double to float \n",
        "test_ratings = validation_ratings.\\\n",
        "    withColumn('rating', col('rating').cast('float'))"
      ],
      "metadata": {
        "id": "WccU7tfudnQL"
      },
      "id": "WccU7tfudnQL",
      "execution_count": null,
      "outputs": []
    },
    {
      "cell_type": "code",
      "source": [
        "validation_ratings.show()"
      ],
      "metadata": {
        "colab": {
          "base_uri": "https://localhost:8080/"
        },
        "id": "joQJnsKkj3yX",
        "outputId": "c4627a48-5a9e-40ce-b6a8-fa64c8ba5fdc"
      },
      "id": "joQJnsKkj3yX",
      "execution_count": null,
      "outputs": [
        {
          "output_type": "stream",
          "name": "stdout",
          "text": [
            "+-------+-------+------+\n",
            "|user_id|book_id|rating|\n",
            "+-------+-------+------+\n",
            "|      1|     13|   4.0|\n",
            "|      1|     22|   3.0|\n",
            "|      1|     57|   3.0|\n",
            "|      1|     60|   3.0|\n",
            "|      1|     94|   1.0|\n",
            "|      1|    132|   3.0|\n",
            "|      1|    140|   3.0|\n",
            "|      1|    179|   2.0|\n",
            "|      1|    216|   3.0|\n",
            "|      1|    233|   4.0|\n",
            "|      1|    354|   3.0|\n",
            "|      1|   3406|   2.0|\n",
            "|      2|     33|   4.0|\n",
            "|      2|    264|   3.0|\n",
            "|      3|     28|   2.0|\n",
            "|      3|    101|   1.0|\n",
            "|      3|    118|   3.0|\n",
            "|      3|    501|   1.0|\n",
            "|      3|    531|   2.0|\n",
            "|      3|    782|   2.0|\n",
            "+-------+-------+------+\n",
            "only showing top 20 rows\n",
            "\n"
          ]
        }
      ]
    },
    {
      "cell_type": "code",
      "source": [
        "#@markdown Finding  the sparsity of user-book  which is one of the important factors to improve the training "
      ],
      "metadata": {
        "cellView": "form",
        "id": "kLJhwOyW9mQf"
      },
      "id": "kLJhwOyW9mQf",
      "execution_count": null,
      "outputs": []
    },
    {
      "cell_type": "code",
      "execution_count": null,
      "metadata": {
        "id": "de7c89ae",
        "cellView": "form"
      },
      "outputs": [],
      "source": [
        "#@markdown sparsity=1-dense_matrix\n",
        "\n",
        "#@markdown dense_matrix=No of dense elements% Total no of elements\n",
        "\n"
      ],
      "id": "de7c89ae"
    },
    {
      "cell_type": "code",
      "execution_count": null,
      "metadata": {
        "colab": {
          "base_uri": "https://localhost:8080/"
        },
        "id": "0788d2d2",
        "outputId": "ba377aa0-4ce6-4013-b4bb-ea8e01613f57"
      },
      "outputs": [
        {
          "name": "stdout",
          "output_type": "stream",
          "text": [
            "The ratings dataframe is  98.88% empty.\n"
          ]
        }
      ],
      "source": [
        " # Calculate the total number of ratings in the dataset\n",
        "divisor = ratings.select(\"rating\").count()\n",
        "\n",
        "# Measure the number of distinct userIds and distinct bookIds\n",
        "no_users = ratings.select(\"user_id\").distinct().count()\n",
        "no_books = ratings.select(\"book_id\").distinct().count()\n",
        "\n",
        "# assign the denominator equal to the number of users multiplied by the number of books\n",
        "denomin = no_users * no_books\n",
        "\n",
        "# Divide the divisor by the denominator\n",
        "sparsity = (1.0 - (divisor *1.0)/denomin)*100\n",
        "print(\"The ratings dataframe is \", \"%.2f\" % sparsity + \"% empty.\")"
      ],
      "id": "0788d2d2"
    },
    {
      "cell_type": "code",
      "execution_count": null,
      "metadata": {
        "id": "e656895c"
      },
      "outputs": [],
      "source": [
        "# Import the required functions for modelling \n",
        "from pyspark.ml.evaluation import RegressionEvaluator\n",
        "from pyspark.ml.recommendation import ALS\n",
        "from pyspark.ml.tuning import ParamGridBuilder, CrossValidator"
      ],
      "id": "e656895c"
    },
    {
      "cell_type": "code",
      "execution_count": null,
      "metadata": {
        "colab": {
          "base_uri": "https://localhost:8080/"
        },
        "id": "6e247ddd",
        "outputId": "62c236ee-dd42-4ddb-b698-7dd62f1833a0"
      },
      "outputs": [
        {
          "output_type": "execute_result",
          "data": {
            "text/plain": [
              "pyspark.ml.recommendation.ALS"
            ]
          },
          "metadata": {},
          "execution_count": 33
        }
      ],
      "source": [
        "\n",
        "# Create ALS model\n",
        "model_als = ALS(userCol=\"user_id\", itemCol=\"book_id\", ratingCol=\"rating\", nonnegative = True, implicitPrefs = False, coldStartStrategy=\"drop\")\n",
        "\n",
        "# Confirm that a model called \"als\" was created\n",
        "type(model_als)"
      ],
      "id": "6e247ddd"
    },
    {
      "cell_type": "code",
      "source": [
        "#@markdown Model ALS was generated using the parameters \\\n",
        " #@markdown user_id column \\\n",
        "#@markdown book_id column\\\n",
        "#@markdown rating column -with no negative values as all ratings are postive\\\n",
        "#@markdown The data considered is not implicit data so implicitPrefs is set to True \\\n",
        "#@markdown Cold start scenario will return na values if the the row is not available"
      ],
      "metadata": {
        "cellView": "form",
        "id": "xjAtSIdMCDn2"
      },
      "id": "xjAtSIdMCDn2",
      "execution_count": 9,
      "outputs": []
    },
    {
      "cell_type": "code",
      "source": [
        "##Rank represents number of latent factors \n",
        "##Regularization parameter represents"
      ],
      "metadata": {
        "id": "fixginrQDfmX"
      },
      "id": "fixginrQDfmX",
      "execution_count": null,
      "outputs": []
    },
    {
      "cell_type": "code",
      "execution_count": null,
      "metadata": {
        "id": "eOKGQUKFwG8y"
      },
      "outputs": [],
      "source": [
        "rank_params=[60,50,40]\n",
        "reg_params=[0.01,0.1]\n",
        "##No of iterations are by default 10 in the function parmGrid Builder"
      ],
      "id": "eOKGQUKFwG8y"
    },
    {
      "cell_type": "code",
      "execution_count": null,
      "metadata": {
        "colab": {
          "base_uri": "https://localhost:8080/"
        },
        "id": "ced497c7",
        "outputId": "a4a1d926-4b87-4e53-e44e-b0a4120d93bf"
      },
      "outputs": [
        {
          "output_type": "stream",
          "name": "stdout",
          "text": [
            "Num models to be tested:  1\n"
          ]
        }
      ],
      "source": [
        "# Import the requisite items\n",
        "from pyspark.ml.evaluation import RegressionEvaluator,RankingEvaluator\n",
        "from pyspark.ml.tuning import ParamGridBuilder, CrossValidator\n",
        "\n",
        "\n",
        "# Add parameters and their respective values to param_matrix\n",
        "param_matrix = ParamGridBuilder() \\\n",
        "            .addGrid(model_als.rank,[rank_params[1]]) \\\n",
        "            .addGrid(model_als.regParam,[reg_params[0]]) \\\n",
        "            .build()\n",
        "\n",
        "           \n",
        "# Define evaluator as RMSE and print length of evaluator\n",
        "evaluator_regres= RegressionEvaluator(metricName=\"rmse\", labelCol=\"rating\", predictionCol=\"prediction\") \n",
        "print (\"Num models to be tested: \", len(param_matrix))"
      ],
      "id": "ced497c7"
    },
    {
      "cell_type": "code",
      "source": [
        "#@markdown Models are run individually with different parameters and not in loop because it is computational expensive (google colab disconnects after 90 minutes or kernel dies if too many models are run)"
      ],
      "metadata": {
        "cellView": "form",
        "id": "DE7p3JWfEQJx"
      },
      "id": "DE7p3JWfEQJx",
      "execution_count": null,
      "outputs": []
    },
    {
      "cell_type": "code",
      "execution_count": null,
      "metadata": {
        "id": "X72wQqybNtCj"
      },
      "outputs": [],
      "source": [
        "# Import the requisite items\n",
        "from pyspark.ml.evaluation import RegressionEvaluator\n",
        "from pyspark.ml.tuning import ParamGridBuilder, CrossValidator\n",
        "\n",
        "# Add hyperparameters and their respective values to param_grid\n",
        "param_matrix = ParamGridBuilder() \\\n",
        "            .addGrid(model_als.rank, [rank_params[0]]) \\\n",
        "            .addGrid(model_als.regParam,[reg_params[1]]) \\\n",
        "            .build()\n",
        "            #             .addGrid(als.maxIter, [5, 50, 100, 200]) \\\n",
        "\n",
        "           \n"
      ],
      "id": "X72wQqybNtCj"
    },
    {
      "cell_type": "code",
      "source": [
        "# Define evaluator with RMSE as metric and no of models are printed\n",
        "evaluator = RegressionEvaluator(metricName=\"rmse\", labelCol=\"rating\", predictionCol=\"prediction\") \n",
        "print (\"Num models to be tested: \", len(param_matrix))"
      ],
      "metadata": {
        "id": "-BPWS8iUH2Ug"
      },
      "id": "-BPWS8iUH2Ug",
      "execution_count": null,
      "outputs": []
    },
    {
      "cell_type": "code",
      "execution_count": null,
      "metadata": {
        "colab": {
          "base_uri": "https://localhost:8080/"
        },
        "id": "5c5xR65W5pqD",
        "outputId": "913c25c0-112a-47cc-d7a3-d3f67d9dac23"
      },
      "outputs": [
        {
          "name": "stdout",
          "output_type": "stream",
          "text": [
            "Num models to be tested:  1\n"
          ]
        }
      ],
      "source": [
        "# Import the requisite items\n",
        "from pyspark.ml.evaluation import RegressionEvaluator\n",
        "from pyspark.ml.tuning import ParamGridBuilder, CrossValidator\n",
        "\n",
        "# Add hyperparameters and their respective values to param_matrix\n",
        "param_matrix = ParamGridBuilder() \\\n",
        "            .addGrid(model_als.rank, [rank_params[0]]) \\\n",
        "            .addGrid(model_als.regParam, [reg_params[0]]) \\\n",
        "            .build()\n",
        "\n",
        "           \n",
        "# Define evaluator with RMSE as metric and no of models are printed\n",
        "evaluator = RegressionEvaluator(metricName=\"rmse\", labelCol=\"rating\", predictionCol=\"prediction\") \n",
        "print (\"Num models to be tested: \", len(param_matrix))"
      ],
      "id": "5c5xR65W5pqD"
    },
    {
      "cell_type": "code",
      "execution_count": null,
      "metadata": {
        "colab": {
          "base_uri": "https://localhost:8080/"
        },
        "id": "cApNocgKwydm",
        "outputId": "65b92baf-8c63-40d2-fc63-1a345d02c61a"
      },
      "outputs": [
        {
          "name": "stdout",
          "output_type": "stream",
          "text": [
            "Num models to be tested:  1\n"
          ]
        }
      ],
      "source": [
        "# Import the requisite items\n",
        "from pyspark.ml.evaluation import RegressionEvaluator\n",
        "from pyspark.ml.tuning import ParamGridBuilder, CrossValidator\n",
        "\n",
        "# Add hyperparameters and their respective values to param_matrix\n",
        "param_matrix = ParamGridBuilder() \\\n",
        "            .addGrid(model_als.rank, [rank_params[2]]) \\\n",
        "            .addGrid(model_als.regParam,[reg_params[1]]) \\\n",
        "            .build()\n",
        "\n",
        "# Define evaluator with RMSE as metric and no of models are printed\n",
        "evaluator = RegressionEvaluator(metricName=\"rmse\", labelCol=\"rating\", predictionCol=\"prediction\") \n",
        "print (\"Num models to be tested: \", len(param_matrix))"
      ],
      "id": "cApNocgKwydm"
    },
    {
      "cell_type": "code",
      "execution_count": null,
      "metadata": {
        "colab": {
          "base_uri": "https://localhost:8080/"
        },
        "id": "d1cf2966",
        "outputId": "56ab7162-e9ee-43d6-c490-42b6d6919e5f"
      },
      "outputs": [
        {
          "output_type": "stream",
          "name": "stdout",
          "text": [
            "CrossValidator_deea7f38fc5a\n"
          ]
        }
      ],
      "source": [
        "# cross validation by CrossValidator\n",
        "cv = CrossValidator(estimator=model_als, estimatorParamMaps=param_matrix, evaluator=evaluator, numFolds=5)\n",
        "\n",
        "# Confirm cv was built\n",
        "print(cv)"
      ],
      "id": "d1cf2966"
    },
    {
      "cell_type": "code",
      "source": [
        "#@title Fit the models, save them and reload them\n"
      ],
      "metadata": {
        "cellView": "form",
        "id": "-yWtNkCmKOI0"
      },
      "id": "-yWtNkCmKOI0",
      "execution_count": null,
      "outputs": []
    },
    {
      "cell_type": "code",
      "execution_count": null,
      "metadata": {
        "id": "5hQlLJ4CmxrY"
      },
      "outputs": [],
      "source": [
        "temp_path='/content/drive/MyDrive/models'"
      ],
      "id": "5hQlLJ4CmxrY"
    },
    {
      "cell_type": "code",
      "execution_count": null,
      "metadata": {
        "colab": {
          "background_save": true
        },
        "id": "qy1JpEEWK8jn"
      },
      "outputs": [],
      "source": [
        "#Fit cross validator for training\n",
        "model_1 = cv.fit(train_otherset)\n",
        "\n",
        "#Get best model from the cv model\n",
        "good_model_1 = model_1.bestModel\n",
        "model1_path = temp_path + \"/als_model_2\"\n",
        "good_model_1.save(model1_path)"
      ],
      "id": "qy1JpEEWK8jn"
    },
    {
      "cell_type": "code",
      "execution_count": null,
      "metadata": {
        "colab": {
          "background_save": true
        },
        "id": "e77ef7f9"
      },
      "outputs": [],
      "source": [
        "#Fit cross validator for training\n",
        "model_2 = cv.fit(train_otherset)\n",
        "\n",
        "#Get best model from the cv model\n",
        "good_model_2 = model_2.bestModel\n",
        "model2_path = temp_path + \"/als_model_2\"\n",
        "good_model_2.save(model2_path)"
      ],
      "id": "e77ef7f9"
    },
    {
      "cell_type": "code",
      "execution_count": null,
      "metadata": {
        "id": "RnwdNnmsDfbL"
      },
      "outputs": [],
      "source": [
        "#Fit cross validator for training\n",
        "model_3 = cv.fit(train_otherset)\n",
        "\n",
        "#Get best model from the cv model\n",
        "good_model_3 = model_3.bestModel\n",
        "model3_path = temp_path + \"/als_model_3\"\n",
        "good_model_3.save(model3_path)"
      ],
      "id": "RnwdNnmsDfbL"
    },
    {
      "cell_type": "code",
      "source": [
        "#Fit cross validator for training\n",
        "model_4 = cv.fit(train_otherset)\n",
        "\n",
        "#Get best model from the cv model\n",
        "good_model_4 = model_4.bestModel\n",
        "model4_path = temp_path + \"/als_model_4\"\n",
        "good_model_4.save(model4_path)"
      ],
      "metadata": {
        "id": "T7xm9TAB9aKv"
      },
      "execution_count": null,
      "outputs": [],
      "id": "T7xm9TAB9aKv"
    },
    {
      "cell_type": "code",
      "source": [
        "#@title Re-Loading the models"
      ],
      "metadata": {
        "cellView": "form",
        "id": "5yM4JqmgMJoM"
      },
      "id": "5yM4JqmgMJoM",
      "execution_count": null,
      "outputs": []
    },
    {
      "cell_type": "code",
      "source": [
        "#first model \n",
        "from pyspark.ml.recommendation import ALSModel\n",
        "\n",
        "model_50 = ALSModel.load(\"/content/drive/MyDrive/models/als_model\")"
      ],
      "metadata": {
        "id": "KxEBs6Ej0O8E"
      },
      "id": "KxEBs6Ej0O8E",
      "execution_count": null,
      "outputs": []
    },
    {
      "cell_type": "code",
      "source": [
        "from pyspark.ml.recommendation import ALSModel\n",
        "\n",
        "model_60_01 = ALSModel.load(\"/content/drive/MyDrive/models/als_model_2\")"
      ],
      "metadata": {
        "id": "IjxF9ppYaXXu"
      },
      "id": "IjxF9ppYaXXu",
      "execution_count": null,
      "outputs": []
    },
    {
      "cell_type": "code",
      "source": [
        "from pyspark.ml.recommendation import ALSModel\n",
        "\n",
        "model_60_001 = ALSModel.load(\"/content/drive/MyDrive/models/als_model_3\")"
      ],
      "metadata": {
        "id": "tLOgEuUOaYyG"
      },
      "id": "tLOgEuUOaYyG",
      "execution_count": null,
      "outputs": []
    },
    {
      "cell_type": "code",
      "source": [
        "from pyspark.ml.recommendation import ALSModel\n",
        "\n",
        "model_40_01 = ALSModel.load(\"/content/drive/MyDrive/models/als_model_4\")"
      ],
      "metadata": {
        "id": "m6-uE1zmaaY_"
      },
      "id": "m6-uE1zmaaY_",
      "execution_count": null,
      "outputs": []
    },
    {
      "cell_type": "code",
      "source": [],
      "metadata": {
        "id": "O32Amb8BNHdK"
      },
      "id": "O32Amb8BNHdK",
      "execution_count": null,
      "outputs": []
    },
    {
      "cell_type": "code",
      "source": [
        "##creating two lists to add rmse to that lists\n",
        "RMSE_validations=[]\n",
        "RMSE_test=[]\n"
      ],
      "metadata": {
        "id": "E9x5DdxubBUd"
      },
      "id": "E9x5DdxubBUd",
      "execution_count": null,
      "outputs": []
    },
    {
      "cell_type": "code",
      "source": [
        "##Predictions using evaluator for metric RMSE for rank=50, reg=0.01\n",
        "validate_predictions = model_50.transform(validation_ratings)\n",
        "RMSE_validations.append(evaluator.evaluate(validate_predictions))\n",
        "test_pred = model_50.transform(test_ratings)\n",
        "RMSE_test.append(evaluator.evaluate(test_pred))"
      ],
      "metadata": {
        "id": "oHqMBGMia6LI"
      },
      "id": "oHqMBGMia6LI",
      "execution_count": null,
      "outputs": []
    },
    {
      "cell_type": "code",
      "source": [
        "##Predictions for rank=60, reg=0.1\n",
        "validate_predictions = model_60_01.transform(validation_ratings)\n",
        "RMSE_validations.append(evaluator.evaluate(validate_predictions))\n",
        "test_pred = model_60_01.transform(test_ratings)\n",
        "RMSE_test.append(evaluator.evaluate(test_pred))"
      ],
      "metadata": {
        "id": "Mb4nbuGnjghG"
      },
      "id": "Mb4nbuGnjghG",
      "execution_count": null,
      "outputs": []
    },
    {
      "cell_type": "code",
      "source": [
        "##Predictions for rank=60, reg=0.01\n",
        "validate_predictions = model_60_001.transform(validation_ratings)\n",
        "RMSE_validations.append(evaluator.evaluate(validate_predictions))\n",
        "test_pred = model_60_001.transform(test_ratings)\n",
        "RMSE_test.append(evaluator.evaluate(test_pred))"
      ],
      "metadata": {
        "id": "0I21CQe-kghx"
      },
      "id": "0I21CQe-kghx",
      "execution_count": null,
      "outputs": []
    },
    {
      "cell_type": "code",
      "source": [
        "##Predictions for rank=40, reg=0.1\n",
        "validate_predictions = model_40_01.transform(validation_ratings)\n",
        "RMSE_validations.append(evaluator.evaluate(validate_predictions))\n",
        "test_pred = model_40_01.transform(test_ratings)\n",
        "RMSE_test.append(evaluator.evaluate(test_pred))"
      ],
      "metadata": {
        "id": "v_2w6nH5lkGf"
      },
      "id": "v_2w6nH5lkGf",
      "execution_count": null,
      "outputs": []
    },
    {
      "cell_type": "code",
      "source": [
        "RMSE_validations"
      ],
      "metadata": {
        "colab": {
          "base_uri": "https://localhost:8080/"
        },
        "id": "1lQu9BG7jVMd",
        "outputId": "8aa81b51-d56d-4ffa-9647-28cf029a1cca"
      },
      "id": "1lQu9BG7jVMd",
      "execution_count": null,
      "outputs": [
        {
          "output_type": "execute_result",
          "data": {
            "text/plain": [
              "[0.9216080380803043,\n",
              " 0.8212674431928401,\n",
              " 0.9294209713259305,\n",
              " 0.8230285104522589]"
            ]
          },
          "metadata": {},
          "execution_count": 56
        }
      ]
    },
    {
      "cell_type": "code",
      "source": [
        "RMSE_test"
      ],
      "metadata": {
        "colab": {
          "base_uri": "https://localhost:8080/"
        },
        "id": "dQbqLoo9jYOO",
        "outputId": "9c15a86e-e3d6-4dea-908f-8ff44a01870e"
      },
      "id": "dQbqLoo9jYOO",
      "execution_count": null,
      "outputs": [
        {
          "output_type": "execute_result",
          "data": {
            "text/plain": [
              "[0.9216080380803043,\n",
              " 0.8212674431928401,\n",
              " 0.9294209713259305,\n",
              " 0.8230285104522589]"
            ]
          },
          "metadata": {},
          "execution_count": 57
        }
      ]
    },
    {
      "cell_type": "code",
      "source": [
        "model_names=['model-50-0.01','model-60-0.1','model-60-0.01','model-40-0.1']"
      ],
      "metadata": {
        "id": "jLKTmfLYmKw8"
      },
      "id": "jLKTmfLYmKw8",
      "execution_count": null,
      "outputs": []
    },
    {
      "cell_type": "code",
      "source": [
        "from matplotlib.pyplot import xlim\n",
        "import matplotlib.pyplot as plt\n",
        "import numpy as np\n",
        "x_pos = np.arange(len(model_names))\n",
        "plt.bar(model_names,RMSE_validations,color=['purple', 'red', 'green', 'blue', 'cyan'])\n",
        "plt.xticks(x_pos,model_names)\n",
        "plt.title('ALgorithms with different ranks and regularisation params')\n",
        "plt.ylabel('RMSE')\n",
        "plt.show()\n",
        "#plt.xlabel('Model names  with format (name-no of latent factors-regularisation_params)')"
      ],
      "metadata": {
        "colab": {
          "base_uri": "https://localhost:8080/",
          "height": 281
        },
        "id": "he7zckx4mIBf",
        "outputId": "9e267db7-f058-4fff-8ba8-37d099991668"
      },
      "id": "he7zckx4mIBf",
      "execution_count": null,
      "outputs": [
        {
          "output_type": "display_data",
          "data": {
            "text/plain": [
              "<Figure size 432x288 with 1 Axes>"
            ],
            "image/png": "[encoded data removed]"
          },
          "metadata": {
            "needs_background": "light"
          }
        }
      ]
    },
    {
      "cell_type": "code",
      "execution_count": null,
      "metadata": {
        "colab": {
          "base_uri": "https://localhost:8080/"
        },
        "id": "eADQUo3tPwp2",
        "outputId": "9c04a7e5-e233-479a-de06-dda79c13cd67"
      },
      "outputs": [
        {
          "name": "stdout",
          "output_type": "stream",
          "text": [
            "+-------+--------------------+\n",
            "|user_id|     recommendations|\n",
            "+-------+--------------------+\n",
            "|      1|[{8946, 4.5825987...|\n",
            "|      3|[{464, 2.674022},...|\n",
            "|      5|[{8946, 4.796386}...|\n",
            "|      6|[{9537, 5.193078}...|\n",
            "|      9|[{6920, 4.249055}...|\n",
            "|     12|[{8946, 4.8706894...|\n",
            "|     13|[{4868, 5.1269636...|\n",
            "|     15|[{9842, 5.1204014...|\n",
            "|     16|[{7063, 4.851418}...|\n",
            "|     17|[{8946, 5.3222265...|\n",
            "|     19|[{8946, 4.0324717...|\n",
            "|     20|[{5990, 4.9759674...|\n",
            "|     22|[{8946, 4.533051}...|\n",
            "|     26|[{8946, 4.6841087...|\n",
            "|     27|[{4868, 4.6853733...|\n",
            "|     28|[{8946, 4.940489}...|\n",
            "|     31|[{8946, 4.2108564...|\n",
            "|     34|[{8946, 4.5941434...|\n",
            "|     35|[{6920, 3.84977},...|\n",
            "|     37|[{8946, 5.3904037...|\n",
            "+-------+--------------------+\n",
            "only showing top 20 rows\n",
            "\n"
          ]
        }
      ],
      "source": [
        "# Displayed n Recommendations for all users\n",
        "recommendations = good_model_2.recommendForAllUsers(5)\n",
        "recommendations.show()"
      ],
      "id": "eADQUo3tPwp2"
    },
    {
      "cell_type": "code",
      "execution_count": null,
      "metadata": {
        "colab": {
          "base_uri": "https://localhost:8080/"
        },
        "id": "GSazDyrIQYFD",
        "outputId": "03c78a8f-459a-4772-9b47-6e6592aa543e"
      },
      "outputs": [
        {
          "name": "stdout",
          "output_type": "stream",
          "text": [
            "+-------+--------------------+\n",
            "|user_id|     recommendations|\n",
            "+-------+--------------------+\n",
            "|      1|[{8946, 4.5825987...|\n",
            "|      3|[{464, 2.674022},...|\n",
            "|      5|[{8946, 4.796386}...|\n",
            "|      6|[{9537, 5.193078}...|\n",
            "|      9|[{6920, 4.249055}...|\n",
            "|     12|[{8946, 4.8706894...|\n",
            "|     13|[{4868, 5.1269636...|\n",
            "|     15|[{9842, 5.1204014...|\n",
            "|     16|[{7063, 4.851418}...|\n",
            "|     17|[{8946, 5.3222265...|\n",
            "+-------+--------------------+\n",
            "\n"
          ]
        }
      ],
      "source": [
        "n_recommend = recommendations\\\n",
        "    .withColumn(\"rec_exp\", explode(\"recommendations\"))\\\n",
        "    .select('user_id', col(\"rec_exp.book_id\"), col(\"rec_exp.rating\"))\n"
      ],
      "id": "GSazDyrIQYFD"
    },
    {
      "cell_type": "code",
      "execution_count": null,
      "metadata": {
        "colab": {
          "base_uri": "https://localhost:8080/"
        },
        "id": "GPNSmMYQSwaz",
        "outputId": "2abe8b39-6799-4c15-9163-1f91c1fe14d8"
      },
      "outputs": [
        {
          "name": "stdout",
          "output_type": "stream",
          "text": [
            "+-------+-------+---------+\n",
            "|user_id|book_id|   rating|\n",
            "+-------+-------+---------+\n",
            "|      1|   8946|4.5825987|\n",
            "|      1|   7947|4.4613237|\n",
            "|      1|   3628|4.3915706|\n",
            "|      1|   9566|4.3506875|\n",
            "|      1|   6920|4.3174577|\n",
            "|      3|    464| 2.674022|\n",
            "|      3|   4090|2.5850894|\n",
            "|      3|   6618|2.4757845|\n",
            "|      3|   7499|2.4717994|\n",
            "|      3|   4376|2.4188144|\n",
            "+-------+-------+---------+\n",
            "\n"
          ]
        }
      ],
      "source": [
        "#showing top 10 recommendations for user_id=1\n",
        "n_recommend.limit(10).show()"
      ],
      "id": "GPNSmMYQSwaz"
    },
    {
      "cell_type": "code",
      "source": [
        "## Recommendations for given input title"
      ],
      "metadata": {
        "id": "tmkEujXtLRwT"
      },
      "id": "tmkEujXtLRwT",
      "execution_count": null,
      "outputs": []
    },
    {
      "cell_type": "code",
      "source": [
        "name=input('Enter input title:')"
      ],
      "metadata": {
        "colab": {
          "base_uri": "https://localhost:8080/"
        },
        "id": "-SstUAEvLPW9",
        "outputId": "d46ea858-08b4-4724-ee33-1b505eaaaf8f"
      },
      "id": "-SstUAEvLPW9",
      "execution_count": 1,
      "outputs": [
        {
          "name": "stdout",
          "output_type": "stream",
          "text": [
            "Enter input title:Poisonwood bible\n"
          ]
        }
      ]
    },
    {
      "cell_type": "code",
      "execution_count": null,
      "metadata": {
        "colab": {
          "base_uri": "https://localhost:8080/"
        },
        "id": "QjIeUW2oSzAw",
        "outputId": "b2ac1df0-631e-4821-a6ab-bf5b15fd86b1"
      },
      "outputs": [
        {
          "name": "stdout",
          "output_type": "stream",
          "text": [
            "+-------+-------+---------+--------------------+--------------+-----------+--------------------+-----------------+--------------------+-------------+-------------------------+-----+--------------------+---------+---------+---------+---------+---------+--------------------+\n",
            "|book_id|user_id|   rating|             authors|average_rating|books_count|              genres|goodreads_book_id|           image_url|language_code|original_publication_year|pages|         publishDate|ratings_1|ratings_2|ratings_3|ratings_4|ratings_5|               title|\n",
            "+-------+-------+---------+--------------------+--------------+-----------+--------------------+-----------------+--------------------+-------------+-------------------------+-----+--------------------+---------+---------+---------+---------+---------+--------------------+\n",
            "|   8946|    100| 4.352078|           ['Hafez']|          4.63|         91|['poetry', 'class...|            46292|https://images.gr...|          eng|                     1380|  566|                2003|       89|      116|      384|      872|     4862|           The Divan|\n",
            "|   6772|    100| 4.072658|['[Omar Khayyám',...|          4.18|        777|['poetry', 'class...|           716696|https://images.gr...|          per|                     1120|  184|(None, None, '2007')|      218|      568|     2233|     4163|     6542|        رباعيات خيام|\n",
            "|   6920|    100| 3.853837|  ['Bill Watterson']|          4.73|         19|['comics', 'ficti...|            24815|https://s.gr-asse...|          eng|                     1992|  255|                1992|       19|       62|      666|     2969|    13195|The Indispensable...|\n",
            "|   9578|    100|3.8497293|['Kentaro Miura',...|          4.37|         19|['manga', 'fantas...|           248871|https://images.gr...|          eng|                     1990|  224|   November 4th 2003|      158|      329|     1191|     2579|     6253|Berserk, Vol. 1 (...|\n",
            "|   8286|    100|   3.8112|  ['[Harold McGee]']|          4.48|         22|['cookbooks', 'sc...|           101255|https://s.gr-asse...|          eng|                     1984|  896|('11', '16', '2004')|       97|      172|      991|     2883|     6993|On Food and Cooki...|\n",
            "+-------+-------+---------+--------------------+--------------+-----------+--------------------+-----------------+--------------------+-------------+-------------------------+-----+--------------------+---------+---------+---------+---------+---------+--------------------+\n",
            "\n"
          ]
        }
      ],
      "source": [
        "#This method is for personalised recommendations with user_id =100\n",
        "nrecommendations.join(books, on='book_id').filter('title ='%name ).show()"
      ],
      "id": "QjIeUW2oSzAw"
    },
    {
      "cell_type": "code",
      "execution_count": null,
      "metadata": {
        "colab": {
          "base_uri": "https://localhost:8080/"
        },
        "id": "ObrO5S7rS3r_",
        "outputId": "9043166f-d3bf-4599-e069-26927e7e14e5"
      },
      "outputs": [
        {
          "name": "stdout",
          "output_type": "stream",
          "text": [
            "+-------+-------+------+--------------------+--------------+-----------+--------------------+-----------------+--------------------+-------------+-------------------------+-----+--------------------+---------+---------+---------+---------+---------+--------------------+\n",
            "|book_id|user_id|rating|             authors|average_rating|books_count|              genres|goodreads_book_id|           image_url|language_code|original_publication_year|pages|         publishDate|ratings_1|ratings_2|ratings_3|ratings_4|ratings_5|               title|\n",
            "+-------+-------+------+--------------------+--------------+-----------+--------------------+-----------------+--------------------+-------------+-------------------------+-----+--------------------+---------+---------+---------+---------+---------+--------------------+\n",
            "|   8946|    100|   5.0|           ['Hafez']|          4.63|         91|['poetry', 'class...|            46292|https://images.gr...|          eng|                     1380|  566|                2003|       89|      116|      384|      872|     4862|           The Divan|\n",
            "|   6772|    100|   5.0|['[Omar Khayyám',...|          4.18|        777|['poetry', 'class...|           716696|https://images.gr...|          per|                     1120|  184|(None, None, '2007')|      218|      568|     2233|     4163|     6542|        رباعيات خيام|\n",
            "|     33|    100|   4.0|   ['Arthur Golden']|          4.08|        220|['fiction', 'hist...|              930|https://s.gr-asse...|          eng|                     1997|  503|            11/22/05|    23500|    59033|   258700|   517157|   559782| Memoirs of a Geisha|\n",
            "|   3379|    100|   4.0|['Honoré de Balzac']|          3.82|        650|['classics', 'fic...|            59145|https://s.gr-asse...|          eng|                     1834|  370|  December 17th 1997|      722|     2448|     8503|    12543|     9513|         Père Goriot|\n",
            "|    635|    100|   4.0|['Jostein Gaarder...|          3.88|        239|['philosophy', 'f...|            10959|https://images.gr...|          eng|                     1991|  403|            10/28/95|     3975|     9949|    32355|    50286|    46828|      Sophie's World|\n",
            "|   6160|    100|   4.0|['Heinrich Böll',...|          4.05|        127|['fiction', 'clas...|           326272|https://images.gr...|          per|                     1963|  272|       June 1st 1994|      225|      659|     2598|     5101|     5314|       عقاید یک دلقک|\n",
            "|     66|    100|   4.0|['Margaret Mitche...|          4.28|        409|['classics', 'his...|            18405|https://images.gr...|          eng|                     1936| 1037|          04/01/1999|    19996|    33136|   116160|   234290|   493721|  Gone with the Wind|\n",
            "|   1131|    100|   4.0|   ['Joanne Harris']|          3.95|        143|['fiction', 'roma...|            47401|https://s.gr-asse...|          eng|                     1998|  306|          11/01/2000|      916|     4161|    22099|    37751|    28165|Chocolat (Chocola...|\n",
            "|     85|    100|   4.0|['Shel Silverstein']|          4.38|         81|['classics', 'fic...|           370493|https://images.gr...|          eng|                     1964|   64|          10/07/1964|    15345|    20408|    76071|   167542|   428921|     The Giving Tree|\n",
            "|    323|    100|   4.0|['Milan Kundera',...|          4.08|        274|['fiction', 'clas...|             9717|https://images.gr...|          eng|                     1984|  320|            10/27/09|     4894|    12964|    42199|    84519|   103404|The Unbearable Li...|\n",
            "+-------+-------+------+--------------------+--------------+-----------+--------------------+-----------------+--------------------+-------------+-------------------------+-----+--------------------+---------+---------+---------+---------+---------+--------------------+\n",
            "\n"
          ]
        }
      ],
      "source": [
        "ratings.join(books, on='book_id').filter('title ='%name ).sort('rating', ascending=False).limit(10).show()"
      ],
      "id": "ObrO5S7rS3r_"
    }
  ],
  "metadata": {
    "accelerator": "GPU",
    "colab": {
      "collapsed_sections": [
        "d5177af4",
        "e85e7a70",
        "3ed1fc29",
        "ba6d2178",
        "4b67b07f",
        "b728d4cf",
        "215c03db",
        "c12a2b44",
        "437baf7c",
        "596df8f8"
      ],
      "provenance": [],
      "include_colab_link": true
    },
    "gpuClass": "standard",
    "kernelspec": {
      "display_name": "Python 3",
      "language": "python",
      "name": "python3"
    },
    "language_info": {
      "codemirror_mode": {
        "name": "ipython",
        "version": 3
      },
      "file_extension": ".py",
      "mimetype": "text/x-python",
      "name": "python",
      "nbconvert_exporter": "python",
      "pygments_lexer": "ipython3",
      "version": "3.8.8"
    }
  },
  "nbformat": 4,
  "nbformat_minor": 5
}