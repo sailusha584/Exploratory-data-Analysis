{
  "cells": [
    {
      "cell_type": "markdown",
      "metadata": {
        "id": "view-in-github",
        "colab_type": "text"
      },
      "source": [
        "<a href=\"https://colab.research.google.com/github/sailusha584/Exploratory-data-Analysis/blob/main/28_08_2022_GoodReadsBook_Recommendation_System.ipynb\" target=\"_parent\"><img src=\"https://colab.research.google.com/assets/colab-badge.svg\" alt=\"Open In Colab\"/></a>"
      ]
    },
    {
      "cell_type": "code",
      "execution_count": null,
      "metadata": {
        "id": "ed1e4beb"
      },
      "outputs": [],
      "source": [
        "#importing all required libraries\n",
        "import pandas as pd\n",
        "import re\n",
        "from nltk.stem import PorterStemmer\n",
        "from ast import literal_eval\n",
        "import nltk\n",
        "#nltk.download('stopwords')\n",
        "from nltk.corpus import stopwords"
      ],
      "id": "ed1e4beb"
    },
    {
      "cell_type": "code",
      "execution_count": null,
      "metadata": {
        "colab": {
          "base_uri": "https://localhost:8080/"
        },
        "id": "787795ee",
        "outputId": "87f9e03f-f5ab-45d3-e891-90495c5ecb3b"
      },
      "outputs": [
        {
          "name": "stdout",
          "output_type": "stream",
          "text": [
            "Looking in indexes: https://pypi.org/simple, https://us-python.pkg.dev/colab-wheels/public/simple/\n",
            "Collecting fuzzywuzzy\n",
            "  Downloading fuzzywuzzy-0.18.0-py2.py3-none-any.whl (18 kB)\n",
            "Installing collected packages: fuzzywuzzy\n",
            "Successfully installed fuzzywuzzy-0.18.0\n"
          ]
        }
      ],
      "source": [
        "pip install fuzzywuzzy\n"
      ],
      "id": "787795ee"
    },
    {
      "cell_type": "code",
      "execution_count": null,
      "metadata": {
        "colab": {
          "base_uri": "https://localhost:8080/"
        },
        "id": "8b89a8e7",
        "outputId": "c089398a-d785-4723-c523-cdc18f159843"
      },
      "outputs": [
        {
          "name": "stderr",
          "output_type": "stream",
          "text": [
            "/usr/local/lib/python3.7/dist-packages/fuzzywuzzy/fuzz.py:11: UserWarning: Using slow pure-python SequenceMatcher. Install python-Levenshtein to remove this warning\n",
            "  warnings.warn('Using slow pure-python SequenceMatcher. Install python-Levenshtein to remove this warning')\n"
          ]
        }
      ],
      "source": [
        "# utils import\n",
        "from fuzzywuzzy import fuzz"
      ],
      "id": "8b89a8e7"
    },
    {
      "cell_type": "code",
      "execution_count": null,
      "metadata": {
        "id": "325be6a0"
      },
      "outputs": [],
      "source": [
        "import numpy as np"
      ],
      "id": "325be6a0"
    },
    {
      "cell_type": "code",
      "execution_count": null,
      "metadata": {
        "id": "8f05505a"
      },
      "outputs": [],
      "source": [
        "#Load dataset\n",
        "goodbooks_df = pd.read_csv('books_enriched.csv', index_col=[0], converters={\"genres\": literal_eval})\n",
        "ratings_df=pd.read_csv('ratings.csv')\n",
        "book_tags=pd.read_csv('book_tags.csv')\n",
        "tags=pd.read_csv('tags.csv')\n",
        "# shape of dataset\n",
        "\n",
        "print(\"shape of book dataset is  \" ,goodbooks_df.shape)\n",
        "print(\"shape of ratings dataset is \" ,ratings_df.shape)\n",
        "print(\"shape of book tags dataset is  \" ,book_tags.shape)\n",
        "print(\"shape of tags dataset is \" ,tags.shape)\n"
      ],
      "id": "8f05505a"
    },
    {
      "cell_type": "code",
      "execution_count": null,
      "metadata": {
        "id": "1a7a5ca7",
        "outputId": "c1ed9d3f-b35f-4649-ed8e-a6992e796623"
      },
      "outputs": [
        {
          "name": "stdout",
          "output_type": "stream",
          "text": [
            "<class 'pandas.core.frame.DataFrame'>\n",
            "Int64Index: 10000 entries, 0 to 9999\n",
            "Data columns (total 29 columns):\n",
            " #   Column                     Non-Null Count  Dtype  \n",
            "---  ------                     --------------  -----  \n",
            " 0   index                      10000 non-null  int64  \n",
            " 1   authors                    10000 non-null  object \n",
            " 2   average_rating             10000 non-null  float64\n",
            " 3   best_book_id               10000 non-null  int64  \n",
            " 4   book_id                    10000 non-null  int64  \n",
            " 5   books_count                10000 non-null  int64  \n",
            " 6   description                9943 non-null   object \n",
            " 7   genres                     10000 non-null  object \n",
            " 8   goodreads_book_id          10000 non-null  int64  \n",
            " 9   image_url                  10000 non-null  object \n",
            " 10  isbn                       9300 non-null   object \n",
            " 11  isbn13                     9415 non-null   float64\n",
            " 12  language_code              10000 non-null  object \n",
            " 13  original_publication_year  9979 non-null   float64\n",
            " 14  original_title             9415 non-null   object \n",
            " 15  pages                      9927 non-null   float64\n",
            " 16  publishDate                9992 non-null   object \n",
            " 17  ratings_1                  10000 non-null  int64  \n",
            " 18  ratings_2                  10000 non-null  int64  \n",
            " 19  ratings_3                  10000 non-null  int64  \n",
            " 20  ratings_4                  10000 non-null  int64  \n",
            " 21  ratings_5                  10000 non-null  int64  \n",
            " 22  ratings_count              10000 non-null  int64  \n",
            " 23  small_image_url            10000 non-null  object \n",
            " 24  title                      10000 non-null  object \n",
            " 25  work_id                    10000 non-null  int64  \n",
            " 26  work_ratings_count         10000 non-null  int64  \n",
            " 27  work_text_reviews_count    10000 non-null  int64  \n",
            " 28  authors_2                  10000 non-null  object \n",
            "dtypes: float64(4), int64(14), object(11)\n",
            "memory usage: 2.3+ MB\n"
          ]
        }
      ],
      "source": [
        "goodbooks_df.info()"
      ],
      "id": "1a7a5ca7"
    },
    {
      "cell_type": "markdown",
      "metadata": {
        "id": "aef440e9"
      },
      "source": [
        "some missing original titles (585), some pages(73) and descriptions(57) ,publishyear(21),publishDate(8)\n",
        "compare both publish year and date ans see common years and drop other columns "
      ],
      "id": "aef440e9"
    },
    {
      "cell_type": "code",
      "execution_count": null,
      "metadata": {
        "id": "079192ac",
        "outputId": "2b44d422-5f58-4a4a-899c-abe6ad51e42f"
      },
      "outputs": [
        {
          "name": "stdout",
          "output_type": "stream",
          "text": [
            "Unique books rated by users are  10000\n",
            "Unique users who rated books are  53424\n"
          ]
        }
      ],
      "source": [
        "#book id and userid in ratings.csv file \n",
        "print(\"Unique books rated by users are \",ratings_df['book_id'].nunique())\n",
        "print(\"Unique users who rated books are \",ratings_df['user_id'].nunique())"
      ],
      "id": "079192ac"
    },
    {
      "cell_type": "code",
      "execution_count": null,
      "metadata": {
        "id": "90dc3a58"
      },
      "outputs": [],
      "source": [
        "#keep only official goodreads genres from the genres column\n",
        "official_genres = {\"art\", \"biography\", \"business\", \"chick-lit\", \"children's\", \"christian\", \"classics\",\n",
        "          \"comics\", \"contemporary\", \"cookbooks\", \"crime\", \"books\", \"fantasy\", \"fiction\",\n",
        "          \"gay-and-lesbian\", \"graphic-novels\", \"historical-fiction\", \"history\", \"horror\",\n",
        "          \"humor-and-comedy\", \"manga\", \"memoir\", \"music\", \"mystery\", \"nonfiction\", \"paranormal\",\n",
        "          \"philosophy\", \"poetry\", \"psychology\", \"religion\", \"romance\", \"science\", \"science-fiction\", \n",
        "          \"self-help\", \"suspense\", \"spirituality\", \"sports\", \"thriller\", \"travel\", \"young-adult\"}\n",
        "\n",
        "goodbooks_df['genres'] = goodbooks_df['genres'].apply(lambda genre: [feature for feature in genre if feature in official_genres])"
      ],
      "id": "90dc3a58"
    },
    {
      "cell_type": "code",
      "execution_count": null,
      "metadata": {
        "id": "a649cf35",
        "outputId": "6c861f47-9d8d-4a93-9871-c42b3c057b79"
      },
      "outputs": [
        {
          "data": {
            "text/plain": [
              "False    10000\n",
              "Name: language_code, dtype: int64"
            ]
          },
          "execution_count": 9,
          "metadata": {},
          "output_type": "execute_result"
        }
      ],
      "source": [
        "goodbooks_df['language_code'].isna().value_counts()"
      ],
      "id": "a649cf35"
    },
    {
      "cell_type": "code",
      "execution_count": null,
      "metadata": {
        "id": "02b9e6f5",
        "outputId": "48d7b557-d9ec-4110-a22f-4aa72de51324"
      },
      "outputs": [
        {
          "data": {
            "text/plain": [
              "array(['eng', 'spa', 'fre', 'sv', 'it', 'de', 'ara', 'da', 'fr', 'por',\n",
              "       'hu', 'ger', 'es', 'nor', 'jpn', 'ms', 'vie', 'nl', 'pl', 'cs',\n",
              "       'ind', 'ro', 'af', 'pol', 'tur', 'dan', 'fil', 'ita', 'per', 'mt',\n",
              "       'id', 'is', 'swe', 'rum', 'mul', 'no', 'zh', 'rus', 'lt', 'fi',\n",
              "       'et'], dtype=object)"
            ]
          },
          "execution_count": 69,
          "metadata": {},
          "output_type": "execute_result"
        }
      ],
      "source": [
        "#unique book languages\n",
        "goodbooks_df['language_code'].unique()"
      ],
      "id": "02b9e6f5"
    },
    {
      "cell_type": "code",
      "execution_count": null,
      "metadata": {
        "id": "97bc945e",
        "outputId": "becf29ba-b2b3-444a-fff3-252bcb84627c"
      },
      "outputs": [
        {
          "name": "stdout",
          "output_type": "stream",
          "text": [
            "Requirement already satisfied: langid in c:\\users\\sailu\\anaconda3\\lib\\site-packages (1.1.6)\n",
            "Requirement already satisfied: numpy in c:\\users\\sailu\\anaconda3\\lib\\site-packages (from langid) (1.19.5)\n"
          ]
        }
      ],
      "source": [
        "#find missing languages based on book titles\n",
        "!pip install langid\n",
        "import langid\n",
        "\n",
        "#loop over rows with missing data (see https://stackoverflow.com/questions/23330654/update-a-dataframe-in-pandas-while-iterating-row-by-row)\n",
        "for index, row in goodbooks_df.iterrows():\n",
        "    if pd.isna(row[\"language_code\"])==True:\n",
        "        lang = langid.classify(goodbooks_df.loc[index,'title'])[0]\n",
        "        goodbooks_df.at[index,'language_code'] = lang"
      ],
      "id": "97bc945e"
    },
    {
      "cell_type": "code",
      "execution_count": null,
      "metadata": {
        "id": "a2821182",
        "outputId": "0a887828-5438-4632-f719-61aa176cd120"
      },
      "outputs": [
        {
          "data": {
            "text/plain": [
              "array(['eng', 'spa', 'fre', 'sv', 'it', 'de', 'ara', 'da', 'fr', 'por',\n",
              "       'hu', 'ger', 'es', 'nor', 'jpn', 'ms', 'vie', 'nl', 'pl', 'cs',\n",
              "       'ind', 'ro', 'af', 'pol', 'tur', 'dan', 'fil', 'ita', 'per', 'mt',\n",
              "       'id', 'is', 'swe', 'rum', 'mul', 'no', 'zh', 'rus', 'lt', 'fi',\n",
              "       'et'], dtype=object)"
            ]
          },
          "execution_count": 71,
          "metadata": {},
          "output_type": "execute_result"
        }
      ],
      "source": [
        "#unique book languages\n",
        "goodbooks_df['language_code'].unique()"
      ],
      "id": "a2821182"
    },
    {
      "cell_type": "code",
      "execution_count": null,
      "metadata": {
        "id": "0a6b95d0"
      },
      "outputs": [],
      "source": [
        "#change all english tags to eng\n",
        "def change_lang(lang):\n",
        "    if str(lang)[0:2]=='en':\n",
        "        return str('eng')\n",
        "    else:\n",
        "        return lang\n",
        "\n",
        "goodbooks_df['language_code'] = goodbooks_df['language_code'].apply(change_lang)"
      ],
      "id": "0a6b95d0"
    },
    {
      "cell_type": "code",
      "execution_count": null,
      "metadata": {
        "id": "4aadb113"
      },
      "outputs": [],
      "source": [
        "#keep only english books (9680 books)\n",
        "(goodbooks_df['language_code']==\"eng\").sum()\n",
        "goodbooks_df = goodbooks_df.drop(goodbooks_df[goodbooks_df[\"language_code\"] != \"eng\"].index)"
      ],
      "id": "4aadb113"
    },
    {
      "cell_type": "code",
      "execution_count": null,
      "metadata": {
        "id": "bc7ff2a0"
      },
      "outputs": [],
      "source": [
        "#check for duplicates \n",
        "#no duplicates by book_id\n",
        "goodbooks_df['goodreads_book_id'].duplicated().sum()\n",
        "\n",
        "# there are 36 duplicates by title\n",
        "goodbooks_df['title'].duplicated().sum()\n",
        "duplicates = goodbooks_df.loc[(goodbooks_df['title'].duplicated(keep=False))==True,:].sort_values('title')#\n",
        "duplicates.head(5)\n",
        "\n",
        "# let's drop them to be on the safe side\n",
        "goodbooks_df = goodbooks_df.drop_duplicates(subset = ['title'])"
      ],
      "id": "bc7ff2a0"
    },
    {
      "cell_type": "code",
      "execution_count": null,
      "metadata": {
        "id": "3d675a62"
      },
      "outputs": [],
      "source": [
        "# Dropping columns we will not use for analysis as\n",
        "\n",
        "goodbooks_df = goodbooks_df.drop(columns=[\"index\",'best_book_id','work_id','ratings_count',\n",
        "                                  'work_text_reviews_count','authors_2','small_image_url','work_ratings_count'])"
      ],
      "id": "3d675a62"
    },
    {
      "cell_type": "code",
      "execution_count": null,
      "metadata": {
        "id": "ca036302"
      },
      "outputs": [],
      "source": [
        "#Index:it is duplicate column for index\n",
        "#Best book id and work id give ids for popular versions of that book\n",
        "##ratings_count:It is not much of importance we will drop for now\n",
        "#work_text_reviews_count: We are not considering reviews in consideration so this is not required \n",
        "#authors_2:Duplicated column\n",
        "#small_image_url:duplicated column\n",
        "#work_ratings_count:not required\n",
        "#isbn:unique id ,already exists\n",
        "#isbn13:unique id already exists\n",
        "#original_title:It removes series so it is better to be specific abt series incase of harrypotter and other saga\n",
        "#description:It requres more NLP preprocessing and not required for our problem stmt"
      ],
      "id": "ca036302"
    },
    {
      "cell_type": "code",
      "execution_count": null,
      "metadata": {
        "id": "618fcd39",
        "outputId": "be51aa88-74b2-4630-9a85-9bcb4afa04a8"
      },
      "outputs": [
        {
          "data": {
            "text/html": [
              "<div>\n",
              "<style scoped>\n",
              "    .dataframe tbody tr th:only-of-type {\n",
              "        vertical-align: middle;\n",
              "    }\n",
              "\n",
              "    .dataframe tbody tr th {\n",
              "        vertical-align: top;\n",
              "    }\n",
              "\n",
              "    .dataframe thead th {\n",
              "        text-align: right;\n",
              "    }\n",
              "</style>\n",
              "<table border=\"1\" class=\"dataframe\">\n",
              "  <thead>\n",
              "    <tr style=\"text-align: right;\">\n",
              "      <th></th>\n",
              "      <th>authors</th>\n",
              "      <th>average_rating</th>\n",
              "      <th>book_id</th>\n",
              "      <th>books_count</th>\n",
              "      <th>genres</th>\n",
              "      <th>goodreads_book_id</th>\n",
              "      <th>image_url</th>\n",
              "      <th>language_code</th>\n",
              "      <th>original_publication_year</th>\n",
              "      <th>pages</th>\n",
              "      <th>publishDate</th>\n",
              "      <th>ratings_1</th>\n",
              "      <th>ratings_2</th>\n",
              "      <th>ratings_3</th>\n",
              "      <th>ratings_4</th>\n",
              "      <th>ratings_5</th>\n",
              "      <th>title</th>\n",
              "    </tr>\n",
              "  </thead>\n",
              "  <tbody>\n",
              "    <tr>\n",
              "      <th>0</th>\n",
              "      <td>['Suzanne Collins']</td>\n",
              "      <td>4.34</td>\n",
              "      <td>1</td>\n",
              "      <td>272</td>\n",
              "      <td>[young-adult, fiction, fantasy, science-fictio...</td>\n",
              "      <td>2767052</td>\n",
              "      <td>https://images.gr-assets.com/books/1447303603m...</td>\n",
              "      <td>eng</td>\n",
              "      <td>2008.0</td>\n",
              "      <td>374.0</td>\n",
              "      <td>09/14/08</td>\n",
              "      <td>66715</td>\n",
              "      <td>127936</td>\n",
              "      <td>560092</td>\n",
              "      <td>1481305</td>\n",
              "      <td>2706317</td>\n",
              "      <td>The Hunger Games (The Hunger Games, #1)</td>\n",
              "    </tr>\n",
              "    <tr>\n",
              "      <th>1</th>\n",
              "      <td>['J.K. Rowling', 'Mary GrandPré']</td>\n",
              "      <td>4.44</td>\n",
              "      <td>2</td>\n",
              "      <td>491</td>\n",
              "      <td>[fantasy, fiction, young-adult, classics]</td>\n",
              "      <td>3</td>\n",
              "      <td>https://images.gr-assets.com/books/1474154022m...</td>\n",
              "      <td>eng</td>\n",
              "      <td>1997.0</td>\n",
              "      <td>309.0</td>\n",
              "      <td>11/01/2003</td>\n",
              "      <td>75504</td>\n",
              "      <td>101676</td>\n",
              "      <td>455024</td>\n",
              "      <td>1156318</td>\n",
              "      <td>3011543</td>\n",
              "      <td>Harry Potter and the Sorcerer's Stone (Harry P...</td>\n",
              "    </tr>\n",
              "    <tr>\n",
              "      <th>2</th>\n",
              "      <td>['Stephenie Meyer']</td>\n",
              "      <td>3.57</td>\n",
              "      <td>3</td>\n",
              "      <td>226</td>\n",
              "      <td>[young-adult, fantasy, romance, fiction, paran...</td>\n",
              "      <td>41865</td>\n",
              "      <td>https://images.gr-assets.com/books/1361039443m...</td>\n",
              "      <td>eng</td>\n",
              "      <td>2005.0</td>\n",
              "      <td>501.0</td>\n",
              "      <td>09/06/2006</td>\n",
              "      <td>456191</td>\n",
              "      <td>436802</td>\n",
              "      <td>793319</td>\n",
              "      <td>875073</td>\n",
              "      <td>1355439</td>\n",
              "      <td>Twilight (Twilight, #1)</td>\n",
              "    </tr>\n",
              "    <tr>\n",
              "      <th>3</th>\n",
              "      <td>['Harper Lee']</td>\n",
              "      <td>4.25</td>\n",
              "      <td>4</td>\n",
              "      <td>487</td>\n",
              "      <td>[classics, fiction, historical-fiction, young-...</td>\n",
              "      <td>2657</td>\n",
              "      <td>https://images.gr-assets.com/books/1361975680m...</td>\n",
              "      <td>eng</td>\n",
              "      <td>1960.0</td>\n",
              "      <td>324.0</td>\n",
              "      <td>05/23/06</td>\n",
              "      <td>60427</td>\n",
              "      <td>117415</td>\n",
              "      <td>446835</td>\n",
              "      <td>1001952</td>\n",
              "      <td>1714267</td>\n",
              "      <td>To Kill a Mockingbird</td>\n",
              "    </tr>\n",
              "    <tr>\n",
              "      <th>4</th>\n",
              "      <td>['F. Scott Fitzgerald']</td>\n",
              "      <td>3.89</td>\n",
              "      <td>5</td>\n",
              "      <td>1356</td>\n",
              "      <td>[classics, fiction, historical-fiction, romance]</td>\n",
              "      <td>4671</td>\n",
              "      <td>https://images.gr-assets.com/books/1490528560m...</td>\n",
              "      <td>eng</td>\n",
              "      <td>1925.0</td>\n",
              "      <td>200.0</td>\n",
              "      <td>09/28/04</td>\n",
              "      <td>86236</td>\n",
              "      <td>197621</td>\n",
              "      <td>606158</td>\n",
              "      <td>936012</td>\n",
              "      <td>947718</td>\n",
              "      <td>The Great Gatsby</td>\n",
              "    </tr>\n",
              "  </tbody>\n",
              "</table>\n",
              "</div>"
            ],
            "text/plain": [
              "                             authors  average_rating  book_id  books_count  \\\n",
              "0                ['Suzanne Collins']            4.34        1          272   \n",
              "1  ['J.K. Rowling', 'Mary GrandPré']            4.44        2          491   \n",
              "2                ['Stephenie Meyer']            3.57        3          226   \n",
              "3                     ['Harper Lee']            4.25        4          487   \n",
              "4            ['F. Scott Fitzgerald']            3.89        5         1356   \n",
              "\n",
              "                                              genres  goodreads_book_id  \\\n",
              "0  [young-adult, fiction, fantasy, science-fictio...            2767052   \n",
              "1          [fantasy, fiction, young-adult, classics]                  3   \n",
              "2  [young-adult, fantasy, romance, fiction, paran...              41865   \n",
              "3  [classics, fiction, historical-fiction, young-...               2657   \n",
              "4   [classics, fiction, historical-fiction, romance]               4671   \n",
              "\n",
              "                                           image_url language_code  \\\n",
              "0  https://images.gr-assets.com/books/1447303603m...           eng   \n",
              "1  https://images.gr-assets.com/books/1474154022m...           eng   \n",
              "2  https://images.gr-assets.com/books/1361039443m...           eng   \n",
              "3  https://images.gr-assets.com/books/1361975680m...           eng   \n",
              "4  https://images.gr-assets.com/books/1490528560m...           eng   \n",
              "\n",
              "   original_publication_year  pages publishDate  ratings_1  ratings_2  \\\n",
              "0                     2008.0  374.0    09/14/08      66715     127936   \n",
              "1                     1997.0  309.0  11/01/2003      75504     101676   \n",
              "2                     2005.0  501.0  09/06/2006     456191     436802   \n",
              "3                     1960.0  324.0    05/23/06      60427     117415   \n",
              "4                     1925.0  200.0    09/28/04      86236     197621   \n",
              "\n",
              "   ratings_3  ratings_4  ratings_5  \\\n",
              "0     560092    1481305    2706317   \n",
              "1     455024    1156318    3011543   \n",
              "2     793319     875073    1355439   \n",
              "3     446835    1001952    1714267   \n",
              "4     606158     936012     947718   \n",
              "\n",
              "                                               title  \n",
              "0            The Hunger Games (The Hunger Games, #1)  \n",
              "1  Harry Potter and the Sorcerer's Stone (Harry P...  \n",
              "2                            Twilight (Twilight, #1)  \n",
              "3                              To Kill a Mockingbird  \n",
              "4                                   The Great Gatsby  "
            ]
          },
          "execution_count": 109,
          "metadata": {},
          "output_type": "execute_result"
        }
      ],
      "source": [
        "goodbooks_df.head()"
      ],
      "id": "618fcd39"
    },
    {
      "cell_type": "code",
      "execution_count": null,
      "metadata": {
        "id": "6447bb8d",
        "outputId": "3251230f-20ad-40be-cd01-39f9adcca841"
      },
      "outputs": [
        {
          "data": {
            "text/plain": [
              "False    9964\n",
              "Name: original_publication_year, dtype: int64"
            ]
          },
          "execution_count": 110,
          "metadata": {},
          "output_type": "execute_result"
        }
      ],
      "source": [
        "goodbooks_df['original_publication_year'].fillna(0,inplace=True)\n",
        "goodbooks_df['original_publication_year'].isna().value_counts()"
      ],
      "id": "6447bb8d"
    },
    {
      "cell_type": "code",
      "execution_count": null,
      "metadata": {
        "id": "e7d4b75b",
        "outputId": "bb551ff6-f6b4-45f5-f577-7949bda06452"
      },
      "outputs": [
        {
          "data": {
            "text/plain": [
              "0       2008\n",
              "1       1997\n",
              "2       2005\n",
              "3       1960\n",
              "4       1925\n",
              "        ... \n",
              "9995    2005\n",
              "9996    2016\n",
              "9997    2000\n",
              "9998    2010\n",
              "9999    1998\n",
              "Name: original_publication_year, Length: 9964, dtype: int32"
            ]
          },
          "execution_count": 121,
          "metadata": {},
          "output_type": "execute_result"
        }
      ],
      "source": [
        "goobooks_df=goodbooks_df['original_publication_year'].astype(int)"
      ],
      "id": "e7d4b75b"
    },
    {
      "cell_type": "code",
      "execution_count": null,
      "metadata": {
        "id": "f23833b5"
      },
      "outputs": [],
      "source": [
        "goodbooks_df['publishDate'] = pd.to_datetime(goodbooks_df['publishDate'])"
      ],
      "id": "f23833b5"
    },
    {
      "cell_type": "code",
      "execution_count": null,
      "metadata": {
        "id": "a1470a58",
        "outputId": "aa7922db-78d5-4cf2-de89-91ef78e396f8"
      },
      "outputs": [
        {
          "data": {
            "text/plain": [
              "0                   09/14/08\n",
              "1                 11/01/2003\n",
              "2                 09/06/2006\n",
              "3                   05/23/06\n",
              "4                   09/28/04\n",
              "                ...         \n",
              "9995      ('6', '7', '2005')\n",
              "9996     ('1', '19', '2016')\n",
              "9997     ('10', '1', '2000')\n",
              "9998    ('10', '19', '2010')\n",
              "9999     ('5', '16', '2000')\n",
              "Name: publishDate, Length: 9964, dtype: object"
            ]
          },
          "execution_count": 117,
          "metadata": {},
          "output_type": "execute_result"
        }
      ],
      "source": [
        "goodbooks_df['publishDate'].replace(to_replace='None', value=np.nan)"
      ],
      "id": "a1470a58"
    },
    {
      "cell_type": "code",
      "execution_count": null,
      "metadata": {
        "id": "2f302544"
      },
      "outputs": [],
      "source": [
        "goodbooks_df['publishDate'].fillna(0,inplace=True)"
      ],
      "id": "2f302544"
    },
    {
      "cell_type": "code",
      "execution_count": null,
      "metadata": {
        "id": "9ff64b1c",
        "outputId": "5c57af0c-6e8d-4490-95b0-4ace35e1a5b0"
      },
      "outputs": [
        {
          "data": {
            "text/plain": [
              "False    9964\n",
              "Name: publishDate, dtype: int64"
            ]
          },
          "execution_count": 114,
          "metadata": {},
          "output_type": "execute_result"
        }
      ],
      "source": [
        "goodbooks_df['publishDate'].isna().value_counts()"
      ],
      "id": "9ff64b1c"
    },
    {
      "cell_type": "code",
      "execution_count": null,
      "metadata": {
        "id": "e2a07d17"
      },
      "outputs": [],
      "source": [
        "goodbooks_df.to_csv('books_preprocess_13_july.csv',index=False)"
      ],
      "id": "e2a07d17"
    },
    {
      "cell_type": "markdown",
      "metadata": {
        "id": "d5177af4"
      },
      "source": [
        "# Preprocessed book data "
      ],
      "id": "d5177af4"
    },
    {
      "cell_type": "code",
      "execution_count": null,
      "metadata": {
        "id": "68c91546"
      },
      "outputs": [],
      "source": [
        "goodreads_df=pd.read_csv('books_preprocess_13_july.csv',converters={\"genres\": literal_eval,\"authors\":literal_eval})"
      ],
      "id": "68c91546"
    },
    {
      "cell_type": "code",
      "execution_count": null,
      "metadata": {
        "id": "30cd2faa",
        "outputId": "793f3674-6d1f-4951-fc9b-391a71458ba6"
      },
      "outputs": [
        {
          "data": {
            "text/html": [
              "<div>\n",
              "<style scoped>\n",
              "    .dataframe tbody tr th:only-of-type {\n",
              "        vertical-align: middle;\n",
              "    }\n",
              "\n",
              "    .dataframe tbody tr th {\n",
              "        vertical-align: top;\n",
              "    }\n",
              "\n",
              "    .dataframe thead th {\n",
              "        text-align: right;\n",
              "    }\n",
              "</style>\n",
              "<table border=\"1\" class=\"dataframe\">\n",
              "  <thead>\n",
              "    <tr style=\"text-align: right;\">\n",
              "      <th></th>\n",
              "      <th>authors</th>\n",
              "      <th>average_rating</th>\n",
              "      <th>book_id</th>\n",
              "      <th>books_count</th>\n",
              "      <th>genres</th>\n",
              "      <th>goodreads_book_id</th>\n",
              "      <th>image_url</th>\n",
              "      <th>language_code</th>\n",
              "      <th>original_publication_year</th>\n",
              "      <th>pages</th>\n",
              "      <th>publishDate</th>\n",
              "      <th>ratings_1</th>\n",
              "      <th>ratings_2</th>\n",
              "      <th>ratings_3</th>\n",
              "      <th>ratings_4</th>\n",
              "      <th>ratings_5</th>\n",
              "      <th>title</th>\n",
              "    </tr>\n",
              "  </thead>\n",
              "  <tbody>\n",
              "    <tr>\n",
              "      <th>0</th>\n",
              "      <td>[Suzanne Collins]</td>\n",
              "      <td>4.34</td>\n",
              "      <td>1</td>\n",
              "      <td>272</td>\n",
              "      <td>[young-adult, fiction, fantasy, science-fictio...</td>\n",
              "      <td>2767052</td>\n",
              "      <td>https://images.gr-assets.com/books/1447303603m...</td>\n",
              "      <td>eng</td>\n",
              "      <td>2008.0</td>\n",
              "      <td>374.0</td>\n",
              "      <td>09/14/08</td>\n",
              "      <td>66715</td>\n",
              "      <td>127936</td>\n",
              "      <td>560092</td>\n",
              "      <td>1481305</td>\n",
              "      <td>2706317</td>\n",
              "      <td>The Hunger Games (The Hunger Games, #1)</td>\n",
              "    </tr>\n",
              "    <tr>\n",
              "      <th>1</th>\n",
              "      <td>[J.K. Rowling, Mary GrandPré]</td>\n",
              "      <td>4.44</td>\n",
              "      <td>2</td>\n",
              "      <td>491</td>\n",
              "      <td>[fantasy, fiction, young-adult, classics]</td>\n",
              "      <td>3</td>\n",
              "      <td>https://images.gr-assets.com/books/1474154022m...</td>\n",
              "      <td>eng</td>\n",
              "      <td>1997.0</td>\n",
              "      <td>309.0</td>\n",
              "      <td>11/01/2003</td>\n",
              "      <td>75504</td>\n",
              "      <td>101676</td>\n",
              "      <td>455024</td>\n",
              "      <td>1156318</td>\n",
              "      <td>3011543</td>\n",
              "      <td>Harry Potter and the Sorcerer's Stone (Harry P...</td>\n",
              "    </tr>\n",
              "    <tr>\n",
              "      <th>2</th>\n",
              "      <td>[Stephenie Meyer]</td>\n",
              "      <td>3.57</td>\n",
              "      <td>3</td>\n",
              "      <td>226</td>\n",
              "      <td>[young-adult, fantasy, romance, fiction, paran...</td>\n",
              "      <td>41865</td>\n",
              "      <td>https://images.gr-assets.com/books/1361039443m...</td>\n",
              "      <td>eng</td>\n",
              "      <td>2005.0</td>\n",
              "      <td>501.0</td>\n",
              "      <td>09/06/2006</td>\n",
              "      <td>456191</td>\n",
              "      <td>436802</td>\n",
              "      <td>793319</td>\n",
              "      <td>875073</td>\n",
              "      <td>1355439</td>\n",
              "      <td>Twilight (Twilight, #1)</td>\n",
              "    </tr>\n",
              "    <tr>\n",
              "      <th>3</th>\n",
              "      <td>[Harper Lee]</td>\n",
              "      <td>4.25</td>\n",
              "      <td>4</td>\n",
              "      <td>487</td>\n",
              "      <td>[classics, fiction, historical-fiction, young-...</td>\n",
              "      <td>2657</td>\n",
              "      <td>https://images.gr-assets.com/books/1361975680m...</td>\n",
              "      <td>eng</td>\n",
              "      <td>1960.0</td>\n",
              "      <td>324.0</td>\n",
              "      <td>05/23/06</td>\n",
              "      <td>60427</td>\n",
              "      <td>117415</td>\n",
              "      <td>446835</td>\n",
              "      <td>1001952</td>\n",
              "      <td>1714267</td>\n",
              "      <td>To Kill a Mockingbird</td>\n",
              "    </tr>\n",
              "    <tr>\n",
              "      <th>4</th>\n",
              "      <td>[F. Scott Fitzgerald]</td>\n",
              "      <td>3.89</td>\n",
              "      <td>5</td>\n",
              "      <td>1356</td>\n",
              "      <td>[classics, fiction, historical-fiction, romance]</td>\n",
              "      <td>4671</td>\n",
              "      <td>https://images.gr-assets.com/books/1490528560m...</td>\n",
              "      <td>eng</td>\n",
              "      <td>1925.0</td>\n",
              "      <td>200.0</td>\n",
              "      <td>09/28/04</td>\n",
              "      <td>86236</td>\n",
              "      <td>197621</td>\n",
              "      <td>606158</td>\n",
              "      <td>936012</td>\n",
              "      <td>947718</td>\n",
              "      <td>The Great Gatsby</td>\n",
              "    </tr>\n",
              "  </tbody>\n",
              "</table>\n",
              "</div>"
            ],
            "text/plain": [
              "                         authors  average_rating  book_id  books_count  \\\n",
              "0              [Suzanne Collins]            4.34        1          272   \n",
              "1  [J.K. Rowling, Mary GrandPré]            4.44        2          491   \n",
              "2              [Stephenie Meyer]            3.57        3          226   \n",
              "3                   [Harper Lee]            4.25        4          487   \n",
              "4          [F. Scott Fitzgerald]            3.89        5         1356   \n",
              "\n",
              "                                              genres  goodreads_book_id  \\\n",
              "0  [young-adult, fiction, fantasy, science-fictio...            2767052   \n",
              "1          [fantasy, fiction, young-adult, classics]                  3   \n",
              "2  [young-adult, fantasy, romance, fiction, paran...              41865   \n",
              "3  [classics, fiction, historical-fiction, young-...               2657   \n",
              "4   [classics, fiction, historical-fiction, romance]               4671   \n",
              "\n",
              "                                           image_url language_code  \\\n",
              "0  https://images.gr-assets.com/books/1447303603m...           eng   \n",
              "1  https://images.gr-assets.com/books/1474154022m...           eng   \n",
              "2  https://images.gr-assets.com/books/1361039443m...           eng   \n",
              "3  https://images.gr-assets.com/books/1361975680m...           eng   \n",
              "4  https://images.gr-assets.com/books/1490528560m...           eng   \n",
              "\n",
              "   original_publication_year  pages publishDate  ratings_1  ratings_2  \\\n",
              "0                     2008.0  374.0    09/14/08      66715     127936   \n",
              "1                     1997.0  309.0  11/01/2003      75504     101676   \n",
              "2                     2005.0  501.0  09/06/2006     456191     436802   \n",
              "3                     1960.0  324.0    05/23/06      60427     117415   \n",
              "4                     1925.0  200.0    09/28/04      86236     197621   \n",
              "\n",
              "   ratings_3  ratings_4  ratings_5  \\\n",
              "0     560092    1481305    2706317   \n",
              "1     455024    1156318    3011543   \n",
              "2     793319     875073    1355439   \n",
              "3     446835    1001952    1714267   \n",
              "4     606158     936012     947718   \n",
              "\n",
              "                                               title  \n",
              "0            The Hunger Games (The Hunger Games, #1)  \n",
              "1  Harry Potter and the Sorcerer's Stone (Harry P...  \n",
              "2                            Twilight (Twilight, #1)  \n",
              "3                              To Kill a Mockingbird  \n",
              "4                                   The Great Gatsby  "
            ]
          },
          "execution_count": 11,
          "metadata": {},
          "output_type": "execute_result"
        }
      ],
      "source": [
        "goodreads_df.head()"
      ],
      "id": "30cd2faa"
    },
    {
      "cell_type": "code",
      "execution_count": null,
      "metadata": {
        "id": "7736ccae",
        "outputId": "92d1c7b2-c2f2-478a-a691-b5cab78730a0"
      },
      "outputs": [
        {
          "data": {
            "text/html": [
              "<div>\n",
              "<style scoped>\n",
              "    .dataframe tbody tr th:only-of-type {\n",
              "        vertical-align: middle;\n",
              "    }\n",
              "\n",
              "    .dataframe tbody tr th {\n",
              "        vertical-align: top;\n",
              "    }\n",
              "\n",
              "    .dataframe thead th {\n",
              "        text-align: right;\n",
              "    }\n",
              "</style>\n",
              "<table border=\"1\" class=\"dataframe\">\n",
              "  <thead>\n",
              "    <tr style=\"text-align: right;\">\n",
              "      <th></th>\n",
              "      <th>authors</th>\n",
              "      <th>average_rating</th>\n",
              "      <th>book_id</th>\n",
              "      <th>books_count</th>\n",
              "      <th>genres</th>\n",
              "      <th>goodreads_book_id</th>\n",
              "      <th>image_url</th>\n",
              "      <th>language_code</th>\n",
              "      <th>original_publication_year</th>\n",
              "      <th>pages</th>\n",
              "      <th>publishDate</th>\n",
              "      <th>ratings_1</th>\n",
              "      <th>ratings_2</th>\n",
              "      <th>ratings_3</th>\n",
              "      <th>ratings_4</th>\n",
              "      <th>ratings_5</th>\n",
              "      <th>title</th>\n",
              "    </tr>\n",
              "  </thead>\n",
              "  <tbody>\n",
              "    <tr>\n",
              "      <th>9959</th>\n",
              "      <td>[[Jeffery Deaver]]</td>\n",
              "      <td>3.98</td>\n",
              "      <td>9981</td>\n",
              "      <td>58</td>\n",
              "      <td>[mystery, thriller, fiction, crime, suspense, ...</td>\n",
              "      <td>106312</td>\n",
              "      <td>https://images.gr-assets.com/books/1328407138m...</td>\n",
              "      <td>eng</td>\n",
              "      <td>2005.0</td>\n",
              "      <td>816.0</td>\n",
              "      <td>('6', '7', '2005')</td>\n",
              "      <td>72</td>\n",
              "      <td>390</td>\n",
              "      <td>2874</td>\n",
              "      <td>5155</td>\n",
              "      <td>3643</td>\n",
              "      <td>The Twelfth Card (Lincoln Rhyme, #6)</td>\n",
              "    </tr>\n",
              "    <tr>\n",
              "      <th>9960</th>\n",
              "      <td>[[Karen Marie Moning]]</td>\n",
              "      <td>4.18</td>\n",
              "      <td>9982</td>\n",
              "      <td>1</td>\n",
              "      <td>[fantasy, paranormal, romance, fiction, myster...</td>\n",
              "      <td>12444298</td>\n",
              "      <td>https://images.gr-assets.com/books/1435195536m...</td>\n",
              "      <td>eng</td>\n",
              "      <td>2016.0</td>\n",
              "      <td>436.0</td>\n",
              "      <td>('1', '19', '2016')</td>\n",
              "      <td>179</td>\n",
              "      <td>521</td>\n",
              "      <td>2308</td>\n",
              "      <td>4779</td>\n",
              "      <td>6407</td>\n",
              "      <td>Feverborn (Fever, #8)</td>\n",
              "    </tr>\n",
              "    <tr>\n",
              "      <th>9961</th>\n",
              "      <td>[[Steve Perry, Tom Clancy, Steve Pieczenik]]</td>\n",
              "      <td>3.69</td>\n",
              "      <td>9985</td>\n",
              "      <td>24</td>\n",
              "      <td>[fiction, thriller, books, mystery, suspense, ...</td>\n",
              "      <td>19688</td>\n",
              "      <td>https://s.gr-assets.com/assets/nophoto/book/11...</td>\n",
              "      <td>eng</td>\n",
              "      <td>2000.0</td>\n",
              "      <td>368.0</td>\n",
              "      <td>('10', '1', '2000')</td>\n",
              "      <td>268</td>\n",
              "      <td>684</td>\n",
              "      <td>2349</td>\n",
              "      <td>2456</td>\n",
              "      <td>2068</td>\n",
              "      <td>Breaking Point (Tom Clancy's Net Force, #4)</td>\n",
              "    </tr>\n",
              "    <tr>\n",
              "      <th>9962</th>\n",
              "      <td>[[Iris Johansen]]</td>\n",
              "      <td>4.12</td>\n",
              "      <td>9987</td>\n",
              "      <td>29</td>\n",
              "      <td>[mystery, fiction, thriller, suspense, crime, ...</td>\n",
              "      <td>8087038</td>\n",
              "      <td>https://s.gr-assets.com/assets/nophoto/book/11...</td>\n",
              "      <td>eng</td>\n",
              "      <td>2010.0</td>\n",
              "      <td>362.0</td>\n",
              "      <td>('10', '19', '2010')</td>\n",
              "      <td>113</td>\n",
              "      <td>331</td>\n",
              "      <td>2127</td>\n",
              "      <td>3957</td>\n",
              "      <td>4436</td>\n",
              "      <td>Chasing The Night (Eve Duncan, #11; Catherine ...</td>\n",
              "    </tr>\n",
              "    <tr>\n",
              "      <th>9963</th>\n",
              "      <td>[[John Keegan]]</td>\n",
              "      <td>4.00</td>\n",
              "      <td>10000</td>\n",
              "      <td>31</td>\n",
              "      <td>[history, nonfiction, historical-fiction]</td>\n",
              "      <td>8914</td>\n",
              "      <td>https://images.gr-assets.com/books/1403194704m...</td>\n",
              "      <td>eng</td>\n",
              "      <td>1998.0</td>\n",
              "      <td>475.0</td>\n",
              "      <td>('5', '16', '2000')</td>\n",
              "      <td>117</td>\n",
              "      <td>345</td>\n",
              "      <td>2031</td>\n",
              "      <td>4138</td>\n",
              "      <td>3069</td>\n",
              "      <td>The First World War</td>\n",
              "    </tr>\n",
              "  </tbody>\n",
              "</table>\n",
              "</div>"
            ],
            "text/plain": [
              "                                           authors  average_rating  book_id  \\\n",
              "9959                            [[Jeffery Deaver]]            3.98     9981   \n",
              "9960                        [[Karen Marie Moning]]            4.18     9982   \n",
              "9961  [[Steve Perry, Tom Clancy, Steve Pieczenik]]            3.69     9985   \n",
              "9962                             [[Iris Johansen]]            4.12     9987   \n",
              "9963                               [[John Keegan]]            4.00    10000   \n",
              "\n",
              "      books_count                                             genres  \\\n",
              "9959           58  [mystery, thriller, fiction, crime, suspense, ...   \n",
              "9960            1  [fantasy, paranormal, romance, fiction, myster...   \n",
              "9961           24  [fiction, thriller, books, mystery, suspense, ...   \n",
              "9962           29  [mystery, fiction, thriller, suspense, crime, ...   \n",
              "9963           31          [history, nonfiction, historical-fiction]   \n",
              "\n",
              "      goodreads_book_id                                          image_url  \\\n",
              "9959             106312  https://images.gr-assets.com/books/1328407138m...   \n",
              "9960           12444298  https://images.gr-assets.com/books/1435195536m...   \n",
              "9961              19688  https://s.gr-assets.com/assets/nophoto/book/11...   \n",
              "9962            8087038  https://s.gr-assets.com/assets/nophoto/book/11...   \n",
              "9963               8914  https://images.gr-assets.com/books/1403194704m...   \n",
              "\n",
              "     language_code  original_publication_year  pages           publishDate  \\\n",
              "9959           eng                     2005.0  816.0    ('6', '7', '2005')   \n",
              "9960           eng                     2016.0  436.0   ('1', '19', '2016')   \n",
              "9961           eng                     2000.0  368.0   ('10', '1', '2000')   \n",
              "9962           eng                     2010.0  362.0  ('10', '19', '2010')   \n",
              "9963           eng                     1998.0  475.0   ('5', '16', '2000')   \n",
              "\n",
              "      ratings_1  ratings_2  ratings_3  ratings_4  ratings_5  \\\n",
              "9959         72        390       2874       5155       3643   \n",
              "9960        179        521       2308       4779       6407   \n",
              "9961        268        684       2349       2456       2068   \n",
              "9962        113        331       2127       3957       4436   \n",
              "9963        117        345       2031       4138       3069   \n",
              "\n",
              "                                                  title  \n",
              "9959               The Twelfth Card (Lincoln Rhyme, #6)  \n",
              "9960                              Feverborn (Fever, #8)  \n",
              "9961        Breaking Point (Tom Clancy's Net Force, #4)  \n",
              "9962  Chasing The Night (Eve Duncan, #11; Catherine ...  \n",
              "9963                                The First World War  "
            ]
          },
          "execution_count": 6,
          "metadata": {},
          "output_type": "execute_result"
        }
      ],
      "source": [
        "goodreads_df.tail()"
      ],
      "id": "7736ccae"
    },
    {
      "cell_type": "code",
      "execution_count": null,
      "metadata": {
        "id": "7d04631e"
      },
      "outputs": [],
      "source": [
        "goodreads_df['original_publication_year']=goodreads_df['original_publication_year'].astype(int)"
      ],
      "id": "7d04631e"
    },
    {
      "cell_type": "markdown",
      "metadata": {
        "id": "e85e7a70"
      },
      "source": [
        "# preprocessing of ratings-df "
      ],
      "id": "e85e7a70"
    },
    {
      "cell_type": "code",
      "execution_count": null,
      "metadata": {
        "id": "430c2ffd",
        "outputId": "04187731-fdae-40d0-a86b-ff56b6187085"
      },
      "outputs": [
        {
          "data": {
            "text/html": [
              "<div>\n",
              "<style scoped>\n",
              "    .dataframe tbody tr th:only-of-type {\n",
              "        vertical-align: middle;\n",
              "    }\n",
              "\n",
              "    .dataframe tbody tr th {\n",
              "        vertical-align: top;\n",
              "    }\n",
              "\n",
              "    .dataframe thead th {\n",
              "        text-align: right;\n",
              "    }\n",
              "</style>\n",
              "<table border=\"1\" class=\"dataframe\">\n",
              "  <thead>\n",
              "    <tr style=\"text-align: right;\">\n",
              "      <th></th>\n",
              "      <th>user_id</th>\n",
              "      <th>book_id</th>\n",
              "      <th>rating</th>\n",
              "    </tr>\n",
              "  </thead>\n",
              "  <tbody>\n",
              "    <tr>\n",
              "      <th>0</th>\n",
              "      <td>1</td>\n",
              "      <td>258</td>\n",
              "      <td>5</td>\n",
              "    </tr>\n",
              "    <tr>\n",
              "      <th>1</th>\n",
              "      <td>2</td>\n",
              "      <td>4081</td>\n",
              "      <td>4</td>\n",
              "    </tr>\n",
              "    <tr>\n",
              "      <th>2</th>\n",
              "      <td>2</td>\n",
              "      <td>260</td>\n",
              "      <td>5</td>\n",
              "    </tr>\n",
              "    <tr>\n",
              "      <th>3</th>\n",
              "      <td>2</td>\n",
              "      <td>9296</td>\n",
              "      <td>5</td>\n",
              "    </tr>\n",
              "    <tr>\n",
              "      <th>4</th>\n",
              "      <td>2</td>\n",
              "      <td>2318</td>\n",
              "      <td>3</td>\n",
              "    </tr>\n",
              "  </tbody>\n",
              "</table>\n",
              "</div>"
            ],
            "text/plain": [
              "   user_id  book_id  rating\n",
              "0        1      258       5\n",
              "1        2     4081       4\n",
              "2        2      260       5\n",
              "3        2     9296       5\n",
              "4        2     2318       3"
            ]
          },
          "execution_count": 12,
          "metadata": {},
          "output_type": "execute_result"
        }
      ],
      "source": [
        "ratings_df.head()"
      ],
      "id": "430c2ffd"
    },
    {
      "cell_type": "code",
      "execution_count": null,
      "metadata": {
        "id": "b4a55131"
      },
      "outputs": [],
      "source": [
        "usr_count=ratings_df['user_id'].value_counts(ascending=True)"
      ],
      "id": "b4a55131"
    },
    {
      "cell_type": "code",
      "execution_count": null,
      "metadata": {
        "id": "794a560c",
        "outputId": "75983cf5-3952-46fb-c3a9-a77c62e5aaf5"
      },
      "outputs": [
        {
          "data": {
            "text/plain": [
              "34590     19\n",
              "43675     20\n",
              "40753     21\n",
              "32128     21\n",
              "51725     21\n",
              "        ... \n",
              "12381    199\n",
              "28158    199\n",
              "52036    199\n",
              "12874    200\n",
              "30944    200\n",
              "Name: user_id, Length: 53424, dtype: int64"
            ]
          },
          "execution_count": 11,
          "metadata": {},
          "output_type": "execute_result"
        }
      ],
      "source": [
        "usr_count"
      ],
      "id": "794a560c"
    },
    {
      "cell_type": "code",
      "execution_count": null,
      "metadata": {
        "id": "0be6e185",
        "outputId": "b98332e3-8fd6-474f-bd73-4abe00144e76"
      },
      "outputs": [
        {
          "name": "stdout",
          "output_type": "stream",
          "text": [
            "53424\n"
          ]
        }
      ],
      "source": [
        "# Select a subset of users\n",
        "\n",
        "# set sample number\n",
        "sample_frac=0.1\n",
        "\n",
        "# sample from user IDs\n",
        "import numpy as np\n",
        "import math as math\n",
        "\n",
        "unique_users = ratings_df[\"user_id\"].nunique()\n",
        "print(unique_users)\n",
        "np.random.seed(123)"
      ],
      "id": "0be6e185"
    },
    {
      "cell_type": "code",
      "execution_count": null,
      "metadata": {
        "id": "817b685d",
        "outputId": "ed3c2171-4d27-4917-c095-2e19a997297d"
      },
      "outputs": [
        {
          "name": "stdout",
          "output_type": "stream",
          "text": [
            "[    1     2     4 ... 27329 33111 49802]\n",
            "[10650 35274 20568 ...  7542 31824 53117]\n",
            "         user_id  book_id  rating\n",
            "1              2     4081       4\n",
            "2              2      260       5\n",
            "3              2     9296       5\n",
            "4              2     2318       3\n",
            "5              2       26       4\n",
            "...          ...      ...     ...\n",
            "5976353    50480     1688       3\n",
            "5976354    50480     2216       4\n",
            "5976355    50480     1539       3\n",
            "5976356    50480     2772       4\n",
            "5976462    15292      854       4\n",
            "\n",
            "[597029 rows x 3 columns]\n"
          ]
        }
      ],
      "source": [
        "# Select a subset of users\n",
        "\n",
        "# set sample number\n",
        "sample_frac=0.1\n",
        "\n",
        "# sample from user IDs\n",
        "import numpy as np\n",
        "import math as math\n",
        "\n",
        "unique_users = ratings_df[\"user_id\"].unique()\n",
        "print(unique_users)\n",
        "np.random.seed(123)\n",
        "user_ids_sample = np.random.choice(unique_users, math.floor(sample_frac*len(unique_users)), replace=False)\n",
        "print(user_ids_sample)\n",
        "ratings_sampled = ratings_df[ratings_df[\"user_id\"].isin(user_ids_sample)]\n",
        "print(ratings_sampled)"
      ],
      "id": "817b685d"
    },
    {
      "cell_type": "code",
      "execution_count": null,
      "metadata": {
        "id": "027e38a3",
        "outputId": "3bf6209b-9a37-4a2f-fcf1-e1b265d2a8b6"
      },
      "outputs": [
        {
          "data": {
            "text/plain": [
              "user_id    5342\n",
              "book_id    9999\n",
              "rating        5\n",
              "dtype: int64"
            ]
          },
          "execution_count": 81,
          "metadata": {},
          "output_type": "execute_result"
        }
      ],
      "source": [
        "ratings_sampled.nunique()"
      ],
      "id": "027e38a3"
    },
    {
      "cell_type": "code",
      "execution_count": null,
      "metadata": {
        "id": "a0cb5177",
        "outputId": "b3153224-e261-4540-b36a-27f579fae1b7"
      },
      "outputs": [
        {
          "data": {
            "text/plain": [
              "10000"
            ]
          },
          "execution_count": 36,
          "metadata": {},
          "output_type": "execute_result"
        }
      ],
      "source": [
        "ratings_df['book_id'].nunique()\n",
        "#Unique no of books rated by users"
      ],
      "id": "a0cb5177"
    },
    {
      "cell_type": "code",
      "execution_count": null,
      "metadata": {
        "id": "006644c7",
        "outputId": "2c565b42-4cbc-4a77-d092-05ad183b9e1e"
      },
      "outputs": [
        {
          "data": {
            "text/plain": [
              "user_id  book_id  rating\n",
              "2        2        5         1\n",
              "36587    6469     5         1\n",
              "36575    8607     5         1\n",
              "         8727     5         1\n",
              "         9327     5         1\n",
              "                           ..\n",
              "20254    65       5         1\n",
              "         70       5         1\n",
              "         71       5         1\n",
              "         79       5         1\n",
              "53415    9472     5         1\n",
              "Length: 196584, dtype: int64"
            ]
          },
          "execution_count": 82,
          "metadata": {},
          "output_type": "execute_result"
        }
      ],
      "source": [
        "ratings_sampled[ratings_sampled['rating']==5].value_counts(ascending=False)"
      ],
      "id": "006644c7"
    },
    {
      "cell_type": "code",
      "execution_count": null,
      "metadata": {
        "id": "3b25ba29"
      },
      "outputs": [],
      "source": [
        "#ratings_sampled.groupby(['rating']).sum()"
      ],
      "id": "3b25ba29"
    },
    {
      "cell_type": "code",
      "execution_count": null,
      "metadata": {
        "id": "596a3676",
        "outputId": "4a402b18-7e55-4b5a-cd98-a9086138b2bb"
      },
      "outputs": [
        {
          "data": {
            "text/plain": [
              "5397793     True\n",
              "5397795     True\n",
              "5397796     True\n",
              "5397797     True\n",
              "5397799     True\n",
              "           ...  \n",
              "5828823    False\n",
              "5867508     True\n",
              "5902305     True\n",
              "5937391     True\n",
              "5937393     True\n",
              "Name: rating, Length: 92, dtype: bool"
            ]
          },
          "execution_count": 22,
          "metadata": {},
          "output_type": "execute_result"
        }
      ],
      "source": [
        "ratings_sampled[ratings_sampled['user_id']==53415]['rating']==5"
      ],
      "id": "596a3676"
    },
    {
      "cell_type": "code",
      "execution_count": null,
      "metadata": {
        "id": "a6f8f38f"
      },
      "outputs": [],
      "source": [
        "user_preference=ratings_sampled[ratings_sampled['user_id']==53415]"
      ],
      "id": "a6f8f38f"
    },
    {
      "cell_type": "code",
      "execution_count": null,
      "metadata": {
        "id": "1f1eca11",
        "outputId": "716fd74c-e361-4226-e2ed-70a4944acf53"
      },
      "outputs": [
        {
          "data": {
            "text/html": [
              "<div>\n",
              "<style scoped>\n",
              "    .dataframe tbody tr th:only-of-type {\n",
              "        vertical-align: middle;\n",
              "    }\n",
              "\n",
              "    .dataframe tbody tr th {\n",
              "        vertical-align: top;\n",
              "    }\n",
              "\n",
              "    .dataframe thead th {\n",
              "        text-align: right;\n",
              "    }\n",
              "</style>\n",
              "<table border=\"1\" class=\"dataframe\">\n",
              "  <thead>\n",
              "    <tr style=\"text-align: right;\">\n",
              "      <th></th>\n",
              "      <th>user_id</th>\n",
              "      <th>book_id</th>\n",
              "      <th>rating</th>\n",
              "    </tr>\n",
              "  </thead>\n",
              "  <tbody>\n",
              "    <tr>\n",
              "      <th>5397793</th>\n",
              "      <td>53415</td>\n",
              "      <td>76</td>\n",
              "      <td>5</td>\n",
              "    </tr>\n",
              "    <tr>\n",
              "      <th>5397795</th>\n",
              "      <td>53415</td>\n",
              "      <td>32</td>\n",
              "      <td>5</td>\n",
              "    </tr>\n",
              "    <tr>\n",
              "      <th>5397796</th>\n",
              "      <td>53415</td>\n",
              "      <td>402</td>\n",
              "      <td>5</td>\n",
              "    </tr>\n",
              "    <tr>\n",
              "      <th>5397797</th>\n",
              "      <td>53415</td>\n",
              "      <td>1088</td>\n",
              "      <td>5</td>\n",
              "    </tr>\n",
              "    <tr>\n",
              "      <th>5397799</th>\n",
              "      <td>53415</td>\n",
              "      <td>9472</td>\n",
              "      <td>5</td>\n",
              "    </tr>\n",
              "    <tr>\n",
              "      <th>...</th>\n",
              "      <td>...</td>\n",
              "      <td>...</td>\n",
              "      <td>...</td>\n",
              "    </tr>\n",
              "    <tr>\n",
              "      <th>5828823</th>\n",
              "      <td>53415</td>\n",
              "      <td>407</td>\n",
              "      <td>3</td>\n",
              "    </tr>\n",
              "    <tr>\n",
              "      <th>5867508</th>\n",
              "      <td>53415</td>\n",
              "      <td>2268</td>\n",
              "      <td>5</td>\n",
              "    </tr>\n",
              "    <tr>\n",
              "      <th>5902305</th>\n",
              "      <td>53415</td>\n",
              "      <td>6569</td>\n",
              "      <td>5</td>\n",
              "    </tr>\n",
              "    <tr>\n",
              "      <th>5937391</th>\n",
              "      <td>53415</td>\n",
              "      <td>7978</td>\n",
              "      <td>5</td>\n",
              "    </tr>\n",
              "    <tr>\n",
              "      <th>5937393</th>\n",
              "      <td>53415</td>\n",
              "      <td>9421</td>\n",
              "      <td>5</td>\n",
              "    </tr>\n",
              "  </tbody>\n",
              "</table>\n",
              "<p>92 rows × 3 columns</p>\n",
              "</div>"
            ],
            "text/plain": [
              "         user_id  book_id  rating\n",
              "5397793    53415       76       5\n",
              "5397795    53415       32       5\n",
              "5397796    53415      402       5\n",
              "5397797    53415     1088       5\n",
              "5397799    53415     9472       5\n",
              "...          ...      ...     ...\n",
              "5828823    53415      407       3\n",
              "5867508    53415     2268       5\n",
              "5902305    53415     6569       5\n",
              "5937391    53415     7978       5\n",
              "5937393    53415     9421       5\n",
              "\n",
              "[92 rows x 3 columns]"
            ]
          },
          "execution_count": 90,
          "metadata": {},
          "output_type": "execute_result"
        }
      ],
      "source": [
        "user_preference"
      ],
      "id": "1f1eca11"
    },
    {
      "cell_type": "code",
      "execution_count": null,
      "metadata": {
        "id": "127f1960"
      },
      "outputs": [],
      "source": [
        "user_fav_books=user_preference.loc[user_preference['rating'].isin([4,5]),'book_id']"
      ],
      "id": "127f1960"
    },
    {
      "cell_type": "code",
      "execution_count": null,
      "metadata": {
        "id": "e10f088d"
      },
      "outputs": [],
      "source": [
        "user_fav_genres=goodreads_df.loc[user_fav_books,'genres']"
      ],
      "id": "e10f088d"
    },
    {
      "cell_type": "code",
      "execution_count": null,
      "metadata": {
        "id": "d421b867"
      },
      "outputs": [],
      "source": [
        "genre_list=list(user_fav_genres)"
      ],
      "id": "d421b867"
    },
    {
      "cell_type": "code",
      "execution_count": null,
      "metadata": {
        "id": "4e750df0"
      },
      "outputs": [],
      "source": [
        "from collections import Counter"
      ],
      "id": "4e750df0"
    },
    {
      "cell_type": "code",
      "execution_count": null,
      "metadata": {
        "id": "29991ab7",
        "outputId": "e6c1c9db-11ab-400e-f9d8-9ee17d28004b"
      },
      "outputs": [
        {
          "name": "stdout",
          "output_type": "stream",
          "text": [
            "Original list [['classics', 'fiction', 'poetry', 'young-adult', 'fantasy'], ['fantasy', 'classics', 'fiction', 'young-adult', 'christian'], ['historical-fiction', 'fiction'], ['fiction', 'graphic-novels', 'young-adult', 'comics'], ['science', 'spirituality', 'philosophy', 'nonfiction', 'self-help', 'psychology', 'religion', 'history', 'business', 'christian'], ['science-fiction', 'fiction', 'fantasy', 'classics'], ['fiction', 'historical-fiction', 'mystery', 'romance', 'contemporary'], ['nonfiction', 'memoir', 'biography', 'travel', 'cookbooks'], ['fiction', 'mystery', 'thriller', 'crime', 'suspense'], ['nonfiction', 'business', 'science', 'psychology'], ['fantasy', 'classics', 'fiction', 'young-adult'], ['fiction', 'science-fiction', 'classics', 'horror', 'contemporary'], ['fiction', 'sports', 'contemporary'], ['horror', 'fantasy', 'fiction', 'paranormal'], ['young-adult', 'contemporary', 'fiction', 'romance', 'mystery'], ['fantasy', 'young-adult', 'paranormal', 'romance', 'fiction'], ['young-adult', 'romance', 'contemporary', 'chick-lit', 'fiction'], ['classics', 'fiction', 'science-fiction', 'historical-fiction', 'fantasy'], ['fantasy', 'young-adult', 'fiction', 'science-fiction'], ['young-adult', 'fiction', 'fantasy', 'science-fiction', 'romance'], ['classics', 'fiction', 'young-adult'], ['young-adult', 'fantasy', 'paranormal', 'romance', 'fiction'], ['fantasy', 'young-adult', 'fiction', 'classics'], ['nonfiction', 'memoir', 'biography', 'classics', 'history'], ['classics', 'fiction', 'romance', 'historical-fiction'], ['fiction', 'contemporary', 'chick-lit', 'young-adult'], ['classics', 'fiction', 'young-adult', 'historical-fiction'], ['nonfiction', 'business', 'psychology', 'science', 'self-help', 'philosophy'], ['fiction', 'historical-fiction', 'mystery', 'fantasy'], ['classics', 'fiction', 'historical-fiction', 'romance'], ['fiction', 'classics', 'historical-fiction', 'romance'], ['fiction', 'young-adult', 'classics'], ['young-adult', 'science-fiction', 'fiction', 'fantasy'], ['fantasy', 'young-adult', 'fiction', 'science-fiction'], ['art', 'history', 'nonfiction', 'classics', 'fiction', 'books'], ['young-adult', 'contemporary', 'romance', 'fiction'], ['nonfiction', 'paranormal', 'romance'], ['fantasy', 'young-adult', 'fiction'], ['fiction', 'classics', 'fantasy'], ['fiction', 'thriller', 'mystery', 'suspense', 'crime'], ['paranormal', 'romance', 'fantasy', 'fiction'], ['classics', 'mystery', 'fiction', 'horror', 'historical-fiction'], ['manga', 'fantasy', 'graphic-novels', 'romance', 'comics', 'young-adult', 'historical-fiction'], ['fantasy', 'young-adult', 'fiction', 'classics'], ['fantasy', 'fiction'], ['thriller', 'fiction', 'mystery', 'crime', 'suspense'], ['nonfiction', 'history', 'memoir', 'biography'], ['classics', 'philosophy', 'science-fiction', 'fiction'], ['nonfiction', 'graphic-novels', 'memoir', 'comics', 'biography'], ['classics', 'fiction', 'historical-fiction'], ['fiction', 'classics', 'romance'], ['science-fiction', 'fiction', 'thriller'], ['classics', 'fiction', 'poetry'], ['fiction', 'thriller', 'mystery', 'suspense', 'historical-fiction'], ['fiction', 'contemporary', 'chick-lit'], ['history', 'nonfiction', 'biography'], ['fantasy', 'fiction'], ['nonfiction', 'history', 'memoir', 'classics', 'biography'], ['classics', 'fiction', 'fantasy', 'horror', 'paranormal'], ['classics', 'science-fiction', 'fiction', 'fantasy'], ['fiction', 'historical-fiction', 'contemporary'], ['classics', 'fiction'], ['fiction', 'historical-fiction', 'contemporary', 'classics'], ['young-adult', 'fiction', 'contemporary', 'romance', 'classics'], ['fiction', 'contemporary', 'crime'], ['mystery', 'fiction', 'chick-lit', 'romance', 'crime'], ['romance', 'contemporary', 'young-adult', 'fiction', 'chick-lit'], ['fantasy', 'fiction'], ['fantasy', 'young-adult', 'mystery', 'fiction', 'paranormal'], ['horror', 'fiction', 'thriller', 'mystery', 'suspense', 'paranormal'], ['fantasy', 'young-adult', 'fiction'], ['biography', 'nonfiction', 'history', 'memoir'], ['fiction', 'christian', 'contemporary', 'romance'], ['science-fiction', 'fiction', 'classics', 'fantasy'], ['fiction', 'contemporary', 'romance']]\n",
            "Transformed list ['classics', 'fiction', 'poetry', 'young-adult', 'fantasy', 'fantasy', 'classics', 'fiction', 'young-adult', 'christian', 'historical-fiction', 'fiction', 'fiction', 'graphic-novels', 'young-adult', 'comics', 'science', 'spirituality', 'philosophy', 'nonfiction', 'self-help', 'psychology', 'religion', 'history', 'business', 'christian', 'science-fiction', 'fiction', 'fantasy', 'classics', 'fiction', 'historical-fiction', 'mystery', 'romance', 'contemporary', 'nonfiction', 'memoir', 'biography', 'travel', 'cookbooks', 'fiction', 'mystery', 'thriller', 'crime', 'suspense', 'nonfiction', 'business', 'science', 'psychology', 'fantasy', 'classics', 'fiction', 'young-adult', 'fiction', 'science-fiction', 'classics', 'horror', 'contemporary', 'fiction', 'sports', 'contemporary', 'horror', 'fantasy', 'fiction', 'paranormal', 'young-adult', 'contemporary', 'fiction', 'romance', 'mystery', 'fantasy', 'young-adult', 'paranormal', 'romance', 'fiction', 'young-adult', 'romance', 'contemporary', 'chick-lit', 'fiction', 'classics', 'fiction', 'science-fiction', 'historical-fiction', 'fantasy', 'fantasy', 'young-adult', 'fiction', 'science-fiction', 'young-adult', 'fiction', 'fantasy', 'science-fiction', 'romance', 'classics', 'fiction', 'young-adult', 'young-adult', 'fantasy', 'paranormal', 'romance', 'fiction', 'fantasy', 'young-adult', 'fiction', 'classics', 'nonfiction', 'memoir', 'biography', 'classics', 'history', 'classics', 'fiction', 'romance', 'historical-fiction', 'fiction', 'contemporary', 'chick-lit', 'young-adult', 'classics', 'fiction', 'young-adult', 'historical-fiction', 'nonfiction', 'business', 'psychology', 'science', 'self-help', 'philosophy', 'fiction', 'historical-fiction', 'mystery', 'fantasy', 'classics', 'fiction', 'historical-fiction', 'romance', 'fiction', 'classics', 'historical-fiction', 'romance', 'fiction', 'young-adult', 'classics', 'young-adult', 'science-fiction', 'fiction', 'fantasy', 'fantasy', 'young-adult', 'fiction', 'science-fiction', 'art', 'history', 'nonfiction', 'classics', 'fiction', 'books', 'young-adult', 'contemporary', 'romance', 'fiction', 'nonfiction', 'paranormal', 'romance', 'fantasy', 'young-adult', 'fiction', 'fiction', 'classics', 'fantasy', 'fiction', 'thriller', 'mystery', 'suspense', 'crime', 'paranormal', 'romance', 'fantasy', 'fiction', 'classics', 'mystery', 'fiction', 'horror', 'historical-fiction', 'manga', 'fantasy', 'graphic-novels', 'romance', 'comics', 'young-adult', 'historical-fiction', 'fantasy', 'young-adult', 'fiction', 'classics', 'fantasy', 'fiction', 'thriller', 'fiction', 'mystery', 'crime', 'suspense', 'nonfiction', 'history', 'memoir', 'biography', 'classics', 'philosophy', 'science-fiction', 'fiction', 'nonfiction', 'graphic-novels', 'memoir', 'comics', 'biography', 'classics', 'fiction', 'historical-fiction', 'fiction', 'classics', 'romance', 'science-fiction', 'fiction', 'thriller', 'classics', 'fiction', 'poetry', 'fiction', 'thriller', 'mystery', 'suspense', 'historical-fiction', 'fiction', 'contemporary', 'chick-lit', 'history', 'nonfiction', 'biography', 'fantasy', 'fiction', 'nonfiction', 'history', 'memoir', 'classics', 'biography', 'classics', 'fiction', 'fantasy', 'horror', 'paranormal', 'classics', 'science-fiction', 'fiction', 'fantasy', 'fiction', 'historical-fiction', 'contemporary', 'classics', 'fiction', 'fiction', 'historical-fiction', 'contemporary', 'classics', 'young-adult', 'fiction', 'contemporary', 'romance', 'classics', 'fiction', 'contemporary', 'crime', 'mystery', 'fiction', 'chick-lit', 'romance', 'crime', 'romance', 'contemporary', 'young-adult', 'fiction', 'chick-lit', 'fantasy', 'fiction', 'fantasy', 'young-adult', 'mystery', 'fiction', 'paranormal', 'horror', 'fiction', 'thriller', 'mystery', 'suspense', 'paranormal', 'fantasy', 'young-adult', 'fiction', 'biography', 'nonfiction', 'history', 'memoir', 'fiction', 'christian', 'contemporary', 'romance', 'science-fiction', 'fiction', 'classics', 'fantasy', 'fiction', 'contemporary', 'romance']\n"
          ]
        }
      ],
      "source": [
        "flat_list = [item for sublist in genre_list for item in sublist]\n",
        "print('Original list', genre_list)\n",
        "print('Transformed list', flat_list)"
      ],
      "id": "29991ab7"
    },
    {
      "cell_type": "code",
      "execution_count": null,
      "metadata": {
        "id": "e7542fd6"
      },
      "outputs": [],
      "source": [
        "count_genres=Counter(flat_list)"
      ],
      "id": "e7542fd6"
    },
    {
      "cell_type": "code",
      "execution_count": null,
      "metadata": {
        "id": "a66a166b",
        "outputId": "d36bff89-098f-4859-b669-6563498ddc55"
      },
      "outputs": [
        {
          "data": {
            "text/plain": [
              "Counter({'classics': 29,\n",
              "         'fiction': 63,\n",
              "         'poetry': 2,\n",
              "         'young-adult': 25,\n",
              "         'fantasy': 27,\n",
              "         'christian': 3,\n",
              "         'historical-fiction': 14,\n",
              "         'graphic-novels': 3,\n",
              "         'comics': 3,\n",
              "         'science': 3,\n",
              "         'spirituality': 1,\n",
              "         'philosophy': 3,\n",
              "         'nonfiction': 12,\n",
              "         'self-help': 2,\n",
              "         'psychology': 3,\n",
              "         'religion': 1,\n",
              "         'history': 7,\n",
              "         'business': 3,\n",
              "         'science-fiction': 11,\n",
              "         'mystery': 11,\n",
              "         'romance': 19,\n",
              "         'contemporary': 15,\n",
              "         'memoir': 6,\n",
              "         'biography': 7,\n",
              "         'travel': 1,\n",
              "         'cookbooks': 1,\n",
              "         'thriller': 6,\n",
              "         'crime': 5,\n",
              "         'suspense': 5,\n",
              "         'horror': 5,\n",
              "         'sports': 1,\n",
              "         'paranormal': 8,\n",
              "         'chick-lit': 5,\n",
              "         'art': 1,\n",
              "         'books': 1,\n",
              "         'manga': 1})"
            ]
          },
          "execution_count": 109,
          "metadata": {},
          "output_type": "execute_result"
        }
      ],
      "source": [
        "count_genres"
      ],
      "id": "a66a166b"
    },
    {
      "cell_type": "markdown",
      "metadata": {
        "id": "ac3775f6"
      },
      "source": [
        "top 3 genres of user  53415 is fiction,classics,fantasy "
      ],
      "id": "ac3775f6"
    },
    {
      "cell_type": "code",
      "execution_count": null,
      "metadata": {
        "id": "ee026bf5"
      },
      "outputs": [],
      "source": [
        "#remove books he has rated and consider other books with three genres "
      ],
      "id": "ee026bf5"
    },
    {
      "cell_type": "code",
      "execution_count": null,
      "metadata": {
        "id": "75276110"
      },
      "outputs": [],
      "source": [
        "uncommon_books=goodreads_df.copy()"
      ],
      "id": "75276110"
    },
    {
      "cell_type": "code",
      "execution_count": null,
      "metadata": {
        "id": "5e5e25d5"
      },
      "outputs": [],
      "source": [
        "compared_column=np.where(user_preference['book_id'].isin(goodreads_df['book_id']),True,False)"
      ],
      "id": "5e5e25d5"
    },
    {
      "cell_type": "code",
      "execution_count": null,
      "metadata": {
        "id": "4af4202a",
        "outputId": "f0167901-3d91-46ed-f673-ed3dda24db48"
      },
      "outputs": [
        {
          "data": {
            "text/plain": [
              "array([ True,  True,  True,  True,  True,  True,  True,  True,  True,\n",
              "        True,  True,  True,  True,  True,  True,  True,  True,  True,\n",
              "        True,  True,  True,  True,  True,  True,  True,  True,  True,\n",
              "        True,  True,  True,  True,  True,  True,  True,  True,  True,\n",
              "        True,  True,  True,  True,  True,  True,  True,  True,  True,\n",
              "        True,  True,  True,  True,  True,  True,  True,  True,  True,\n",
              "        True,  True,  True,  True,  True,  True,  True,  True,  True,\n",
              "        True,  True,  True,  True,  True,  True,  True,  True,  True,\n",
              "        True,  True,  True,  True,  True,  True,  True,  True,  True,\n",
              "        True,  True,  True,  True,  True,  True,  True,  True,  True,\n",
              "        True,  True])"
            ]
          },
          "execution_count": 142,
          "metadata": {},
          "output_type": "execute_result"
        }
      ],
      "source": [
        "compared_column"
      ],
      "id": "4af4202a"
    },
    {
      "cell_type": "code",
      "execution_count": null,
      "metadata": {
        "id": "4565ede1"
      },
      "outputs": [],
      "source": [
        "uncommon_books[\"equal_book_id\"]=compared_column"
      ],
      "id": "4565ede1"
    },
    {
      "cell_type": "code",
      "execution_count": null,
      "metadata": {
        "id": "7f5ab3d9",
        "outputId": "e715bfb8-8c35-49d6-b147-d746edac080c"
      },
      "outputs": [
        {
          "data": {
            "text/plain": [
              "Series([], Name: book_id, dtype: int64)"
            ]
          },
          "execution_count": 131,
          "metadata": {},
          "output_type": "execute_result"
        }
      ],
      "source": [
        "uncommon_books[uncommon_books['equal_book_id']==False]['book_id']"
      ],
      "id": "7f5ab3d9"
    },
    {
      "cell_type": "code",
      "execution_count": null,
      "metadata": {
        "id": "bba27f31"
      },
      "outputs": [],
      "source": [
        "for row in ratings_df.itertuples():\n",
        "    item_id=row.book_id\n",
        "    \n",
        "    user_id.extend(row.user_id)\n",
        "    for i in user_id:\n",
        "        if ()\n",
        "    rating=row.rating\n",
        "    "
      ],
      "id": "bba27f31"
    },
    {
      "cell_type": "markdown",
      "metadata": {
        "id": "3ed1fc29"
      },
      "source": [
        "### ITEM-KNN CBF ###"
      ],
      "id": "3ed1fc29"
    },
    {
      "cell_type": "code",
      "execution_count": null,
      "metadata": {
        "id": "f41ff983"
      },
      "outputs": [],
      "source": [
        "df_book_titles = goodreads_df.filter(['book_id','title'])"
      ],
      "id": "f41ff983"
    },
    {
      "cell_type": "code",
      "execution_count": null,
      "metadata": {
        "id": "93bc8870",
        "outputId": "c9706479-3fe1-4c11-96c6-d03118f5fa70"
      },
      "outputs": [
        {
          "data": {
            "text/html": [
              "<div>\n",
              "<style scoped>\n",
              "    .dataframe tbody tr th:only-of-type {\n",
              "        vertical-align: middle;\n",
              "    }\n",
              "\n",
              "    .dataframe tbody tr th {\n",
              "        vertical-align: top;\n",
              "    }\n",
              "\n",
              "    .dataframe thead th {\n",
              "        text-align: right;\n",
              "    }\n",
              "</style>\n",
              "<table border=\"1\" class=\"dataframe\">\n",
              "  <thead>\n",
              "    <tr style=\"text-align: right;\">\n",
              "      <th></th>\n",
              "      <th>book_id</th>\n",
              "      <th>title</th>\n",
              "    </tr>\n",
              "  </thead>\n",
              "  <tbody>\n",
              "    <tr>\n",
              "      <th>0</th>\n",
              "      <td>1</td>\n",
              "      <td>The Hunger Games (The Hunger Games, #1)</td>\n",
              "    </tr>\n",
              "    <tr>\n",
              "      <th>1</th>\n",
              "      <td>2</td>\n",
              "      <td>Harry Potter and the Sorcerer's Stone (Harry P...</td>\n",
              "    </tr>\n",
              "    <tr>\n",
              "      <th>2</th>\n",
              "      <td>3</td>\n",
              "      <td>Twilight (Twilight, #1)</td>\n",
              "    </tr>\n",
              "    <tr>\n",
              "      <th>3</th>\n",
              "      <td>4</td>\n",
              "      <td>To Kill a Mockingbird</td>\n",
              "    </tr>\n",
              "    <tr>\n",
              "      <th>4</th>\n",
              "      <td>5</td>\n",
              "      <td>The Great Gatsby</td>\n",
              "    </tr>\n",
              "  </tbody>\n",
              "</table>\n",
              "</div>"
            ],
            "text/plain": [
              "   book_id                                              title\n",
              "0        1            The Hunger Games (The Hunger Games, #1)\n",
              "1        2  Harry Potter and the Sorcerer's Stone (Harry P...\n",
              "2        3                            Twilight (Twilight, #1)\n",
              "3        4                              To Kill a Mockingbird\n",
              "4        5                                   The Great Gatsby"
            ]
          },
          "execution_count": 29,
          "metadata": {},
          "output_type": "execute_result"
        }
      ],
      "source": [
        "df_book_titles.head()\n"
      ],
      "id": "93bc8870"
    },
    {
      "cell_type": "code",
      "execution_count": null,
      "metadata": {
        "id": "1ff3bad1",
        "outputId": "9f5dac22-080f-4ec9-ac78-4e64c2de1b02"
      },
      "outputs": [
        {
          "data": {
            "text/plain": [
              "book_id    9964\n",
              "title      9964\n",
              "dtype: int64"
            ]
          },
          "execution_count": 30,
          "metadata": {},
          "output_type": "execute_result"
        }
      ],
      "source": [
        "df_book_titles.isna().count()"
      ],
      "id": "1ff3bad1"
    },
    {
      "cell_type": "code",
      "execution_count": null,
      "metadata": {
        "id": "2f329812",
        "outputId": "53c1b8f3-563e-42c2-bf54-b04efd7ca070"
      },
      "outputs": [
        {
          "data": {
            "text/plain": [
              "10000"
            ]
          },
          "execution_count": 31,
          "metadata": {},
          "output_type": "execute_result"
        }
      ],
      "source": [
        "len(ratings_df['book_id'].unique())"
      ],
      "id": "2f329812"
    },
    {
      "cell_type": "code",
      "execution_count": null,
      "metadata": {
        "id": "4627be19",
        "outputId": "02a8f7ec-f7ad-4c24-d983-fb1375b5a157"
      },
      "outputs": [
        {
          "data": {
            "text/plain": [
              "array([ 258, 4081,  260, ..., 9580, 8892, 9548], dtype=int64)"
            ]
          },
          "execution_count": 32,
          "metadata": {},
          "output_type": "execute_result"
        }
      ],
      "source": [
        "ratings_df['book_id'].unique()"
      ],
      "id": "4627be19"
    },
    {
      "cell_type": "code",
      "execution_count": null,
      "metadata": {
        "id": "877bd993"
      },
      "outputs": [],
      "source": [
        "df_books = pd.DataFrame(ratings_df['book_id'].unique())"
      ],
      "id": "877bd993"
    },
    {
      "cell_type": "code",
      "execution_count": null,
      "metadata": {
        "id": "5af2fa7b"
      },
      "outputs": [],
      "source": [
        "df_books.rename(columns={0:'book_id'},inplace=True)"
      ],
      "id": "5af2fa7b"
    },
    {
      "cell_type": "code",
      "execution_count": null,
      "metadata": {
        "id": "33afa162",
        "outputId": "cf125da7-b364-4c15-e014-0c7c871014a0"
      },
      "outputs": [
        {
          "data": {
            "text/plain": [
              "True     9964\n",
              "False      36\n",
              "Name: book_id, dtype: int64"
            ]
          },
          "execution_count": 35,
          "metadata": {},
          "output_type": "execute_result"
        }
      ],
      "source": [
        "df_books['book_id'].isin(df_book_titles['book_id']).value_counts()"
      ],
      "id": "33afa162"
    },
    {
      "cell_type": "code",
      "execution_count": null,
      "metadata": {
        "id": "a163b56f",
        "outputId": "fd0db03c-b74c-4377-8de4-de00cebea37c"
      },
      "outputs": [
        {
          "data": {
            "text/plain": [
              "False    9964\n",
              "dtype: int64"
            ]
          },
          "execution_count": 36,
          "metadata": {},
          "output_type": "execute_result"
        }
      ],
      "source": [
        "df_book_titles.duplicated(subset=['book_id']).value_counts()"
      ],
      "id": "a163b56f"
    },
    {
      "cell_type": "code",
      "execution_count": null,
      "metadata": {
        "id": "709f6dd7"
      },
      "outputs": [],
      "source": [
        "remain_books=pd.concat([df_books['book_id'],df_book_titles['book_id']]).drop_duplicates(keep=False)"
      ],
      "id": "709f6dd7"
    },
    {
      "cell_type": "code",
      "execution_count": null,
      "metadata": {
        "id": "f2407ff4",
        "outputId": "eaa1e191-708b-454b-d153-a4b1746f9fea",
        "scrolled": true
      },
      "outputs": [
        {
          "data": {
            "text/plain": [
              "426     7462\n",
              "1155    4271\n",
              "1533    7003\n",
              "1698    4939\n",
              "1915    6481\n",
              "2203    6648\n",
              "2378    5617\n",
              "2598    8221\n",
              "2641    8168\n",
              "2670    3802\n",
              "2683    7684\n",
              "2684    7025\n",
              "3785    9813\n",
              "3878    8899\n",
              "3882    9784\n",
              "4305    5480\n",
              "4646    4375\n",
              "4764    9297\n",
              "4773    5268\n",
              "5266    7023\n",
              "5312    7761\n",
              "5432    8969\n",
              "5464    9112\n",
              "5539    6662\n",
              "5820    3912\n",
              "6325    1292\n",
              "6461    7449\n",
              "7111    7645\n",
              "7658    5832\n",
              "7782    4812\n",
              "8048    9120\n",
              "8138    5787\n",
              "9288    5174\n",
              "9294    4212\n",
              "9619    8744\n",
              "9631    2401\n",
              "Name: book_id, dtype: int64"
            ]
          },
          "execution_count": 38,
          "metadata": {},
          "output_type": "execute_result"
        }
      ],
      "source": [
        "remain_books"
      ],
      "id": "f2407ff4"
    },
    {
      "cell_type": "code",
      "execution_count": null,
      "metadata": {
        "id": "6d0ddcf0"
      },
      "outputs": [],
      "source": [
        "ratings_df_cpy=ratings_df.copy()"
      ],
      "id": "6d0ddcf0"
    },
    {
      "cell_type": "code",
      "execution_count": null,
      "metadata": {
        "id": "26cc667a"
      },
      "outputs": [],
      "source": [
        "ratings_df_cpy = ratings_df_cpy[~ratings_df_cpy.book_id.isin(remain_books)]"
      ],
      "id": "26cc667a"
    },
    {
      "cell_type": "code",
      "execution_count": null,
      "metadata": {
        "id": "dd49eb11",
        "outputId": "d0e0c19e-9fc8-410e-a73f-b570a9791c6f"
      },
      "outputs": [
        {
          "data": {
            "text/plain": [
              "(5968218, 3)"
            ]
          },
          "execution_count": 41,
          "metadata": {},
          "output_type": "execute_result"
        }
      ],
      "source": [
        "ratings_df_cpy.shape"
      ],
      "id": "dd49eb11"
    },
    {
      "cell_type": "code",
      "execution_count": null,
      "metadata": {
        "id": "3e9342fb",
        "outputId": "83841152-b2e8-4e85-ca2e-dd55879c372b"
      },
      "outputs": [
        {
          "data": {
            "text/plain": [
              "(5976479, 3)"
            ]
          },
          "execution_count": 42,
          "metadata": {},
          "output_type": "execute_result"
        }
      ],
      "source": [
        "ratings_df.shape"
      ],
      "id": "3e9342fb"
    },
    {
      "cell_type": "code",
      "execution_count": null,
      "metadata": {
        "id": "364c88cc",
        "outputId": "9cf2b3f8-9601-4e26-fe48-4052c946e0f2"
      },
      "outputs": [
        {
          "data": {
            "text/plain": [
              "9964"
            ]
          },
          "execution_count": 43,
          "metadata": {},
          "output_type": "execute_result"
        }
      ],
      "source": [
        "ratings_df_cpy['book_id'].nunique()"
      ],
      "id": "364c88cc"
    },
    {
      "cell_type": "code",
      "execution_count": null,
      "metadata": {
        "id": "82c4bca9",
        "outputId": "ddbe66f7-46d4-4fd1-b156-1d0ff37195fa"
      },
      "outputs": [
        {
          "data": {
            "text/html": [
              "<div>\n",
              "<style scoped>\n",
              "    .dataframe tbody tr th:only-of-type {\n",
              "        vertical-align: middle;\n",
              "    }\n",
              "\n",
              "    .dataframe tbody tr th {\n",
              "        vertical-align: top;\n",
              "    }\n",
              "\n",
              "    .dataframe thead th {\n",
              "        text-align: right;\n",
              "    }\n",
              "</style>\n",
              "<table border=\"1\" class=\"dataframe\">\n",
              "  <thead>\n",
              "    <tr style=\"text-align: right;\">\n",
              "      <th></th>\n",
              "      <th>title</th>\n",
              "    </tr>\n",
              "    <tr>\n",
              "      <th>book_id</th>\n",
              "      <th></th>\n",
              "    </tr>\n",
              "  </thead>\n",
              "  <tbody>\n",
              "    <tr>\n",
              "      <th>1</th>\n",
              "      <td>The Hunger Games (The Hunger Games, #1)</td>\n",
              "    </tr>\n",
              "    <tr>\n",
              "      <th>2</th>\n",
              "      <td>Harry Potter and the Sorcerer's Stone (Harry P...</td>\n",
              "    </tr>\n",
              "    <tr>\n",
              "      <th>3</th>\n",
              "      <td>Twilight (Twilight, #1)</td>\n",
              "    </tr>\n",
              "    <tr>\n",
              "      <th>4</th>\n",
              "      <td>To Kill a Mockingbird</td>\n",
              "    </tr>\n",
              "    <tr>\n",
              "      <th>5</th>\n",
              "      <td>The Great Gatsby</td>\n",
              "    </tr>\n",
              "    <tr>\n",
              "      <th>...</th>\n",
              "      <td>...</td>\n",
              "    </tr>\n",
              "    <tr>\n",
              "      <th>9996</th>\n",
              "      <td>Bayou Moon (The Edge, #2)</td>\n",
              "    </tr>\n",
              "    <tr>\n",
              "      <th>9997</th>\n",
              "      <td>Means of Ascent (The Years of Lyndon Johnson, #2)</td>\n",
              "    </tr>\n",
              "    <tr>\n",
              "      <th>9998</th>\n",
              "      <td>The Mauritius Command</td>\n",
              "    </tr>\n",
              "    <tr>\n",
              "      <th>9999</th>\n",
              "      <td>Cinderella Ate My Daughter: Dispatches from th...</td>\n",
              "    </tr>\n",
              "    <tr>\n",
              "      <th>10000</th>\n",
              "      <td>The First World War</td>\n",
              "    </tr>\n",
              "  </tbody>\n",
              "</table>\n",
              "<p>9964 rows × 1 columns</p>\n",
              "</div>"
            ],
            "text/plain": [
              "                                                     title\n",
              "book_id                                                   \n",
              "1                  The Hunger Games (The Hunger Games, #1)\n",
              "2        Harry Potter and the Sorcerer's Stone (Harry P...\n",
              "3                                  Twilight (Twilight, #1)\n",
              "4                                    To Kill a Mockingbird\n",
              "5                                         The Great Gatsby\n",
              "...                                                    ...\n",
              "9996                             Bayou Moon (The Edge, #2)\n",
              "9997     Means of Ascent (The Years of Lyndon Johnson, #2)\n",
              "9998                                 The Mauritius Command\n",
              "9999     Cinderella Ate My Daughter: Dispatches from th...\n",
              "10000                                  The First World War\n",
              "\n",
              "[9964 rows x 1 columns]"
            ]
          },
          "execution_count": 50,
          "metadata": {},
          "output_type": "execute_result"
        }
      ],
      "source": [
        "df_book_titles.set_index('book_id').loc[df_book_features.index]"
      ],
      "id": "82c4bca9"
    },
    {
      "cell_type": "markdown",
      "metadata": {
        "id": "ba6d2178"
      },
      "source": [
        "##Fuzzy matching is done using Levenstein distance .\n",
        "The Levenshtein distance is a number that tells you how different two strings are. The higher the number, the more different the two strings are.\n",
        "\n",
        "For example, the Levenshtein distance between “kitten” and “sitting” is 3 since, at a minimum, 3 edits are required to change one into the other."
      ],
      "id": "ba6d2178"
    },
    {
      "cell_type": "code",
      "execution_count": null,
      "metadata": {
        "id": "afe627d5"
      },
      "outputs": [],
      "source": [
        "from scipy.sparse import csr_matrix\n",
        "# pivot ratings into movie features\n",
        "df_book_features = ratings_df_cpy.pivot(\n",
        "    index='book_id',\n",
        "    columns='user_id',\n",
        "    values='rating'\n",
        ")"
      ],
      "id": "afe627d5"
    },
    {
      "cell_type": "code",
      "execution_count": null,
      "metadata": {
        "id": "8f38d6a6"
      },
      "outputs": [],
      "source": [
        "df_book_features=df_book_features.fillna(0)"
      ],
      "id": "8f38d6a6"
    },
    {
      "cell_type": "code",
      "execution_count": null,
      "metadata": {
        "id": "608a7660",
        "outputId": "79e9d8dd-2928-4392-9a03-8faa8e9b114f"
      },
      "outputs": [
        {
          "data": {
            "text/html": [
              "<div>\n",
              "<style scoped>\n",
              "    .dataframe tbody tr th:only-of-type {\n",
              "        vertical-align: middle;\n",
              "    }\n",
              "\n",
              "    .dataframe tbody tr th {\n",
              "        vertical-align: top;\n",
              "    }\n",
              "\n",
              "    .dataframe thead th {\n",
              "        text-align: right;\n",
              "    }\n",
              "</style>\n",
              "<table border=\"1\" class=\"dataframe\">\n",
              "  <thead>\n",
              "    <tr style=\"text-align: right;\">\n",
              "      <th>user_id</th>\n",
              "      <th>1</th>\n",
              "      <th>2</th>\n",
              "      <th>3</th>\n",
              "      <th>4</th>\n",
              "      <th>5</th>\n",
              "      <th>6</th>\n",
              "      <th>7</th>\n",
              "      <th>8</th>\n",
              "      <th>9</th>\n",
              "      <th>10</th>\n",
              "      <th>...</th>\n",
              "      <th>53415</th>\n",
              "      <th>53416</th>\n",
              "      <th>53417</th>\n",
              "      <th>53418</th>\n",
              "      <th>53419</th>\n",
              "      <th>53420</th>\n",
              "      <th>53421</th>\n",
              "      <th>53422</th>\n",
              "      <th>53423</th>\n",
              "      <th>53424</th>\n",
              "    </tr>\n",
              "    <tr>\n",
              "      <th>book_id</th>\n",
              "      <th></th>\n",
              "      <th></th>\n",
              "      <th></th>\n",
              "      <th></th>\n",
              "      <th></th>\n",
              "      <th></th>\n",
              "      <th></th>\n",
              "      <th></th>\n",
              "      <th></th>\n",
              "      <th></th>\n",
              "      <th></th>\n",
              "      <th></th>\n",
              "      <th></th>\n",
              "      <th></th>\n",
              "      <th></th>\n",
              "      <th></th>\n",
              "      <th></th>\n",
              "      <th></th>\n",
              "      <th></th>\n",
              "      <th></th>\n",
              "      <th></th>\n",
              "    </tr>\n",
              "  </thead>\n",
              "  <tbody>\n",
              "    <tr>\n",
              "      <th>1</th>\n",
              "      <td>0.0</td>\n",
              "      <td>0.0</td>\n",
              "      <td>0.0</td>\n",
              "      <td>0.0</td>\n",
              "      <td>0.0</td>\n",
              "      <td>0.0</td>\n",
              "      <td>0.0</td>\n",
              "      <td>0.0</td>\n",
              "      <td>4.0</td>\n",
              "      <td>0.0</td>\n",
              "      <td>...</td>\n",
              "      <td>0.0</td>\n",
              "      <td>0.0</td>\n",
              "      <td>4.0</td>\n",
              "      <td>5.0</td>\n",
              "      <td>4.0</td>\n",
              "      <td>4.0</td>\n",
              "      <td>4.0</td>\n",
              "      <td>4.0</td>\n",
              "      <td>4.0</td>\n",
              "      <td>4.0</td>\n",
              "    </tr>\n",
              "    <tr>\n",
              "      <th>2</th>\n",
              "      <td>0.0</td>\n",
              "      <td>5.0</td>\n",
              "      <td>0.0</td>\n",
              "      <td>5.0</td>\n",
              "      <td>0.0</td>\n",
              "      <td>0.0</td>\n",
              "      <td>0.0</td>\n",
              "      <td>0.0</td>\n",
              "      <td>4.0</td>\n",
              "      <td>0.0</td>\n",
              "      <td>...</td>\n",
              "      <td>0.0</td>\n",
              "      <td>0.0</td>\n",
              "      <td>0.0</td>\n",
              "      <td>0.0</td>\n",
              "      <td>5.0</td>\n",
              "      <td>5.0</td>\n",
              "      <td>5.0</td>\n",
              "      <td>5.0</td>\n",
              "      <td>5.0</td>\n",
              "      <td>5.0</td>\n",
              "    </tr>\n",
              "    <tr>\n",
              "      <th>3</th>\n",
              "      <td>0.0</td>\n",
              "      <td>0.0</td>\n",
              "      <td>0.0</td>\n",
              "      <td>0.0</td>\n",
              "      <td>0.0</td>\n",
              "      <td>0.0</td>\n",
              "      <td>0.0</td>\n",
              "      <td>0.0</td>\n",
              "      <td>4.0</td>\n",
              "      <td>0.0</td>\n",
              "      <td>...</td>\n",
              "      <td>0.0</td>\n",
              "      <td>0.0</td>\n",
              "      <td>0.0</td>\n",
              "      <td>0.0</td>\n",
              "      <td>3.0</td>\n",
              "      <td>3.0</td>\n",
              "      <td>0.0</td>\n",
              "      <td>0.0</td>\n",
              "      <td>0.0</td>\n",
              "      <td>4.0</td>\n",
              "    </tr>\n",
              "    <tr>\n",
              "      <th>4</th>\n",
              "      <td>5.0</td>\n",
              "      <td>0.0</td>\n",
              "      <td>3.0</td>\n",
              "      <td>4.0</td>\n",
              "      <td>0.0</td>\n",
              "      <td>0.0</td>\n",
              "      <td>0.0</td>\n",
              "      <td>3.0</td>\n",
              "      <td>0.0</td>\n",
              "      <td>5.0</td>\n",
              "      <td>...</td>\n",
              "      <td>0.0</td>\n",
              "      <td>0.0</td>\n",
              "      <td>0.0</td>\n",
              "      <td>0.0</td>\n",
              "      <td>3.0</td>\n",
              "      <td>0.0</td>\n",
              "      <td>5.0</td>\n",
              "      <td>0.0</td>\n",
              "      <td>5.0</td>\n",
              "      <td>5.0</td>\n",
              "    </tr>\n",
              "    <tr>\n",
              "      <th>5</th>\n",
              "      <td>0.0</td>\n",
              "      <td>5.0</td>\n",
              "      <td>0.0</td>\n",
              "      <td>4.0</td>\n",
              "      <td>0.0</td>\n",
              "      <td>0.0</td>\n",
              "      <td>3.0</td>\n",
              "      <td>3.0</td>\n",
              "      <td>5.0</td>\n",
              "      <td>5.0</td>\n",
              "      <td>...</td>\n",
              "      <td>0.0</td>\n",
              "      <td>0.0</td>\n",
              "      <td>0.0</td>\n",
              "      <td>0.0</td>\n",
              "      <td>3.0</td>\n",
              "      <td>2.0</td>\n",
              "      <td>4.0</td>\n",
              "      <td>0.0</td>\n",
              "      <td>0.0</td>\n",
              "      <td>0.0</td>\n",
              "    </tr>\n",
              "    <tr>\n",
              "      <th>...</th>\n",
              "      <td>...</td>\n",
              "      <td>...</td>\n",
              "      <td>...</td>\n",
              "      <td>...</td>\n",
              "      <td>...</td>\n",
              "      <td>...</td>\n",
              "      <td>...</td>\n",
              "      <td>...</td>\n",
              "      <td>...</td>\n",
              "      <td>...</td>\n",
              "      <td>...</td>\n",
              "      <td>...</td>\n",
              "      <td>...</td>\n",
              "      <td>...</td>\n",
              "      <td>...</td>\n",
              "      <td>...</td>\n",
              "      <td>...</td>\n",
              "      <td>...</td>\n",
              "      <td>...</td>\n",
              "      <td>...</td>\n",
              "      <td>...</td>\n",
              "    </tr>\n",
              "    <tr>\n",
              "      <th>9996</th>\n",
              "      <td>0.0</td>\n",
              "      <td>0.0</td>\n",
              "      <td>0.0</td>\n",
              "      <td>0.0</td>\n",
              "      <td>0.0</td>\n",
              "      <td>0.0</td>\n",
              "      <td>0.0</td>\n",
              "      <td>0.0</td>\n",
              "      <td>0.0</td>\n",
              "      <td>0.0</td>\n",
              "      <td>...</td>\n",
              "      <td>0.0</td>\n",
              "      <td>0.0</td>\n",
              "      <td>0.0</td>\n",
              "      <td>0.0</td>\n",
              "      <td>0.0</td>\n",
              "      <td>0.0</td>\n",
              "      <td>0.0</td>\n",
              "      <td>0.0</td>\n",
              "      <td>0.0</td>\n",
              "      <td>0.0</td>\n",
              "    </tr>\n",
              "    <tr>\n",
              "      <th>9997</th>\n",
              "      <td>0.0</td>\n",
              "      <td>0.0</td>\n",
              "      <td>0.0</td>\n",
              "      <td>0.0</td>\n",
              "      <td>0.0</td>\n",
              "      <td>0.0</td>\n",
              "      <td>0.0</td>\n",
              "      <td>0.0</td>\n",
              "      <td>0.0</td>\n",
              "      <td>0.0</td>\n",
              "      <td>...</td>\n",
              "      <td>0.0</td>\n",
              "      <td>0.0</td>\n",
              "      <td>0.0</td>\n",
              "      <td>0.0</td>\n",
              "      <td>0.0</td>\n",
              "      <td>0.0</td>\n",
              "      <td>0.0</td>\n",
              "      <td>0.0</td>\n",
              "      <td>0.0</td>\n",
              "      <td>0.0</td>\n",
              "    </tr>\n",
              "    <tr>\n",
              "      <th>9998</th>\n",
              "      <td>0.0</td>\n",
              "      <td>0.0</td>\n",
              "      <td>0.0</td>\n",
              "      <td>0.0</td>\n",
              "      <td>0.0</td>\n",
              "      <td>0.0</td>\n",
              "      <td>0.0</td>\n",
              "      <td>0.0</td>\n",
              "      <td>0.0</td>\n",
              "      <td>0.0</td>\n",
              "      <td>...</td>\n",
              "      <td>0.0</td>\n",
              "      <td>0.0</td>\n",
              "      <td>0.0</td>\n",
              "      <td>0.0</td>\n",
              "      <td>0.0</td>\n",
              "      <td>0.0</td>\n",
              "      <td>0.0</td>\n",
              "      <td>0.0</td>\n",
              "      <td>0.0</td>\n",
              "      <td>0.0</td>\n",
              "    </tr>\n",
              "    <tr>\n",
              "      <th>9999</th>\n",
              "      <td>0.0</td>\n",
              "      <td>0.0</td>\n",
              "      <td>0.0</td>\n",
              "      <td>0.0</td>\n",
              "      <td>0.0</td>\n",
              "      <td>0.0</td>\n",
              "      <td>0.0</td>\n",
              "      <td>0.0</td>\n",
              "      <td>0.0</td>\n",
              "      <td>0.0</td>\n",
              "      <td>...</td>\n",
              "      <td>0.0</td>\n",
              "      <td>0.0</td>\n",
              "      <td>0.0</td>\n",
              "      <td>0.0</td>\n",
              "      <td>0.0</td>\n",
              "      <td>0.0</td>\n",
              "      <td>0.0</td>\n",
              "      <td>0.0</td>\n",
              "      <td>0.0</td>\n",
              "      <td>0.0</td>\n",
              "    </tr>\n",
              "    <tr>\n",
              "      <th>10000</th>\n",
              "      <td>0.0</td>\n",
              "      <td>0.0</td>\n",
              "      <td>0.0</td>\n",
              "      <td>0.0</td>\n",
              "      <td>0.0</td>\n",
              "      <td>0.0</td>\n",
              "      <td>0.0</td>\n",
              "      <td>0.0</td>\n",
              "      <td>0.0</td>\n",
              "      <td>0.0</td>\n",
              "      <td>...</td>\n",
              "      <td>0.0</td>\n",
              "      <td>0.0</td>\n",
              "      <td>0.0</td>\n",
              "      <td>0.0</td>\n",
              "      <td>0.0</td>\n",
              "      <td>0.0</td>\n",
              "      <td>0.0</td>\n",
              "      <td>0.0</td>\n",
              "      <td>0.0</td>\n",
              "      <td>0.0</td>\n",
              "    </tr>\n",
              "  </tbody>\n",
              "</table>\n",
              "<p>9964 rows × 53424 columns</p>\n",
              "</div>"
            ],
            "text/plain": [
              "user_id  1      2      3      4      5      6      7      8      9      10     \\\n",
              "book_id                                                                         \n",
              "1          0.0    0.0    0.0    0.0    0.0    0.0    0.0    0.0    4.0    0.0   \n",
              "2          0.0    5.0    0.0    5.0    0.0    0.0    0.0    0.0    4.0    0.0   \n",
              "3          0.0    0.0    0.0    0.0    0.0    0.0    0.0    0.0    4.0    0.0   \n",
              "4          5.0    0.0    3.0    4.0    0.0    0.0    0.0    3.0    0.0    5.0   \n",
              "5          0.0    5.0    0.0    4.0    0.0    0.0    3.0    3.0    5.0    5.0   \n",
              "...        ...    ...    ...    ...    ...    ...    ...    ...    ...    ...   \n",
              "9996       0.0    0.0    0.0    0.0    0.0    0.0    0.0    0.0    0.0    0.0   \n",
              "9997       0.0    0.0    0.0    0.0    0.0    0.0    0.0    0.0    0.0    0.0   \n",
              "9998       0.0    0.0    0.0    0.0    0.0    0.0    0.0    0.0    0.0    0.0   \n",
              "9999       0.0    0.0    0.0    0.0    0.0    0.0    0.0    0.0    0.0    0.0   \n",
              "10000      0.0    0.0    0.0    0.0    0.0    0.0    0.0    0.0    0.0    0.0   \n",
              "\n",
              "user_id  ...  53415  53416  53417  53418  53419  53420  53421  53422  53423  \\\n",
              "book_id  ...                                                                  \n",
              "1        ...    0.0    0.0    4.0    5.0    4.0    4.0    4.0    4.0    4.0   \n",
              "2        ...    0.0    0.0    0.0    0.0    5.0    5.0    5.0    5.0    5.0   \n",
              "3        ...    0.0    0.0    0.0    0.0    3.0    3.0    0.0    0.0    0.0   \n",
              "4        ...    0.0    0.0    0.0    0.0    3.0    0.0    5.0    0.0    5.0   \n",
              "5        ...    0.0    0.0    0.0    0.0    3.0    2.0    4.0    0.0    0.0   \n",
              "...      ...    ...    ...    ...    ...    ...    ...    ...    ...    ...   \n",
              "9996     ...    0.0    0.0    0.0    0.0    0.0    0.0    0.0    0.0    0.0   \n",
              "9997     ...    0.0    0.0    0.0    0.0    0.0    0.0    0.0    0.0    0.0   \n",
              "9998     ...    0.0    0.0    0.0    0.0    0.0    0.0    0.0    0.0    0.0   \n",
              "9999     ...    0.0    0.0    0.0    0.0    0.0    0.0    0.0    0.0    0.0   \n",
              "10000    ...    0.0    0.0    0.0    0.0    0.0    0.0    0.0    0.0    0.0   \n",
              "\n",
              "user_id  53424  \n",
              "book_id         \n",
              "1          4.0  \n",
              "2          5.0  \n",
              "3          4.0  \n",
              "4          5.0  \n",
              "5          0.0  \n",
              "...        ...  \n",
              "9996       0.0  \n",
              "9997       0.0  \n",
              "9998       0.0  \n",
              "9999       0.0  \n",
              "10000      0.0  \n",
              "\n",
              "[9964 rows x 53424 columns]"
            ]
          },
          "execution_count": 51,
          "metadata": {},
          "output_type": "execute_result"
        }
      ],
      "source": [
        "df_book_features"
      ],
      "id": "608a7660"
    },
    {
      "cell_type": "code",
      "execution_count": null,
      "metadata": {
        "id": "598d8f95",
        "outputId": "03b09f5c-3ba1-4dd4-9044-e1e8c9faf1f5"
      },
      "outputs": [
        {
          "data": {
            "text/html": [
              "<div>\n",
              "<style scoped>\n",
              "    .dataframe tbody tr th:only-of-type {\n",
              "        vertical-align: middle;\n",
              "    }\n",
              "\n",
              "    .dataframe tbody tr th {\n",
              "        vertical-align: top;\n",
              "    }\n",
              "\n",
              "    .dataframe thead th {\n",
              "        text-align: right;\n",
              "    }\n",
              "</style>\n",
              "<table border=\"1\" class=\"dataframe\">\n",
              "  <thead>\n",
              "    <tr style=\"text-align: right;\">\n",
              "      <th>user_id</th>\n",
              "      <th>1</th>\n",
              "      <th>2</th>\n",
              "      <th>3</th>\n",
              "      <th>4</th>\n",
              "      <th>5</th>\n",
              "      <th>6</th>\n",
              "      <th>7</th>\n",
              "      <th>8</th>\n",
              "      <th>9</th>\n",
              "      <th>10</th>\n",
              "      <th>...</th>\n",
              "      <th>53415</th>\n",
              "      <th>53416</th>\n",
              "      <th>53417</th>\n",
              "      <th>53418</th>\n",
              "      <th>53419</th>\n",
              "      <th>53420</th>\n",
              "      <th>53421</th>\n",
              "      <th>53422</th>\n",
              "      <th>53423</th>\n",
              "      <th>53424</th>\n",
              "    </tr>\n",
              "    <tr>\n",
              "      <th>book_id</th>\n",
              "      <th></th>\n",
              "      <th></th>\n",
              "      <th></th>\n",
              "      <th></th>\n",
              "      <th></th>\n",
              "      <th></th>\n",
              "      <th></th>\n",
              "      <th></th>\n",
              "      <th></th>\n",
              "      <th></th>\n",
              "      <th></th>\n",
              "      <th></th>\n",
              "      <th></th>\n",
              "      <th></th>\n",
              "      <th></th>\n",
              "      <th></th>\n",
              "      <th></th>\n",
              "      <th></th>\n",
              "      <th></th>\n",
              "      <th></th>\n",
              "      <th></th>\n",
              "    </tr>\n",
              "  </thead>\n",
              "  <tbody>\n",
              "    <tr>\n",
              "      <th>9996</th>\n",
              "      <td>0.0</td>\n",
              "      <td>0.0</td>\n",
              "      <td>0.0</td>\n",
              "      <td>0.0</td>\n",
              "      <td>0.0</td>\n",
              "      <td>0.0</td>\n",
              "      <td>0.0</td>\n",
              "      <td>0.0</td>\n",
              "      <td>0.0</td>\n",
              "      <td>0.0</td>\n",
              "      <td>...</td>\n",
              "      <td>0.0</td>\n",
              "      <td>0.0</td>\n",
              "      <td>0.0</td>\n",
              "      <td>0.0</td>\n",
              "      <td>0.0</td>\n",
              "      <td>0.0</td>\n",
              "      <td>0.0</td>\n",
              "      <td>0.0</td>\n",
              "      <td>0.0</td>\n",
              "      <td>0.0</td>\n",
              "    </tr>\n",
              "    <tr>\n",
              "      <th>9997</th>\n",
              "      <td>0.0</td>\n",
              "      <td>0.0</td>\n",
              "      <td>0.0</td>\n",
              "      <td>0.0</td>\n",
              "      <td>0.0</td>\n",
              "      <td>0.0</td>\n",
              "      <td>0.0</td>\n",
              "      <td>0.0</td>\n",
              "      <td>0.0</td>\n",
              "      <td>0.0</td>\n",
              "      <td>...</td>\n",
              "      <td>0.0</td>\n",
              "      <td>0.0</td>\n",
              "      <td>0.0</td>\n",
              "      <td>0.0</td>\n",
              "      <td>0.0</td>\n",
              "      <td>0.0</td>\n",
              "      <td>0.0</td>\n",
              "      <td>0.0</td>\n",
              "      <td>0.0</td>\n",
              "      <td>0.0</td>\n",
              "    </tr>\n",
              "    <tr>\n",
              "      <th>9998</th>\n",
              "      <td>0.0</td>\n",
              "      <td>0.0</td>\n",
              "      <td>0.0</td>\n",
              "      <td>0.0</td>\n",
              "      <td>0.0</td>\n",
              "      <td>0.0</td>\n",
              "      <td>0.0</td>\n",
              "      <td>0.0</td>\n",
              "      <td>0.0</td>\n",
              "      <td>0.0</td>\n",
              "      <td>...</td>\n",
              "      <td>0.0</td>\n",
              "      <td>0.0</td>\n",
              "      <td>0.0</td>\n",
              "      <td>0.0</td>\n",
              "      <td>0.0</td>\n",
              "      <td>0.0</td>\n",
              "      <td>0.0</td>\n",
              "      <td>0.0</td>\n",
              "      <td>0.0</td>\n",
              "      <td>0.0</td>\n",
              "    </tr>\n",
              "    <tr>\n",
              "      <th>9999</th>\n",
              "      <td>0.0</td>\n",
              "      <td>0.0</td>\n",
              "      <td>0.0</td>\n",
              "      <td>0.0</td>\n",
              "      <td>0.0</td>\n",
              "      <td>0.0</td>\n",
              "      <td>0.0</td>\n",
              "      <td>0.0</td>\n",
              "      <td>0.0</td>\n",
              "      <td>0.0</td>\n",
              "      <td>...</td>\n",
              "      <td>0.0</td>\n",
              "      <td>0.0</td>\n",
              "      <td>0.0</td>\n",
              "      <td>0.0</td>\n",
              "      <td>0.0</td>\n",
              "      <td>0.0</td>\n",
              "      <td>0.0</td>\n",
              "      <td>0.0</td>\n",
              "      <td>0.0</td>\n",
              "      <td>0.0</td>\n",
              "    </tr>\n",
              "    <tr>\n",
              "      <th>10000</th>\n",
              "      <td>0.0</td>\n",
              "      <td>0.0</td>\n",
              "      <td>0.0</td>\n",
              "      <td>0.0</td>\n",
              "      <td>0.0</td>\n",
              "      <td>0.0</td>\n",
              "      <td>0.0</td>\n",
              "      <td>0.0</td>\n",
              "      <td>0.0</td>\n",
              "      <td>0.0</td>\n",
              "      <td>...</td>\n",
              "      <td>0.0</td>\n",
              "      <td>0.0</td>\n",
              "      <td>0.0</td>\n",
              "      <td>0.0</td>\n",
              "      <td>0.0</td>\n",
              "      <td>0.0</td>\n",
              "      <td>0.0</td>\n",
              "      <td>0.0</td>\n",
              "      <td>0.0</td>\n",
              "      <td>0.0</td>\n",
              "    </tr>\n",
              "  </tbody>\n",
              "</table>\n",
              "<p>5 rows × 53424 columns</p>\n",
              "</div>"
            ],
            "text/plain": [
              "user_id  1      2      3      4      5      6      7      8      9      10     \\\n",
              "book_id                                                                         \n",
              "9996       0.0    0.0    0.0    0.0    0.0    0.0    0.0    0.0    0.0    0.0   \n",
              "9997       0.0    0.0    0.0    0.0    0.0    0.0    0.0    0.0    0.0    0.0   \n",
              "9998       0.0    0.0    0.0    0.0    0.0    0.0    0.0    0.0    0.0    0.0   \n",
              "9999       0.0    0.0    0.0    0.0    0.0    0.0    0.0    0.0    0.0    0.0   \n",
              "10000      0.0    0.0    0.0    0.0    0.0    0.0    0.0    0.0    0.0    0.0   \n",
              "\n",
              "user_id  ...  53415  53416  53417  53418  53419  53420  53421  53422  53423  \\\n",
              "book_id  ...                                                                  \n",
              "9996     ...    0.0    0.0    0.0    0.0    0.0    0.0    0.0    0.0    0.0   \n",
              "9997     ...    0.0    0.0    0.0    0.0    0.0    0.0    0.0    0.0    0.0   \n",
              "9998     ...    0.0    0.0    0.0    0.0    0.0    0.0    0.0    0.0    0.0   \n",
              "9999     ...    0.0    0.0    0.0    0.0    0.0    0.0    0.0    0.0    0.0   \n",
              "10000    ...    0.0    0.0    0.0    0.0    0.0    0.0    0.0    0.0    0.0   \n",
              "\n",
              "user_id  53424  \n",
              "book_id         \n",
              "9996       0.0  \n",
              "9997       0.0  \n",
              "9998       0.0  \n",
              "9999       0.0  \n",
              "10000      0.0  \n",
              "\n",
              "[5 rows x 53424 columns]"
            ]
          },
          "execution_count": 48,
          "metadata": {},
          "output_type": "execute_result"
        }
      ],
      "source": [
        "df_book_features.tail()"
      ],
      "id": "598d8f95"
    },
    {
      "cell_type": "code",
      "execution_count": null,
      "metadata": {
        "id": "1d9e43d2"
      },
      "outputs": [],
      "source": [
        "# create mapper from book title to index\n",
        "book_to_idx = {\n",
        "    book: i for i, book in \n",
        "    enumerate(list(df_book_titles.set_index('book_id').loc[df_book_features.index].title))}\n",
        "# transform matrix to scipy sparse matrix\n",
        "book_user_mat_sparse = csr_matrix(df_book_features.values)"
      ],
      "id": "1d9e43d2"
    },
    {
      "cell_type": "code",
      "execution_count": null,
      "metadata": {
        "id": "36beb875",
        "outputId": "843a039a-6d45-4c39-fe15-50336b35c4b8"
      },
      "outputs": [
        {
          "data": {
            "text/plain": [
              "{'The Hunger Games (The Hunger Games, #1)': 0,\n",
              " \"Harry Potter and the Sorcerer's Stone (Harry Potter, #1)\": 1,\n",
              " 'Twilight (Twilight, #1)': 2,\n",
              " 'To Kill a Mockingbird': 3,\n",
              " 'The Great Gatsby': 4,\n",
              " 'The Fault in Our Stars': 5,\n",
              " 'The Hobbit': 6,\n",
              " 'The Catcher in the Rye': 7,\n",
              " 'Angels & Demons  (Robert Langdon, #1)': 8,\n",
              " 'Pride and Prejudice': 9,\n",
              " 'The Kite Runner': 10,\n",
              " 'Divergent (Divergent, #1)': 11,\n",
              " '1984': 12,\n",
              " 'Animal Farm': 13,\n",
              " 'The Diary of a Young Girl': 14,\n",
              " 'The Girl with the Dragon Tattoo (Millennium, #1)': 15,\n",
              " 'Catching Fire (The Hunger Games, #2)': 16,\n",
              " 'Harry Potter and the Prisoner of Azkaban (Harry Potter, #3)': 17,\n",
              " 'The Fellowship of the Ring (The Lord of the Rings, #1)': 18,\n",
              " 'Mockingjay (The Hunger Games, #3)': 19,\n",
              " 'Harry Potter and the Order of the Phoenix (Harry Potter, #5)': 20,\n",
              " 'The Lovely Bones': 21,\n",
              " 'Harry Potter and the Chamber of Secrets (Harry Potter, #2)': 22,\n",
              " 'Harry Potter and the Goblet of Fire (Harry Potter, #4)': 23,\n",
              " 'Harry Potter and the Deathly Hallows (Harry Potter, #7)': 24,\n",
              " 'The Da Vinci Code (Robert Langdon, #2)': 25,\n",
              " 'Harry Potter and the Half-Blood Prince (Harry Potter, #6)': 26,\n",
              " 'Lord of the Flies': 27,\n",
              " 'Romeo and Juliet': 28,\n",
              " 'Gone Girl': 29,\n",
              " 'The Help': 30,\n",
              " 'Of Mice and Men': 31,\n",
              " 'Memoirs of a Geisha': 32,\n",
              " 'Fifty Shades of Grey (Fifty Shades, #1)': 33,\n",
              " 'The Alchemist': 34,\n",
              " 'The Giver (The Giver, #1)': 35,\n",
              " 'The Lion, the Witch, and the Wardrobe (Chronicles of Narnia, #1)': 36,\n",
              " \"The Time Traveler's Wife\": 37,\n",
              " 'A Game of Thrones (A Song of Ice and Fire, #1)': 38,\n",
              " 'Eat, Pray, Love': 39,\n",
              " 'The Lightning Thief (Percy Jackson and the Olympians, #1)': 40,\n",
              " 'Little Women (Little Women, #1)': 41,\n",
              " 'Jane Eyre': 42,\n",
              " 'The Notebook (The Notebook, #1)': 43,\n",
              " 'Life of Pi': 44,\n",
              " 'Water for Elephants': 45,\n",
              " 'The Book Thief': 46,\n",
              " 'Fahrenheit 451': 47,\n",
              " 'New Moon (Twilight, #2)': 48,\n",
              " 'Where the Sidewalk Ends': 49,\n",
              " 'City of Bones (The Mortal Instruments, #1)': 50,\n",
              " 'Eclipse (Twilight, #3)': 51,\n",
              " 'Eragon (The Inheritance Cycle, #1)': 52,\n",
              " \"The Hitchhiker's Guide to the Galaxy (Hitchhiker's Guide to the Galaxy, #1)\": 53,\n",
              " 'Brave New World': 54,\n",
              " 'Breaking Dawn (Twilight, #4)': 55,\n",
              " 'The Secret Life of Bees': 56,\n",
              " 'The Adventures of Huckleberry Finn': 57,\n",
              " \"Charlotte's Web\": 58,\n",
              " 'The Curious Incident of the Dog in the Night-Time': 59,\n",
              " 'The Girl on the Train': 60,\n",
              " 'The Golden Compass (His Dark Materials, #1)': 61,\n",
              " 'Wuthering Heights': 62,\n",
              " \"My Sister's Keeper\": 63,\n",
              " 'Slaughterhouse-Five': 64,\n",
              " 'Gone with the Wind': 65,\n",
              " 'A Thousand Splendid Suns': 66,\n",
              " 'The Perks of Being a Wallflower': 67,\n",
              " 'Insurgent (Divergent, #2)': 68,\n",
              " \"Ender's Game (Ender's Saga, #1)\": 69,\n",
              " 'Frankenstein': 70,\n",
              " 'The Shining (The Shining #1)': 71,\n",
              " 'The Host (The Host, #1)': 72,\n",
              " 'Looking for Alaska': 73,\n",
              " \"Bridget Jones's Diary (Bridget Jones, #1)\": 74,\n",
              " 'Sense and Sensibility': 75,\n",
              " 'Holes (Holes, #1)': 76,\n",
              " 'The Devil Wears Prada (The Devil Wears Prada, #1)': 77,\n",
              " 'The Odyssey': 78,\n",
              " 'The Little Prince': 79,\n",
              " 'The Glass Castle': 80,\n",
              " 'Into the Wild': 81,\n",
              " 'A Tale of Two Cities': 82,\n",
              " 'Jurassic Park (Jurassic Park, #1)': 83,\n",
              " 'The Giving Tree': 84,\n",
              " 'A Time to Kill': 85,\n",
              " 'Night (The Night Trilogy #1)': 86,\n",
              " 'Paper Towns': 87,\n",
              " 'The Princess Bride ': 88,\n",
              " 'The Outsiders': 89,\n",
              " 'The Maze Runner (Maze Runner, #1)': 90,\n",
              " 'Freakonomics: A Rogue Economist Explores the Hidden Side of Everything (Freakonomics, #1)': 91,\n",
              " 'The Secret Garden': 92,\n",
              " 'One Hundred Years of Solitude': 93,\n",
              " 'The Picture of Dorian Gray': 94,\n",
              " 'Fifty Shades Freed (Fifty Shades, #3)': 95,\n",
              " 'Dracula': 96,\n",
              " 'The Girl Who Played with Fire (Millennium, #2)': 97,\n",
              " 'Fifty Shades Darker (Fifty Shades, #2)': 98,\n",
              " 'The Poisonwood Bible': 99,\n",
              " 'Me Talk Pretty One Day': 100,\n",
              " 'Where the Wild Things Are': 101,\n",
              " 'The Count of Monte Cristo': 102,\n",
              " 'The Road': 103,\n",
              " 'Allegiant (Divergent, #3)': 104,\n",
              " 'Bossypants': 105,\n",
              " 'A Walk to Remember': 106,\n",
              " 'Confessions of a Shopaholic (Shopaholic, #1)': 107,\n",
              " 'Les Misérables': 108,\n",
              " 'A Clash of Kings  (A Song of Ice and Fire, #2)': 109,\n",
              " \"The Memory Keeper's Daughter\": 110,\n",
              " 'Me Before You (Me Before You, #1)': 111,\n",
              " 'Catch-22': 112,\n",
              " 'Tuesdays with Morrie': 113,\n",
              " 'Middlesex': 114,\n",
              " 'The Adventures of Tom Sawyer': 115,\n",
              " 'A Wrinkle in Time (A Wrinkle in Time Quintet, #1)': 116,\n",
              " 'The Joy Luck Club': 117,\n",
              " \"The Handmaid's Tale\": 118,\n",
              " 'The Sisterhood of the Traveling Pants (Sisterhood, #1)': 119,\n",
              " 'Lolita': 120,\n",
              " 'Wicked: The Life and Times of the Wicked Witch of the West (The Wicked Years, #1)': 121,\n",
              " 'The Firm (Penguin Readers, Level 5)': 122,\n",
              " 'Room': 123,\n",
              " 'Hamlet': 124,\n",
              " 'Dune (Dune Chronicles #1)': 125,\n",
              " 'The Tipping Point: How Little Things Can Make a Big Difference': 126,\n",
              " 'Steve Jobs': 127,\n",
              " \"One Flew Over the Cuckoo's Nest\": 128,\n",
              " 'The Old Man and the Sea': 129,\n",
              " 'The Grapes of Wrath': 130,\n",
              " 'The Five People You Meet in Heaven': 131,\n",
              " 'Anne of Green Gables (Anne of Green Gables, #1)': 132,\n",
              " 'City of Glass (The Mortal Instruments, #3)': 133,\n",
              " 'A Storm of Swords (A Song of Ice and Fire, #3)': 134,\n",
              " 'Divine Secrets of the Ya-Ya Sisterhood': 135,\n",
              " 'Outlander (Outlander, #1)': 136,\n",
              " 'The Scarlet Letter': 137,\n",
              " 'Miss Peregrine’s Home for Peculiar Children (Miss Peregrine’s Peculiar Children, #1)': 138,\n",
              " \"The Girl Who Kicked the Hornet's Nest (Millennium, #3)\": 139,\n",
              " 'The Martian': 140,\n",
              " 'The Pillars of the Earth (The Kingsbridge Series, #1)': 141,\n",
              " 'All the Light We Cannot See': 142,\n",
              " 'Unbroken: A World War II Story of Survival, Resilience, and Redemption': 143,\n",
              " 'Deception Point': 144,\n",
              " 'The Goldfinch': 145,\n",
              " 'Thirteen Reasons Why': 146,\n",
              " 'Girl with a Pearl Earring': 147,\n",
              " 'If I Stay (If I Stay, #1)': 148,\n",
              " 'The Red Tent': 149,\n",
              " 'The Sea of Monsters (Percy Jackson and the Olympians, #2)': 150,\n",
              " 'Dear John': 151,\n",
              " 'City of Ashes (The Mortal Instruments, #2)': 152,\n",
              " 'Macbeth': 153,\n",
              " 'The Two Towers (The Lord of the Rings, #2)': 154,\n",
              " 'Something Borrowed (Darcy & Rachel, #1)': 155,\n",
              " 'Green Eggs and Ham': 156,\n",
              " 'Charlie and the Chocolate Factory (Charlie Bucket, #1)': 157,\n",
              " 'The Battle of the Labyrinth (Percy Jackson and the Olympians, #4)': 158,\n",
              " 'Great Expectations': 159,\n",
              " 'The Return of the King (The Lord of the Rings, #3)': 160,\n",
              " 'The Stranger': 161,\n",
              " 'The Lost Hero (The Heroes of Olympus, #1)': 162,\n",
              " 'Eleanor & Park': 163,\n",
              " 'A Feast for Crows (A Song of Ice and Fire, #4)': 164,\n",
              " 'Matched (Matched, #1)': 165,\n",
              " 'American Gods (American Gods, #1)': 166,\n",
              " 'The Stand': 167,\n",
              " 'The Last Song': 168,\n",
              " 'Digital Fortress': 169,\n",
              " 'Emma': 170,\n",
              " 'Anna Karenina': 171,\n",
              " 'A Clockwork Orange': 172,\n",
              " 'The Shack': 173,\n",
              " 'The Last Olympian (Percy Jackson and the Olympians, #5)': 174,\n",
              " 'It': 175,\n",
              " 'Crime and Punishment': 176,\n",
              " 'The Bell Jar': 177,\n",
              " \"Angela's Ashes (Frank McCourt, #1)\": 178,\n",
              " 'Siddhartha': 179,\n",
              " 'In Cold Blood': 180,\n",
              " 'Beautiful Creatures (Caster Chronicles, #1)': 181,\n",
              " 'Clockwork Angel (The Infernal Devices, #1)': 182,\n",
              " 'Matilda': 183,\n",
              " 'The Night Circus': 184,\n",
              " 'The Other Boleyn Girl (The Plantagenet and Tudor Novels, #9)': 185,\n",
              " 'Uglies (Uglies, #1)': 186,\n",
              " 'A Dance with Dragons (A Song of Ice and Fire, #5)': 187,\n",
              " 'The Lord of the Rings (The Lord of the Rings, #1-3)': 188,\n",
              " 'Wild: From Lost to Found on the Pacific Crest Trail': 189,\n",
              " 'Watchmen': 190,\n",
              " 'The Name of the Wind (The Kingkiller Chronicle, #1)': 191,\n",
              " 'Outliers: The Story of Success': 192,\n",
              " 'Moby-Dick or, The Whale': 193,\n",
              " 'The Guernsey Literary and Potato Peel Pie Society': 194,\n",
              " 'Fight Club': 195,\n",
              " 'Dead Until Dark (Sookie Stackhouse, #1)': 196,\n",
              " 'The Color Purple': 197,\n",
              " \"Marley and Me: Life and Love With the World's Worst Dog\": 198,\n",
              " 'And Then There Were None': 199,\n",
              " 'The Lost Symbol (Robert Langdon, #3)': 200,\n",
              " 'Hush, Hush (Hush, Hush, #1)': 201,\n",
              " 'Beautiful Disaster (Beautiful, #1)': 202,\n",
              " 'A Christmas Carol': 203,\n",
              " 'Interview with the Vampire (The Vampire Chronicles, #1)': 204,\n",
              " 'The Selection (The Selection, #1)': 205,\n",
              " 'One for the Money (Stephanie Plum, #1)': 206,\n",
              " 'The Immortal Life of Henrietta Lacks': 207,\n",
              " 'The Silence of the Lambs  (Hannibal Lecter, #2)': 208,\n",
              " 'Vampire Academy (Vampire Academy, #1)': 209,\n",
              " 'Blink: The Power of Thinking Without Thinking': 210,\n",
              " 'Atonement': 211,\n",
              " 'The Metamorphosis': 212,\n",
              " \"The Titan's Curse (Percy Jackson and the Olympians, #3)\": 213,\n",
              " 'Ready Player One': 214,\n",
              " 'The Art of Racing in the Rain': 215,\n",
              " 'The Devil in the White City: Murder, Magic, and Madness at the Fair That Changed America': 216,\n",
              " 'Bared to You (Crossfire, #1)': 217,\n",
              " 'The Chronicles of Narnia (Chronicles of Narnia, #1-7)': 218,\n",
              " 'Twilight: The Complete Illustrated Movie Companion': 219,\n",
              " 'A Child Called \"It\" (Dave Pelzer #1)': 220,\n",
              " 'The Bourne Identity (Jason Bourne, #1)': 221,\n",
              " 'Artemis Fowl (Artemis Fowl, #1)': 222,\n",
              " 'Fallen (Fallen, #1)': 223,\n",
              " 'East of Eden': 224,\n",
              " 'Dark Places': 225,\n",
              " 'The Client': 226,\n",
              " 'The Nanny Diaries (Nanny, #1)': 227,\n",
              " \"Alice's Adventures in Wonderland & Through the Looking-Glass\": 228,\n",
              " 'Persuasion': 229,\n",
              " \"Sarah's Key\": 230,\n",
              " 'The Gunslinger (The Dark Tower, #1)': 231,\n",
              " 'Love in the Time of Cholera': 232,\n",
              " 'Speak': 233,\n",
              " \"The Husband's Secret\": 234,\n",
              " 'Into Thin Air: A Personal Account of the Mount Everest Disaster': 235,\n",
              " 'Carrie': 236,\n",
              " 'Running with Scissors': 237,\n",
              " 'World War Z: An Oral History of the Zombie War': 238,\n",
              " 'Inferno (Robert Langdon, #4)': 239,\n",
              " 'Number the Stars': 240,\n",
              " 'Along Came a Spider (Alex Cross, #1)': 241,\n",
              " 'Misery': 242,\n",
              " 'Sharp Objects': 243,\n",
              " 'Bridge to Terabithia': 244,\n",
              " 'Marked (House of Night, #1)': 245,\n",
              " 'The 7 Habits of Highly Effective People: Powerful Lessons in Personal Change': 246,\n",
              " \"A Midsummer Night's Dream\": 247,\n",
              " 'Extremely Loud and Incredibly Close': 248,\n",
              " 'Wonder': 249,\n",
              " 'The Cat in the Hat': 250,\n",
              " 'Cinder (The Lunar Chronicles, #1)': 251,\n",
              " \"The Cuckoo's Calling (Cormoran Strike, #1)\": 252,\n",
              " 'Shiver (The Wolves of Mercy Falls, #1)': 253,\n",
              " 'Atlas Shrugged': 254,\n",
              " \"Three Cups of Tea: One Man's Mission to Promote Peace ... One School at a Time\": 255,\n",
              " 'Alice in Wonderland': 256,\n",
              " 'The Shadow of the Wind (The Cemetery of Forgotten Books,  #1)': 257,\n",
              " 'The Scorch Trials (Maze Runner, #2)': 258,\n",
              " 'How to Win Friends and Influence People': 259,\n",
              " 'Under the Tuscan Sun': 260,\n",
              " 'Big Little Lies': 261,\n",
              " 'Ella Enchanted': 262,\n",
              " 'The Sun Also Rises': 263,\n",
              " 'A Tree Grows in Brooklyn': 264,\n",
              " 'Kiss the Girls (Alex Cross, #2)': 265,\n",
              " 'The Nightingale': 266,\n",
              " 'Never Let Me Go': 267,\n",
              " 'P.S. I Love You': 268,\n",
              " 'Rebecca': 269,\n",
              " 'Flowers for Algernon': 270,\n",
              " 'Like Water for Chocolate': 271,\n",
              " 'Snow Flower and the Secret Fan': 272,\n",
              " 'The Godfather': 273,\n",
              " 'An Abundance of Katherines': 274,\n",
              " 'Foundation (Foundation #1)': 275,\n",
              " 'The Ocean at the End of the Lane': 276,\n",
              " 'A Light in the Attic': 277,\n",
              " 'Harry Potter and the Cursed Child - Parts One and Two (Harry Potter, #8)': 278,\n",
              " 'Delirium (Delirium, #1)': 279,\n",
              " 'The Pelican Brief': 280,\n",
              " 'Coraline': 281,\n",
              " 'Good Omens: The Nice and Accurate Prophecies of Agnes Nutter, Witch': 282,\n",
              " 'On the Road': 283,\n",
              " 'The Rosie Project (Don Tillman, #1)': 284,\n",
              " 'The Lucky One': 285,\n",
              " 'The Fountainhead': 286,\n",
              " 'The Hunt for Red October (Jack Ryan Universe, #4)': 287,\n",
              " 'Watership Down (Watership Down, #1)': 288,\n",
              " 'Is Everyone Hanging Out Without Me? (And Other Concerns)': 289,\n",
              " 'Cutting for Stone': 290,\n",
              " 'The Voyage of the Dawn Treader (Chronicles of Narnia, #3)': 291,\n",
              " 'Treasure Island': 292,\n",
              " 'The Son of Neptune (The Heroes of Olympus, #2)': 293,\n",
              " '11/22/63': 294,\n",
              " 'The Very Hungry Caterpillar Board Book': 295,\n",
              " \"Cat's Cradle\": 296,\n",
              " 'The Time Machine': 297,\n",
              " \"Heaven is for Real: A Little Boy's Astounding Story of His Trip to Heaven and Back\": 298,\n",
              " 'The Boy in the Striped Pajamas': 299,\n",
              " 'Heart of Darkness': 300,\n",
              " 'Safe Haven': 301,\n",
              " 'The Secret (The Secret, #1)': 302,\n",
              " 'I Know This Much Is True': 303,\n",
              " 'Pet Sematary': 304,\n",
              " \"She's Come Undone\": 305,\n",
              " \"The Wise Man's Fear (The Kingkiller Chronicle, #2)\": 306,\n",
              " 'Can You Keep a Secret?': 307,\n",
              " 'City of Fallen Angels (The Mortal Instruments, #4)': 308,\n",
              " 'Good in Bed (Cannie Shapiro, #1)': 309,\n",
              " 'The Thorn Birds': 310,\n",
              " 'The Graveyard Book': 311,\n",
              " 'The Light Between Oceans': 312,\n",
              " 'Inkheart (Inkworld, #1)': 313,\n",
              " 'Who Moved My Cheese?': 314,\n",
              " 'A Walk in the Woods': 315,\n",
              " 'I Know Why the Caged Bird Sings': 316,\n",
              " 'Orphan Train': 317,\n",
              " 'City of Lost Souls (The Mortal Instruments, #5)': 318,\n",
              " \"Where'd You Go, Bernadette\": 319,\n",
              " 'Where the Red Fern Grows': 320,\n",
              " 'Neverwhere': 321,\n",
              " 'The Unbearable Lightness of Being': 322,\n",
              " 'Fangirl': 323,\n",
              " 'A Prayer for Owen Meany': 324,\n",
              " 'White Oleander': 325,\n",
              " 'Legend (Legend, #1)': 326,\n",
              " 'Nineteen Minutes': 327,\n",
              " 'The Last Lecture': 328,\n",
              " 'The Eye of the World (Wheel of Time, #1)': 329,\n",
              " 'The Pact': 330,\n",
              " \"The Magician's Nephew (Chronicles of Narnia, #6)\": 331,\n",
              " 'Still Alice': 332,\n",
              " 'Reflected in You (Crossfire, #2)': 333,\n",
              " 'James and the Giant Peach': 334,\n",
              " \"1st to Die (Women's Murder Club, #1)\": 335,\n",
              " \"The Ultimate Hitchhiker's Guide to the Galaxy\": 336,\n",
              " 'One Day': 337,\n",
              " 'Goodnight Moon': 338,\n",
              " 'I Am Number Four (Lorien Legacies, #1)': 339,\n",
              " 'The Iliad': 340,\n",
              " 'The Casual Vacancy': 341,\n",
              " 'The Runaway Jury': 342,\n",
              " 'Naked': 343,\n",
              " 'Eldest (The Inheritance Cycle, #2)': 344,\n",
              " 'The Wonderful Wizard of Oz (Oz, #1)': 345,\n",
              " 'Prince Caspian (Chronicles of Narnia, #2)': 346,\n",
              " 'We Were Liars': 347,\n",
              " \"'Salem's Lot\": 348,\n",
              " 'Fear and Loathing in Las Vegas': 349,\n",
              " 'Clockwork Prince (The Infernal Devices, #2)': 350,\n",
              " 'Yes Please': 351,\n",
              " 'Othello': 352,\n",
              " 'Beloved': 353,\n",
              " 'Graceling (Graceling Realm, #1)': 354,\n",
              " 'The Bad Beginning (A Series of Unfortunate Events, #1)': 355,\n",
              " 'All Quiet on the Western Front': 356,\n",
              " \"Oh, The Places You'll Go!\": 357,\n",
              " 'And the Mountains Echoed': 358,\n",
              " 'Do Androids Dream of Electric Sheep?': 359,\n",
              " 'Oliver Twist': 360,\n",
              " 'The Screwtape Letters': 361,\n",
              " 'Anna and the French Kiss (Anna and the French Kiss, #1)': 362,\n",
              " 'How the Grinch Stole Christmas!': 363,\n",
              " 'V for Vendetta': 364,\n",
              " 'John Adams': 365,\n",
              " 'Odd Thomas (Odd Thomas, #1)': 366,\n",
              " 'The Subtle Knife (His Dark Materials, #2)': 367,\n",
              " 'Stargirl (Stargirl, #1)': 368,\n",
              " 'The Red Pyramid (Kane Chronicles, #1)': 369,\n",
              " 'Stranger in a Strange Land': 370,\n",
              " 'Dress Your Family in Corduroy and Denim': 371,\n",
              " 'The BFG': 372,\n",
              " 'A Short History of Nearly Everything': 373,\n",
              " 'The Call of the Wild': 374,\n",
              " 'The Death Cure (Maze Runner, #3)': 375,\n",
              " 'Stardust': 376,\n",
              " 'The Namesake': 377,\n",
              " 'A Discovery of Witches (All Souls Trilogy, #1)': 378,\n",
              " 'Norwegian Wood': 379,\n",
              " 'Where the Heart Is': 380,\n",
              " 'Will Grayson, Will Grayson': 381,\n",
              " 'A Million Little Pieces': 382,\n",
              " 'Frostbite (Vampire Academy, #2)': 383,\n",
              " \"Quiet: The Power of Introverts in a World That Can't Stop Talking\": 384,\n",
              " 'Island of the Blue Dolphins (Island of the Blue Dolphins, #1)': 385,\n",
              " 'The Crucible': 386,\n",
              " \"Hatchet (Brian's Saga, #1)\": 387,\n",
              " 'The Final Empire (Mistborn, #1)': 388,\n",
              " 'The Strange Case of Dr. Jekyll and Mr. Hyde': 389,\n",
              " 'The Lorax': 390,\n",
              " 'Diary of a Wimpy Kid (Diary of a Wimpy Kid, #1)': 391,\n",
              " 'Throne of Glass (Throne of Glass, #1)': 392,\n",
              " 'Shadow Kiss (Vampire Academy, #3)': 393,\n",
              " 'For Whom the Bell Tolls': 394,\n",
              " 'Hotel on the Corner of Bitter and Sweet': 395,\n",
              " 'Perfume: The Story of a Murderer': 396,\n",
              " 'Fast Food Nation: The Dark Side of the All-American Meal': 397,\n",
              " 'The Tales of Beedle the Bard': 398,\n",
              " 'Neuromancer': 399,\n",
              " 'A Farewell to Arms': 400,\n",
              " 'The Tell-Tale Heart and Other Writings': 401,\n",
              " 'The Art of War': 402,\n",
              " 'Defending Jacob': 403,\n",
              " 'Breakfast of Champions': 404,\n",
              " 'The New Drawing on the Right Side of the Brain': 405,\n",
              " 'Bel Canto': 406,\n",
              " 'Guns, Germs, and Steel: The Fates of Human Societies': 407,\n",
              " 'Fried Green Tomatoes at the Whistle Stop Cafe': 408,\n",
              " 'Things Fall Apart (The African Trilogy, #1)': 409,\n",
              " 'The Undomestic Goddess': 410,\n",
              " 'The Five Love Languages: How to Express Heartfelt Commitment to Your Mate': 411,\n",
              " 'The Three Musketeers': 412,\n",
              " 'Little Bee': 413,\n",
              " 'Evermore (The Immortals, #1)': 414,\n",
              " 'The Witches': 415,\n",
              " 'The Thirteenth Tale': 416,\n",
              " 'Spirit Bound (Vampire Academy, #5)': 417,\n",
              " 'Blood Promise (Vampire Academy, #4)': 418,\n",
              " 'Message in a Bottle': 419,\n",
              " 'The Paris Wife': 420,\n",
              " 'Harry Potter Boxset (Harry Potter, #1-7)': 421,\n",
              " 'The Elite (The Selection, #2)': 422,\n",
              " 'The Name of the Rose': 423,\n",
              " 'Go Ask Alice': 424,\n",
              " 'A Confederacy of Dunces': 425,\n",
              " 'The Importance of Being Earnest': 426,\n",
              " 'The Mark of Athena (The Heroes of Olympus, #3)': 427,\n",
              " 'The Color of Magic (Discworld, #1; Rincewind #1)': 428,\n",
              " 'Kafka on the Shore': 429,\n",
              " 'Red Dragon (Hannibal Lecter, #1)': 430,\n",
              " 'I, Robot (Robot #0.1)': 431,\n",
              " 'Dark Lover (Black Dagger Brotherhood, #1)': 432,\n",
              " 'Crescendo (Hush, Hush, #2)': 433,\n",
              " 'Before I Fall': 434,\n",
              " 'The God of Small Things': 435,\n",
              " 'The Invention of Wings': 436,\n",
              " 'What Alice Forgot': 437,\n",
              " 'A Brief History of Time': 438,\n",
              " 'Fall of Giants (The Century Trilogy, #1)': 439,\n",
              " 'Under the Dome': 440,\n",
              " 'Snow Crash': 441,\n",
              " 'Just Listen': 442,\n",
              " 'Winnie-the-Pooh (Winnie-the-Pooh, #1)': 443,\n",
              " 'Before I Go to Sleep': 444,\n",
              " 'A Study in Scarlet': 445,\n",
              " 'Brisingr (The Inheritance Cycle, #3)': 446,\n",
              " 'The Purpose Driven Life: What on Earth Am I Here for?': 447,\n",
              " 'Betrayed (House of Night, #2)': 448,\n",
              " 'Storm Front (The Dresden Files, #1)': 449,\n",
              " 'Northanger Abbey': 450,\n",
              " 'The 5th Wave (The 5th Wave, #1)': 451,\n",
              " 'Cold Mountain': 452,\n",
              " 'If You Give a Mouse a Cookie': 453,\n",
              " 'Something Blue (Darcy & Rachel, #2)': 454,\n",
              " 'A Streetcar Named Desire': 455,\n",
              " 'The Historian': 456,\n",
              " 'Station Eleven': 457,\n",
              " 'A Man Called Ove': 458,\n",
              " 'Clockwork Princess (The Infernal Devices, #3)': 459,\n",
              " 'The Good Earth (House of Earth, #1)': 460,\n",
              " 'Ways of Seeing': 461,\n",
              " 'Dragonfly in Amber (Outlander, #2)': 462,\n",
              " 'Holy Bible: King James Version': 463,\n",
              " 'In Her Shoes': 464,\n",
              " 'The Hobbit: Graphic Novel': 465,\n",
              " 'The Brief Wondrous Life of Oscar Wao': 466,\n",
              " 'Their Eyes Were Watching God': 467,\n",
              " 'Fantastic Beasts and Where to Find Them': 468,\n",
              " 'I Am Malala: The Story of the Girl Who Stood Up for Education and Was Shot by the Taliban': 469,\n",
              " 'Mansfield Park': 470,\n",
              " \"Man's Search for Meaning\": 471,\n",
              " 'In the Woods (Dublin Murder Squad, #1)': 472,\n",
              " 'The God Delusion': 473,\n",
              " 'Where She Went (If I Stay, #2)': 474,\n",
              " 'The World According to Garp': 475,\n",
              " 'Killing Floor (Jack Reacher, #1)': 476,\n",
              " 'Robinson Crusoe': 477,\n",
              " 'The Prince': 478,\n",
              " 'The Amber Spyglass (His Dark Materials, #3)': 479,\n",
              " \"Wizard's First Rule (Sword of Truth, #1)\": 480,\n",
              " 'The Kitchen House': 481,\n",
              " 'Franny and Zooey': 482,\n",
              " 'Choke': 483,\n",
              " 'The Brothers Karamazov': 484,\n",
              " 'The City of Ember (Book of Ember, #1)': 485,\n",
              " 'The Andromeda Strain': 486,\n",
              " 'The Green Mile': 487,\n",
              " 'The Prophet': 488,\n",
              " \"Maus I: A Survivor's Tale: My Father Bleeds History (Maus, #1)\": 489,\n",
              " 'Untamed (House of Night, #4)': 490,\n",
              " \"Speaker for the Dead (Ender's Saga, #2)\": 491,\n",
              " 'Mere Christianity': 492,\n",
              " 'The Secret History': 493,\n",
              " 'A Heartbreaking Work of Staggering Genius': 494,\n",
              " \"The Clan of the Cave Bear (Earth's Children, #1)\": 495,\n",
              " 'Black Beauty': 496,\n",
              " 'War and Peace': 497,\n",
              " 'American Psycho': 498,\n",
              " 'The Princess Diaries (The Princess Diaries, #1)': 499,\n",
              " \"The No. 1 Ladies' Detective Agency  (No. 1 Ladies' Detective Agency, #1)\": 500,\n",
              " 'The Walking Dead, Vol. 01: Days Gone Bye': 501,\n",
              " '2001: A Space Odyssey (Space Odyssey, #1)': 502,\n",
              " 'Redeeming Love': 503,\n",
              " 'Left Behind (Left Behind, #1)': 504,\n",
              " 'The One (The Selection, #3)': 505,\n",
              " 'The Hunger Games Trilogy Boxset (The Hunger Games, #1-3)': 506,\n",
              " 'Nickel and Dimed: On (Not) Getting By in America': 507,\n",
              " 'Remember Me?': 508,\n",
              " 'The Great Hunt (Wheel of Time, #2)': 509,\n",
              " 'Postmortem (Kay Scarpetta, #1)': 510,\n",
              " 'The Complete Stories and Poems': 511,\n",
              " 'The Hiding Place: The Triumphant True Story of Corrie Ten Boom': 512,\n",
              " 'The Adventures of Sherlock Holmes': 513,\n",
              " 'The Prince of Tides': 514,\n",
              " 'The Amazing Adventures of Kavalier & Clay': 515,\n",
              " 'Perfect Chemistry (Perfect Chemistry, #1)': 516,\n",
              " 'Peter Pan': 517,\n",
              " 'Pretties (Uglies, #2)': 518,\n",
              " 'The Wind-Up Bird Chronicle': 519,\n",
              " 'The Lincoln Lawyer (Mickey Haller, #1; Harry Bosch Universe, #16)': 520,\n",
              " 'Cloud Atlas': 521,\n",
              " 'The Things They Carried': 522,\n",
              " 'Wall and Piece': 523,\n",
              " 'Pandemonium (Delirium, #2)': 524,\n",
              " 'Darkly Dreaming Dexter (Dexter, #1)': 525,\n",
              " 'Living Dead in Dallas (Sookie Stackhouse, #2)': 526,\n",
              " 'The Dragon Reborn (Wheel of Time, #3)': 527,\n",
              " \"Gulliver's Travels\": 528,\n",
              " 'Much Ado About Nothing': 529,\n",
              " 'Beowulf': 530,\n",
              " 'Batman: Year One': 531,\n",
              " 'Go Set a Watchman': 532,\n",
              " 'When You Are Engulfed in Flames': 533,\n",
              " 'Daughter of Smoke & Bone (Daughter of Smoke & Bone, #1)': 534,\n",
              " 'Red Queen (Red Queen, #1)': 535,\n",
              " 'The Power of Habit: Why We Do What We Do in Life and Business': 536,\n",
              " 'Midnight in the Garden of Good and Evil': 537,\n",
              " 'Hopeless (Hopeless, #1)': 538,\n",
              " 'A Little Princess': 539,\n",
              " 'The Truth About Forever': 540,\n",
              " 'The Horse and His Boy (Chronicles of Narnia, #5)': 541,\n",
              " 'Last Sacrifice (Vampire Academy, #6)': 542,\n",
              " 'Little House on the Prairie (Little House, #2)': 543,\n",
              " 'The Velveteen Rabbit': 544,\n",
              " 'Zen and the Art of Motorcycle Maintenance: An Inquiry Into Values': 545,\n",
              " 'The War of the Worlds': 546,\n",
              " 'Pretty Little Liars (Pretty Little Liars, #1)': 547,\n",
              " 'Corduroy': 548,\n",
              " \"The Omnivore's Dilemma: A Natural History of Four Meals\": 549,\n",
              " 'Life After Life': 550,\n",
              " 'The Rescue': 551,\n",
              " 'Needful Things': 552,\n",
              " 'Voyager (Outlander, #3)': 553,\n",
              " 'Hamlet: Screenplay, Introduction And Film Diary': 554,\n",
              " 'Cujo': 555,\n",
              " 'The Virgin Suicides': 556,\n",
              " 'Dead to the World (Sookie Stackhouse, #4)': 557,\n",
              " \"Tess of the D'Urbervilles\": 558,\n",
              " 'Madame Bovary': 559,\n",
              " 'The Phantom Tollbooth': 560,\n",
              " 'The Way of Kings (The Stormlight Archive, #1)': 561,\n",
              " 'Club Dead (Sookie Stackhouse, #3)': 562,\n",
              " \"It's Kind of a Funny Story\": 563,\n",
              " 'The Well of Ascension (Mistborn, #2)': 564,\n",
              " 'After You (Me Before You, #2)': 565,\n",
              " 'The Language of Flowers': 566,\n",
              " 'Batman: The Dark Knight Returns (The Dark Knight Saga, #1)': 567,\n",
              " 'The Angel Experiment (Maximum Ride, #1)': 568,\n",
              " 'High Fidelity': 569,\n",
              " 'The Guardian': 570,\n",
              " 'Oryx and Crake (MaddAddam, #1)': 571,\n",
              " 'Men Are from Mars, Women Are from Venus': 572,\n",
              " 'Kitchen Confidential: Adventures in the Culinary Underbelly': 573,\n",
              " 'Timeline': 574,\n",
              " 'Candide': 575,\n",
              " 'Tuck Everlasting': 576,\n",
              " 'Christine': 577,\n",
              " 'Are You My Mother?': 578,\n",
              " 'The Story of Art': 579,\n",
              " 'Scarlet (The Lunar Chronicles, #2)': 580,\n",
              " 'Rich Dad, Poor Dad': 581,\n",
              " 'Silence (Hush, Hush, #3)': 582,\n",
              " 'The Magicians (The Magicians #1)': 583,\n",
              " 'Death Note, Vol. 1: Boredom (Death Note, #1)': 584,\n",
              " 'A Great and Terrible Beauty (Gemma Doyle, #1)': 585,\n",
              " 'Everything Is Illuminated': 586,\n",
              " 'The Bourne Supremacy (Jason Bourne, #2)': 587,\n",
              " 'Easy (Contours of the Heart, #1)': 588,\n",
              " 'David Copperfield': 589,\n",
              " 'The Absolutely True Diary of a Part-Time Indian': 590,\n",
              " 'The Master and Margarita': 591,\n",
              " 'A Wizard of Earthsea (Earthsea Cycle, #1)': 592,\n",
              " 'Because of Winn-Dixie': 593,\n",
              " 'A Separate Peace': 594,\n",
              " 'The Rainmaker': 595,\n",
              " 'Don Quixote': 596,\n",
              " \"Assassin's Apprentice (Farseer Trilogy, #1)\": 597,\n",
              " \"The Restaurant at the End of the Universe (Hitchhiker's Guide, #2)\": 598,\n",
              " 'Torment (Fallen, #2)': 599,\n",
              " 'The Tale of Peter Rabbit': 600,\n",
              " 'The Silver Chair (Chronicles of Narnia, #4)': 601,\n",
              " 'The Hero of Ages (Mistborn, #3)': 602,\n",
              " 'Girl, Interrupted': 603,\n",
              " \"Are You There, Vodka? It's Me, Chelsea\": 604,\n",
              " 'Jonathan Livingston Seagull': 605,\n",
              " 'City of Heavenly Fire (The Mortal Instruments, #6)': 606,\n",
              " 'Love You Forever': 607,\n",
              " 'Cell': 608,\n",
              " 'The Boys in the Boat: Nine Americans and Their Epic Quest for Gold at the 1936 Berlin Olympics': 609,\n",
              " 'The Silmarillion (Middle-Earth Universe)': 610,\n",
              " 'The Drawing of the Three (The Dark Tower, #2)': 611,\n",
              " 'The Forgotten Garden': 612,\n",
              " 'The Trial': 613,\n",
              " 'This Lullaby': 614,\n",
              " 'Plain Truth': 615,\n",
              " 'Orange Is the New Black': 616,\n",
              " 'The Hound of the Baskervilles': 617,\n",
              " 'Thinking, Fast and Slow': 618,\n",
              " 'The Mists of Avalon (Avalon, #1)': 619,\n",
              " \"Are You There God? It's Me, Margaret\": 620,\n",
              " 'Nights in Rodanthe': 621,\n",
              " 'Mr. Mercedes (Bill Hodges Trilogy, #1)': 622,\n",
              " 'All Together Dead (Sookie Stackhouse, #7)': 623,\n",
              " 'Midwives': 624,\n",
              " 'The Polar Express': 625,\n",
              " 'The True Story of the 3 Little Pigs': 626,\n",
              " 'Patriot Games (Jack Ryan Universe, #2)': 627,\n",
              " 'Veronika Decides to Die': 628,\n",
              " 'Lean In: Women, Work, and the Will to Lead': 629,\n",
              " 'Dead as a Doornail (Sookie Stackhouse, #5)': 630,\n",
              " 'Shatter Me (Shatter Me, #1)': 631,\n",
              " 'Starship Troopers': 632,\n",
              " \"I've Got Your Number\": 633,\n",
              " \"Sophie's World\": 634,\n",
              " 'The Twilight Saga Breaking Dawn Part 1: The Official Illustrated Movie Companion (The Twilight Saga: The Official Illustrated Movie Companion, #4)': 635,\n",
              " 'The Martian Chronicles': 636,\n",
              " 'A Visit from the Goon Squad': 637,\n",
              " 'Heidi': 638,\n",
              " 'Prey': 639,\n",
              " 'The Last Battle (Chronicles of Narnia, #7)': 640,\n",
              " 'World Without End (The Kingsbridge Series, #2)': 641,\n",
              " 'Chosen (House of Night, #3)': 642,\n",
              " 'Slammed (Slammed, #1)': 643,\n",
              " 'Beastly (Beastly, #1; Kendra Chronicles, #1)': 644,\n",
              " 'The Canterbury Tales': 645,\n",
              " 'Baby Proof': 646,\n",
              " 'Inheritance (The Inheritance Cycle, #4)': 647,\n",
              " '1Q84': 648,\n",
              " \"Uncle Tom's Cabin\": 649,\n",
              " 'The Phantom of the Opera': 650,\n",
              " 'Definitely Dead (Sookie Stackhouse, #6)': 651,\n",
              " 'Blindness': 652,\n",
              " 'Freedom': 653,\n",
              " 'Crossed (Matched, #2)': 654,\n",
              " \"I'd Tell You I Love You, But Then I'd Have to Kill You (Gallagher Girls, #1)\": 655,\n",
              " 'The White Tiger': 656,\n",
              " 'The Corrections': 657,\n",
              " 'Dreams from My Father: A Story of Race and Inheritance': 658,\n",
              " 'Congo': 659,\n",
              " 'Alexander and the Terrible, Horrible, No Good, Very Bad Day': 660,\n",
              " 'Interpreter of Maladies': 661,\n",
              " \"A People's History of the United States\": 662,\n",
              " \"Breakfast at Tiffany's\": 663,\n",
              " 'The Passage (The Passage, #1)': 664,\n",
              " 'Anansi Boys': 665,\n",
              " 'Along for the Ride': 666,\n",
              " 'Everything I Never Told You': 667,\n",
              " 'The House of the Spirits': 668,\n",
              " 'The Dead Zone': 669,\n",
              " 'The Mysterious Affair at Styles (Hercule Poirot, #1)': 670,\n",
              " 'Murder on the Orient Express (Hercule Poirot, #10)': 671,\n",
              " 'Americanah': 672,\n",
              " \"Suzanne's Diary for Nicholas\": 673,\n",
              " 'Firestarter': 674,\n",
              " 'Entwined with You (Crossfire, #3)': 675,\n",
              " 'Born to Run: A Hidden Tribe, Superathletes, and the Greatest Race the World Has Never Seen': 676,\n",
              " 'The Storied Life of A.J. Fikry': 677,\n",
              " 'Madeline': 678,\n",
              " 'Think and Grow Rich: The Landmark Bestseller - Now Revised and Updated for the 21st Century': 679,\n",
              " 'Little House in the Big Woods (Little House, #1)': 680,\n",
              " 'Jonathan Strange & Mr Norrell': 681,\n",
              " 'A Bend in the Road': 682,\n",
              " 'The House of Hades (The Heroes of Olympus, #4)': 683,\n",
              " 'Gone (Gone, #1)': 684,\n",
              " 'The Wedding (The Notebook, #2)': 685,\n",
              " '1776': 686,\n",
              " 'Under the Banner of Heaven: A Story of Violent Faith': 687,\n",
              " 'Beautiful Ruins': 688,\n",
              " 'The Audacity of Hope: Thoughts on Reclaiming the American Dream': 689,\n",
              " 'On Writing: A Memoir of the Craft': 690,\n",
              " 'Firefly Lane (Firefly Lane, #1)': 691,\n",
              " 'Sphere': 692,\n",
              " \"Love the One You're With\": 693,\n",
              " 'The Silkworm (Cormoran Strike, #2)': 694,\n",
              " 'The Vampire Lestat (The Vampire Chronicles, #2)': 695,\n",
              " 'State of Wonder': 696,\n",
              " 'The Silver Linings Playbook': 697,\n",
              " 'Twenty Thousand Leagues Under the Sea': 698,\n",
              " 'The Constant Princess (The Plantagenet and Tudor Novels, #6)': 699,\n",
              " 'Mrs. Dalloway': 700,\n",
              " 'The Hundred-Year-Old Man Who Climbed Out of the Window and Disappeared': 701,\n",
              " 'Bag of Bones': 702,\n",
              " 'The Cider House Rules': 703,\n",
              " 'Thinner': 704,\n",
              " 'Around the World in Eighty Days': 705,\n",
              " 'Walk Two Moons': 706,\n",
              " 'Eleven Minutes': 707,\n",
              " 'Nine Stories': 708,\n",
              " 'Julie and Julia: 365 Days, 524 Recipes, 1 Tiny Apartment Kitchen: How One Girl Risked Her Marriage, Her Job, and Her Sanity to Master the Art of Living': 709,\n",
              " 'Unwind (Unwind, #1)': 710,\n",
              " 'Drums of Autumn (Outlander, #4)': 711,\n",
              " 'Prodigy (Legend, #2)': 712,\n",
              " 'King Lear': 713,\n",
              " 'Death of a Salesman': 714,\n",
              " 'The Choice': 715,\n",
              " 'The Hunger Games: Official Illustrated Movie Companion': 716,\n",
              " 'The Sound and the Fury': 717,\n",
              " \"A New Earth: Awakening to Your Life's Purpose\": 718,\n",
              " 'Bleach, Volume 01': 719,\n",
              " 'Hyperbole and a Half: Unfortunate Situations, Flawed Coping Mechanisms, Mayhem, and Other Things That Happened': 720,\n",
              " 'The Shadow Rising (Wheel of Time, #4)': 721,\n",
              " 'Shantaram': 722,\n",
              " 'From Dead to Worse (Sookie Stackhouse, #8)': 723,\n",
              " 'The Waste Lands (The Dark Tower, #3)': 724,\n",
              " 'The Bone Collector (Lincoln Rhyme, #1)': 725,\n",
              " 'The Reader': 726,\n",
              " 'Brown Bear, Brown Bear, What Do You See?': 727,\n",
              " 'Hyperion (Hyperion Cantos, #1)': 728,\n",
              " 'The Pearl': 729,\n",
              " 'The Exorcist': 730,\n",
              " 'The Short Second Life of Bree Tanner: An Eclipse Novella (Twilight, #3.5)': 731,\n",
              " 'Snow Falling on Cedars': 732,\n",
              " 'Roots: The Saga of an American Family': 733,\n",
              " 'Batman: The Killing Joke': 734,\n",
              " 'Invisible Man': 735,\n",
              " 'A Long Way Gone: Memoirs of a Boy Soldier': 736,\n",
              " 'Mrs. Frisby and the Rats of NIMH (Rats of NIMH, #1)': 737,\n",
              " 'Different Seasons': 738,\n",
              " 'The Little House Collection (Little House, #1-9)': 739,\n",
              " \"The Girls' Guide to Hunting and Fishing\": 740,\n",
              " 'Wool Omnibus (Silo, #1)': 741,\n",
              " \"Lamb: The Gospel According to Biff, Christ's Childhood Pal\": 742,\n",
              " 'The Power of Now: A Guide to Spiritual Enlightenment': 743,\n",
              " \"Let's Pretend This Never Happened: A Mostly True Memoir\": 744,\n",
              " 'The Lies of Locke Lamora (Gentleman Bastard, #1)': 745,\n",
              " 'Sabriel (Abhorsen,  #1)': 746,\n",
              " 'Dead and Gone (Sookie Stackhouse, #9)': 747,\n",
              " 'The Storyteller': 748,\n",
              " 'Obsidian (Lux, #1)': 749,\n",
              " \"Life, the Universe and Everything (Hitchhiker's Guide, #3)\": 750,\n",
              " 'Crown of Midnight (Throne of Glass, #2)': 751,\n",
              " \"Scott Pilgrim, Volume 1: Scott Pilgrim's Precious Little Life\": 752,\n",
              " 'Half Broke Horses': 753,\n",
              " 'Mort (Death, #1; Discworld, #4)': 754,\n",
              " 'The Iron King (The Iron Fey, #1)': 755,\n",
              " 'Lonesome Dove': 756,\n",
              " 'Stiff: The Curious Lives of Human Cadavers': 757,\n",
              " 'Bloodlines (Bloodlines, #1)': 758,\n",
              " \"Ender's Shadow (Ender's Shadow, #1)\": 759,\n",
              " 'Twenties Girl': 760,\n",
              " \"Schindler's List\": 761,\n",
              " 'The Bluest Eye': 762,\n",
              " 'The White Queen (The Plantagenet and Tudor Novels, #2)': 763,\n",
              " 'The Autobiography of Malcolm X': 764,\n",
              " 'Preludes & Nocturnes (The Sandman #1)': 765,\n",
              " 'Seabiscuit: An American Legend': 766,\n",
              " 'Shutter Island': 767,\n",
              " 'The Complete Sherlock Holmes': 768,\n",
              " 'Julius Caesar': 769,\n",
              " \"In the Garden of Beasts: Love, Terror, and an American Family in Hitler's Berlin\": 770,\n",
              " 'The Republic': 771,\n",
              " 'The Taming of the Shrew': 772,\n",
              " 'Cress (The Lunar Chronicles, #3)': 773,\n",
              " 'Just Kids': 774,\n",
              " 'The Art Book': 775,\n",
              " 'Jemima J': 776,\n",
              " 'The Hunchback of Notre-Dame': 777,\n",
              " 'A Fine Balance': 778,\n",
              " 'Calvin and Hobbes': 779,\n",
              " 'Specials (Uglies, #3)': 780,\n",
              " 'The Awakening': 781,\n",
              " 'Hunted (House of Night, #5)': 782,\n",
              " 'For One More Day': 783,\n",
              " 'Clear and Present Danger (Jack Ryan Universe, #6)': 784,\n",
              " 'Falling Up': 785,\n",
              " 'Sh*t My Dad Says': 786,\n",
              " 'Trainspotting': 787,\n",
              " 'Foundation and Empire (Foundation #2)': 788,\n",
              " 'The Four Agreements: A Practical Guide to Personal Freedom': 789,\n",
              " 'House Rules': 790,\n",
              " \"The Complete Grimm's Fairy Tales\": 791,\n",
              " 'From the Mixed-Up Files of Mrs. Basil E. Frankweiler': 792,\n",
              " 'Doctor Sleep (The Shining, #2)': 793,\n",
              " 'About a Boy': 794,\n",
              " 'On Dublin Street (On Dublin Street, #1)': 795,\n",
              " 'Crazy Love: Overwhelmed by a Relentless God': 796,\n",
              " 'One Fish, Two Fish, Red Fish, Blue Fish': 797,\n",
              " 'Watchers': 798,\n",
              " 'The Story of My Life': 799,\n",
              " 'This is Where I Leave You': 800,\n",
              " 'Abraham Lincoln: Vampire Hunter': 801,\n",
              " 'Fruits Basket, Vol. 1': 802,\n",
              " 'The Tempest': 803,\n",
              " 'Burned (House of Night, #7)': 804,\n",
              " 'Wizard and Glass (The Dark Tower, #4)': 805,\n",
              " 'The Circle': 806,\n",
              " 'The Invention of Hugo Cabret': 807,\n",
              " 'Brave New World / Brave New World Revisited': 808,\n",
              " 'Ouran High School Host Club, Vol. 1 (Ouran High School Host Club, #1)': 809,\n",
              " 'The Good Girl': 810,\n",
              " 'Fallen Too Far (Rosemary Beach, #1; Too Far, #1)': 811,\n",
              " 'Landline': 812,\n",
              " 'Tempted (House of Night, #6)': 813,\n",
              " 'No Country for Old Men': 814,\n",
              " 'Wolf Hall (Thomas Cromwell, #1)': 815,\n",
              " \"Howl's Moving Castle (Howl's Moving Castle, #1)\": 816,\n",
              " 'Dreamcatcher': 817,\n",
              " 'Walden': 818,\n",
              " 'The Remains of the Day': 819,\n",
              " 'The Best of Me': 820,\n",
              " 'The Sense of an Ending': 821,\n",
              " 'A is for Alibi (Kinsey Millhone, #1)': 822,\n",
              " 'Oedipus Rex  (The Theban Plays, #1)': 823,\n",
              " 'Shanghai Girls (Shanghai Girls #1)': 824,\n",
              " 'The Wind in the Willows': 825,\n",
              " \"To All the Boys I've Loved Before (To All the Boys I've Loved Before, #1)\": 826,\n",
              " 'Persepolis: The Story of a Childhood (Persepolis, #1)': 827,\n",
              " 'A Room with a View': 828,\n",
              " 'The DUFF: Designated Ugly Fat Friend': 829,\n",
              " 'Lock and Key': 830,\n",
              " 'Naked in Death (In Death, #1)': 831,\n",
              " 'The Chamber': 832,\n",
              " 'Midnight Sun (Twilight, #1.5)': 833,\n",
              " 'Naruto, Vol. 01: The Tests of the Ninja (Naruto, #1)': 834,\n",
              " 'The Unlikely Pilgrimage of Harold Fry (Harold Fry, #1)': 835,\n",
              " 'Every Day (Every Day, #1)': 836,\n",
              " \"Xenocide (Ender's Saga, #3)\": 837,\n",
              " 'The Merchant of Venice': 838,\n",
              " 'Shōgun (Asian Saga, #1)': 839,\n",
              " 'Lover Awakened (Black Dagger Brotherhood, #3)': 840,\n",
              " 'A Court of Thorns and Roses (A Court of Thorns and Roses, #1)': 841,\n",
              " 'Fifty Shades Trilogy (Fifty Shades, #1-3)': 842,\n",
              " 'Chicka Chicka Boom Boom': 843,\n",
              " 'Smile': 844,\n",
              " 'Animal Farm / 1984': 845,\n",
              " 'The Deep End of the Ocean (Cappadora Family, #1)': 846,\n",
              " \"The Bonesetter's Daughter\": 847,\n",
              " 'Angus, Thongs and Full-Frontal Snogging (Confessions of Georgia Nicolson, #1)': 848,\n",
              " \"Mr. Penumbra's 24-Hour Bookstore (Mr. Penumbra's 24-Hour Bookstore, #1)\": 849,\n",
              " 'Flowers in the Attic (Dollanganger, #1)': 850,\n",
              " 'When Breath Becomes Air': 851,\n",
              " 'Maniac Magee': 852,\n",
              " 'Invisible Monsters': 853,\n",
              " 'Twelfth Night': 854,\n",
              " 'Gathering Blue (The Giver, #2)': 855,\n",
              " 'The Westing Game': 856,\n",
              " 'Red Rising (Red Rising, #1)': 857,\n",
              " 'The Way of Shadows (Night Angel, #1)': 858,\n",
              " 'The Bean Trees (Greer Family, #1)': 859,\n",
              " 'Walking Disaster (Beautiful, #2)': 860,\n",
              " 'Words of Radiance (The Stormlight Archive, #2)': 861,\n",
              " 'Guess How Much I Love You': 862,\n",
              " 'The Fiery Cross (Outlander, #5)': 863,\n",
              " 'Night Shift': 864,\n",
              " 'Jaws': 865,\n",
              " 'The History of Love': 866,\n",
              " 'Pippi Longstocking': 867,\n",
              " 'The Elegance of the Hedgehog': 868,\n",
              " 'Team of Rivals: The Political Genius of Abraham Lincoln': 869,\n",
              " 'Dead in the Family (Sookie Stackhouse, #10)': 870,\n",
              " 'The Plague': 871,\n",
              " 'The Reptile Room (A Series of Unfortunate Events, #2)': 872,\n",
              " 'Brain on Fire: My Month of Madness': 873,\n",
              " 'Wicked Lovely (Wicked Lovely, #1)': 874,\n",
              " 'Curious George': 875,\n",
              " 'The Neverending Story': 876,\n",
              " 'A Beautiful Mind': 877,\n",
              " 'The Jungle': 878,\n",
              " 'The Summoning (Darkest Powers, #1)': 879,\n",
              " 'The Man Who Mistook His Wife for a Hat and Other Clinical Tales': 880,\n",
              " 'Eye of the Needle': 881,\n",
              " 'The Blind Assassin': 882,\n",
              " 'Hollow City (Miss Peregrine’s Peculiar Children, #2)': 883,\n",
              " 'House of Sand and Fog': 884,\n",
              " 'The Girl with All the Gifts': 885,\n",
              " 'As I Lay Dying': 886,\n",
              " 'Harold and the Purple Crayon': 887,\n",
              " 'Lover Eternal (Black Dagger Brotherhood, #2)': 888,\n",
              " 'Second Foundation (Foundation #3)': 889,\n",
              " 'Fool Moon (The Dresden Files, #2)': 890,\n",
              " 'David and Goliath: Underdogs, Misfits, and the Art of Battling Giants': 891,\n",
              " 'Fullmetal Alchemist, Vol. 1 (Fullmetal Alchemist, #1)': 892,\n",
              " 'Guards! Guards! (Discworld, #8)': 893,\n",
              " 'The Year of Magical Thinking': 894,\n",
              " 'We Need to Talk About Kevin': 895,\n",
              " 'Rendezvous with Rama (Rama, #1)': 896,\n",
              " 'The Queen of the Damned (The Vampire Chronicles, #3)': 897,\n",
              " 'The Age of Innocence': 898,\n",
              " 'The Selfish Gene': 899,\n",
              " 'Year of Wonders': 900,\n",
              " 'The Black Echo (Harry Bosch, #1; Harry Bosch Universe, #1)': 901,\n",
              " 'Anthem': 902,\n",
              " \"Gabriel's Inferno (Gabriel's Inferno, #1)\": 903,\n",
              " 'Cloudy With a Chance of Meatballs': 904,\n",
              " \"Major Pettigrew's Last Stand\": 905,\n",
              " 'Vision in White (Bride Quartet, #1)': 906,\n",
              " 'The Tenth Circle': 907,\n",
              " 'The Throne of Fire (Kane Chronicles, #2)': 908,\n",
              " \"Old Man's War (Old Man's War, #1)\": 909,\n",
              " \"Gerald's Game\": 910,\n",
              " 'Two for the Dough (Stephanie Plum, #2)': 911,\n",
              " 'The Joy of Cooking': 912,\n",
              " 'The Forever War (The Forever War, #1)': 913,\n",
              " 'Insomnia': 914,\n",
              " 'Reading Lolita in Tehran': 915,\n",
              " 'The Blade Itself (The First Law, #1)': 916,\n",
              " 'The Arctic Incident (Artemis Fowl, #2)': 917,\n",
              " 'The Shipping News': 918,\n",
              " 'The Life-Changing Magic of Tidying Up: The Japanese Art of Decluttering and Organizing': 919,\n",
              " 'All the Bright Places': 920,\n",
              " 'Déjà Dead (Temperance Brennan, #1)': 921,\n",
              " 'The Alchemyst (The Secrets of the Immortal Nicholas Flamel, #1)': 922,\n",
              " 'The Marriage Plot': 923,\n",
              " 'Daughter of Fortune': 924,\n",
              " 'Luckiest Girl Alive': 925,\n",
              " 'Crank (Crank, #1)': 926,\n",
              " 'The Raven Boys (The Raven Cycle, #1)': 927,\n",
              " 'I Am Legend and Other Stories': 928,\n",
              " 'Olive Kitteridge': 929,\n",
              " 'Not That Kind of Girl: A Young Woman Tells You What She\\'s \"Learned\"': 930,\n",
              " \"Good to Great: Why Some Companies Make the Leap... and Others Don't\": 931,\n",
              " 'Fire (Graceling Realm, #2)': 932,\n",
              " 'Waiting for Godot': 933,\n",
              " 'White Fang': 934,\n",
              " 'Wolves of the Calla (The Dark Tower, #5)': 935,\n",
              " 'His Dark Materials (His Dark Materials #1-3)': 936,\n",
              " 'The Edge of Never (The Edge of Never, #1)': 937,\n",
              " 'Reconstructing Amelia': 938,\n",
              " 'One Plus One': 939,\n",
              " 'The Hours': 940,\n",
              " 'Wallbanger (Cocktail, #1)': 941,\n",
              " 'Holidays on Ice': 942,\n",
              " 'Desperation': 943,\n",
              " 'Passion (Fallen, #3)': 944,\n",
              " 'The Kill Order (Maze Runner, #0.5)': 945,\n",
              " 'Angelfall (Penryn & the End of Days, #1)': 946,\n",
              " 'Empire Falls': 947,\n",
              " 'The Fires of Heaven (Wheel of Time, #5)': 948,\n",
              " \"I'll Give You the Sun\": 949,\n",
              " 'Survivor': 950,\n",
              " 'Shopaholic & Baby (Shopaholic, #5)': 951,\n",
              " 'The Dark Tower (The Dark Tower, #7)': 952,\n",
              " \"Twilight Director's Notebook : The Story of How We Made the Movie Based on the Novel by Stephenie Meyer\": 953,\n",
              " 'Shopaholic Takes Manhattan (Shopaholic, #2)': 954,\n",
              " \"Surely You're Joking, Mr. Feynman!: Adventures of a Curious Character\": 955,\n",
              " 'Linger (The Wolves of Mercy Falls, #2)': 956,\n",
              " 'The Complete Anne of Green Gables Boxed Set (Anne of Green Gables, #1-8)': 957,\n",
              " 'A Portrait of the Artist as a Young Man': 958,\n",
              " 'The Gathering Storm (Wheel of Time, #12)': 959,\n",
              " 'Middlemarch': 960,\n",
              " 'Point of Retreat (Slammed, #2)': 961,\n",
              " 'The Partner': 962,\n",
              " 'J.R.R. Tolkien 4-Book Boxed Set: The Hobbit and The Lord of the Rings': 963,\n",
              " 'Thoughtless (Thoughtless, #1)': 964,\n",
              " 'Presumed Innocent': 965,\n",
              " 'The Dark Half': 966,\n",
              " 'Cleopatra: A Life': 967,\n",
              " 'The World Is Flat: A Brief History of the Twenty-first Century': 968,\n",
              " 'Steelheart (The Reckoners, #1)': 969,\n",
              " 'The Rainbow Fish': 970,\n",
              " 'Journey to the Center of the Earth (Extraordinary Voyages, #3)': 971,\n",
              " 'The Happiness Project: Or Why I Spent a Year Trying to Sing in the Morning, Clean My Closets, Fight Right, Read Aristotle, and Generally Have More Fun': 972,\n",
              " 'The Man in the High Castle': 973,\n",
              " 'Helter Skelter: The True Story of the Manson Murders': 974,\n",
              " \"Dr. Seuss's Green Eggs and Ham: For Soprano, Boy Soprano, and Orchestra\": 975,\n",
              " 'Inferno (The Divine Comedy #1)': 976,\n",
              " 'Shadow of Night (All Souls Trilogy, #2)': 977,\n",
              " 'Leaving Time': 978,\n",
              " 'Moon Called (Mercy Thompson, #1)': 979,\n",
              " 'Blue Bloods (Blue Bloods, #1)': 980,\n",
              " 'The Alienist (Dr. Laszlo Kreizler, #1)': 981,\n",
              " 'Between the World and Me': 982,\n",
              " 'Paradise Lost': 983,\n",
              " 'The Big Short: Inside the Doomsday Machine': 984,\n",
              " 'The Girl Who Loved Tom Gordon': 985,\n",
              " 'A Monster Calls': 986,\n",
              " 'Towers of Midnight (Wheel of Time, #13)': 987,\n",
              " 'The Day of the Jackal': 988,\n",
              " 'Rework': 989,\n",
              " 'Attachments': 990,\n",
              " 'The Twilight Saga (Twilight, #1-4)': 991,\n",
              " \"Tell the Wolves I'm Home\": 992,\n",
              " 'All Creatures Great and Small (All Creatures Great and Small, #1-2)': 993,\n",
              " 'The Unbecoming of Mara Dyer (Mara Dyer, #1)': 994,\n",
              " 'Three to Get Deadly (Stephanie Plum, #3)': 995,\n",
              " 'The Scarlet Pimpernel': 996,\n",
              " 'The Monster at the End of this Book': 997,\n",
              " 'Tales of a Fourth Grade Nothing (Fudge, #1)': 998,\n",
              " 'Shadow and Bone (Shadow and Bone, #1)': 999,\n",
              " ...}"
            ]
          },
          "execution_count": 53,
          "metadata": {},
          "output_type": "execute_result"
        }
      ],
      "source": [
        "book_to_idx"
      ],
      "id": "36beb875"
    },
    {
      "cell_type": "code",
      "execution_count": null,
      "metadata": {
        "id": "fcb220a5"
      },
      "outputs": [],
      "source": [
        "from sklearn.neighbors import NearestNeighbors\n",
        "model_knn_euc = NearestNeighbors(metric='euclidean', algorithm='auto', n_neighbors=21, n_jobs=-1)"
      ],
      "id": "fcb220a5"
    },
    {
      "cell_type": "code",
      "execution_count": null,
      "metadata": {
        "id": "4a65c401"
      },
      "outputs": [],
      "source": [
        "from sklearn.neighbors import NearestNeighbors\n",
        "model_knn_cos = NearestNeighbors(metric='cosine', algorithm='auto', n_neighbors=21, n_jobs=-1)"
      ],
      "id": "4a65c401"
    },
    {
      "cell_type": "code",
      "execution_count": null,
      "metadata": {
        "id": "275a6beb",
        "outputId": "82214885-6a31-40a2-92cd-e55e8cb5ac7e"
      },
      "outputs": [
        {
          "data": {
            "text/plain": [
              "NearestNeighbors(metric='euclidean', n_jobs=-1, n_neighbors=21)"
            ]
          },
          "execution_count": 67,
          "metadata": {},
          "output_type": "execute_result"
        }
      ],
      "source": [
        "# fit\n",
        "model_knn_euc.fit(book_user_mat_sparse)"
      ],
      "id": "275a6beb"
    },
    {
      "cell_type": "code",
      "execution_count": null,
      "metadata": {
        "id": "ebea8269",
        "outputId": "881c50d3-0f80-48d9-ce6c-328db020d20e"
      },
      "outputs": [
        {
          "data": {
            "text/plain": [
              "NearestNeighbors(metric='cosine', n_jobs=-1, n_neighbors=21)"
            ]
          },
          "execution_count": 55,
          "metadata": {},
          "output_type": "execute_result"
        }
      ],
      "source": [
        "# fit\n",
        "model_knn_cos.fit(book_user_mat_sparse)"
      ],
      "id": "ebea8269"
    },
    {
      "cell_type": "code",
      "execution_count": null,
      "metadata": {
        "id": "ed8bc448"
      },
      "outputs": [],
      "source": [
        "def fuzzy_matching(mapper, fav_book, verbose=True):\n",
        "    \"\"\"\n",
        "    return the closest match via fuzzy ratio. If no match found, return None\n",
        "    \n",
        "    Parameters\n",
        "    ----------    \n",
        "    mapper: dict, map book title name to index of the book in data\n",
        "\n",
        "    fav_book: str, name of user input book\n",
        "    \n",
        "    verbose: bool, print log if True\n",
        "\n",
        "    Return\n",
        "    ------\n",
        "    index of the closest match\n",
        "    \"\"\"\n",
        "    match_tuple = []\n",
        "    # get match\n",
        "    for title, idx in mapper.items():\n",
        "        ratio = fuzz.ratio(title.lower(), fav_book.lower())\n",
        "        if ratio >= 60:\n",
        "            match_tuple.append((title, idx, ratio))\n",
        "    # sort\n",
        "    match_tuple = sorted(match_tuple, key=lambda x: x[2])[::-1]\n",
        "    if not match_tuple:\n",
        "        print('Oops! No match is found')\n",
        "        return\n",
        "    if verbose:\n",
        "        print('Found possible matches in our database: {0}\\n'.format([x[0] for x in match_tuple]))\n",
        "    return match_tuple[0][1]"
      ],
      "id": "ed8bc448"
    },
    {
      "cell_type": "code",
      "execution_count": null,
      "metadata": {
        "id": "2917deac"
      },
      "outputs": [],
      "source": [
        "def make_recommendation(model_knn, data, mapper, fav_book, n_recommendations):\n",
        "    \"\"\"\n",
        "    return top n similar book recommendations based on user's input book\n",
        "\n",
        "\n",
        "    Parameters\n",
        "    ----------\n",
        "    model_knn: sklearn model, knn model\n",
        "\n",
        "    data: book-user matrix\n",
        "\n",
        "    mapper: dict, map book title name to index of the book in data\n",
        "\n",
        "    fav_movie: str, name of user input movie\n",
        "\n",
        "    n_recommendations: int, top n recommendations\n",
        "\n",
        "    Return\n",
        "    ------\n",
        "    list of top n similar book recommendations\n",
        "    \"\"\"\n",
        "    # fit\n",
        "    model_knn.fit(data)\n",
        "    # get input book index\n",
        "    print('You have input book:', fav_book)\n",
        "    idx = fuzzy_matching(mapper, fav_book, verbose=True)\n",
        "    # inference\n",
        "    print('Recommendation system start to make inference')\n",
        "    print('......\\n')\n",
        "    distances, indices = model_knn.kneighbors(data[idx], n_neighbors=n_recommendations+1)\n",
        "    # get list of raw idx of recommendations\n",
        "    raw_recommends = \\\n",
        "        sorted(list(zip(indices.squeeze().tolist(), distances.squeeze().tolist())), key=lambda x: x[1])[:0:-1]\n",
        "    # get reverse mapper\n",
        "    reverse_mapper = {v: k for k, v in mapper.items()}\n",
        "    # print recommendations\n",
        "    print('Recommendations for {}:'.format(fav_book))\n",
        "    for i, (idx, dist) in enumerate(raw_recommends):\n",
        "        print('{0}: {1}, with distance of {2}'.format(i+1, reverse_mapper[idx], dist))"
      ],
      "id": "2917deac"
    },
    {
      "cell_type": "code",
      "execution_count": null,
      "metadata": {
        "id": "b01f1dbd",
        "outputId": "9a5f69c3-d9ba-4b86-af15-a2ca07e0d39c"
      },
      "outputs": [
        {
          "name": "stdout",
          "output_type": "stream",
          "text": [
            "enter a book name to get recommendations: great gatsby\n"
          ]
        }
      ],
      "source": [
        "my_favorite =input(\"enter a book name to get recommendations: \")"
      ],
      "id": "b01f1dbd"
    },
    {
      "cell_type": "code",
      "execution_count": null,
      "metadata": {
        "id": "1980e404",
        "scrolled": true
      },
      "outputs": [],
      "source": [
        "make_recommendation(\n",
        "    model_knn=model_knn_euc,\n",
        "    data=book_user_mat_sparse,\n",
        "    fav_book=my_favorite,\n",
        "    mapper=book_to_idx,\n",
        "    n_recommendations=10)"
      ],
      "id": "1980e404"
    },
    {
      "cell_type": "code",
      "execution_count": null,
      "metadata": {
        "id": "0d57ab71",
        "outputId": "33708de8-ea73-46fa-b2e7-ef7d719840a8"
      },
      "outputs": [
        {
          "name": "stdout",
          "output_type": "stream",
          "text": [
            "You have input book: great gatsby\n",
            "Found possible matches in our database: ['The Great Gatsby', 'Great House', 'Great Expectations']\n",
            "\n",
            "Recommendation system start to make inference\n",
            "......\n",
            "\n",
            "Recommendations for great gatsby:\n",
            "1: Jane Eyre, with distance of 0.579522894680147\n",
            "2: Harry Potter and the Sorcerer's Stone (Harry Potter, #1), with distance of 0.5582313787650417\n",
            "3: Romeo and Juliet, with distance of 0.5505435126812175\n",
            "4: Pride and Prejudice, with distance of 0.5339919124048029\n",
            "5: Of Mice and Men, with distance of 0.520644336516682\n",
            "6: Lord of the Flies, with distance of 0.5138332669969189\n",
            "7: 1984, with distance of 0.5107401410708425\n",
            "8: Animal Farm, with distance of 0.5071120285008361\n",
            "9: The Catcher in the Rye, with distance of 0.42258644652160393\n",
            "10: To Kill a Mockingbird, with distance of 0.41241357945119217\n"
          ]
        }
      ],
      "source": [
        "make_recommendation(\n",
        "    model_knn=model_knn_cos,\n",
        "    data=book_user_mat_sparse,\n",
        "    fav_book=my_favorite,\n",
        "    mapper=book_to_idx,\n",
        "    n_recommendations=10)"
      ],
      "id": "0d57ab71"
    },
    {
      "cell_type": "code",
      "execution_count": null,
      "metadata": {
        "id": "73d963ac"
      },
      "outputs": [],
      "source": [
        "##Evaluation metric:"
      ],
      "id": "73d963ac"
    },
    {
      "cell_type": "code",
      "execution_count": null,
      "metadata": {
        "id": "633eee98"
      },
      "outputs": [],
      "source": [
        "##Fuzzy matching with KNN is computationally expensive with  quadratic time complexity.It is difficult  for large datasets and also suffers from cold start scenario "
      ],
      "id": "633eee98"
    },
    {
      "cell_type": "code",
      "execution_count": null,
      "metadata": {
        "id": "c019dd9c"
      },
      "outputs": [],
      "source": [
        "##Optimised Fuzzy matching TF-IDF with KNN "
      ],
      "id": "c019dd9c"
    },
    {
      "cell_type": "code",
      "execution_count": null,
      "metadata": {
        "id": "117e37c7"
      },
      "outputs": [],
      "source": [
        "# Import module for data manipulation\n",
        "import pandas as pd\n",
        "# Import module for linear algebra\n",
        "import numpy as np\n",
        "# Import module for Fuzzy string matching\n",
        "from fuzzywuzzy import fuzz, process\n",
        "# Import module for regex\n",
        "import re\n",
        "# Import module for iteration\n",
        "import itertools\n",
        "# Import module for function development\n",
        "from typing import Union, List, Tuple\n",
        "# Import module for TF-IDF\n",
        "from sklearn.feature_extraction.text import TfidfVectorizer\n",
        "# Import module for cosine similarity\n",
        "from sklearn.metrics.pairwise import cosine_similarity\n",
        "# Import module for KNN\n",
        "from sklearn.neighbors import NearestNeighbors"
      ],
      "id": "117e37c7"
    },
    {
      "cell_type": "code",
      "execution_count": null,
      "metadata": {
        "id": "a7259cb9"
      },
      "outputs": [],
      "source": [
        "def build_vectorizer(\n",
        "    clean: pd.Series,\n",
        "    analyzer: str = 'char', \n",
        "    ngram_range: Tuple[int, int] = (1, 4), \n",
        "    n_neighbors: int = 1, \n",
        "    **kwargs\n",
        "    ) -> Tuple:\n",
        "    # Create vectorizer\n",
        "    vectorizer = TfidfVectorizer(analyzer = analyzer, ngram_range = ngram_range, **kwargs)\n",
        "    X = vectorizer.fit_transform(clean.values.astype('U'))\n",
        "\n",
        "    # Fit nearest neighbors corpus\n",
        "    nbrs = NearestNeighbors(n_neighbors = n_neighbors, metric = 'cosine').fit(X)\n",
        "    return vectorizer, nbrs"
      ],
      "id": "a7259cb9"
    },
    {
      "cell_type": "code",
      "execution_count": null,
      "metadata": {
        "id": "3deb585d"
      },
      "outputs": [],
      "source": [
        "def build_vectorizer(\n",
        "    clean: pd.Series,\n",
        "    analyzer: str = 'char', \n",
        "    ngram_range: Tuple[int, int] = (1, 4), \n",
        "    n_neighbors: int = 1, \n",
        "    **kwargs\n",
        "    ) -> Tuple:\n",
        "    # Create vectorizer\n",
        "    vectorizer = TfidfVectorizer(analyzer = analyzer, ngram_range = ngram_range, **kwargs)\n",
        "    X = vectorizer.fit_transform(clean.values.astype('U'))\n",
        "\n",
        "    # Fit nearest neighbors corpus\n",
        "    nbrs = NearestNeighbors(n_neighbors = n_neighbors, metric = 'cosine').fit(X)\n",
        "    return vectorizer, nbrs\n",
        "\n",
        "# String matching - KNN\n",
        "def tfidf_nn(\n",
        "    messy, \n",
        "    clean, \n",
        "    n_neighbors = 1, \n",
        "    **kwargs\n",
        "    ):\n",
        "    # Fit clean data and transform messy data\n",
        "    vectorizer, nbrs = build_vectorizer(clean, n_neighbors = n_neighbors, **kwargs)\n",
        "    input_vec = vectorizer.transform(messy)\n",
        "\n",
        "    # Determine best possible matches\n",
        "    distances, indices = nbrs.kneighbors(input_vec, n_neighbors = n_neighbors)\n",
        "    nearest_values = np.array(clean)[indices]\n",
        "    return nearest_values, distances\n"
      ],
      "id": "3deb585d"
    },
    {
      "cell_type": "code",
      "execution_count": null,
      "metadata": {
        "id": "a0d17480"
      },
      "outputs": [],
      "source": [
        "# String pre-processing\n",
        "def preprocess_string(s):\n",
        "    # Remove spaces between strings with one or two letters\n",
        "    s = re.sub(r'(?<=\\b\\w)\\s*[ &]\\s*(?=\\w\\b)', '', s)\n",
        "    return s"
      ],
      "id": "a0d17480"
    },
    {
      "cell_type": "code",
      "execution_count": null,
      "metadata": {
        "id": "9af85bc2"
      },
      "outputs": [],
      "source": [
        "tfidf_nn"
      ],
      "id": "9af85bc2"
    },
    {
      "cell_type": "code",
      "execution_count": null,
      "metadata": {
        "id": "1a828d56"
      },
      "outputs": [],
      "source": [
        "# String matching - TF-IDF\n",
        "def fuzzy_nn_match(\n",
        "    messy,\n",
        "    clean,\n",
        "    column,\n",
        "    col,\n",
        "    n_neighbors = 100,\n",
        "    limit = 5, **kwargs):\n",
        "    nearest_values, _ = tfidf_nn(messy, clean, n_neighbors, **kwargs)\n",
        "\n",
        "    results = [find_matches_fuzzy(row, nearest_values[i], limit) for i, row in enumerate(messy)]\n",
        "    df = pd.DataFrame(itertools.chain.from_iterable(results),\n",
        "        columns = [column, col, 'Ratio']\n",
        "        )\n",
        "    return df"
      ],
      "id": "1a828d56"
    },
    {
      "cell_type": "code",
      "execution_count": null,
      "metadata": {
        "id": "05e5ab33"
      },
      "outputs": [],
      "source": [
        "# String matching - Fuzzy\n",
        "def fuzzy_tf_idf(\n",
        "    df: pd.DataFrame,\n",
        "    column: str,\n",
        "    clean: pd.Series,\n",
        "    mapping_df: pd.DataFrame,\n",
        "    col: str,\n",
        "    analyzer: str = 'char',\n",
        "    ngram_range: Tuple[int, int] = (1, 3)\n",
        "    ) -> pd.Series:\n",
        "    # Create vectorizer\n",
        "    clean = clean.drop_duplicates().reset_index(drop = True)\n",
        "    messy_prep = df[column].drop_duplicates().dropna().reset_index(drop = True).astype(str)\n",
        "    messy = messy_prep.apply(preprocess_string)\n",
        "    result = fuzzy_nn_match(messy = messy, clean = clean, column = column, col = col, n_neighbors = 1)\n",
        "    # Map value from messy to clean\n",
        "    return result"
      ],
      "id": "05e5ab33"
    },
    {
      "cell_type": "code",
      "execution_count": null,
      "metadata": {
        "id": "7958e2b2"
      },
      "outputs": [],
      "source": [
        "goodreads_df['original_title']=goodbooks_df['original_title']"
      ],
      "id": "7958e2b2"
    },
    {
      "cell_type": "code",
      "execution_count": null,
      "metadata": {
        "id": "23eb8532",
        "outputId": "031f5657-cd4c-49b6-ce42-47aed479ffb1"
      },
      "outputs": [
        {
          "data": {
            "text/html": [
              "<div>\n",
              "<style scoped>\n",
              "    .dataframe tbody tr th:only-of-type {\n",
              "        vertical-align: middle;\n",
              "    }\n",
              "\n",
              "    .dataframe tbody tr th {\n",
              "        vertical-align: top;\n",
              "    }\n",
              "\n",
              "    .dataframe thead th {\n",
              "        text-align: right;\n",
              "    }\n",
              "</style>\n",
              "<table border=\"1\" class=\"dataframe\">\n",
              "  <thead>\n",
              "    <tr style=\"text-align: right;\">\n",
              "      <th></th>\n",
              "      <th>authors</th>\n",
              "      <th>average_rating</th>\n",
              "      <th>book_id</th>\n",
              "      <th>books_count</th>\n",
              "      <th>genres</th>\n",
              "      <th>goodreads_book_id</th>\n",
              "      <th>image_url</th>\n",
              "      <th>language_code</th>\n",
              "      <th>original_publication_year</th>\n",
              "      <th>pages</th>\n",
              "      <th>publishDate</th>\n",
              "      <th>ratings_1</th>\n",
              "      <th>ratings_2</th>\n",
              "      <th>ratings_3</th>\n",
              "      <th>ratings_4</th>\n",
              "      <th>ratings_5</th>\n",
              "      <th>title</th>\n",
              "      <th>original_title</th>\n",
              "    </tr>\n",
              "  </thead>\n",
              "  <tbody>\n",
              "    <tr>\n",
              "      <th>0</th>\n",
              "      <td>[Suzanne Collins]</td>\n",
              "      <td>4.34</td>\n",
              "      <td>1</td>\n",
              "      <td>272</td>\n",
              "      <td>[young-adult, fiction, fantasy, science-fictio...</td>\n",
              "      <td>2767052</td>\n",
              "      <td>https://images.gr-assets.com/books/1447303603m...</td>\n",
              "      <td>eng</td>\n",
              "      <td>2008</td>\n",
              "      <td>374.0</td>\n",
              "      <td>09/14/08</td>\n",
              "      <td>66715</td>\n",
              "      <td>127936</td>\n",
              "      <td>560092</td>\n",
              "      <td>1481305</td>\n",
              "      <td>2706317</td>\n",
              "      <td>The Hunger Games (The Hunger Games, #1)</td>\n",
              "      <td>The Hunger Games</td>\n",
              "    </tr>\n",
              "    <tr>\n",
              "      <th>1</th>\n",
              "      <td>[J.K. Rowling, Mary GrandPré]</td>\n",
              "      <td>4.44</td>\n",
              "      <td>2</td>\n",
              "      <td>491</td>\n",
              "      <td>[fantasy, fiction, young-adult, classics]</td>\n",
              "      <td>3</td>\n",
              "      <td>https://images.gr-assets.com/books/1474154022m...</td>\n",
              "      <td>eng</td>\n",
              "      <td>1997</td>\n",
              "      <td>309.0</td>\n",
              "      <td>11/01/2003</td>\n",
              "      <td>75504</td>\n",
              "      <td>101676</td>\n",
              "      <td>455024</td>\n",
              "      <td>1156318</td>\n",
              "      <td>3011543</td>\n",
              "      <td>Harry Potter and the Sorcerer's Stone (Harry P...</td>\n",
              "      <td>Harry Potter and the Philosopher's Stone</td>\n",
              "    </tr>\n",
              "    <tr>\n",
              "      <th>2</th>\n",
              "      <td>[Stephenie Meyer]</td>\n",
              "      <td>3.57</td>\n",
              "      <td>3</td>\n",
              "      <td>226</td>\n",
              "      <td>[young-adult, fantasy, romance, fiction, paran...</td>\n",
              "      <td>41865</td>\n",
              "      <td>https://images.gr-assets.com/books/1361039443m...</td>\n",
              "      <td>eng</td>\n",
              "      <td>2005</td>\n",
              "      <td>501.0</td>\n",
              "      <td>09/06/2006</td>\n",
              "      <td>456191</td>\n",
              "      <td>436802</td>\n",
              "      <td>793319</td>\n",
              "      <td>875073</td>\n",
              "      <td>1355439</td>\n",
              "      <td>Twilight (Twilight, #1)</td>\n",
              "      <td>Twilight</td>\n",
              "    </tr>\n",
              "    <tr>\n",
              "      <th>3</th>\n",
              "      <td>[Harper Lee]</td>\n",
              "      <td>4.25</td>\n",
              "      <td>4</td>\n",
              "      <td>487</td>\n",
              "      <td>[classics, fiction, historical-fiction, young-...</td>\n",
              "      <td>2657</td>\n",
              "      <td>https://images.gr-assets.com/books/1361975680m...</td>\n",
              "      <td>eng</td>\n",
              "      <td>1960</td>\n",
              "      <td>324.0</td>\n",
              "      <td>05/23/06</td>\n",
              "      <td>60427</td>\n",
              "      <td>117415</td>\n",
              "      <td>446835</td>\n",
              "      <td>1001952</td>\n",
              "      <td>1714267</td>\n",
              "      <td>To Kill a Mockingbird</td>\n",
              "      <td>To Kill a Mockingbird</td>\n",
              "    </tr>\n",
              "    <tr>\n",
              "      <th>4</th>\n",
              "      <td>[F. Scott Fitzgerald]</td>\n",
              "      <td>3.89</td>\n",
              "      <td>5</td>\n",
              "      <td>1356</td>\n",
              "      <td>[classics, fiction, historical-fiction, romance]</td>\n",
              "      <td>4671</td>\n",
              "      <td>https://images.gr-assets.com/books/1490528560m...</td>\n",
              "      <td>eng</td>\n",
              "      <td>1925</td>\n",
              "      <td>200.0</td>\n",
              "      <td>09/28/04</td>\n",
              "      <td>86236</td>\n",
              "      <td>197621</td>\n",
              "      <td>606158</td>\n",
              "      <td>936012</td>\n",
              "      <td>947718</td>\n",
              "      <td>The Great Gatsby</td>\n",
              "      <td>The Great Gatsby</td>\n",
              "    </tr>\n",
              "    <tr>\n",
              "      <th>...</th>\n",
              "      <td>...</td>\n",
              "      <td>...</td>\n",
              "      <td>...</td>\n",
              "      <td>...</td>\n",
              "      <td>...</td>\n",
              "      <td>...</td>\n",
              "      <td>...</td>\n",
              "      <td>...</td>\n",
              "      <td>...</td>\n",
              "      <td>...</td>\n",
              "      <td>...</td>\n",
              "      <td>...</td>\n",
              "      <td>...</td>\n",
              "      <td>...</td>\n",
              "      <td>...</td>\n",
              "      <td>...</td>\n",
              "      <td>...</td>\n",
              "      <td>...</td>\n",
              "    </tr>\n",
              "    <tr>\n",
              "      <th>9959</th>\n",
              "      <td>[[Jeffery Deaver]]</td>\n",
              "      <td>3.98</td>\n",
              "      <td>9981</td>\n",
              "      <td>58</td>\n",
              "      <td>[mystery, thriller, fiction, crime, suspense, ...</td>\n",
              "      <td>106312</td>\n",
              "      <td>https://images.gr-assets.com/books/1328407138m...</td>\n",
              "      <td>eng</td>\n",
              "      <td>2005</td>\n",
              "      <td>816.0</td>\n",
              "      <td>('6', '7', '2005')</td>\n",
              "      <td>72</td>\n",
              "      <td>390</td>\n",
              "      <td>2874</td>\n",
              "      <td>5155</td>\n",
              "      <td>3643</td>\n",
              "      <td>The Twelfth Card (Lincoln Rhyme, #6)</td>\n",
              "      <td>The Versions of Us</td>\n",
              "    </tr>\n",
              "    <tr>\n",
              "      <th>9960</th>\n",
              "      <td>[[Karen Marie Moning]]</td>\n",
              "      <td>4.18</td>\n",
              "      <td>9982</td>\n",
              "      <td>1</td>\n",
              "      <td>[fantasy, paranormal, romance, fiction, myster...</td>\n",
              "      <td>12444298</td>\n",
              "      <td>https://images.gr-assets.com/books/1435195536m...</td>\n",
              "      <td>eng</td>\n",
              "      <td>2016</td>\n",
              "      <td>436.0</td>\n",
              "      <td>('1', '19', '2016')</td>\n",
              "      <td>179</td>\n",
              "      <td>521</td>\n",
              "      <td>2308</td>\n",
              "      <td>4779</td>\n",
              "      <td>6407</td>\n",
              "      <td>Feverborn (Fever, #8)</td>\n",
              "      <td>The Honest Truth About Dishonesty: How We Lie ...</td>\n",
              "    </tr>\n",
              "    <tr>\n",
              "      <th>9961</th>\n",
              "      <td>[[Steve Perry, Tom Clancy, Steve Pieczenik]]</td>\n",
              "      <td>3.69</td>\n",
              "      <td>9985</td>\n",
              "      <td>24</td>\n",
              "      <td>[fiction, thriller, books, mystery, suspense, ...</td>\n",
              "      <td>19688</td>\n",
              "      <td>https://s.gr-assets.com/assets/nophoto/book/11...</td>\n",
              "      <td>eng</td>\n",
              "      <td>2000</td>\n",
              "      <td>368.0</td>\n",
              "      <td>('10', '1', '2000')</td>\n",
              "      <td>268</td>\n",
              "      <td>684</td>\n",
              "      <td>2349</td>\n",
              "      <td>2456</td>\n",
              "      <td>2068</td>\n",
              "      <td>Breaking Point (Tom Clancy's Net Force, #4)</td>\n",
              "      <td>Locked On</td>\n",
              "    </tr>\n",
              "    <tr>\n",
              "      <th>9962</th>\n",
              "      <td>[[Iris Johansen]]</td>\n",
              "      <td>4.12</td>\n",
              "      <td>9987</td>\n",
              "      <td>29</td>\n",
              "      <td>[mystery, fiction, thriller, suspense, crime, ...</td>\n",
              "      <td>8087038</td>\n",
              "      <td>https://s.gr-assets.com/assets/nophoto/book/11...</td>\n",
              "      <td>eng</td>\n",
              "      <td>2010</td>\n",
              "      <td>362.0</td>\n",
              "      <td>('10', '19', '2010')</td>\n",
              "      <td>113</td>\n",
              "      <td>331</td>\n",
              "      <td>2127</td>\n",
              "      <td>3957</td>\n",
              "      <td>4436</td>\n",
              "      <td>Chasing The Night (Eve Duncan, #11; Catherine ...</td>\n",
              "      <td>The Bookman’s Tale</td>\n",
              "    </tr>\n",
              "    <tr>\n",
              "      <th>9963</th>\n",
              "      <td>[[John Keegan]]</td>\n",
              "      <td>4.00</td>\n",
              "      <td>10000</td>\n",
              "      <td>31</td>\n",
              "      <td>[history, nonfiction, historical-fiction]</td>\n",
              "      <td>8914</td>\n",
              "      <td>https://images.gr-assets.com/books/1403194704m...</td>\n",
              "      <td>eng</td>\n",
              "      <td>1998</td>\n",
              "      <td>475.0</td>\n",
              "      <td>('5', '16', '2000')</td>\n",
              "      <td>117</td>\n",
              "      <td>345</td>\n",
              "      <td>2031</td>\n",
              "      <td>4138</td>\n",
              "      <td>3069</td>\n",
              "      <td>The First World War</td>\n",
              "      <td>I'll Walk Alone</td>\n",
              "    </tr>\n",
              "  </tbody>\n",
              "</table>\n",
              "<p>9964 rows × 18 columns</p>\n",
              "</div>"
            ],
            "text/plain": [
              "                                           authors  average_rating  book_id  \\\n",
              "0                                [Suzanne Collins]            4.34        1   \n",
              "1                    [J.K. Rowling, Mary GrandPré]            4.44        2   \n",
              "2                                [Stephenie Meyer]            3.57        3   \n",
              "3                                     [Harper Lee]            4.25        4   \n",
              "4                            [F. Scott Fitzgerald]            3.89        5   \n",
              "...                                            ...             ...      ...   \n",
              "9959                            [[Jeffery Deaver]]            3.98     9981   \n",
              "9960                        [[Karen Marie Moning]]            4.18     9982   \n",
              "9961  [[Steve Perry, Tom Clancy, Steve Pieczenik]]            3.69     9985   \n",
              "9962                             [[Iris Johansen]]            4.12     9987   \n",
              "9963                               [[John Keegan]]            4.00    10000   \n",
              "\n",
              "      books_count                                             genres  \\\n",
              "0             272  [young-adult, fiction, fantasy, science-fictio...   \n",
              "1             491          [fantasy, fiction, young-adult, classics]   \n",
              "2             226  [young-adult, fantasy, romance, fiction, paran...   \n",
              "3             487  [classics, fiction, historical-fiction, young-...   \n",
              "4            1356   [classics, fiction, historical-fiction, romance]   \n",
              "...           ...                                                ...   \n",
              "9959           58  [mystery, thriller, fiction, crime, suspense, ...   \n",
              "9960            1  [fantasy, paranormal, romance, fiction, myster...   \n",
              "9961           24  [fiction, thriller, books, mystery, suspense, ...   \n",
              "9962           29  [mystery, fiction, thriller, suspense, crime, ...   \n",
              "9963           31          [history, nonfiction, historical-fiction]   \n",
              "\n",
              "      goodreads_book_id                                          image_url  \\\n",
              "0               2767052  https://images.gr-assets.com/books/1447303603m...   \n",
              "1                     3  https://images.gr-assets.com/books/1474154022m...   \n",
              "2                 41865  https://images.gr-assets.com/books/1361039443m...   \n",
              "3                  2657  https://images.gr-assets.com/books/1361975680m...   \n",
              "4                  4671  https://images.gr-assets.com/books/1490528560m...   \n",
              "...                 ...                                                ...   \n",
              "9959             106312  https://images.gr-assets.com/books/1328407138m...   \n",
              "9960           12444298  https://images.gr-assets.com/books/1435195536m...   \n",
              "9961              19688  https://s.gr-assets.com/assets/nophoto/book/11...   \n",
              "9962            8087038  https://s.gr-assets.com/assets/nophoto/book/11...   \n",
              "9963               8914  https://images.gr-assets.com/books/1403194704m...   \n",
              "\n",
              "     language_code  original_publication_year  pages           publishDate  \\\n",
              "0              eng                       2008  374.0              09/14/08   \n",
              "1              eng                       1997  309.0            11/01/2003   \n",
              "2              eng                       2005  501.0            09/06/2006   \n",
              "3              eng                       1960  324.0              05/23/06   \n",
              "4              eng                       1925  200.0              09/28/04   \n",
              "...            ...                        ...    ...                   ...   \n",
              "9959           eng                       2005  816.0    ('6', '7', '2005')   \n",
              "9960           eng                       2016  436.0   ('1', '19', '2016')   \n",
              "9961           eng                       2000  368.0   ('10', '1', '2000')   \n",
              "9962           eng                       2010  362.0  ('10', '19', '2010')   \n",
              "9963           eng                       1998  475.0   ('5', '16', '2000')   \n",
              "\n",
              "      ratings_1  ratings_2  ratings_3  ratings_4  ratings_5  \\\n",
              "0         66715     127936     560092    1481305    2706317   \n",
              "1         75504     101676     455024    1156318    3011543   \n",
              "2        456191     436802     793319     875073    1355439   \n",
              "3         60427     117415     446835    1001952    1714267   \n",
              "4         86236     197621     606158     936012     947718   \n",
              "...         ...        ...        ...        ...        ...   \n",
              "9959         72        390       2874       5155       3643   \n",
              "9960        179        521       2308       4779       6407   \n",
              "9961        268        684       2349       2456       2068   \n",
              "9962        113        331       2127       3957       4436   \n",
              "9963        117        345       2031       4138       3069   \n",
              "\n",
              "                                                  title  \\\n",
              "0               The Hunger Games (The Hunger Games, #1)   \n",
              "1     Harry Potter and the Sorcerer's Stone (Harry P...   \n",
              "2                               Twilight (Twilight, #1)   \n",
              "3                                 To Kill a Mockingbird   \n",
              "4                                      The Great Gatsby   \n",
              "...                                                 ...   \n",
              "9959               The Twelfth Card (Lincoln Rhyme, #6)   \n",
              "9960                              Feverborn (Fever, #8)   \n",
              "9961        Breaking Point (Tom Clancy's Net Force, #4)   \n",
              "9962  Chasing The Night (Eve Duncan, #11; Catherine ...   \n",
              "9963                                The First World War   \n",
              "\n",
              "                                         original_title  \n",
              "0                                      The Hunger Games  \n",
              "1              Harry Potter and the Philosopher's Stone  \n",
              "2                                              Twilight  \n",
              "3                                 To Kill a Mockingbird  \n",
              "4                                      The Great Gatsby  \n",
              "...                                                 ...  \n",
              "9959                                 The Versions of Us  \n",
              "9960  The Honest Truth About Dishonesty: How We Lie ...  \n",
              "9961                                          Locked On  \n",
              "9962                                 The Bookman’s Tale  \n",
              "9963                                    I'll Walk Alone  \n",
              "\n",
              "[9964 rows x 18 columns]"
            ]
          },
          "execution_count": 51,
          "metadata": {},
          "output_type": "execute_result"
        }
      ],
      "source": [
        "goodreads_df"
      ],
      "id": "23eb8532"
    },
    {
      "cell_type": "code",
      "execution_count": null,
      "metadata": {
        "id": "41229cfb"
      },
      "outputs": [],
      "source": [
        "# String matching - match fuzzy\n",
        "def find_matches_fuzzy(\n",
        "    row, \n",
        "    match_candidates, \n",
        "    limit = 5\n",
        "    ):\n",
        "    row_matches = process.extract(\n",
        "        row, dict(enumerate(match_candidates)), \n",
        "        scorer = fuzz.token_sort_ratio, \n",
        "        limit = limit\n",
        "        )\n",
        "    result = [(row, match[0], match[1]) for match in row_matches]\n",
        "    return result"
      ],
      "id": "41229cfb"
    },
    {
      "cell_type": "code",
      "execution_count": null,
      "metadata": {
        "id": "8d11537f",
        "outputId": "72e03c00-f53e-4d62-a6a6-9138d1478f1f"
      },
      "outputs": [
        {
          "name": "stderr",
          "output_type": "stream",
          "text": [
            "WARNING:root:Applied processor reduces input query to empty string, all comparisons will have score 0. [Query: ' ']\n"
          ]
        }
      ],
      "source": [
        "df_result = (goodreads_df.pipe(fuzzy_tf_idf, # Function and messy data\n",
        "                     column = 'original_title', # Messy column in data\n",
        "                     clean = goodreads_df['title'], # Master data (list)\n",
        "                     mapping_df = goodreads_df, # Master data\n",
        "                     col = 'Result') # Can be customized\n",
        "            )\n"
      ],
      "id": "8d11537f"
    },
    {
      "cell_type": "code",
      "execution_count": null,
      "metadata": {
        "id": "f9051dac",
        "outputId": "1d88231d-4b2c-49cb-9a27-c16be24379c0"
      },
      "outputs": [
        {
          "data": {
            "text/html": [
              "<div>\n",
              "<style scoped>\n",
              "    .dataframe tbody tr th:only-of-type {\n",
              "        vertical-align: middle;\n",
              "    }\n",
              "\n",
              "    .dataframe tbody tr th {\n",
              "        vertical-align: top;\n",
              "    }\n",
              "\n",
              "    .dataframe thead th {\n",
              "        text-align: right;\n",
              "    }\n",
              "</style>\n",
              "<table border=\"1\" class=\"dataframe\">\n",
              "  <thead>\n",
              "    <tr style=\"text-align: right;\">\n",
              "      <th></th>\n",
              "      <th>original_title</th>\n",
              "      <th>Result</th>\n",
              "      <th>Ratio</th>\n",
              "    </tr>\n",
              "  </thead>\n",
              "  <tbody>\n",
              "    <tr>\n",
              "      <th>0</th>\n",
              "      <td>The Hunger Games</td>\n",
              "      <td>The Hunger Games (The Hunger Games, #1)</td>\n",
              "      <td>63</td>\n",
              "    </tr>\n",
              "    <tr>\n",
              "      <th>1</th>\n",
              "      <td>Harry Potter and the Philosopher's Stone</td>\n",
              "      <td>Harry Potter and the Sorcerer's Stone (Harry P...</td>\n",
              "      <td>72</td>\n",
              "    </tr>\n",
              "    <tr>\n",
              "      <th>2</th>\n",
              "      <td>Twilight</td>\n",
              "      <td>Twilight (Twilight, #1)</td>\n",
              "      <td>59</td>\n",
              "    </tr>\n",
              "    <tr>\n",
              "      <th>3</th>\n",
              "      <td>To Kill a Mockingbird</td>\n",
              "      <td>To Kill a Mockingbird</td>\n",
              "      <td>100</td>\n",
              "    </tr>\n",
              "    <tr>\n",
              "      <th>4</th>\n",
              "      <td>The Great Gatsby</td>\n",
              "      <td>The Great Gatsby</td>\n",
              "      <td>100</td>\n",
              "    </tr>\n",
              "    <tr>\n",
              "      <th>...</th>\n",
              "      <td>...</td>\n",
              "      <td>...</td>\n",
              "      <td>...</td>\n",
              "    </tr>\n",
              "    <tr>\n",
              "      <th>9237</th>\n",
              "      <td>The Versions of Us</td>\n",
              "      <td>The Versions of Us</td>\n",
              "      <td>100</td>\n",
              "    </tr>\n",
              "    <tr>\n",
              "      <th>9238</th>\n",
              "      <td>The Honest Truth About Dishonesty: How We Lie ...</td>\n",
              "      <td>The Honest Truth About Dishonesty: How We Lie ...</td>\n",
              "      <td>100</td>\n",
              "    </tr>\n",
              "    <tr>\n",
              "      <th>9239</th>\n",
              "      <td>Locked On</td>\n",
              "      <td>Locked On (Jack Ryan Universe, #14)</td>\n",
              "      <td>45</td>\n",
              "    </tr>\n",
              "    <tr>\n",
              "      <th>9240</th>\n",
              "      <td>The Bookman’s Tale</td>\n",
              "      <td>The Bookman’s Tale</td>\n",
              "      <td>100</td>\n",
              "    </tr>\n",
              "    <tr>\n",
              "      <th>9241</th>\n",
              "      <td>I'll Walk Alone</td>\n",
              "      <td>I'll Walk Alone</td>\n",
              "      <td>100</td>\n",
              "    </tr>\n",
              "  </tbody>\n",
              "</table>\n",
              "<p>9242 rows × 3 columns</p>\n",
              "</div>"
            ],
            "text/plain": [
              "                                         original_title  \\\n",
              "0                                      The Hunger Games   \n",
              "1              Harry Potter and the Philosopher's Stone   \n",
              "2                                              Twilight   \n",
              "3                                 To Kill a Mockingbird   \n",
              "4                                      The Great Gatsby   \n",
              "...                                                 ...   \n",
              "9237                                 The Versions of Us   \n",
              "9238  The Honest Truth About Dishonesty: How We Lie ...   \n",
              "9239                                          Locked On   \n",
              "9240                                 The Bookman’s Tale   \n",
              "9241                                    I'll Walk Alone   \n",
              "\n",
              "                                                 Result  Ratio  \n",
              "0               The Hunger Games (The Hunger Games, #1)     63  \n",
              "1     Harry Potter and the Sorcerer's Stone (Harry P...     72  \n",
              "2                               Twilight (Twilight, #1)     59  \n",
              "3                                 To Kill a Mockingbird    100  \n",
              "4                                      The Great Gatsby    100  \n",
              "...                                                 ...    ...  \n",
              "9237                                 The Versions of Us    100  \n",
              "9238  The Honest Truth About Dishonesty: How We Lie ...    100  \n",
              "9239                Locked On (Jack Ryan Universe, #14)     45  \n",
              "9240                                 The Bookman’s Tale    100  \n",
              "9241                                    I'll Walk Alone    100  \n",
              "\n",
              "[9242 rows x 3 columns]"
            ]
          },
          "execution_count": 61,
          "metadata": {},
          "output_type": "execute_result"
        }
      ],
      "source": [
        "df_result"
      ],
      "id": "f9051dac"
    },
    {
      "cell_type": "code",
      "execution_count": null,
      "metadata": {
        "id": "bbe6b824"
      },
      "outputs": [],
      "source": [
        "## ITEM KNN CBF Using Suprise Package"
      ],
      "id": "bbe6b824"
    },
    {
      "cell_type": "code",
      "execution_count": null,
      "metadata": {
        "colab": {
          "base_uri": "https://localhost:8080/"
        },
        "id": "N3pCyzIR_W8p",
        "outputId": "37f23638-6a8f-4ff0-f8cb-97a0fe65b3b8"
      },
      "outputs": [
        {
          "name": "stdout",
          "output_type": "stream",
          "text": [
            "Looking in indexes: https://pypi.org/simple, https://us-python.pkg.dev/colab-wheels/public/simple/\n",
            "Collecting scikit-surprise\n",
            "  Downloading scikit-surprise-1.1.1.tar.gz (11.8 MB)\n",
            "\u001b[K     |████████████████████████████████| 11.8 MB 7.4 MB/s \n",
            "\u001b[?25hRequirement already satisfied: joblib>=0.11 in /usr/local/lib/python3.7/dist-packages (from scikit-surprise) (1.1.0)\n",
            "Requirement already satisfied: numpy>=1.11.2 in /usr/local/lib/python3.7/dist-packages (from scikit-surprise) (1.21.6)\n",
            "Requirement already satisfied: scipy>=1.0.0 in /usr/local/lib/python3.7/dist-packages (from scikit-surprise) (1.7.3)\n",
            "Requirement already satisfied: six>=1.10.0 in /usr/local/lib/python3.7/dist-packages (from scikit-surprise) (1.15.0)\n",
            "Building wheels for collected packages: scikit-surprise\n",
            "  Building wheel for scikit-surprise (setup.py) ... \u001b[?25l\u001b[?25hdone\n",
            "  Created wheel for scikit-surprise: filename=scikit_surprise-1.1.1-cp37-cp37m-linux_x86_64.whl size=1633980 sha256=9ee27b25f0431d492c97a22b9bac11d7020bebb576e96c962eed2b8c6320888f\n",
            "  Stored in directory: /root/.cache/pip/wheels/76/44/74/b498c42be47b2406bd27994e16c5188e337c657025ab400c1c\n",
            "Successfully built scikit-surprise\n",
            "Installing collected packages: scikit-surprise\n",
            "Successfully installed scikit-surprise-1.1.1\n"
          ]
        }
      ],
      "source": [
        "!pip install scikit-surprise"
      ],
      "id": "N3pCyzIR_W8p"
    },
    {
      "cell_type": "code",
      "execution_count": null,
      "metadata": {
        "id": "97c11555"
      },
      "outputs": [],
      "source": [
        "import pandas as pd\n",
        "from surprise import SVD\n",
        "from surprise import Dataset\n",
        "from surprise import accuracy\n",
        "from surprise.model_selection import train_test_split\n",
        "from surprise import KNNBasic,  KNNWithMeans, KNNBaseline\n",
        "from surprise.model_selection import KFold\n",
        "from surprise import Reader\n",
        "from surprise import NormalPredictor\n",
        "from surprise.model_selection import cross_validate\n",
        "import matplotlib.pyplot as plt\n",
        "import seaborn as sns\n",
        "from surprise.model_selection import GridSearchCV"
      ],
      "id": "97c11555"
    },
    {
      "cell_type": "code",
      "execution_count": null,
      "metadata": {
        "id": "1btKiLWCEWuZ"
      },
      "outputs": [],
      "source": [
        "ratings_df=pd.read_csv('/content/drive/MyDrive/Goodreads_dataset/ratings.csv')"
      ],
      "id": "1btKiLWCEWuZ"
    },
    {
      "cell_type": "code",
      "execution_count": null,
      "metadata": {
        "id": "af101496"
      },
      "outputs": [],
      "source": [
        "reader = Reader(rating_scale=(1, 5))\n",
        "# The columns must correspond to user id, item id and ratings (in that order).\n",
        "data = Dataset.load_from_df(ratings_df, reader)\n",
        "anti_set = data.build_full_trainset().build_anti_testset()"
      ],
      "id": "af101496"
    },
    {
      "cell_type": "code",
      "execution_count": null,
      "metadata": {
        "id": "06006190",
        "outputId": "d7f8d53c-8045-48e7-a73a-e5edb8c5f81b"
      },
      "outputs": [
        {
          "data": {
            "text/plain": [
              "[(1, 4081, 3.9198655261735214),\n",
              " (1, 260, 3.9198655261735214),\n",
              " (1, 9296, 3.9198655261735214),\n",
              " (1, 2318, 3.9198655261735214),\n",
              " (1, 26, 3.9198655261735214),\n",
              " (1, 315, 3.9198655261735214),\n",
              " (1, 301, 3.9198655261735214),\n",
              " (1, 2686, 3.9198655261735214),\n",
              " (1, 3753, 3.9198655261735214),\n",
              " (1, 8519, 3.9198655261735214),\n",
              " (1, 264, 3.9198655261735214),\n",
              " (1, 388, 3.9198655261735214),\n",
              " (1, 18, 3.9198655261735214),\n",
              " (1, 27, 3.9198655261735214),\n",
              " (1, 21, 3.9198655261735214),\n",
              " (1, 2, 3.9198655261735214),\n",
              " (1, 23, 3.9198655261735214),\n",
              " (1, 24, 3.9198655261735214),\n",
              " (1, 964, 3.9198655261735214),\n",
              " (1, 337, 3.9198655261735214),\n",
              " (1, 84, 3.9198655261735214),\n",
              " (1, 58, 3.9198655261735214),\n",
              " (1, 1117, 3.9198655261735214),\n",
              " (1, 660, 3.9198655261735214),\n",
              " (1, 5, 3.9198655261735214),\n",
              " (1, 413, 3.9198655261735214),\n",
              " (1, 8, 3.9198655261735214),\n",
              " (1, 2172, 3.9198655261735214),\n",
              " (1, 65, 3.9198655261735214),\n",
              " (1, 297, 3.9198655261735214),\n",
              " (1, 113, 3.9198655261735214),\n",
              " (1, 476, 3.9198655261735214),\n",
              " (1, 6351, 3.9198655261735214),\n",
              " (1, 2732, 3.9198655261735214),\n",
              " (1, 1432, 3.9198655261735214),\n",
              " (1, 479, 3.9198655261735214),\n",
              " (1, 3020, 3.9198655261735214),\n",
              " (1, 6195, 3.9198655261735214),\n",
              " (1, 614, 3.9198655261735214),\n",
              " (1, 4622, 3.9198655261735214),\n",
              " (1, 9114, 3.9198655261735214),\n",
              " (1, 194, 3.9198655261735214),\n",
              " (1, 14, 3.9198655261735214),\n",
              " (1, 2584, 3.9198655261735214),\n",
              " (1, 55, 3.9198655261735214),\n",
              " (1, 772, 3.9198655261735214),\n",
              " (1, 778, 3.9198655261735214),\n",
              " (1, 1937, 3.9198655261735214),\n",
              " (1, 493, 3.9198655261735214),\n",
              " (1, 362, 3.9198655261735214),\n",
              " (1, 1967, 3.9198655261735214),\n",
              " (1, 529, 3.9198655261735214),\n",
              " (1, 5425, 3.9198655261735214),\n",
              " (1, 1237, 3.9198655261735214),\n",
              " (1, 145, 3.9198655261735214),\n",
              " (1, 222, 3.9198655261735214),\n",
              " (1, 200, 3.9198655261735214),\n",
              " (1, 640, 3.9198655261735214),\n",
              " (1, 693, 3.9198655261735214),\n",
              " (1, 575, 3.9198655261735214),\n",
              " (1, 1296, 3.9198655261735214),\n",
              " (1, 50, 3.9198655261735214),\n",
              " (1, 87, 3.9198655261735214),\n",
              " (1, 86, 3.9198655261735214),\n",
              " (1, 123, 3.9198655261735214),\n",
              " (1, 28, 3.9198655261735214),\n",
              " (1, 249, 3.9198655261735214),\n",
              " (1, 158, 3.9198655261735214),\n",
              " (1, 373, 3.9198655261735214),\n",
              " (1, 184, 3.9198655261735214),\n",
              " (1, 495, 3.9198655261735214),\n",
              " (1, 350, 3.9198655261735214),\n",
              " (1, 288, 3.9198655261735214),\n",
              " (1, 245, 3.9198655261735214),\n",
              " (1, 1057, 3.9198655261735214),\n",
              " (1, 596, 3.9198655261735214),\n",
              " (1, 782, 3.9198655261735214),\n",
              " (1, 426, 3.9198655261735214),\n",
              " (1, 397, 3.9198655261735214),\n",
              " (1, 658, 3.9198655261735214),\n",
              " (1, 101, 3.9198655261735214),\n",
              " (1, 344, 3.9198655261735214),\n",
              " (1, 372, 3.9198655261735214),\n",
              " (1, 943, 3.9198655261735214),\n",
              " (1, 1923, 3.9198655261735214),\n",
              " (1, 122, 3.9198655261735214),\n",
              " (1, 1642, 3.9198655261735214),\n",
              " (1, 317, 3.9198655261735214),\n",
              " (1, 9, 3.9198655261735214),\n",
              " (1, 494, 3.9198655261735214),\n",
              " (1, 570, 3.9198655261735214),\n",
              " (1, 795, 3.9198655261735214),\n",
              " (1, 2193, 3.9198655261735214),\n",
              " (1, 3417, 3.9198655261735214),\n",
              " (1, 4139, 3.9198655261735214),\n",
              " (1, 181, 3.9198655261735214),\n",
              " (1, 4815, 3.9198655261735214),\n",
              " (1, 1221, 3.9198655261735214),\n",
              " (1, 1301, 3.9198655261735214),\n",
              " (1, 1986, 3.9198655261735214),\n",
              " (1, 1037, 3.9198655261735214),\n",
              " (1, 963, 3.9198655261735214),\n",
              " (1, 1388, 3.9198655261735214),\n",
              " (1, 7868, 3.9198655261735214),\n",
              " (1, 1407, 3.9198655261735214),\n",
              " (1, 227, 3.9198655261735214),\n",
              " (1, 213, 3.9198655261735214),\n",
              " (1, 587, 3.9198655261735214),\n",
              " (1, 664, 3.9198655261735214),\n",
              " (1, 1311, 3.9198655261735214),\n",
              " (1, 2559, 3.9198655261735214),\n",
              " (1, 522, 3.9198655261735214),\n",
              " (1, 408, 3.9198655261735214),\n",
              " (1, 516, 3.9198655261735214),\n",
              " (1, 6944, 3.9198655261735214),\n",
              " (1, 574, 3.9198655261735214),\n",
              " (1, 3560, 3.9198655261735214),\n",
              " (1, 3703, 3.9198655261735214),\n",
              " (1, 2079, 3.9198655261735214),\n",
              " (1, 1853, 3.9198655261735214),\n",
              " (1, 9606, 3.9198655261735214),\n",
              " (1, 7277, 3.9198655261735214),\n",
              " (1, 2903, 3.9198655261735214),\n",
              " (1, 230, 3.9198655261735214),\n",
              " (1, 471, 3.9198655261735214),\n",
              " (1, 483, 3.9198655261735214),\n",
              " (1, 2339, 3.9198655261735214),\n",
              " (1, 709, 3.9198655261735214),\n",
              " (1, 167, 3.9198655261735214),\n",
              " (1, 361, 3.9198655261735214),\n",
              " (1, 326, 3.9198655261735214),\n",
              " (1, 304, 3.9198655261735214),\n",
              " (1, 92, 3.9198655261735214),\n",
              " (1, 887, 3.9198655261735214),\n",
              " (1, 310, 3.9198655261735214),\n",
              " (1, 465, 3.9198655261735214),\n",
              " (1, 8440, 3.9198655261735214),\n",
              " (1, 71, 3.9198655261735214),\n",
              " (1, 1329, 3.9198655261735214),\n",
              " (1, 3002, 3.9198655261735214),\n",
              " (1, 241, 3.9198655261735214),\n",
              " (1, 4043, 3.9198655261735214),\n",
              " (1, 68, 3.9198655261735214),\n",
              " (1, 1144, 3.9198655261735214),\n",
              " (1, 941, 3.9198655261735214),\n",
              " (1, 1993, 3.9198655261735214),\n",
              " (1, 1217, 3.9198655261735214),\n",
              " (1, 2347, 3.9198655261735214),\n",
              " (1, 7260, 3.9198655261735214),\n",
              " (1, 9363, 3.9198655261735214),\n",
              " (1, 688, 3.9198655261735214),\n",
              " (1, 3340, 3.9198655261735214),\n",
              " (1, 550, 3.9198655261735214),\n",
              " (1, 8842, 3.9198655261735214),\n",
              " (1, 572, 3.9198655261735214),\n",
              " (1, 3566, 3.9198655261735214),\n",
              " (1, 557, 3.9198655261735214),\n",
              " (1, 1102, 3.9198655261735214),\n",
              " (1, 3551, 3.9198655261735214),\n",
              " (1, 2615, 3.9198655261735214),\n",
              " (1, 4054, 3.9198655261735214),\n",
              " (1, 3273, 3.9198655261735214),\n",
              " (1, 48, 3.9198655261735214),\n",
              " (1, 387, 3.9198655261735214),\n",
              " (1, 497, 3.9198655261735214),\n",
              " (1, 2190, 3.9198655261735214),\n",
              " (1, 1733, 3.9198655261735214),\n",
              " (1, 489, 3.9198655261735214),\n",
              " (1, 1435, 3.9198655261735214),\n",
              " (1, 1380, 3.9198655261735214),\n",
              " (1, 221, 3.9198655261735214),\n",
              " (1, 401, 3.9198655261735214),\n",
              " (1, 3469, 3.9198655261735214),\n",
              " (1, 662, 3.9198655261735214),\n",
              " (1, 9287, 3.9198655261735214),\n",
              " (1, 1544, 3.9198655261735214),\n",
              " (1, 3219, 3.9198655261735214),\n",
              " (1, 405, 3.9198655261735214),\n",
              " (1, 3068, 3.9198655261735214),\n",
              " (1, 3202, 3.9198655261735214),\n",
              " (1, 7538, 3.9198655261735214),\n",
              " (1, 7254, 3.9198655261735214),\n",
              " (1, 284, 3.9198655261735214),\n",
              " (1, 8329, 3.9198655261735214),\n",
              " (1, 1752, 3.9198655261735214),\n",
              " (1, 860, 3.9198655261735214),\n",
              " (1, 2188, 3.9198655261735214),\n",
              " (1, 1031, 3.9198655261735214),\n",
              " (1, 2304, 3.9198655261735214),\n",
              " (1, 7770, 3.9198655261735214),\n",
              " (1, 2142, 3.9198655261735214),\n",
              " (1, 4149, 3.9198655261735214),\n",
              " (1, 948, 3.9198655261735214),\n",
              " (1, 1936, 3.9198655261735214),\n",
              " (1, 2586, 3.9198655261735214),\n",
              " (1, 1970, 3.9198655261735214),\n",
              " (1, 7409, 3.9198655261735214),\n",
              " (1, 289, 3.9198655261735214),\n",
              " (1, 7638, 3.9198655261735214),\n",
              " (1, 442, 3.9198655261735214),\n",
              " (1, 1142, 3.9198655261735214),\n",
              " (1, 3425, 3.9198655261735214),\n",
              " (1, 176, 3.9198655261735214),\n",
              " (1, 349, 3.9198655261735214),\n",
              " (1, 232, 3.9198655261735214),\n",
              " (1, 1589, 3.9198655261735214),\n",
              " (1, 1900, 3.9198655261735214),\n",
              " (1, 670, 3.9198655261735214),\n",
              " (1, 1498, 3.9198655261735214),\n",
              " (1, 739, 3.9198655261735214),\n",
              " (1, 488, 3.9198655261735214),\n",
              " (1, 865, 3.9198655261735214),\n",
              " (1, 1987, 3.9198655261735214),\n",
              " (1, 2352, 3.9198655261735214),\n",
              " (1, 168, 3.9198655261735214),\n",
              " (1, 3314, 3.9198655261735214),\n",
              " (1, 2673, 3.9198655261735214),\n",
              " (1, 1236, 3.9198655261735214),\n",
              " (1, 4810, 3.9198655261735214),\n",
              " (1, 130, 3.9198655261735214),\n",
              " (1, 8336, 3.9198655261735214),\n",
              " (1, 653, 3.9198655261735214),\n",
              " (1, 5374, 3.9198655261735214),\n",
              " (1, 872, 3.9198655261735214),\n",
              " (1, 8949, 3.9198655261735214),\n",
              " (1, 977, 3.9198655261735214),\n",
              " (1, 4602, 3.9198655261735214),\n",
              " (1, 5730, 3.9198655261735214),\n",
              " (1, 4531, 3.9198655261735214),\n",
              " (1, 5940, 3.9198655261735214),\n",
              " (1, 2975, 3.9198655261735214),\n",
              " (1, 78, 3.9198655261735214),\n",
              " (1, 1639, 3.9198655261735214),\n",
              " (1, 186, 3.9198655261735214),\n",
              " (1, 398, 3.9198655261735214),\n",
              " (1, 2320, 3.9198655261735214),\n",
              " (1, 450, 3.9198655261735214),\n",
              " (1, 2298, 3.9198655261735214),\n",
              " (1, 3504, 3.9198655261735214),\n",
              " (1, 741, 3.9198655261735214),\n",
              " (1, 2357, 3.9198655261735214),\n",
              " (1, 758, 3.9198655261735214),\n",
              " (1, 9624, 3.9198655261735214),\n",
              " (1, 2302, 3.9198655261735214),\n",
              " (1, 1272, 3.9198655261735214),\n",
              " (1, 2621, 3.9198655261735214),\n",
              " (1, 848, 3.9198655261735214),\n",
              " (1, 3979, 3.9198655261735214),\n",
              " (1, 236, 3.9198655261735214),\n",
              " (1, 4317, 3.9198655261735214),\n",
              " (1, 2192, 3.9198655261735214),\n",
              " (1, 114, 3.9198655261735214),\n",
              " (1, 6417, 3.9198655261735214),\n",
              " (1, 576, 3.9198655261735214),\n",
              " (1, 431, 3.9198655261735214),\n",
              " (1, 7, 3.9198655261735214),\n",
              " (1, 4682, 3.9198655261735214),\n",
              " (1, 606, 3.9198655261735214),\n",
              " (1, 416, 3.9198655261735214),\n",
              " (1, 1383, 3.9198655261735214),\n",
              " (1, 75, 3.9198655261735214),\n",
              " (1, 3997, 3.9198655261735214),\n",
              " (1, 4095, 3.9198655261735214),\n",
              " (1, 1131, 3.9198655261735214),\n",
              " (1, 5244, 3.9198655261735214),\n",
              " (1, 9934, 3.9198655261735214),\n",
              " (1, 371, 3.9198655261735214),\n",
              " (1, 1518, 3.9198655261735214),\n",
              " (1, 9588, 3.9198655261735214),\n",
              " (1, 2674, 3.9198655261735214),\n",
              " (1, 2620, 3.9198655261735214),\n",
              " (1, 89, 3.9198655261735214),\n",
              " (1, 8995, 3.9198655261735214),\n",
              " (1, 424, 3.9198655261735214),\n",
              " (1, 2177, 3.9198655261735214),\n",
              " (1, 611, 3.9198655261735214),\n",
              " (1, 2209, 3.9198655261735214),\n",
              " (1, 1322, 3.9198655261735214),\n",
              " (1, 1312, 3.9198655261735214),\n",
              " (1, 391, 3.9198655261735214),\n",
              " (1, 958, 3.9198655261735214),\n",
              " (1, 5326, 3.9198655261735214),\n",
              " (1, 5101, 3.9198655261735214),\n",
              " (1, 296, 3.9198655261735214),\n",
              " (1, 740, 3.9198655261735214),\n",
              " (1, 1657, 3.9198655261735214),\n",
              " (1, 121, 3.9198655261735214),\n",
              " (1, 9308, 3.9198655261735214),\n",
              " (1, 5830, 3.9198655261735214),\n",
              " (1, 547, 3.9198655261735214),\n",
              " (1, 3203, 3.9198655261735214),\n",
              " (1, 400, 3.9198655261735214),\n",
              " (1, 3941, 3.9198655261735214),\n",
              " (1, 1010, 3.9198655261735214),\n",
              " (1, 690, 3.9198655261735214),\n",
              " (1, 1184, 3.9198655261735214),\n",
              " (1, 3123, 3.9198655261735214),\n",
              " (1, 436, 3.9198655261735214),\n",
              " (1, 659, 3.9198655261735214),\n",
              " (1, 63, 3.9198655261735214),\n",
              " (1, 687, 3.9198655261735214),\n",
              " (1, 598, 3.9198655261735214),\n",
              " (1, 3278, 3.9198655261735214),\n",
              " (1, 3298, 3.9198655261735214),\n",
              " (1, 1018, 3.9198655261735214),\n",
              " (1, 2669, 3.9198655261735214),\n",
              " (1, 1246, 3.9198655261735214),\n",
              " (1, 2299, 3.9198655261735214),\n",
              " (1, 2382, 3.9198655261735214),\n",
              " (1, 6578, 3.9198655261735214),\n",
              " (1, 7316, 3.9198655261735214),\n",
              " (1, 8512, 3.9198655261735214),\n",
              " (1, 8214, 3.9198655261735214),\n",
              " (1, 2426, 3.9198655261735214),\n",
              " (1, 633, 3.9198655261735214),\n",
              " (1, 743, 3.9198655261735214),\n",
              " (1, 1153, 3.9198655261735214),\n",
              " (1, 2034, 3.9198655261735214),\n",
              " (1, 2923, 3.9198655261735214),\n",
              " (1, 3036, 3.9198655261735214),\n",
              " (1, 4979, 3.9198655261735214),\n",
              " (1, 4031, 3.9198655261735214),\n",
              " (1, 3883, 3.9198655261735214),\n",
              " (1, 39, 3.9198655261735214),\n",
              " (1, 165, 3.9198655261735214),\n",
              " (1, 135, 3.9198655261735214),\n",
              " (1, 110, 3.9198655261735214),\n",
              " (1, 1299, 3.9198655261735214),\n",
              " (1, 4316, 3.9198655261735214),\n",
              " (1, 3428, 3.9198655261735214),\n",
              " (1, 4455, 3.9198655261735214),\n",
              " (1, 360, 3.9198655261735214),\n",
              " (1, 2406, 3.9198655261735214),\n",
              " (1, 2047, 3.9198655261735214),\n",
              " (1, 2965, 3.9198655261735214),\n",
              " (1, 806, 3.9198655261735214),\n",
              " (1, 1053, 3.9198655261735214),\n",
              " (1, 612, 3.9198655261735214),\n",
              " (1, 936, 3.9198655261735214),\n",
              " (1, 1261, 3.9198655261735214),\n",
              " (1, 725, 3.9198655261735214),\n",
              " (1, 915, 3.9198655261735214),\n",
              " (1, 7522, 3.9198655261735214),\n",
              " (1, 2873, 3.9198655261735214),\n",
              " (1, 499, 3.9198655261735214),\n",
              " (1, 2051, 3.9198655261735214),\n",
              " (1, 1868, 3.9198655261735214),\n",
              " (1, 2015, 3.9198655261735214),\n",
              " (1, 994, 3.9198655261735214),\n",
              " (1, 1656, 3.9198655261735214),\n",
              " (1, 5658, 3.9198655261735214),\n",
              " (1, 7667, 3.9198655261735214),\n",
              " (1, 937, 3.9198655261735214),\n",
              " (1, 272, 3.9198655261735214),\n",
              " (1, 271, 3.9198655261735214),\n",
              " (1, 2601, 3.9198655261735214),\n",
              " (1, 5100, 3.9198655261735214),\n",
              " (1, 5563, 3.9198655261735214),\n",
              " (1, 1843, 3.9198655261735214),\n",
              " (1, 3237, 3.9198655261735214),\n",
              " (1, 913, 3.9198655261735214),\n",
              " (1, 217, 3.9198655261735214),\n",
              " (1, 270, 3.9198655261735214),\n",
              " (1, 80, 3.9198655261735214),\n",
              " (1, 3310, 3.9198655261735214),\n",
              " (1, 883, 3.9198655261735214),\n",
              " (1, 3141, 3.9198655261735214),\n",
              " (1, 7462, 3.9198655261735214),\n",
              " (1, 228, 3.9198655261735214),\n",
              " (1, 1806, 3.9198655261735214),\n",
              " (1, 1741, 3.9198655261735214),\n",
              " (1, 520, 3.9198655261735214),\n",
              " (1, 672, 3.9198655261735214),\n",
              " (1, 1410, 3.9198655261735214),\n",
              " (1, 2235, 3.9198655261735214),\n",
              " (1, 7991, 3.9198655261735214),\n",
              " (1, 3229, 3.9198655261735214),\n",
              " (1, 5858, 3.9198655261735214),\n",
              " (1, 9469, 3.9198655261735214),\n",
              " (1, 8215, 3.9198655261735214),\n",
              " (1, 7208, 3.9198655261735214),\n",
              " (1, 7619, 3.9198655261735214),\n",
              " (1, 5041, 3.9198655261735214),\n",
              " (1, 6684, 3.9198655261735214),\n",
              " (1, 671, 3.9198655261735214),\n",
              " (1, 5665, 3.9198655261735214),\n",
              " (1, 6512, 3.9198655261735214),\n",
              " (1, 5505, 3.9198655261735214),\n",
              " (1, 4240, 3.9198655261735214),\n",
              " (1, 9116, 3.9198655261735214),\n",
              " (1, 9494, 3.9198655261735214),\n",
              " (1, 7748, 3.9198655261735214),\n",
              " (1, 5115, 3.9198655261735214),\n",
              " (1, 7681, 3.9198655261735214),\n",
              " (1, 5861, 3.9198655261735214),\n",
              " (1, 8868, 3.9198655261735214),\n",
              " (1, 6078, 3.9198655261735214),\n",
              " (1, 6501, 3.9198655261735214),\n",
              " (1, 6211, 3.9198655261735214),\n",
              " (1, 7607, 3.9198655261735214),\n",
              " (1, 7006, 3.9198655261735214),\n",
              " (1, 8156, 3.9198655261735214),\n",
              " (1, 6087, 3.9198655261735214),\n",
              " (1, 3752, 3.9198655261735214),\n",
              " (1, 6212, 3.9198655261735214),\n",
              " (1, 1058, 3.9198655261735214),\n",
              " (1, 4728, 3.9198655261735214),\n",
              " (1, 172, 3.9198655261735214),\n",
              " (1, 546, 3.9198655261735214),\n",
              " (1, 1664, 3.9198655261735214),\n",
              " (1, 4862, 3.9198655261735214),\n",
              " (1, 701, 3.9198655261735214),\n",
              " (1, 2716, 3.9198655261735214),\n",
              " (1, 7639, 3.9198655261735214),\n",
              " (1, 4640, 3.9198655261735214),\n",
              " (1, 4068, 3.9198655261735214),\n",
              " (1, 8946, 3.9198655261735214),\n",
              " (1, 5551, 3.9198655261735214),\n",
              " (1, 189, 3.9198655261735214),\n",
              " (1, 2027, 3.9198655261735214),\n",
              " (1, 786, 3.9198655261735214),\n",
              " (1, 125, 3.9198655261735214),\n",
              " (1, 161, 3.9198655261735214),\n",
              " (1, 180, 3.9198655261735214),\n",
              " (1, 129, 3.9198655261735214),\n",
              " (1, 155, 3.9198655261735214),\n",
              " (1, 2041, 3.9198655261735214),\n",
              " (1, 953, 3.9198655261735214),\n",
              " (1, 305, 3.9198655261735214),\n",
              " (1, 556, 3.9198655261735214),\n",
              " (1, 629, 3.9198655261735214),\n",
              " (1, 2902, 3.9198655261735214),\n",
              " (1, 199, 3.9198655261735214),\n",
              " (1, 59, 3.9198655261735214),\n",
              " (1, 857, 3.9198655261735214),\n",
              " (1, 160, 3.9198655261735214),\n",
              " (1, 530, 3.9198655261735214),\n",
              " (1, 321, 3.9198655261735214),\n",
              " (1, 531, 3.9198655261735214),\n",
              " (1, 733, 3.9198655261735214),\n",
              " (1, 7022, 3.9198655261735214),\n",
              " (1, 5792, 3.9198655261735214),\n",
              " (1, 1206, 3.9198655261735214),\n",
              " (1, 1663, 3.9198655261735214),\n",
              " (1, 1835, 3.9198655261735214),\n",
              " (1, 1506, 3.9198655261735214),\n",
              " (1, 9473, 3.9198655261735214),\n",
              " (1, 3928, 3.9198655261735214),\n",
              " (1, 597, 3.9198655261735214),\n",
              " (1, 8704, 3.9198655261735214),\n",
              " (1, 154, 3.9198655261735214),\n",
              " (1, 29, 3.9198655261735214),\n",
              " (1, 353, 3.9198655261735214),\n",
              " (1, 770, 3.9198655261735214),\n",
              " (1, 839, 3.9198655261735214),\n",
              " (1, 248, 3.9198655261735214),\n",
              " (1, 773, 3.9198655261735214),\n",
              " (1, 7810, 3.9198655261735214),\n",
              " (1, 1714, 3.9198655261735214),\n",
              " (1, 118, 3.9198655261735214),\n",
              " (1, 2136, 3.9198655261735214),\n",
              " (1, 1580, 3.9198655261735214),\n",
              " (1, 427, 3.9198655261735214),\n",
              " (1, 935, 3.9198655261735214),\n",
              " (1, 5024, 3.9198655261735214),\n",
              " (1, 8692, 3.9198655261735214),\n",
              " (1, 6808, 3.9198655261735214),\n",
              " (1, 3933, 3.9198655261735214),\n",
              " (1, 820, 3.9198655261735214),\n",
              " (1, 380, 3.9198655261735214),\n",
              " (1, 851, 3.9198655261735214),\n",
              " (1, 3761, 3.9198655261735214),\n",
              " (1, 7715, 3.9198655261735214),\n",
              " (1, 730, 3.9198655261735214),\n",
              " (1, 1161, 3.9198655261735214),\n",
              " (1, 178, 3.9198655261735214),\n",
              " (1, 6128, 3.9198655261735214),\n",
              " (1, 829, 3.9198655261735214),\n",
              " (1, 1949, 3.9198655261735214),\n",
              " (1, 2403, 3.9198655261735214),\n",
              " (1, 478, 3.9198655261735214),\n",
              " (1, 1571, 3.9198655261735214),\n",
              " (1, 2097, 3.9198655261735214),\n",
              " (1, 1421, 3.9198655261735214),\n",
              " (1, 3476, 3.9198655261735214),\n",
              " (1, 9083, 3.9198655261735214),\n",
              " (1, 646, 3.9198655261735214),\n",
              " (1, 173, 3.9198655261735214),\n",
              " (1, 5210, 3.9198655261735214),\n",
              " (1, 2259, 3.9198655261735214),\n",
              " (1, 2798, 3.9198655261735214),\n",
              " (1, 6634, 3.9198655261735214),\n",
              " (1, 3808, 3.9198655261735214),\n",
              " (1, 4942, 3.9198655261735214),\n",
              " (1, 97, 3.9198655261735214),\n",
              " (1, 5238, 3.9198655261735214),\n",
              " (1, 618, 3.9198655261735214),\n",
              " (1, 5508, 3.9198655261735214),\n",
              " (1, 4707, 3.9198655261735214),\n",
              " (1, 635, 3.9198655261735214),\n",
              " (1, 8882, 3.9198655261735214),\n",
              " (1, 2024, 3.9198655261735214),\n",
              " (1, 582, 3.9198655261735214),\n",
              " (1, 3009, 3.9198655261735214),\n",
              " (1, 718, 3.9198655261735214),\n",
              " (1, 2323, 3.9198655261735214),\n",
              " (1, 6921, 3.9198655261735214),\n",
              " (1, 3029, 3.9198655261735214),\n",
              " (1, 6324, 3.9198655261735214),\n",
              " (1, 6306, 3.9198655261735214),\n",
              " (1, 3569, 3.9198655261735214),\n",
              " (1, 2073, 3.9198655261735214),\n",
              " (1, 5423, 3.9198655261735214),\n",
              " (1, 5525, 3.9198655261735214),\n",
              " (1, 3640, 3.9198655261735214),\n",
              " (1, 6399, 3.9198655261735214),\n",
              " (1, 3760, 3.9198655261735214),\n",
              " (1, 2595, 3.9198655261735214),\n",
              " (1, 4353, 3.9198655261735214),\n",
              " (1, 1755, 3.9198655261735214),\n",
              " (1, 3457, 3.9198655261735214),\n",
              " (1, 5283, 3.9198655261735214),\n",
              " (1, 468, 3.9198655261735214),\n",
              " (1, 7416, 3.9198655261735214),\n",
              " (1, 375, 3.9198655261735214),\n",
              " (1, 1650, 3.9198655261735214),\n",
              " (1, 1373, 3.9198655261735214),\n",
              " (1, 117, 3.9198655261735214),\n",
              " (1, 1113, 3.9198655261735214),\n",
              " (1, 621, 3.9198655261735214),\n",
              " (1, 999, 3.9198655261735214),\n",
              " (1, 3254, 3.9198655261735214),\n",
              " (1, 6777, 3.9198655261735214),\n",
              " (1, 3379, 3.9198655261735214),\n",
              " (1, 7379, 3.9198655261735214),\n",
              " (1, 9854, 3.9198655261735214),\n",
              " (1, 599, 3.9198655261735214),\n",
              " (1, 108, 3.9198655261735214),\n",
              " (1, 955, 3.9198655261735214),\n",
              " (1, 1063, 3.9198655261735214),\n",
              " (1, 1436, 3.9198655261735214),\n",
              " (1, 311, 3.9198655261735214),\n",
              " (1, 925, 3.9198655261735214),\n",
              " (1, 4606, 3.9198655261735214),\n",
              " (1, 669, 3.9198655261735214),\n",
              " (1, 6604, 3.9198655261735214),\n",
              " (1, 4842, 3.9198655261735214),\n",
              " (1, 828, 3.9198655261735214),\n",
              " (1, 2451, 3.9198655261735214),\n",
              " (1, 4067, 3.9198655261735214),\n",
              " (1, 8455, 3.9198655261735214),\n",
              " (1, 8555, 3.9198655261735214),\n",
              " (1, 1167, 3.9198655261735214),\n",
              " (1, 972, 3.9198655261735214),\n",
              " (1, 64, 3.9198655261735214),\n",
              " (1, 1159, 3.9198655261735214),\n",
              " (1, 7651, 3.9198655261735214),\n",
              " (1, 395, 3.9198655261735214),\n",
              " (1, 3903, 3.9198655261735214),\n",
              " (1, 8079, 3.9198655261735214),\n",
              " (1, 2544, 3.9198655261735214),\n",
              " (1, 6160, 3.9198655261735214),\n",
              " (1, 9754, 3.9198655261735214),\n",
              " (1, 934, 3.9198655261735214),\n",
              " (1, 6354, 3.9198655261735214),\n",
              " (1, 93, 3.9198655261735214),\n",
              " (1, 706, 3.9198655261735214),\n",
              " (1, 1234, 3.9198655261735214),\n",
              " (1, 590, 3.9198655261735214),\n",
              " (1, 2013, 3.9198655261735214),\n",
              " (1, 1096, 3.9198655261735214),\n",
              " (1, 4009, 3.9198655261735214),\n",
              " (1, 383, 3.9198655261735214),\n",
              " (1, 8805, 3.9198655261735214),\n",
              " (1, 4634, 3.9198655261735214),\n",
              " (1, 3508, 3.9198655261735214),\n",
              " (1, 4672, 3.9198655261735214),\n",
              " (1, 3785, 3.9198655261735214),\n",
              " (1, 1269, 3.9198655261735214),\n",
              " (1, 3913, 3.9198655261735214),\n",
              " (1, 592, 3.9198655261735214),\n",
              " (1, 2342, 3.9198655261735214),\n",
              " (1, 7806, 3.9198655261735214),\n",
              " (1, 19, 3.9198655261735214),\n",
              " (1, 4336, 3.9198655261735214),\n",
              " (1, 5754, 3.9198655261735214),\n",
              " (1, 5088, 3.9198655261735214),\n",
              " (1, 1705, 3.9198655261735214),\n",
              " (1, 9303, 3.9198655261735214),\n",
              " (1, 211, 3.9198655261735214),\n",
              " (1, 127, 3.9198655261735214),\n",
              " (1, 969, 3.9198655261735214),\n",
              " (1, 8084, 3.9198655261735214),\n",
              " (1, 1624, 3.9198655261735214),\n",
              " (1, 1683, 3.9198655261735214),\n",
              " (1, 1214, 3.9198655261735214),\n",
              " (1, 1135, 3.9198655261735214),\n",
              " (1, 959, 3.9198655261735214),\n",
              " (1, 8878, 3.9198655261735214),\n",
              " (1, 278, 3.9198655261735214),\n",
              " (1, 1996, 3.9198655261735214),\n",
              " (1, 5327, 3.9198655261735214),\n",
              " (1, 4974, 3.9198655261735214),\n",
              " (1, 8792, 3.9198655261735214),\n",
              " (1, 4475, 3.9198655261735214),\n",
              " (1, 83, 3.9198655261735214),\n",
              " (1, 2698, 3.9198655261735214),\n",
              " (1, 7495, 3.9198655261735214),\n",
              " (1, 714, 3.9198655261735214),\n",
              " (1, 2023, 3.9198655261735214),\n",
              " (1, 1210, 3.9198655261735214),\n",
              " (1, 6820, 3.9198655261735214),\n",
              " (1, 1079, 3.9198655261735214),\n",
              " (1, 9236, 3.9198655261735214),\n",
              " (1, 4119, 3.9198655261735214),\n",
              " (1, 3696, 3.9198655261735214),\n",
              " (1, 984, 3.9198655261735214),\n",
              " (1, 3821, 3.9198655261735214),\n",
              " (1, 6070, 3.9198655261735214),\n",
              " (1, 885, 3.9198655261735214),\n",
              " (1, 2082, 3.9198655261735214),\n",
              " (1, 6283, 3.9198655261735214),\n",
              " (1, 7266, 3.9198655261735214),\n",
              " (1, 2809, 3.9198655261735214),\n",
              " (1, 1133, 3.9198655261735214),\n",
              " (1, 3451, 3.9198655261735214),\n",
              " (1, 512, 3.9198655261735214),\n",
              " (1, 4106, 3.9198655261735214),\n",
              " (1, 282, 3.9198655261735214),\n",
              " (1, 699, 3.9198655261735214),\n",
              " (1, 8857, 3.9198655261735214),\n",
              " (1, 1258, 3.9198655261735214),\n",
              " (1, 1938, 3.9198655261735214),\n",
              " (1, 335, 3.9198655261735214),\n",
              " (1, 2741, 3.9198655261735214),\n",
              " (1, 8998, 3.9198655261735214),\n",
              " (1, 7103, 3.9198655261735214),\n",
              " (1, 8192, 3.9198655261735214),\n",
              " (1, 3923, 3.9198655261735214),\n",
              " (1, 3085, 3.9198655261735214),\n",
              " (1, 2380, 3.9198655261735214),\n",
              " (1, 6772, 3.9198655261735214),\n",
              " (1, 9460, 3.9198655261735214),\n",
              " (1, 8456, 3.9198655261735214),\n",
              " (1, 1847, 3.9198655261735214),\n",
              " (1, 8152, 3.9198655261735214),\n",
              " (1, 9936, 3.9198655261735214),\n",
              " (1, 5911, 3.9198655261735214),\n",
              " (1, 196, 3.9198655261735214),\n",
              " (1, 4504, 3.9198655261735214),\n",
              " (1, 3387, 3.9198655261735214),\n",
              " (1, 736, 3.9198655261735214),\n",
              " (1, 2869, 3.9198655261735214),\n",
              " (1, 8818, 3.9198655261735214),\n",
              " (1, 1411, 3.9198655261735214),\n",
              " (1, 879, 3.9198655261735214),\n",
              " (1, 9317, 3.9198655261735214),\n",
              " (1, 7251, 3.9198655261735214),\n",
              " (1, 8814, 3.9198655261735214),\n",
              " (1, 2274, 3.9198655261735214),\n",
              " (1, 7262, 3.9198655261735214),\n",
              " (1, 7874, 3.9198655261735214),\n",
              " (1, 2875, 3.9198655261735214),\n",
              " (1, 3916, 3.9198655261735214),\n",
              " (1, 6064, 3.9198655261735214),\n",
              " (1, 2729, 3.9198655261735214),\n",
              " (1, 1106, 3.9198655261735214),\n",
              " (1, 6575, 3.9198655261735214),\n",
              " (1, 37, 3.9198655261735214),\n",
              " (1, 602, 3.9198655261735214),\n",
              " (1, 332, 3.9198655261735214),\n",
              " (1, 292, 3.9198655261735214),\n",
              " (1, 347, 3.9198655261735214),\n",
              " (1, 641, 3.9198655261735214),\n",
              " (1, 542, 3.9198655261735214),\n",
              " (1, 8611, 3.9198655261735214),\n",
              " (1, 4071, 3.9198655261735214),\n",
              " (1, 2366, 3.9198655261735214),\n",
              " (1, 1255, 3.9198655261735214),\n",
              " (1, 5386, 3.9198655261735214),\n",
              " (1, 1458, 3.9198655261735214),\n",
              " (1, 1186, 3.9198655261735214),\n",
              " (1, 1679, 3.9198655261735214),\n",
              " (1, 577, 3.9198655261735214),\n",
              " (1, 6173, 3.9198655261735214),\n",
              " (1, 560, 3.9198655261735214),\n",
              " (1, 5865, 3.9198655261735214),\n",
              " (1, 2860, 3.9198655261735214),\n",
              " (1, 1961, 3.9198655261735214),\n",
              " (1, 1553, 3.9198655261735214),\n",
              " (1, 5609, 3.9198655261735214),\n",
              " (1, 5295, 3.9198655261735214),\n",
              " (1, 3608, 3.9198655261735214),\n",
              " (1, 4656, 3.9198655261735214),\n",
              " (1, 3832, 3.9198655261735214),\n",
              " (1, 374, 3.9198655261735214),\n",
              " (1, 878, 3.9198655261735214),\n",
              " (1, 4510, 3.9198655261735214),\n",
              " (1, 281, 3.9198655261735214),\n",
              " (1, 3400, 3.9198655261735214),\n",
              " (1, 4605, 3.9198655261735214),\n",
              " (1, 4983, 3.9198655261735214),\n",
              " (1, 1597, 3.9198655261735214),\n",
              " (1, 453, 3.9198655261735214),\n",
              " (1, 2757, 3.9198655261735214),\n",
              " (1, 1005, 3.9198655261735214),\n",
              " (1, 763, 3.9198655261735214),\n",
              " (1, 3156, 3.9198655261735214),\n",
              " (1, 3048, 3.9198655261735214),\n",
              " (1, 8355, 3.9198655261735214),\n",
              " (1, 6383, 3.9198655261735214),\n",
              " (1, 3049, 3.9198655261735214),\n",
              " (1, 6593, 3.9198655261735214),\n",
              " (1, 4047, 3.9198655261735214),\n",
              " (1, 9768, 3.9198655261735214),\n",
              " (1, 6242, 3.9198655261735214),\n",
              " (1, 9542, 3.9198655261735214),\n",
              " (1, 5294, 3.9198655261735214),\n",
              " (1, 9533, 3.9198655261735214),\n",
              " (1, 2284, 3.9198655261735214),\n",
              " (1, 4663, 3.9198655261735214),\n",
              " (1, 7647, 3.9198655261735214),\n",
              " (1, 3497, 3.9198655261735214),\n",
              " (1, 1863, 3.9198655261735214),\n",
              " (1, 2608, 3.9198655261735214),\n",
              " (1, 1480, 3.9198655261735214),\n",
              " (1, 2959, 3.9198655261735214),\n",
              " (1, 8332, 3.9198655261735214),\n",
              " (1, 4194, 3.9198655261735214),\n",
              " (1, 6374, 3.9198655261735214),\n",
              " (1, 8085, 3.9198655261735214),\n",
              " (1, 7505, 3.9198655261735214),\n",
              " (1, 7981, 3.9198655261735214),\n",
              " (1, 3244, 3.9198655261735214),\n",
              " (1, 2783, 3.9198655261735214),\n",
              " (1, 3177, 3.9198655261735214),\n",
              " (1, 3648, 3.9198655261735214),\n",
              " (1, 2623, 3.9198655261735214),\n",
              " (1, 1857, 3.9198655261735214),\n",
              " (1, 5805, 3.9198655261735214),\n",
              " (1, 6368, 3.9198655261735214),\n",
              " (1, 7895, 3.9198655261735214),\n",
              " (1, 4712, 3.9198655261735214),\n",
              " (1, 3663, 3.9198655261735214),\n",
              " (1, 3708, 3.9198655261735214),\n",
              " (1, 5629, 3.9198655261735214),\n",
              " (1, 2508, 3.9198655261735214),\n",
              " (1, 6934, 3.9198655261735214),\n",
              " (1, 6389, 3.9198655261735214),\n",
              " (1, 3028, 3.9198655261735214),\n",
              " (1, 3837, 3.9198655261735214),\n",
              " (1, 2561, 3.9198655261735214),\n",
              " (1, 6675, 3.9198655261735214),\n",
              " (1, 1845, 3.9198655261735214),\n",
              " (1, 2341, 3.9198655261735214),\n",
              " (1, 2303, 3.9198655261735214),\n",
              " (1, 2550, 3.9198655261735214),\n",
              " (1, 2549, 3.9198655261735214),\n",
              " (1, 2090, 3.9198655261735214),\n",
              " (1, 2224, 3.9198655261735214),\n",
              " (1, 3510, 3.9198655261735214),\n",
              " (1, 1086, 3.9198655261735214),\n",
              " (1, 3166, 3.9198655261735214),\n",
              " (1, 2911, 3.9198655261735214),\n",
              " (1, 5092, 3.9198655261735214),\n",
              " (1, 3874, 3.9198655261735214),\n",
              " (1, 2605, 3.9198655261735214),\n",
              " (1, 8398, 3.9198655261735214),\n",
              " (1, 3580, 3.9198655261735214),\n",
              " (1, 356, 3.9198655261735214),\n",
              " (1, 3063, 3.9198655261735214),\n",
              " (1, 3826, 3.9198655261735214),\n",
              " (1, 5463, 3.9198655261735214),\n",
              " (1, 4650, 3.9198655261735214),\n",
              " (1, 4534, 3.9198655261735214),\n",
              " (1, 8038, 3.9198655261735214),\n",
              " (1, 1503, 3.9198655261735214),\n",
              " (1, 2025, 3.9198655261735214),\n",
              " (1, 3780, 3.9198655261735214),\n",
              " (1, 137, 3.9198655261735214),\n",
              " (1, 463, 3.9198655261735214),\n",
              " (1, 712, 3.9198655261735214),\n",
              " (1, 554, 3.9198655261735214),\n",
              " (1, 4440, 3.9198655261735214),\n",
              " (1, 2262, 3.9198655261735214),\n",
              " (1, 4044, 3.9198655261735214),\n",
              " (1, 6838, 3.9198655261735214),\n",
              " (1, 6079, 3.9198655261735214),\n",
              " (1, 1779, 3.9198655261735214),\n",
              " (1, 620, 3.9198655261735214),\n",
              " (1, 3027, 3.9198655261735214),\n",
              " (1, 3582, 3.9198655261735214),\n",
              " (1, 515, 3.9198655261735214),\n",
              " (1, 1239, 3.9198655261735214),\n",
              " (1, 8295, 3.9198655261735214),\n",
              " (1, 2049, 3.9198655261735214),\n",
              " (1, 1590, 3.9198655261735214),\n",
              " (1, 2976, 3.9198655261735214),\n",
              " (1, 1825, 3.9198655261735214),\n",
              " (1, 4042, 3.9198655261735214),\n",
              " (1, 5491, 3.9198655261735214),\n",
              " (1, 728, 3.9198655261735214),\n",
              " (1, 4981, 3.9198655261735214),\n",
              " (1, 2419, 3.9198655261735214),\n",
              " (1, 5699, 3.9198655261735214),\n",
              " (1, 4885, 3.9198655261735214),\n",
              " (1, 891, 3.9198655261735214),\n",
              " (1, 3644, 3.9198655261735214),\n",
              " (1, 951, 3.9198655261735214),\n",
              " (1, 1318, 3.9198655261735214),\n",
              " (1, 5114, 3.9198655261735214),\n",
              " (1, 1357, 3.9198655261735214),\n",
              " (1, 8080, 3.9198655261735214),\n",
              " (1, 2546, 3.9198655261735214),\n",
              " (1, 2934, 3.9198655261735214),\n",
              " (1, 2926, 3.9198655261735214),\n",
              " (1, 8585, 3.9198655261735214),\n",
              " (1, 7292, 3.9198655261735214),\n",
              " (1, 3597, 3.9198655261735214),\n",
              " (1, 1444, 3.9198655261735214),\n",
              " (1, 1960, 3.9198655261735214),\n",
              " (1, 2344, 3.9198655261735214),\n",
              " (1, 4421, 3.9198655261735214),\n",
              " (1, 4197, 3.9198655261735214),\n",
              " (1, 1074, 3.9198655261735214),\n",
              " (1, 1124, 3.9198655261735214),\n",
              " (1, 1969, 3.9198655261735214),\n",
              " (1, 7540, 3.9198655261735214),\n",
              " (1, 663, 3.9198655261735214),\n",
              " (1, 9790, 3.9198655261735214),\n",
              " (1, 1283, 3.9198655261735214),\n",
              " (1, 2210, 3.9198655261735214),\n",
              " (1, 501, 3.9198655261735214),\n",
              " (1, 4769, 3.9198655261735214),\n",
              " (1, 751, 3.9198655261735214),\n",
              " (1, 1014, 3.9198655261735214),\n",
              " (1, 1368, 3.9198655261735214),\n",
              " (1, 1768, 3.9198655261735214),\n",
              " (1, 2554, 3.9198655261735214),\n",
              " (1, 2677, 3.9198655261735214),\n",
              " (1, 2944, 3.9198655261735214),\n",
              " (1, 3000, 3.9198655261735214),\n",
              " (1, 6144, 3.9198655261735214),\n",
              " (1, 2043, 3.9198655261735214),\n",
              " (1, 2271, 3.9198655261735214),\n",
              " (1, 708, 3.9198655261735214),\n",
              " (1, 9579, 3.9198655261735214),\n",
              " (1, 5794, 3.9198655261735214),\n",
              " (1, 1025, 3.9198655261735214),\n",
              " (1, 9111, 3.9198655261735214),\n",
              " (1, 4275, 3.9198655261735214),\n",
              " (1, 2252, 3.9198655261735214),\n",
              " (1, 3311, 3.9198655261735214),\n",
              " (1, 523, 3.9198655261735214),\n",
              " (1, 1099, 3.9198655261735214),\n",
              " (1, 1914, 3.9198655261735214),\n",
              " (1, 276, 3.9198655261735214),\n",
              " (1, 7039, 3.9198655261735214),\n",
              " (1, 474, 3.9198655261735214),\n",
              " (1, 1349, 3.9198655261735214),\n",
              " (1, 5495, 3.9198655261735214),\n",
              " (1, 1238, 3.9198655261735214),\n",
              " (1, 3092, 3.9198655261735214),\n",
              " (1, 6895, 3.9198655261735214),\n",
              " (1, 2321, 3.9198655261735214),\n",
              " (1, 1333, 3.9198655261735214),\n",
              " (1, 6375, 3.9198655261735214),\n",
              " (1, 4620, 3.9198655261735214),\n",
              " (1, 4018, 3.9198655261735214),\n",
              " (1, 1224, 3.9198655261735214),\n",
              " (1, 1280, 3.9198655261735214),\n",
              " (1, 126, 3.9198655261735214),\n",
              " (1, 2897, 3.9198655261735214),\n",
              " (1, 760, 3.9198655261735214),\n",
              " (1, 9946, 3.9198655261735214),\n",
              " (1, 5037, 3.9198655261735214),\n",
              " (1, 7327, 3.9198655261735214),\n",
              " (1, 3561, 3.9198655261735214),\n",
              " (1, 456, 3.9198655261735214),\n",
              " (1, 956, 3.9198655261735214),\n",
              " (1, 265, 3.9198655261735214),\n",
              " (1, 2540, 3.9198655261735214),\n",
              " (1, 4096, 3.9198655261735214),\n",
              " (1, 1888, 3.9198655261735214),\n",
              " (1, 3844, 3.9198655261735214),\n",
              " (1, 6524, 3.9198655261735214),\n",
              " (1, 4485, 3.9198655261735214),\n",
              " (1, 2475, 3.9198655261735214),\n",
              " (1, 15, 3.9198655261735214),\n",
              " (1, 9006, 3.9198655261735214),\n",
              " (1, 1646, 3.9198655261735214),\n",
              " (1, 1213, 3.9198655261735214),\n",
              " (1, 838, 3.9198655261735214),\n",
              " (1, 2564, 3.9198655261735214),\n",
              " (1, 2312, 3.9198655261735214),\n",
              " (1, 715, 3.9198655261735214),\n",
              " (1, 448, 3.9198655261735214),\n",
              " (1, 5207, 3.9198655261735214),\n",
              " (1, 1788, 3.9198655261735214),\n",
              " (1, 4483, 3.9198655261735214),\n",
              " (1, 6590, 3.9198655261735214),\n",
              " (1, 6920, 3.9198655261735214),\n",
              " (1, 6361, 3.9198655261735214),\n",
              " (1, 503, 3.9198655261735214),\n",
              " (1, 2536, 3.9198655261735214),\n",
              " (1, 6364, 3.9198655261735214),\n",
              " (1, 1178, 3.9198655261735214),\n",
              " (1, 90, 3.9198655261735214),\n",
              " (1, 3754, 3.9198655261735214),\n",
              " (1, 116, 3.9198655261735214),\n",
              " (1, 1121, 3.9198655261735214),\n",
              " (1, 1179, 3.9198655261735214),\n",
              " (1, 5381, 3.9198655261735214),\n",
              " (1, 487, 3.9198655261735214),\n",
              " (1, 3797, 3.9198655261735214),\n",
              " (1, 593, 3.9198655261735214),\n",
              " (1, 1431, 3.9198655261735214),\n",
              " (1, 341, 3.9198655261735214),\n",
              " (1, 4361, 3.9198655261735214),\n",
              " (1, 1223, 3.9198655261735214),\n",
              " (1, 1862, 3.9198655261735214),\n",
              " (1, 2640, 3.9198655261735214),\n",
              " (1, 2977, 3.9198655261735214),\n",
              " (1, 2491, 3.9198655261735214),\n",
              " (1, 2286, 3.9198655261735214),\n",
              " (1, 3948, 3.9198655261735214),\n",
              " (1, 1384, 3.9198655261735214),\n",
              " (1, 729, 3.9198655261735214),\n",
              " (1, 2115, 3.9198655261735214),\n",
              " (1, 429, 3.9198655261735214),\n",
              " (1, 8035, 3.9198655261735214),\n",
              " (1, 982, 3.9198655261735214),\n",
              " (1, 239, 3.9198655261735214),\n",
              " (1, 1727, 3.9198655261735214),\n",
              " (1, 2163, 3.9198655261735214),\n",
              " (1, 7683, 3.9198655261735214),\n",
              " (1, 5648, 3.9198655261735214),\n",
              " (1, 9905, 3.9198655261735214),\n",
              " (1, 2963, 3.9198655261735214),\n",
              " (1, 4503, 3.9198655261735214),\n",
              " (1, 7008, 3.9198655261735214),\n",
              " (1, 1530, 3.9198655261735214),\n",
              " (1, 3739, 3.9198655261735214),\n",
              " (1, 1465, 3.9198655261735214),\n",
              " (1, 2052, 3.9198655261735214),\n",
              " (1, 2123, 3.9198655261735214),\n",
              " (1, 9402, 3.9198655261735214),\n",
              " (1, 6359, 3.9198655261735214),\n",
              " (1, 2184, 3.9198655261735214),\n",
              " (1, 266, 3.9198655261735214),\n",
              " (1, 242, 3.9198655261735214),\n",
              " (1, 343, 3.9198655261735214),\n",
              " (1, 833, 3.9198655261735214),\n",
              " (1, 410, 3.9198655261735214),\n",
              " (1, 3331, 3.9198655261735214),\n",
              " (1, 2597, 3.9198655261735214),\n",
              " (1, 661, 3.9198655261735214),\n",
              " (1, 5700, 3.9198655261735214),\n",
              " (1, 430, 3.9198655261735214),\n",
              " (1, 1500, 3.9198655261735214),\n",
              " (1, 1703, 3.9198655261735214),\n",
              " (1, 682, 3.9198655261735214),\n",
              " (1, 4788, 3.9198655261735214),\n",
              " (1, 3911, 3.9198655261735214),\n",
              " (1, 6180, 3.9198655261735214),\n",
              " (1, 3210, 3.9198655261735214),\n",
              " (1, 5237, 3.9198655261735214),\n",
              " (1, 1365, 3.9198655261735214),\n",
              " (1, 7579, 3.9198655261735214),\n",
              " (1, 6156, 3.9198655261735214),\n",
              " (1, 6889, 3.9198655261735214),\n",
              " (1, 2440, 3.9198655261735214),\n",
              " (1, 9921, 3.9198655261735214),\n",
              " (1, 1250, 3.9198655261735214),\n",
              " (1, 358, 3.9198655261735214),\n",
              " (1, 6382, 3.9198655261735214),\n",
              " (1, 4755, 3.9198655261735214),\n",
              " (1, 5035, 3.9198655261735214),\n",
              " (1, 283, 3.9198655261735214),\n",
              " (1, 1704, 3.9198655261735214),\n",
              " (1, 3600, 3.9198655261735214),\n",
              " (1, 9972, 3.9198655261735214),\n",
              " (1, 2552, 3.9198655261735214),\n",
              " (1, 1676, 3.9198655261735214),\n",
              " (1, 5330, 3.9198655261735214),\n",
              " (1, 5145, 3.9198655261735214),\n",
              " (1, 8103, 3.9198655261735214),\n",
              " (1, 8154, 3.9198655261735214),\n",
              " (1, 7886, 3.9198655261735214),\n",
              " (1, 6891, 3.9198655261735214),\n",
              " (1, 6407, 3.9198655261735214),\n",
              " (1, 2239, 3.9198655261735214),\n",
              " (1, 2947, 3.9198655261735214),\n",
              " (1, 4215, 3.9198655261735214),\n",
              " (1, 4891, 3.9198655261735214),\n",
              " (1, 4941, 3.9198655261735214),\n",
              " (1, 789, 3.9198655261735214),\n",
              " (1, 432, 3.9198655261735214),\n",
              " (1, 3133, 3.9198655261735214),\n",
              " (1, 4517, 3.9198655261735214),\n",
              " ...]"
            ]
          },
          "execution_count": 14,
          "metadata": {},
          "output_type": "execute_result"
        }
      ],
      "source": [
        "anti_set"
      ],
      "id": "06006190"
    },
    {
      "cell_type": "code",
      "execution_count": null,
      "metadata": {
        "id": "887822cd"
      },
      "outputs": [],
      "source": [],
      "id": "887822cd"
    },
    {
      "cell_type": "code",
      "execution_count": null,
      "metadata": {
        "id": "USAW0Zuq_CRR"
      },
      "outputs": [],
      "source": [],
      "id": "USAW0Zuq_CRR"
    },
    {
      "cell_type": "markdown",
      "metadata": {
        "id": "4b67b07f"
      },
      "source": [
        "# finding similar books based on genres "
      ],
      "id": "4b67b07f"
    },
    {
      "cell_type": "markdown",
      "metadata": {
        "id": "b728d4cf"
      },
      "source": [
        "# Preprocessing of genres column in book dataset"
      ],
      "id": "b728d4cf"
    },
    {
      "cell_type": "code",
      "execution_count": null,
      "metadata": {
        "id": "097fd805"
      },
      "outputs": [],
      "source": [
        "import seaborn as sns\n",
        "import matplotlib.pyplot as plt"
      ],
      "id": "097fd805"
    },
    {
      "cell_type": "code",
      "execution_count": null,
      "metadata": {
        "id": "738e486d"
      },
      "outputs": [],
      "source": [
        "df_book_genres = goodreads_df.filter(['book_id','genres','title'])"
      ],
      "id": "738e486d"
    },
    {
      "cell_type": "code",
      "execution_count": null,
      "metadata": {
        "id": "66cc7024",
        "outputId": "138f6285-328d-4aa7-f9fb-3db2aec58f95"
      },
      "outputs": [
        {
          "data": {
            "text/html": [
              "<div>\n",
              "<style scoped>\n",
              "    .dataframe tbody tr th:only-of-type {\n",
              "        vertical-align: middle;\n",
              "    }\n",
              "\n",
              "    .dataframe tbody tr th {\n",
              "        vertical-align: top;\n",
              "    }\n",
              "\n",
              "    .dataframe thead th {\n",
              "        text-align: right;\n",
              "    }\n",
              "</style>\n",
              "<table border=\"1\" class=\"dataframe\">\n",
              "  <thead>\n",
              "    <tr style=\"text-align: right;\">\n",
              "      <th></th>\n",
              "      <th>book_id</th>\n",
              "      <th>genres</th>\n",
              "    </tr>\n",
              "  </thead>\n",
              "  <tbody>\n",
              "    <tr>\n",
              "      <th>0</th>\n",
              "      <td>1</td>\n",
              "      <td>[young-adult, fiction, fantasy, science-fictio...</td>\n",
              "    </tr>\n",
              "    <tr>\n",
              "      <th>1</th>\n",
              "      <td>2</td>\n",
              "      <td>[fantasy, fiction, young-adult, classics]</td>\n",
              "    </tr>\n",
              "    <tr>\n",
              "      <th>2</th>\n",
              "      <td>3</td>\n",
              "      <td>[young-adult, fantasy, romance, fiction, paran...</td>\n",
              "    </tr>\n",
              "    <tr>\n",
              "      <th>3</th>\n",
              "      <td>4</td>\n",
              "      <td>[classics, fiction, historical-fiction, young-...</td>\n",
              "    </tr>\n",
              "    <tr>\n",
              "      <th>4</th>\n",
              "      <td>5</td>\n",
              "      <td>[classics, fiction, historical-fiction, romance]</td>\n",
              "    </tr>\n",
              "    <tr>\n",
              "      <th>...</th>\n",
              "      <td>...</td>\n",
              "      <td>...</td>\n",
              "    </tr>\n",
              "    <tr>\n",
              "      <th>9959</th>\n",
              "      <td>9981</td>\n",
              "      <td>[mystery, thriller, fiction, crime, suspense, ...</td>\n",
              "    </tr>\n",
              "    <tr>\n",
              "      <th>9960</th>\n",
              "      <td>9982</td>\n",
              "      <td>[fantasy, paranormal, romance, fiction, myster...</td>\n",
              "    </tr>\n",
              "    <tr>\n",
              "      <th>9961</th>\n",
              "      <td>9985</td>\n",
              "      <td>[fiction, thriller, books, mystery, suspense, ...</td>\n",
              "    </tr>\n",
              "    <tr>\n",
              "      <th>9962</th>\n",
              "      <td>9987</td>\n",
              "      <td>[mystery, fiction, thriller, suspense, crime, ...</td>\n",
              "    </tr>\n",
              "    <tr>\n",
              "      <th>9963</th>\n",
              "      <td>10000</td>\n",
              "      <td>[history, nonfiction, historical-fiction]</td>\n",
              "    </tr>\n",
              "  </tbody>\n",
              "</table>\n",
              "<p>9964 rows × 2 columns</p>\n",
              "</div>"
            ],
            "text/plain": [
              "      book_id                                             genres\n",
              "0           1  [young-adult, fiction, fantasy, science-fictio...\n",
              "1           2          [fantasy, fiction, young-adult, classics]\n",
              "2           3  [young-adult, fantasy, romance, fiction, paran...\n",
              "3           4  [classics, fiction, historical-fiction, young-...\n",
              "4           5   [classics, fiction, historical-fiction, romance]\n",
              "...       ...                                                ...\n",
              "9959     9981  [mystery, thriller, fiction, crime, suspense, ...\n",
              "9960     9982  [fantasy, paranormal, romance, fiction, myster...\n",
              "9961     9985  [fiction, thriller, books, mystery, suspense, ...\n",
              "9962     9987  [mystery, fiction, thriller, suspense, crime, ...\n",
              "9963    10000          [history, nonfiction, historical-fiction]\n",
              "\n",
              "[9964 rows x 2 columns]"
            ]
          },
          "execution_count": 88,
          "metadata": {},
          "output_type": "execute_result"
        }
      ],
      "source": [
        "df_book_genres"
      ],
      "id": "66cc7024"
    },
    {
      "cell_type": "markdown",
      "metadata": {
        "id": "215c03db"
      },
      "source": [
        "# Genre Matrix for recommendations based on genre"
      ],
      "id": "215c03db"
    },
    {
      "cell_type": "code",
      "execution_count": null,
      "metadata": {
        "id": "86eff6c5",
        "outputId": "4764ba3d-6e13-436f-9748-020433a1f2f4"
      },
      "outputs": [
        {
          "data": {
            "text/html": [
              "<div>\n",
              "<style scoped>\n",
              "    .dataframe tbody tr th:only-of-type {\n",
              "        vertical-align: middle;\n",
              "    }\n",
              "\n",
              "    .dataframe tbody tr th {\n",
              "        vertical-align: top;\n",
              "    }\n",
              "\n",
              "    .dataframe thead th {\n",
              "        text-align: right;\n",
              "    }\n",
              "</style>\n",
              "<table border=\"1\" class=\"dataframe\">\n",
              "  <thead>\n",
              "    <tr style=\"text-align: right;\">\n",
              "      <th></th>\n",
              "      <th>genres</th>\n",
              "    </tr>\n",
              "    <tr>\n",
              "      <th>book_id</th>\n",
              "      <th></th>\n",
              "    </tr>\n",
              "  </thead>\n",
              "  <tbody>\n",
              "    <tr>\n",
              "      <th>1</th>\n",
              "      <td>[young-adult, fiction, fantasy, science-fictio...</td>\n",
              "    </tr>\n",
              "    <tr>\n",
              "      <th>2</th>\n",
              "      <td>[fantasy, fiction, young-adult, classics]</td>\n",
              "    </tr>\n",
              "    <tr>\n",
              "      <th>3</th>\n",
              "      <td>[young-adult, fantasy, romance, fiction, paran...</td>\n",
              "    </tr>\n",
              "    <tr>\n",
              "      <th>4</th>\n",
              "      <td>[classics, fiction, historical-fiction, young-...</td>\n",
              "    </tr>\n",
              "    <tr>\n",
              "      <th>5</th>\n",
              "      <td>[classics, fiction, historical-fiction, romance]</td>\n",
              "    </tr>\n",
              "    <tr>\n",
              "      <th>...</th>\n",
              "      <td>...</td>\n",
              "    </tr>\n",
              "    <tr>\n",
              "      <th>9981</th>\n",
              "      <td>[mystery, thriller, fiction, crime, suspense, ...</td>\n",
              "    </tr>\n",
              "    <tr>\n",
              "      <th>9982</th>\n",
              "      <td>[fantasy, paranormal, romance, fiction, myster...</td>\n",
              "    </tr>\n",
              "    <tr>\n",
              "      <th>9985</th>\n",
              "      <td>[fiction, thriller, books, mystery, suspense, ...</td>\n",
              "    </tr>\n",
              "    <tr>\n",
              "      <th>9987</th>\n",
              "      <td>[mystery, fiction, thriller, suspense, crime, ...</td>\n",
              "    </tr>\n",
              "    <tr>\n",
              "      <th>10000</th>\n",
              "      <td>[history, nonfiction, historical-fiction]</td>\n",
              "    </tr>\n",
              "  </tbody>\n",
              "</table>\n",
              "<p>9964 rows × 1 columns</p>\n",
              "</div>"
            ],
            "text/plain": [
              "                                                    genres\n",
              "book_id                                                   \n",
              "1        [young-adult, fiction, fantasy, science-fictio...\n",
              "2                [fantasy, fiction, young-adult, classics]\n",
              "3        [young-adult, fantasy, romance, fiction, paran...\n",
              "4        [classics, fiction, historical-fiction, young-...\n",
              "5         [classics, fiction, historical-fiction, romance]\n",
              "...                                                    ...\n",
              "9981     [mystery, thriller, fiction, crime, suspense, ...\n",
              "9982     [fantasy, paranormal, romance, fiction, myster...\n",
              "9985     [fiction, thriller, books, mystery, suspense, ...\n",
              "9987     [mystery, fiction, thriller, suspense, crime, ...\n",
              "10000            [history, nonfiction, historical-fiction]\n",
              "\n",
              "[9964 rows x 1 columns]"
            ]
          },
          "execution_count": 90,
          "metadata": {},
          "output_type": "execute_result"
        }
      ],
      "source": [
        "df_book_genres.set_index('book_id')"
      ],
      "id": "86eff6c5"
    },
    {
      "cell_type": "markdown",
      "metadata": {
        "id": "c12a2b44"
      },
      "source": [
        "# Preprocessing of Authors column"
      ],
      "id": "c12a2b44"
    },
    {
      "cell_type": "code",
      "execution_count": null,
      "metadata": {
        "id": "25fda126"
      },
      "outputs": [],
      "source": [
        "##Top Authors "
      ],
      "id": "25fda126"
    },
    {
      "cell_type": "code",
      "execution_count": null,
      "metadata": {
        "id": "712beb5a"
      },
      "outputs": [],
      "source": [
        "df_book_genres['authors']=goodreads_df['authors']"
      ],
      "id": "712beb5a"
    },
    {
      "cell_type": "code",
      "execution_count": null,
      "metadata": {
        "id": "48daaa9b",
        "outputId": "5da0cb06-25ef-4278-e0d8-c0c1dac17d3f"
      },
      "outputs": [
        {
          "data": {
            "text/html": [
              "<div>\n",
              "<style scoped>\n",
              "    .dataframe tbody tr th:only-of-type {\n",
              "        vertical-align: middle;\n",
              "    }\n",
              "\n",
              "    .dataframe tbody tr th {\n",
              "        vertical-align: top;\n",
              "    }\n",
              "\n",
              "    .dataframe thead th {\n",
              "        text-align: right;\n",
              "    }\n",
              "</style>\n",
              "<table border=\"1\" class=\"dataframe\">\n",
              "  <thead>\n",
              "    <tr style=\"text-align: right;\">\n",
              "      <th></th>\n",
              "      <th>book_id</th>\n",
              "      <th>genres</th>\n",
              "      <th>authors</th>\n",
              "    </tr>\n",
              "  </thead>\n",
              "  <tbody>\n",
              "    <tr>\n",
              "      <th>0</th>\n",
              "      <td>1</td>\n",
              "      <td>[young-adult, fiction, fantasy, science-fictio...</td>\n",
              "      <td>[Suzanne Collins]</td>\n",
              "    </tr>\n",
              "    <tr>\n",
              "      <th>1</th>\n",
              "      <td>2</td>\n",
              "      <td>[fantasy, fiction, young-adult, classics]</td>\n",
              "      <td>[J.K. Rowling, Mary GrandPré]</td>\n",
              "    </tr>\n",
              "    <tr>\n",
              "      <th>2</th>\n",
              "      <td>3</td>\n",
              "      <td>[young-adult, fantasy, romance, fiction, paran...</td>\n",
              "      <td>[Stephenie Meyer]</td>\n",
              "    </tr>\n",
              "    <tr>\n",
              "      <th>3</th>\n",
              "      <td>4</td>\n",
              "      <td>[classics, fiction, historical-fiction, young-...</td>\n",
              "      <td>[Harper Lee]</td>\n",
              "    </tr>\n",
              "    <tr>\n",
              "      <th>4</th>\n",
              "      <td>5</td>\n",
              "      <td>[classics, fiction, historical-fiction, romance]</td>\n",
              "      <td>[F. Scott Fitzgerald]</td>\n",
              "    </tr>\n",
              "  </tbody>\n",
              "</table>\n",
              "</div>"
            ],
            "text/plain": [
              "   book_id                                             genres  \\\n",
              "0        1  [young-adult, fiction, fantasy, science-fictio...   \n",
              "1        2          [fantasy, fiction, young-adult, classics]   \n",
              "2        3  [young-adult, fantasy, romance, fiction, paran...   \n",
              "3        4  [classics, fiction, historical-fiction, young-...   \n",
              "4        5   [classics, fiction, historical-fiction, romance]   \n",
              "\n",
              "                         authors  \n",
              "0              [Suzanne Collins]  \n",
              "1  [J.K. Rowling, Mary GrandPré]  \n",
              "2              [Stephenie Meyer]  \n",
              "3                   [Harper Lee]  \n",
              "4          [F. Scott Fitzgerald]  "
            ]
          },
          "execution_count": 92,
          "metadata": {},
          "output_type": "execute_result"
        }
      ],
      "source": [
        "df_book_genres.head()"
      ],
      "id": "48daaa9b"
    },
    {
      "cell_type": "code",
      "execution_count": null,
      "metadata": {
        "id": "ad6c02f8",
        "outputId": "90554627-9a4c-4fe9-9e54-ccd2730997dd"
      },
      "outputs": [
        {
          "data": {
            "image/png": "[encoded data removed]",
            "text/plain": [
              "<Figure size 576x504 with 1 Axes>"
            ]
          },
          "metadata": {},
          "output_type": "display_data"
        }
      ],
      "source": [
        "plt.subplots(figsize=(8,7))\n",
        "author_list = []\n",
        "for i in df_book_genres['authors']:\n",
        "    author_list.extend(i)\n",
        "ax = pd.Series(author_list).value_counts()[:10].sort_values(ascending=True).plot.barh(width=0.8,color=sns.color_palette('hls',10))\n",
        "for i, v in enumerate(pd.Series(author_list).value_counts()[:10].sort_values(ascending=True).values): \n",
        "    ax.text(.7, i, v,fontsize=12,color='white',weight='bold')\n",
        "plt.title('Top Authors in GoodReadsBook Dataset')\n",
        "plt.show()"
      ],
      "id": "ad6c02f8"
    },
    {
      "cell_type": "markdown",
      "metadata": {
        "id": "437baf7c"
      },
      "source": [
        "# Generation of Genre Binary Matrix "
      ],
      "id": "437baf7c"
    },
    {
      "cell_type": "code",
      "execution_count": null,
      "metadata": {
        "id": "09dc3e76"
      },
      "outputs": [],
      "source": [
        "#genre list from book dataset as each book can be recognised with more than 2 genres\n",
        "genreList = []\n",
        "for index, row in df_book_genres.iterrows():\n",
        "    genres = row[\"genres\"]\n",
        "    \n",
        "    for genre in genres:\n",
        "        if genre not in genreList:\n",
        "            genreList.append(genre)"
      ],
      "id": "09dc3e76"
    },
    {
      "cell_type": "code",
      "execution_count": null,
      "metadata": {
        "id": "9da2b1d7",
        "outputId": "05162e4f-fe4f-473b-dab4-4a81d65516aa"
      },
      "outputs": [
        {
          "name": "stdout",
          "output_type": "stream",
          "text": [
            "['young-adult', 'fiction', 'fantasy', 'science-fiction', 'romance', 'classics', 'paranormal', 'historical-fiction', 'contemporary', 'mystery', 'thriller', 'suspense', 'crime', 'nonfiction', 'history', 'biography', 'memoir', 'poetry', 'chick-lit', 'christian', 'travel', 'spirituality', 'philosophy', 'psychology', 'horror', 'business', 'science', 'religion', 'self-help', 'art', 'music', 'graphic-novels', 'comics', 'sports', 'manga', 'cookbooks', 'books', 'humor-and-comedy', 'gay-and-lesbian']\n"
          ]
        }
      ],
      "source": [
        "print(genreList)"
      ],
      "id": "9da2b1d7"
    },
    {
      "cell_type": "code",
      "execution_count": null,
      "metadata": {
        "id": "1cf68661"
      },
      "outputs": [],
      "source": [
        "def binary(genre_list):\n",
        "    binaryList = []\n",
        "    \n",
        "    for genre in genreList:\n",
        "        if genre in genre_list:\n",
        "            binaryList.append(1)\n",
        "        else:\n",
        "            binaryList.append(0)\n",
        "    \n",
        "    return binaryList"
      ],
      "id": "1cf68661"
    },
    {
      "cell_type": "code",
      "execution_count": null,
      "metadata": {
        "id": "9ded4591",
        "outputId": "451fe664-2d6c-487d-b074-4e12f5c7876d"
      },
      "outputs": [
        {
          "data": {
            "text/plain": [
              "0    [1, 1, 1, 1, 1, 0, 0, 0, 0, 0, 0, 0, 0, 0, 0, ...\n",
              "1    [1, 1, 1, 0, 0, 1, 0, 0, 0, 0, 0, 0, 0, 0, 0, ...\n",
              "2    [1, 1, 1, 0, 1, 0, 1, 0, 0, 0, 0, 0, 0, 0, 0, ...\n",
              "3    [1, 1, 0, 0, 0, 1, 0, 1, 0, 0, 0, 0, 0, 0, 0, ...\n",
              "4    [0, 1, 0, 0, 1, 1, 0, 1, 0, 0, 0, 0, 0, 0, 0, ...\n",
              "Name: genres_bin, dtype: object"
            ]
          },
          "execution_count": 97,
          "metadata": {},
          "output_type": "execute_result"
        }
      ],
      "source": [
        "df_book_genres['genres_bin'] = df_book_genres['genres'].apply(lambda x: binary(x))\n",
        "df_book_genres['genres_bin'].head()"
      ],
      "id": "9ded4591"
    },
    {
      "cell_type": "code",
      "execution_count": null,
      "metadata": {
        "id": "92533307",
        "outputId": "e8b36d50-2f6b-4a60-eeed-8f6d056d69c5"
      },
      "outputs": [
        {
          "data": {
            "text/plain": [
              "0       [young-adult, fiction, fantasy, science-fictio...\n",
              "1               [fantasy, fiction, young-adult, classics]\n",
              "2       [young-adult, fantasy, romance, fiction, paran...\n",
              "3       [classics, fiction, historical-fiction, young-...\n",
              "4        [classics, fiction, historical-fiction, romance]\n",
              "                              ...                        \n",
              "9959    [mystery, thriller, fiction, crime, suspense, ...\n",
              "9960    [fantasy, paranormal, romance, fiction, myster...\n",
              "9961    [fiction, thriller, books, mystery, suspense, ...\n",
              "9962    [mystery, fiction, thriller, suspense, crime, ...\n",
              "9963            [history, nonfiction, historical-fiction]\n",
              "Name: genres, Length: 9964, dtype: object"
            ]
          },
          "execution_count": 98,
          "metadata": {},
          "output_type": "execute_result"
        }
      ],
      "source": [
        "df_book_genres['genres']"
      ],
      "id": "92533307"
    },
    {
      "cell_type": "code",
      "execution_count": null,
      "metadata": {
        "id": "571737c7",
        "outputId": "d299336e-22e0-47b0-ad19-7d9f2df8f99d"
      },
      "outputs": [
        {
          "data": {
            "text/html": [
              "<div>\n",
              "<style scoped>\n",
              "    .dataframe tbody tr th:only-of-type {\n",
              "        vertical-align: middle;\n",
              "    }\n",
              "\n",
              "    .dataframe tbody tr th {\n",
              "        vertical-align: top;\n",
              "    }\n",
              "\n",
              "    .dataframe thead th {\n",
              "        text-align: right;\n",
              "    }\n",
              "</style>\n",
              "<table border=\"1\" class=\"dataframe\">\n",
              "  <thead>\n",
              "    <tr style=\"text-align: right;\">\n",
              "      <th></th>\n",
              "      <th>book_id</th>\n",
              "      <th>genres</th>\n",
              "      <th>authors</th>\n",
              "      <th>genres_bin</th>\n",
              "    </tr>\n",
              "  </thead>\n",
              "  <tbody>\n",
              "    <tr>\n",
              "      <th>0</th>\n",
              "      <td>1</td>\n",
              "      <td>[young-adult, fiction, fantasy, science-fictio...</td>\n",
              "      <td>[Suzanne Collins]</td>\n",
              "      <td>[1, 1, 1, 1, 1, 0, 0, 0, 0, 0, 0, 0, 0, 0, 0, ...</td>\n",
              "    </tr>\n",
              "    <tr>\n",
              "      <th>1</th>\n",
              "      <td>2</td>\n",
              "      <td>[fantasy, fiction, young-adult, classics]</td>\n",
              "      <td>[J.K. Rowling, Mary GrandPré]</td>\n",
              "      <td>[1, 1, 1, 0, 0, 1, 0, 0, 0, 0, 0, 0, 0, 0, 0, ...</td>\n",
              "    </tr>\n",
              "    <tr>\n",
              "      <th>2</th>\n",
              "      <td>3</td>\n",
              "      <td>[young-adult, fantasy, romance, fiction, paran...</td>\n",
              "      <td>[Stephenie Meyer]</td>\n",
              "      <td>[1, 1, 1, 0, 1, 0, 1, 0, 0, 0, 0, 0, 0, 0, 0, ...</td>\n",
              "    </tr>\n",
              "    <tr>\n",
              "      <th>3</th>\n",
              "      <td>4</td>\n",
              "      <td>[classics, fiction, historical-fiction, young-...</td>\n",
              "      <td>[Harper Lee]</td>\n",
              "      <td>[1, 1, 0, 0, 0, 1, 0, 1, 0, 0, 0, 0, 0, 0, 0, ...</td>\n",
              "    </tr>\n",
              "    <tr>\n",
              "      <th>4</th>\n",
              "      <td>5</td>\n",
              "      <td>[classics, fiction, historical-fiction, romance]</td>\n",
              "      <td>[F. Scott Fitzgerald]</td>\n",
              "      <td>[0, 1, 0, 0, 1, 1, 0, 1, 0, 0, 0, 0, 0, 0, 0, ...</td>\n",
              "    </tr>\n",
              "    <tr>\n",
              "      <th>...</th>\n",
              "      <td>...</td>\n",
              "      <td>...</td>\n",
              "      <td>...</td>\n",
              "      <td>...</td>\n",
              "    </tr>\n",
              "    <tr>\n",
              "      <th>9959</th>\n",
              "      <td>9981</td>\n",
              "      <td>[mystery, thriller, fiction, crime, suspense, ...</td>\n",
              "      <td>[[Jeffery Deaver]]</td>\n",
              "      <td>[0, 1, 0, 0, 0, 0, 0, 0, 1, 1, 1, 1, 1, 0, 0, ...</td>\n",
              "    </tr>\n",
              "    <tr>\n",
              "      <th>9960</th>\n",
              "      <td>9982</td>\n",
              "      <td>[fantasy, paranormal, romance, fiction, myster...</td>\n",
              "      <td>[[Karen Marie Moning]]</td>\n",
              "      <td>[0, 1, 1, 0, 1, 0, 1, 0, 1, 1, 0, 1, 0, 0, 0, ...</td>\n",
              "    </tr>\n",
              "    <tr>\n",
              "      <th>9961</th>\n",
              "      <td>9985</td>\n",
              "      <td>[fiction, thriller, books, mystery, suspense, ...</td>\n",
              "      <td>[[Steve Perry, Tom Clancy, Steve Pieczenik]]</td>\n",
              "      <td>[0, 1, 0, 1, 0, 0, 0, 0, 0, 1, 1, 1, 0, 0, 0, ...</td>\n",
              "    </tr>\n",
              "    <tr>\n",
              "      <th>9962</th>\n",
              "      <td>9987</td>\n",
              "      <td>[mystery, fiction, thriller, suspense, crime, ...</td>\n",
              "      <td>[[Iris Johansen]]</td>\n",
              "      <td>[0, 1, 0, 0, 1, 0, 1, 0, 1, 1, 1, 1, 1, 0, 0, ...</td>\n",
              "    </tr>\n",
              "    <tr>\n",
              "      <th>9963</th>\n",
              "      <td>10000</td>\n",
              "      <td>[history, nonfiction, historical-fiction]</td>\n",
              "      <td>[[John Keegan]]</td>\n",
              "      <td>[0, 0, 0, 0, 0, 0, 0, 1, 0, 0, 0, 0, 0, 1, 1, ...</td>\n",
              "    </tr>\n",
              "  </tbody>\n",
              "</table>\n",
              "<p>9964 rows × 4 columns</p>\n",
              "</div>"
            ],
            "text/plain": [
              "      book_id                                             genres  \\\n",
              "0           1  [young-adult, fiction, fantasy, science-fictio...   \n",
              "1           2          [fantasy, fiction, young-adult, classics]   \n",
              "2           3  [young-adult, fantasy, romance, fiction, paran...   \n",
              "3           4  [classics, fiction, historical-fiction, young-...   \n",
              "4           5   [classics, fiction, historical-fiction, romance]   \n",
              "...       ...                                                ...   \n",
              "9959     9981  [mystery, thriller, fiction, crime, suspense, ...   \n",
              "9960     9982  [fantasy, paranormal, romance, fiction, myster...   \n",
              "9961     9985  [fiction, thriller, books, mystery, suspense, ...   \n",
              "9962     9987  [mystery, fiction, thriller, suspense, crime, ...   \n",
              "9963    10000          [history, nonfiction, historical-fiction]   \n",
              "\n",
              "                                           authors  \\\n",
              "0                                [Suzanne Collins]   \n",
              "1                    [J.K. Rowling, Mary GrandPré]   \n",
              "2                                [Stephenie Meyer]   \n",
              "3                                     [Harper Lee]   \n",
              "4                            [F. Scott Fitzgerald]   \n",
              "...                                            ...   \n",
              "9959                            [[Jeffery Deaver]]   \n",
              "9960                        [[Karen Marie Moning]]   \n",
              "9961  [[Steve Perry, Tom Clancy, Steve Pieczenik]]   \n",
              "9962                             [[Iris Johansen]]   \n",
              "9963                               [[John Keegan]]   \n",
              "\n",
              "                                             genres_bin  \n",
              "0     [1, 1, 1, 1, 1, 0, 0, 0, 0, 0, 0, 0, 0, 0, 0, ...  \n",
              "1     [1, 1, 1, 0, 0, 1, 0, 0, 0, 0, 0, 0, 0, 0, 0, ...  \n",
              "2     [1, 1, 1, 0, 1, 0, 1, 0, 0, 0, 0, 0, 0, 0, 0, ...  \n",
              "3     [1, 1, 0, 0, 0, 1, 0, 1, 0, 0, 0, 0, 0, 0, 0, ...  \n",
              "4     [0, 1, 0, 0, 1, 1, 0, 1, 0, 0, 0, 0, 0, 0, 0, ...  \n",
              "...                                                 ...  \n",
              "9959  [0, 1, 0, 0, 0, 0, 0, 0, 1, 1, 1, 1, 1, 0, 0, ...  \n",
              "9960  [0, 1, 1, 0, 1, 0, 1, 0, 1, 1, 0, 1, 0, 0, 0, ...  \n",
              "9961  [0, 1, 0, 1, 0, 0, 0, 0, 0, 1, 1, 1, 0, 0, 0, ...  \n",
              "9962  [0, 1, 0, 0, 1, 0, 1, 0, 1, 1, 1, 1, 1, 0, 0, ...  \n",
              "9963  [0, 0, 0, 0, 0, 0, 0, 1, 0, 0, 0, 0, 0, 1, 1, ...  \n",
              "\n",
              "[9964 rows x 4 columns]"
            ]
          },
          "execution_count": 99,
          "metadata": {},
          "output_type": "execute_result"
        }
      ],
      "source": [
        "df_book_genres"
      ],
      "id": "571737c7"
    },
    {
      "cell_type": "code",
      "execution_count": null,
      "metadata": {
        "id": "b175dbd6"
      },
      "outputs": [],
      "source": [
        "from scipy import spatial\n",
        "def Similarity(bookId1, bookId2):\n",
        "    a = df_book_genres.iloc[bookId1]\n",
        "    b = df_book_genres.iloc[bookId2]\n",
        "    \n",
        "    genresA = a['genres_bin']\n",
        "    genresB = b['genres_bin']\n",
        "    \n",
        "    genreDistance = spatial.distance.cosine(genresA, genresB)\n",
        "   \n",
        "    \n",
        "    return genreDistance"
      ],
      "id": "b175dbd6"
    },
    {
      "cell_type": "code",
      "execution_count": null,
      "metadata": {
        "id": "49c78e91",
        "outputId": "1e1708c0-38e1-4876-9a80-40161020291e"
      },
      "outputs": [
        {
          "data": {
            "text/plain": [
              "0.5"
            ]
          },
          "execution_count": 101,
          "metadata": {},
          "output_type": "execute_result"
        }
      ],
      "source": [
        "Similarity(4,1)"
      ],
      "id": "49c78e91"
    },
    {
      "cell_type": "markdown",
      "metadata": {
        "id": "596df8f8"
      },
      "source": [
        "# Generation of Author Binary Matrix "
      ],
      "id": "596df8f8"
    },
    {
      "cell_type": "code",
      "execution_count": null,
      "metadata": {
        "id": "9222375f",
        "outputId": "4bbf618b-522f-46ea-c5f8-a08a91219811"
      },
      "outputs": [
        {
          "data": {
            "text/plain": [
              "0                                  [Suzanne Collins]\n",
              "1                      [J.K. Rowling, Mary GrandPré]\n",
              "2                                  [Stephenie Meyer]\n",
              "3                                       [Harper Lee]\n",
              "4                              [F. Scott Fitzgerald]\n",
              "                            ...                     \n",
              "9959                              [[Jeffery Deaver]]\n",
              "9960                          [[Karen Marie Moning]]\n",
              "9961    [[Steve Perry, Tom Clancy, Steve Pieczenik]]\n",
              "9962                               [[Iris Johansen]]\n",
              "9963                                 [[John Keegan]]\n",
              "Name: authors, Length: 9964, dtype: object"
            ]
          },
          "execution_count": 102,
          "metadata": {},
          "output_type": "execute_result"
        }
      ],
      "source": [
        "df_book_genres['authors']"
      ],
      "id": "9222375f"
    },
    {
      "cell_type": "code",
      "execution_count": null,
      "metadata": {
        "id": "a4b5c8e2",
        "outputId": "c3151bd0-d0d8-46c7-ff32-f9929aa7cf6b"
      },
      "outputs": [
        {
          "data": {
            "text/plain": [
              "0    [0, 0, 0, 0, 0, 0, 0, 0, 0, 0, 0, 0, 0, 0, 0, ...\n",
              "1    [0, 0, 0, 0, 0, 0, 0, 0, 0, 0, 0, 0, 0, 0, 0, ...\n",
              "2    [0, 0, 0, 0, 0, 0, 0, 0, 0, 0, 0, 0, 0, 0, 0, ...\n",
              "3    [0, 0, 0, 0, 0, 0, 0, 0, 0, 0, 0, 0, 0, 0, 0, ...\n",
              "4    [0, 0, 0, 0, 0, 0, 0, 0, 0, 0, 0, 0, 0, 0, 0, ...\n",
              "Name: author_bin, dtype: object"
            ]
          },
          "execution_count": 105,
          "metadata": {},
          "output_type": "execute_result"
        }
      ],
      "source": [
        "authorList=[]\n",
        "for index, row in df_book_genres.iterrows():\n",
        "    authors = row[\"authors\"]\n",
        "    \n",
        "    for i in authors:\n",
        "        if i not in authorList:\n",
        "            authorList.append(i)\n",
        "            df_book_genres['author_bin'] = df_book_genres['authors'].apply(lambda x: binary(x))\n",
        "df_book_genres['author_bin'].head()"
      ],
      "id": "a4b5c8e2"
    },
    {
      "cell_type": "code",
      "execution_count": null,
      "metadata": {
        "id": "4d4da864",
        "outputId": "81bae115-e047-4dd5-b092-0c7915da8cab"
      },
      "outputs": [
        {
          "data": {
            "text/html": [
              "<div>\n",
              "<style scoped>\n",
              "    .dataframe tbody tr th:only-of-type {\n",
              "        vertical-align: middle;\n",
              "    }\n",
              "\n",
              "    .dataframe tbody tr th {\n",
              "        vertical-align: top;\n",
              "    }\n",
              "\n",
              "    .dataframe thead th {\n",
              "        text-align: right;\n",
              "    }\n",
              "</style>\n",
              "<table border=\"1\" class=\"dataframe\">\n",
              "  <thead>\n",
              "    <tr style=\"text-align: right;\">\n",
              "      <th></th>\n",
              "      <th>book_id</th>\n",
              "      <th>genres</th>\n",
              "      <th>authors</th>\n",
              "      <th>genres_bin</th>\n",
              "      <th>author_bin</th>\n",
              "    </tr>\n",
              "  </thead>\n",
              "  <tbody>\n",
              "    <tr>\n",
              "      <th>0</th>\n",
              "      <td>1</td>\n",
              "      <td>[young-adult, fiction, fantasy, science-fictio...</td>\n",
              "      <td>[Suzanne Collins]</td>\n",
              "      <td>[1, 1, 1, 1, 1, 0, 0, 0, 0, 0, 0, 0, 0, 0, 0, ...</td>\n",
              "      <td>[0, 0, 0, 0, 0, 0, 0, 0, 0, 0, 0, 0, 0, 0, 0, ...</td>\n",
              "    </tr>\n",
              "    <tr>\n",
              "      <th>1</th>\n",
              "      <td>2</td>\n",
              "      <td>[fantasy, fiction, young-adult, classics]</td>\n",
              "      <td>[J.K. Rowling, Mary GrandPré]</td>\n",
              "      <td>[1, 1, 1, 0, 0, 1, 0, 0, 0, 0, 0, 0, 0, 0, 0, ...</td>\n",
              "      <td>[0, 0, 0, 0, 0, 0, 0, 0, 0, 0, 0, 0, 0, 0, 0, ...</td>\n",
              "    </tr>\n",
              "    <tr>\n",
              "      <th>2</th>\n",
              "      <td>3</td>\n",
              "      <td>[young-adult, fantasy, romance, fiction, paran...</td>\n",
              "      <td>[Stephenie Meyer]</td>\n",
              "      <td>[1, 1, 1, 0, 1, 0, 1, 0, 0, 0, 0, 0, 0, 0, 0, ...</td>\n",
              "      <td>[0, 0, 0, 0, 0, 0, 0, 0, 0, 0, 0, 0, 0, 0, 0, ...</td>\n",
              "    </tr>\n",
              "    <tr>\n",
              "      <th>3</th>\n",
              "      <td>4</td>\n",
              "      <td>[classics, fiction, historical-fiction, young-...</td>\n",
              "      <td>[Harper Lee]</td>\n",
              "      <td>[1, 1, 0, 0, 0, 1, 0, 1, 0, 0, 0, 0, 0, 0, 0, ...</td>\n",
              "      <td>[0, 0, 0, 0, 0, 0, 0, 0, 0, 0, 0, 0, 0, 0, 0, ...</td>\n",
              "    </tr>\n",
              "    <tr>\n",
              "      <th>4</th>\n",
              "      <td>5</td>\n",
              "      <td>[classics, fiction, historical-fiction, romance]</td>\n",
              "      <td>[F. Scott Fitzgerald]</td>\n",
              "      <td>[0, 1, 0, 0, 1, 1, 0, 1, 0, 0, 0, 0, 0, 0, 0, ...</td>\n",
              "      <td>[0, 0, 0, 0, 0, 0, 0, 0, 0, 0, 0, 0, 0, 0, 0, ...</td>\n",
              "    </tr>\n",
              "    <tr>\n",
              "      <th>...</th>\n",
              "      <td>...</td>\n",
              "      <td>...</td>\n",
              "      <td>...</td>\n",
              "      <td>...</td>\n",
              "      <td>...</td>\n",
              "    </tr>\n",
              "    <tr>\n",
              "      <th>9959</th>\n",
              "      <td>9981</td>\n",
              "      <td>[mystery, thriller, fiction, crime, suspense, ...</td>\n",
              "      <td>[[Jeffery Deaver]]</td>\n",
              "      <td>[0, 1, 0, 0, 0, 0, 0, 0, 1, 1, 1, 1, 1, 0, 0, ...</td>\n",
              "      <td>[0, 0, 0, 0, 0, 0, 0, 0, 0, 0, 0, 0, 0, 0, 0, ...</td>\n",
              "    </tr>\n",
              "    <tr>\n",
              "      <th>9960</th>\n",
              "      <td>9982</td>\n",
              "      <td>[fantasy, paranormal, romance, fiction, myster...</td>\n",
              "      <td>[[Karen Marie Moning]]</td>\n",
              "      <td>[0, 1, 1, 0, 1, 0, 1, 0, 1, 1, 0, 1, 0, 0, 0, ...</td>\n",
              "      <td>[0, 0, 0, 0, 0, 0, 0, 0, 0, 0, 0, 0, 0, 0, 0, ...</td>\n",
              "    </tr>\n",
              "    <tr>\n",
              "      <th>9961</th>\n",
              "      <td>9985</td>\n",
              "      <td>[fiction, thriller, books, mystery, suspense, ...</td>\n",
              "      <td>[[Steve Perry, Tom Clancy, Steve Pieczenik]]</td>\n",
              "      <td>[0, 1, 0, 1, 0, 0, 0, 0, 0, 1, 1, 1, 0, 0, 0, ...</td>\n",
              "      <td>[0, 0, 0, 0, 0, 0, 0, 0, 0, 0, 0, 0, 0, 0, 0, ...</td>\n",
              "    </tr>\n",
              "    <tr>\n",
              "      <th>9962</th>\n",
              "      <td>9987</td>\n",
              "      <td>[mystery, fiction, thriller, suspense, crime, ...</td>\n",
              "      <td>[[Iris Johansen]]</td>\n",
              "      <td>[0, 1, 0, 0, 1, 0, 1, 0, 1, 1, 1, 1, 1, 0, 0, ...</td>\n",
              "      <td>[0, 0, 0, 0, 0, 0, 0, 0, 0, 0, 0, 0, 0, 0, 0, ...</td>\n",
              "    </tr>\n",
              "    <tr>\n",
              "      <th>9963</th>\n",
              "      <td>10000</td>\n",
              "      <td>[history, nonfiction, historical-fiction]</td>\n",
              "      <td>[[John Keegan]]</td>\n",
              "      <td>[0, 0, 0, 0, 0, 0, 0, 1, 0, 0, 0, 0, 0, 1, 1, ...</td>\n",
              "      <td>[0, 0, 0, 0, 0, 0, 0, 0, 0, 0, 0, 0, 0, 0, 0, ...</td>\n",
              "    </tr>\n",
              "  </tbody>\n",
              "</table>\n",
              "<p>9964 rows × 5 columns</p>\n",
              "</div>"
            ],
            "text/plain": [
              "      book_id                                             genres  \\\n",
              "0           1  [young-adult, fiction, fantasy, science-fictio...   \n",
              "1           2          [fantasy, fiction, young-adult, classics]   \n",
              "2           3  [young-adult, fantasy, romance, fiction, paran...   \n",
              "3           4  [classics, fiction, historical-fiction, young-...   \n",
              "4           5   [classics, fiction, historical-fiction, romance]   \n",
              "...       ...                                                ...   \n",
              "9959     9981  [mystery, thriller, fiction, crime, suspense, ...   \n",
              "9960     9982  [fantasy, paranormal, romance, fiction, myster...   \n",
              "9961     9985  [fiction, thriller, books, mystery, suspense, ...   \n",
              "9962     9987  [mystery, fiction, thriller, suspense, crime, ...   \n",
              "9963    10000          [history, nonfiction, historical-fiction]   \n",
              "\n",
              "                                           authors  \\\n",
              "0                                [Suzanne Collins]   \n",
              "1                    [J.K. Rowling, Mary GrandPré]   \n",
              "2                                [Stephenie Meyer]   \n",
              "3                                     [Harper Lee]   \n",
              "4                            [F. Scott Fitzgerald]   \n",
              "...                                            ...   \n",
              "9959                            [[Jeffery Deaver]]   \n",
              "9960                        [[Karen Marie Moning]]   \n",
              "9961  [[Steve Perry, Tom Clancy, Steve Pieczenik]]   \n",
              "9962                             [[Iris Johansen]]   \n",
              "9963                               [[John Keegan]]   \n",
              "\n",
              "                                             genres_bin  \\\n",
              "0     [1, 1, 1, 1, 1, 0, 0, 0, 0, 0, 0, 0, 0, 0, 0, ...   \n",
              "1     [1, 1, 1, 0, 0, 1, 0, 0, 0, 0, 0, 0, 0, 0, 0, ...   \n",
              "2     [1, 1, 1, 0, 1, 0, 1, 0, 0, 0, 0, 0, 0, 0, 0, ...   \n",
              "3     [1, 1, 0, 0, 0, 1, 0, 1, 0, 0, 0, 0, 0, 0, 0, ...   \n",
              "4     [0, 1, 0, 0, 1, 1, 0, 1, 0, 0, 0, 0, 0, 0, 0, ...   \n",
              "...                                                 ...   \n",
              "9959  [0, 1, 0, 0, 0, 0, 0, 0, 1, 1, 1, 1, 1, 0, 0, ...   \n",
              "9960  [0, 1, 1, 0, 1, 0, 1, 0, 1, 1, 0, 1, 0, 0, 0, ...   \n",
              "9961  [0, 1, 0, 1, 0, 0, 0, 0, 0, 1, 1, 1, 0, 0, 0, ...   \n",
              "9962  [0, 1, 0, 0, 1, 0, 1, 0, 1, 1, 1, 1, 1, 0, 0, ...   \n",
              "9963  [0, 0, 0, 0, 0, 0, 0, 1, 0, 0, 0, 0, 0, 1, 1, ...   \n",
              "\n",
              "                                             author_bin  \n",
              "0     [0, 0, 0, 0, 0, 0, 0, 0, 0, 0, 0, 0, 0, 0, 0, ...  \n",
              "1     [0, 0, 0, 0, 0, 0, 0, 0, 0, 0, 0, 0, 0, 0, 0, ...  \n",
              "2     [0, 0, 0, 0, 0, 0, 0, 0, 0, 0, 0, 0, 0, 0, 0, ...  \n",
              "3     [0, 0, 0, 0, 0, 0, 0, 0, 0, 0, 0, 0, 0, 0, 0, ...  \n",
              "4     [0, 0, 0, 0, 0, 0, 0, 0, 0, 0, 0, 0, 0, 0, 0, ...  \n",
              "...                                                 ...  \n",
              "9959  [0, 0, 0, 0, 0, 0, 0, 0, 0, 0, 0, 0, 0, 0, 0, ...  \n",
              "9960  [0, 0, 0, 0, 0, 0, 0, 0, 0, 0, 0, 0, 0, 0, 0, ...  \n",
              "9961  [0, 0, 0, 0, 0, 0, 0, 0, 0, 0, 0, 0, 0, 0, 0, ...  \n",
              "9962  [0, 0, 0, 0, 0, 0, 0, 0, 0, 0, 0, 0, 0, 0, 0, ...  \n",
              "9963  [0, 0, 0, 0, 0, 0, 0, 0, 0, 0, 0, 0, 0, 0, 0, ...  \n",
              "\n",
              "[9964 rows x 5 columns]"
            ]
          },
          "execution_count": 106,
          "metadata": {},
          "output_type": "execute_result"
        }
      ],
      "source": [
        "df_book_genres"
      ],
      "id": "4d4da864"
    },
    {
      "cell_type": "code",
      "execution_count": null,
      "metadata": {
        "id": "6af6bf4e",
        "outputId": "a19f5445-c901-4c48-b520-c293034d9cc2"
      },
      "outputs": [
        {
          "data": {
            "text/plain": [
              "['Suzanne Collins',\n",
              " 'J.K. Rowling',\n",
              " 'Mary GrandPré',\n",
              " 'Stephenie Meyer',\n",
              " 'Harper Lee',\n",
              " 'F. Scott Fitzgerald',\n",
              " 'John Green',\n",
              " 'J.R.R. Tolkien',\n",
              " 'J.D. Salinger',\n",
              " 'Dan Brown',\n",
              " 'Jane Austen',\n",
              " 'Khaled Hosseini',\n",
              " 'Veronica Roth',\n",
              " 'Anne Frank',\n",
              " 'Eleanor Roosevelt',\n",
              " 'B.M. Mooyaart-Doubleday',\n",
              " 'Stieg Larsson',\n",
              " 'Reg Keeland',\n",
              " 'Rufus Beck',\n",
              " 'Alice Sebold',\n",
              " 'William Golding',\n",
              " 'William Shakespeare',\n",
              " 'Robert           Jackson',\n",
              " 'Gillian Flynn',\n",
              " 'Kathryn Stockett',\n",
              " 'John Steinbeck',\n",
              " 'Arthur Golden',\n",
              " 'E.L. James',\n",
              " 'Lois Lowry',\n",
              " 'C.S. Lewis',\n",
              " 'Audrey Niffenegger',\n",
              " 'George R.R. Martin',\n",
              " 'Elizabeth Gilbert',\n",
              " 'Rick Riordan',\n",
              " 'Louisa May Alcott',\n",
              " 'Charlotte Brontë',\n",
              " 'Michael Mason',\n",
              " 'Yann Martel',\n",
              " 'Sara Gruen',\n",
              " 'Markus Zusak',\n",
              " 'Shel Silverstein',\n",
              " 'Cassandra Clare',\n",
              " 'Christopher Paolini',\n",
              " 'Douglas Adams',\n",
              " 'Aldous Huxley',\n",
              " 'Sue Monk Kidd',\n",
              " 'Mark Twain',\n",
              " 'John Seelye',\n",
              " 'Guy Cardwell',\n",
              " 'E.B. White',\n",
              " 'Garth Williams',\n",
              " 'Rosemary Wells',\n",
              " 'Mark Haddon',\n",
              " 'Paula Hawkins',\n",
              " 'Philip Pullman',\n",
              " 'Emily Brontë',\n",
              " 'Richard J. Dunn',\n",
              " 'Jodi Picoult',\n",
              " 'Kurt Vonnegut Jr.',\n",
              " 'Margaret Mitchell',\n",
              " 'Stephen Chbosky',\n",
              " 'Orson Scott Card',\n",
              " 'Stephen King',\n",
              " 'Helen Fielding',\n",
              " 'Tony Tanner',\n",
              " 'Ros Ballaster',\n",
              " 'Louis Sachar',\n",
              " 'Lauren Weisberger',\n",
              " 'Homer',\n",
              " 'Robert Fagles',\n",
              " 'E.V. Rieu',\n",
              " 'Frédéric Mugler',\n",
              " 'Bernard Knox',\n",
              " 'Antoine de Saint-Exupéry',\n",
              " 'Richard Howard',\n",
              " 'Dom Marcos Barbosa',\n",
              " 'Melina Karakosta',\n",
              " 'Jeannette Walls',\n",
              " 'Jon Krakauer',\n",
              " 'Charles Dickens',\n",
              " 'Richard Maxwell',\n",
              " 'Hablot Knight Browne',\n",
              " 'John Grisham',\n",
              " 'Elie Wiesel',\n",
              " 'Marion Wiesel',\n",
              " 'William Goldman',\n",
              " 'S.E. Hinton',\n",
              " 'James Dashner',\n",
              " 'Steven D. Levitt',\n",
              " 'Stephen J. Dubner',\n",
              " 'Frances Hodgson Burnett',\n",
              " 'Gabriel García Márquez',\n",
              " 'Gregory Rabassa',\n",
              " 'Oscar Wilde',\n",
              " 'Jeffrey Eugenides',\n",
              " 'Bram Stoker',\n",
              " 'Nina Auerbach',\n",
              " 'David J. Skal',\n",
              " 'Barbara Kingsolver',\n",
              " 'David Sedaris',\n",
              " 'Maurice Sendak',\n",
              " 'Alexandre Dumas',\n",
              " 'Robin Buss',\n",
              " 'Cormac McCarthy',\n",
              " 'Tina Fey',\n",
              " 'Sophie Kinsella',\n",
              " 'Victor Hugo',\n",
              " 'Lee Fahnestock',\n",
              " 'Norman MacAfee',\n",
              " 'Kim Edwards',\n",
              " 'Joseph Heller',\n",
              " 'Mitch Albom',\n",
              " 'Saulius Dagys',\n",
              " 'Amy Tan',\n",
              " 'Margaret Atwood',\n",
              " 'Ann Brashares',\n",
              " 'Vladimir Nabokov',\n",
              " 'Craig Raine',\n",
              " 'Gregory Maguire',\n",
              " 'Douglas Smith',\n",
              " 'Richard Andrews',\n",
              " 'Rex Gibson',\n",
              " 'Malcolm Gladwell',\n",
              " 'Walter Isaacson',\n",
              " 'Ken Kesey',\n",
              " 'Ernest Hemingway',\n",
              " 'L.M. Montgomery',\n",
              " 'Rebecca Wells',\n",
              " 'Diana Gabaldon',\n",
              " 'Nathaniel Hawthorne',\n",
              " 'Thomas E. Connolly',\n",
              " 'Nina Baym',\n",
              " 'Ransom Riggs',\n",
              " 'Andy Weir',\n",
              " 'Ken Follett',\n",
              " 'Anthony Doerr',\n",
              " 'Laura Hillenbrand',\n",
              " 'Donna Tartt',\n",
              " 'Tracy Chevalier',\n",
              " 'Gayle Forman',\n",
              " 'Anita Diamant',\n",
              " 'Nicholas Sparks',\n",
              " 'Emily Giffin',\n",
              " 'Dr. Seuss',\n",
              " 'לאה נאור',\n",
              " 'Roald Dahl',\n",
              " 'Quentin Blake',\n",
              " 'Albert Camus',\n",
              " 'Matthew    Ward',\n",
              " 'Rainbow Rowell',\n",
              " 'Ally Condie',\n",
              " 'Neil Gaiman',\n",
              " 'Bernie Wrightson',\n",
              " 'Fiona Stafford',\n",
              " 'Leo Tolstoy',\n",
              " 'Louise Maude',\n",
              " 'Leo Tolstoj',\n",
              " 'Aylmer Maude',\n",
              " 'Fyodor Dostoyevsky',\n",
              " 'David McDuff',\n",
              " 'Sylvia Plath',\n",
              " 'Frank McCourt',\n",
              " 'Hermann Hesse',\n",
              " 'Hilda Rosner',\n",
              " 'Truman Capote',\n",
              " 'Kami Garcia',\n",
              " 'Margaret Stohl',\n",
              " 'Erin Morgenstern',\n",
              " 'Philippa Gregory',\n",
              " 'Scott Westerfeld',\n",
              " 'Cheryl Strayed',\n",
              " 'Alan Moore',\n",
              " 'Dave Gibbons',\n",
              " 'John Higgins',\n",
              " 'Patrick Rothfuss',\n",
              " 'Herman Melville',\n",
              " 'Andrew Delbanco',\n",
              " 'Tom Quirk',\n",
              " 'Charlaine Harris',\n",
              " 'John Grogan',\n",
              " 'Agatha Christie',\n",
              " 'Becca Fitzpatrick',\n",
              " 'Jamie McGuire',\n",
              " 'Anne Rice',\n",
              " 'Kiera Cass',\n",
              " 'Janet Evanovich',\n",
              " 'Rebecca Skloot',\n",
              " 'Thomas Harris',\n",
              " 'Richelle Mead',\n",
              " 'Ian McEwan',\n",
              " 'Franz Kafka',\n",
              " 'Stanley Corngold',\n",
              " 'Ernest Cline',\n",
              " 'Garth Stein',\n",
              " 'Sylvia Day',\n",
              " 'Pauline Baynes',\n",
              " 'Mark Cotta Vaz',\n",
              " 'Dave Pelzer',\n",
              " 'Robert Ludlum',\n",
              " 'Eoin Colfer',\n",
              " 'Lauren Kate',\n",
              " 'Emma McLaughlin',\n",
              " 'Nicola Kraus',\n",
              " 'Lewis Carroll',\n",
              " 'John Tenniel',\n",
              " 'Martin Gardner',\n",
              " 'James Kinsley',\n",
              " 'Deidre Shauna Lynch',\n",
              " 'Tatiana de Rosnay',\n",
              " 'Edith Grossman',\n",
              " 'Liane Moriarty',\n",
              " 'Augusten Burroughs',\n",
              " 'Max Brooks',\n",
              " 'James Patterson',\n",
              " 'P.C. Cast',\n",
              " 'Kristin Cast',\n",
              " 'Stephen R. Covey',\n",
              " 'Barbara A. Mowat',\n",
              " 'Paul Werstine',\n",
              " 'Catherine Belsey',\n",
              " 'Jonathan Safran Foer',\n",
              " 'R.J. Palacio',\n",
              " 'Robert Galbraith',\n",
              " 'Maggie Stiefvater',\n",
              " 'Ayn Rand',\n",
              " 'Leonard Peikoff',\n",
              " 'Greg Mortenson',\n",
              " 'David Oliver Relin',\n",
              " 'Jane Carruth',\n",
              " 'Rene Cloke',\n",
              " 'Carlos Ruiz Zafón',\n",
              " 'Lucia Graves',\n",
              " 'Dale Carnegie',\n",
              " 'Frances Mayes',\n",
              " 'Gail Carson Levine',\n",
              " 'Betty  Smith',\n",
              " 'Kristin Hannah',\n",
              " 'Kazuo Ishiguro',\n",
              " 'Cecelia Ahern',\n",
              " 'Daphne du Maurier',\n",
              " 'Sally Beauman',\n",
              " 'Laura Esquivel',\n",
              " 'Thomas  Christensen',\n",
              " 'Carol Christensen',\n",
              " 'Mario Puzo',\n",
              " 'Robert Thompson',\n",
              " 'Peter Bart',\n",
              " 'Isaac Asimov',\n",
              " 'John Tiffany',\n",
              " 'Jack Thorne',\n",
              " 'Lauren Oliver',\n",
              " 'Terry Pratchett',\n",
              " 'Jack Kerouac',\n",
              " 'Graeme Simsion',\n",
              " 'Tom Clancy',\n",
              " 'Richard Adams',\n",
              " 'Mindy Kaling',\n",
              " 'Abraham Verghese',\n",
              " 'Robert Louis Stevenson',\n",
              " 'Eric Carle',\n",
              " 'H.G. Wells',\n",
              " 'Greg Bear',\n",
              " 'Carlo Pagetti',\n",
              " 'Todd Burpo',\n",
              " 'Lynn Vincent',\n",
              " 'John Boyne',\n",
              " 'Joseph Conrad',\n",
              " 'Rhonda Byrne',\n",
              " 'Wally Lamb',\n",
              " 'Jennifer Weiner',\n",
              " 'Colleen McCullough',\n",
              " 'Dave McKean',\n",
              " 'M.L. Stedman',\n",
              " 'Cornelia Funke',\n",
              " 'Anthea Bell',\n",
              " 'Spencer Johnson',\n",
              " 'Kenneth H. Blanchard',\n",
              " 'Bill Bryson',\n",
              " 'Maya Angelou',\n",
              " 'Christina Baker Kline',\n",
              " 'Maria Semple',\n",
              " 'Wilson Rawls',\n",
              " 'Milan Kundera',\n",
              " 'Michael Henry Heim',\n",
              " 'John Irving',\n",
              " 'Janet Fitch',\n",
              " 'Marie Lu',\n",
              " 'Robert Jordan',\n",
              " 'Lisa Genova',\n",
              " 'David Nicholls',\n",
              " 'Margaret Wise Brown',\n",
              " 'Clement Hurd',\n",
              " 'Pittacus Lore',\n",
              " 'L. Frank Baum',\n",
              " 'W.W. Denslow',\n",
              " 'E. Lockhart',\n",
              " 'Hunter S. Thompson',\n",
              " 'Ralph Steadman',\n",
              " 'Amy Poehler',\n",
              " 'Toni Morrison',\n",
              " 'Kristin Cashore',\n",
              " 'Lemony Snicket',\n",
              " 'Brett Helquist',\n",
              " 'Erich Maria Remarque',\n",
              " 'A.W. Wheen',\n",
              " 'George Cruikshank',\n",
              " 'Philip Horne',\n",
              " 'Stephanie Perkins',\n",
              " 'David   Lloyd',\n",
              " 'David McCullough',\n",
              " 'Dean Koontz',\n",
              " 'Jerry Spinelli',\n",
              " 'Robert A. Heinlein',\n",
              " 'Jack London',\n",
              " 'Jhumpa Lahiri',\n",
              " 'Deborah Harkness',\n",
              " 'Haruki Murakami',\n",
              " 'Jay Rubin',\n",
              " 'Billie Letts',\n",
              " 'David Levithan',\n",
              " 'James Frey',\n",
              " 'Susan Cain',\n",
              " 'Arthur Miller',\n",
              " 'Christopher Bigsby',\n",
              " 'Gary Paulsen',\n",
              " 'Brandon Sanderson',\n",
              " 'Mervyn Peake',\n",
              " 'Dan Chaon',\n",
              " 'Jeff Kinney',\n",
              " 'Sarah J. Maas',\n",
              " 'Jamie Ford',\n",
              " 'Patrick Süskind',\n",
              " 'John E. Woods',\n",
              " 'Eric Schlosser',\n",
              " 'Edgar Allan Poe',\n",
              " 'Sun Tzu',\n",
              " 'Thomas Cleary',\n",
              " 'William Landay',\n",
              " 'Betty Edwards',\n",
              " 'Ann Patchett',\n",
              " 'Jared Diamond',\n",
              " 'Fannie Flagg',\n",
              " 'Chinua Achebe',\n",
              " 'Gary Chapman',\n",
              " 'Chris Cleave',\n",
              " 'Alyson Noel',\n",
              " 'Diane Setterfield',\n",
              " 'Paula McLain',\n",
              " 'Umberto Eco',\n",
              " 'William Weaver',\n",
              " 'Seán Barrett',\n",
              " 'Beatrice Sparks',\n",
              " 'Anonymous',\n",
              " 'John Kennedy Toole',\n",
              " 'Walker Percy',\n",
              " 'Philip Gabriel',\n",
              " 'J.R. Ward',\n",
              " 'Arundhati Roy',\n",
              " 'Stephen Hawking',\n",
              " 'Cao Chi',\n",
              " 'Phạm Văn Thiều',\n",
              " 'Sarah Dessen',\n",
              " 'A.A. Milne',\n",
              " 'Ernest H. Shepard',\n",
              " 'S.J. Watson',\n",
              " 'Arthur Conan Doyle',\n",
              " 'Rick Warren',\n",
              " 'Jim Butcher',\n",
              " 'Alfred MacAdam',\n",
              " 'Rick Yancey',\n",
              " 'Charles Frazier',\n",
              " 'Laura Joffe Numeroff',\n",
              " 'Felicia Bond',\n",
              " 'Tennessee Williams',\n",
              " 'Emily St. John Mandel',\n",
              " 'Fredrik Backman',\n",
              " 'Henning Koch',\n",
              " 'Pearl S. Buck',\n",
              " 'John Berger',\n",
              " 'Chuck Dixon',\n",
              " 'David Wenzel',\n",
              " 'Sean Deming',\n",
              " 'Junot Díaz',\n",
              " 'Zora Neale Hurston',\n",
              " 'Newt Scamander',\n",
              " 'Albus Dumbledore',\n",
              " 'Malala Yousafzai',\n",
              " 'Christina Lamb',\n",
              " 'Kathryn Sutherland',\n",
              " 'Claire Lamont',\n",
              " 'Viktor E. Frankl',\n",
              " 'Richard Dawkins',\n",
              " 'Lee Child',\n",
              " 'Daniel Defoe',\n",
              " 'Gerald McCann',\n",
              " 'Virginia Woolf',\n",
              " 'Niccolò Machiavelli',\n",
              " 'Adolph Caso',\n",
              " 'Rufus Goodwin',\n",
              " 'Benjamin Martinez',\n",
              " 'Terry Goodkind',\n",
              " 'Kathleen Grissom',\n",
              " 'Chuck Palahniuk',\n",
              " 'Richard Pevear',\n",
              " 'Larissa Volokhonsky',\n",
              " 'Jeanne DuPrau',\n",
              " 'Michael Crichton',\n",
              " 'Kahlil Gibran',\n",
              " 'Dave Eggers',\n",
              " 'Anna Sewell',\n",
              " 'Henry Gifford',\n",
              " 'Bret Easton Ellis',\n",
              " 'Meg Cabot',\n",
              " 'Alexander McCall Smith',\n",
              " 'Robert Kirkman',\n",
              " 'Tony Moore',\n",
              " 'Arthur C. Clarke',\n",
              " 'Francine Rivers',\n",
              " 'Tim LaHaye',\n",
              " 'Jerry B. Jenkins',\n",
              " 'Barbara Ehrenreich',\n",
              " 'Patricia Cornwell',\n",
              " 'Corrie ten Boom',\n",
              " 'John Sherrill',\n",
              " 'Elizabeth Sherrill',\n",
              " 'Pat Conroy',\n",
              " 'Michael Chabon',\n",
              " 'Simone Elkeles',\n",
              " 'J.M. Barrie',\n",
              " 'Michael Hague',\n",
              " 'David Mitchell',\n",
              " \"Tim O'Brien\",\n",
              " 'Banksy',\n",
              " 'Jeff Lindsay',\n",
              " 'Jonathan Swift',\n",
              " 'Robert DeMaria Jr.',\n",
              " 'Gail Kern Paster',\n",
              " 'Robert          Jackson',\n",
              " 'Unknown',\n",
              " 'Seamus Heaney',\n",
              " 'Frank Miller',\n",
              " 'David Mazzucchelli',\n",
              " 'Richmond Lewis',\n",
              " \"Dennis O'Neil\",\n",
              " 'Laini Taylor',\n",
              " 'Victoria Aveyard',\n",
              " 'Charles Duhigg',\n",
              " 'John Berendt',\n",
              " 'Colleen Hoover',\n",
              " 'Nancy Bond',\n",
              " 'Laura Ingalls Wilder',\n",
              " 'Margery Williams Bianco',\n",
              " 'William   Nicholson',\n",
              " 'Robert M. Pirsig',\n",
              " 'Sara Shepard',\n",
              " 'Don Freeman',\n",
              " 'Michael Pollan',\n",
              " 'Kate Atkinson',\n",
              " 'Kenneth Branagh',\n",
              " 'Thomas Hardy',\n",
              " 'Tim Dolin',\n",
              " 'Margaret R. Higonnet',\n",
              " 'Gustave Flaubert',\n",
              " 'Margaret Mauldon',\n",
              " 'Malcolm Bowie',\n",
              " 'Mark Overstall',\n",
              " 'Norton Juster',\n",
              " 'Jules Feiffer',\n",
              " 'Ned Vizzini',\n",
              " 'Vanessa Diffenbaugh',\n",
              " 'Klaus Janson',\n",
              " 'Lynn Varley',\n",
              " 'Nick Hornby',\n",
              " 'John Gray',\n",
              " 'Anthony Bourdain',\n",
              " 'Voltaire',\n",
              " 'Natalie Babbitt',\n",
              " 'Marie Milpois',\n",
              " 'P.D. Eastman',\n",
              " 'E.H. Gombrich',\n",
              " 'Marissa Meyer',\n",
              " 'Robert T. Kiyosaki',\n",
              " 'Lev Grossman',\n",
              " 'Tsugumi Ohba',\n",
              " 'Takeshi Obata',\n",
              " 'Libba Bray',\n",
              " 'Tammara Webber',\n",
              " 'Jeremy Tambling',\n",
              " 'Sherman Alexie',\n",
              " 'Ellen Forney',\n",
              " 'Mikhail Bulgakov',\n",
              " \"Katherine Tiernan O'Connor\",\n",
              " 'Diana Burgin',\n",
              " 'Ellendea Proffer',\n",
              " 'Ursula K. Le Guin',\n",
              " 'Kate DiCamillo',\n",
              " 'Chris Sheban',\n",
              " 'John Knowles',\n",
              " 'Miguel de Cervantes Saavedra',\n",
              " 'Roberto González Echevarría',\n",
              " 'John Rutherford',\n",
              " 'Robin Hobb',\n",
              " 'Beatrix Potter',\n",
              " 'Susanna Kaysen',\n",
              " 'Chelsea Handler',\n",
              " 'Richard Bach',\n",
              " 'Russell Munson',\n",
              " 'Robert Munsch',\n",
              " 'Sheila McGraw',\n",
              " 'Daniel James Brown',\n",
              " 'Christopher Tolkien',\n",
              " 'Ted Nasmith',\n",
              " 'Kate Morton',\n",
              " 'Edwin Muir',\n",
              " 'Willa Muir',\n",
              " 'Max Brod',\n",
              " 'Piper Kerman',\n",
              " 'Anne Perry',\n",
              " 'Daniel Kahneman',\n",
              " 'Judy Blume',\n",
              " 'Chris Bohjalian',\n",
              " 'Chris Van Allsburg',\n",
              " 'Jon Scieszka',\n",
              " 'Lane Smith',\n",
              " 'Paulo Coelho',\n",
              " 'Margaret Jull Costa',\n",
              " 'Sheryl Sandberg',\n",
              " 'Nell Scovell',\n",
              " 'Tahereh Mafi',\n",
              " 'Jostein Gaarder',\n",
              " 'Paulette Møller',\n",
              " 'Ray Bradbury',\n",
              " 'Jennifer Egan',\n",
              " 'Johanna Spyri',\n",
              " 'Angelo  Rinaldi',\n",
              " 'Beverly Cleary',\n",
              " 'Alex Flinn',\n",
              " 'Geoffrey Chaucer',\n",
              " 'Nevill Coghill',\n",
              " 'Harriet Beecher Stowe',\n",
              " 'Gaston Leroux',\n",
              " 'Alexander Teixeira de Mattos',\n",
              " 'Jonathan Franzen',\n",
              " 'Ally Carter',\n",
              " 'Aravind Adiga',\n",
              " 'Barack Obama',\n",
              " 'Judith Viorst',\n",
              " 'Ray Cruz',\n",
              " 'Howard Zinn',\n",
              " 'Justin Cronin',\n",
              " 'Celeste Ng',\n",
              " 'Isabel Allende',\n",
              " 'Magda Bogin',\n",
              " 'Ροζίτα Σώκου',\n",
              " 'Chimamanda Ngozi Adichie',\n",
              " 'Christopher McDougall',\n",
              " 'Gabrielle Zevin',\n",
              " 'Ludwig Bemelmans',\n",
              " 'Napoleon Hill',\n",
              " 'Susanna Clarke',\n",
              " 'Michael  Grant',\n",
              " 'Jess Walter',\n",
              " 'Matthew Quick',\n",
              " 'Jules Verne',\n",
              " 'Anthony Bonner',\n",
              " 'Maureen Howard',\n",
              " 'Richard Bachman',\n",
              " 'Michael Glencross',\n",
              " 'Brian W. Aldiss',\n",
              " 'Sharon Creech',\n",
              " 'Julie Powell',\n",
              " 'Neal Shusterman',\n",
              " 'Kate Egan',\n",
              " 'William Faulkner',\n",
              " 'Eckhart Tolle',\n",
              " 'Tite Kubo',\n",
              " 'Allie Brosh',\n",
              " 'Gregory David Roberts',\n",
              " 'Ned Dameron',\n",
              " 'Jeffery Deaver',\n",
              " 'Bernhard Schlink',\n",
              " 'Carol Brown Janeway',\n",
              " 'Bill Martin Jr.',\n",
              " 'Dan Simmons',\n",
              " 'William Peter Blatty',\n",
              " 'David Guterson',\n",
              " 'Alex Haley',\n",
              " 'Brian Bolland',\n",
              " 'Tim Sale',\n",
              " 'Ralph Ellison',\n",
              " 'Ishmael Beah',\n",
              " \"Robert C. O'Brien\",\n",
              " 'Melissa Bank',\n",
              " 'Hugh Howey',\n",
              " 'Christopher Moore',\n",
              " 'Jenny  Lawson',\n",
              " 'Garth Nix',\n",
              " 'Jennifer L. Armentrout',\n",
              " \"Bryan Lee O'Malley\",\n",
              " 'Julie Kagawa',\n",
              " 'Larry McMurtry',\n",
              " 'Mary Roach',\n",
              " 'Thomas Keneally',\n",
              " 'Malcolm X',\n",
              " 'Sam Kieth',\n",
              " 'Mike Dringenberg',\n",
              " 'Malcolm Jones III',\n",
              " 'Todd Klein',\n",
              " 'Karen  Berger',\n",
              " 'Dennis Lehane',\n",
              " 'Roma Gill',\n",
              " 'Erik Larson',\n",
              " 'Plato',\n",
              " 'Desmond Lee',\n",
              " 'Patti Smith',\n",
              " 'Phaidon Press',\n",
              " 'Jane Green',\n",
              " 'Walter J. Cobb',\n",
              " 'Rohinton Mistry',\n",
              " 'Bill Watterson',\n",
              " 'G.B. Trudeau',\n",
              " 'Kate Chopin',\n",
              " 'Justin Halpern',\n",
              " 'Irvine Welsh',\n",
              " 'Eric Lindor Fall',\n",
              " 'Miguel Ruiz',\n",
              " 'Jacob Grimm',\n",
              " 'Wilhelm Grimm',\n",
              " 'Josef Scharl',\n",
              " 'Padraic Colum',\n",
              " 'Joseph Campbell',\n",
              " 'Margaret Raine Hunt',\n",
              " 'James Stern',\n",
              " 'E.L. Konigsburg',\n",
              " 'Samantha Young',\n",
              " 'Francis Chan',\n",
              " 'Danae Yankoski',\n",
              " 'Chris Tomlin',\n",
              " 'Helen Keller',\n",
              " 'Jonathan Tropper',\n",
              " 'Seth Grahame-Smith',\n",
              " 'Natsuki Takaya',\n",
              " 'Alethea Nibley',\n",
              " 'Athena Nibley',\n",
              " 'Brian Selznick',\n",
              " 'Christopher Hitchens',\n",
              " 'Bisco Hatori',\n",
              " 'Mary Kubica',\n",
              " 'Abbi Glines',\n",
              " 'Diana Wynne Jones',\n",
              " 'William Olivier Desmond',\n",
              " 'Henry David Thoreau',\n",
              " 'Julian Barnes',\n",
              " 'Sue Grafton',\n",
              " 'Sophocles',\n",
              " 'J.E. Thomas',\n",
              " 'Lisa See',\n",
              " 'Kenneth Grahame',\n",
              " 'Gillian Avery',\n",
              " 'Jenny Han',\n",
              " 'Marjane Satrapi',\n",
              " 'Mattias Ripa',\n",
              " 'E.M. Forster',\n",
              " 'Kody Keplinger',\n",
              " 'J.D. Robb',\n",
              " 'Masashi Kishimoto',\n",
              " 'Katy Bridges',\n",
              " 'Rachel Joyce',\n",
              " 'James Clavell',\n",
              " 'John Archambault',\n",
              " 'Lois Ehlert',\n",
              " 'Raina Telgemeier',\n",
              " 'George Orwell',\n",
              " 'Jacquelyn Mitchard',\n",
              " 'Louise Rennison',\n",
              " 'Robin Sloan',\n",
              " 'V.C. Andrews',\n",
              " 'Paul Kalanithi',\n",
              " 'Ellen Raskin',\n",
              " 'Pierce Brown',\n",
              " 'Brent Weeks',\n",
              " 'Sam McBratney',\n",
              " 'Anita Jeram',\n",
              " 'John D. MacDonald',\n",
              " 'Peter Benchley',\n",
              " 'Nicole Krauss',\n",
              " 'Astrid Lindgren',\n",
              " 'Lauren Child',\n",
              " 'Florence Lamborn',\n",
              " 'Nancy Seligsohn',\n",
              " 'Muriel Barbery',\n",
              " 'Alison Anderson',\n",
              " 'Doris Kearns Goodwin',\n",
              " 'Suzanne Toren',\n",
              " 'Stuart Gilbert',\n",
              " 'Susannah Cahalan',\n",
              " 'Melissa Marr',\n",
              " 'H.A. Rey',\n",
              " 'Michael Ende',\n",
              " 'Ralph Manheim',\n",
              " 'Roswitha Quadflieg',\n",
              " 'Sylvia Nasar',\n",
              " 'Upton Sinclair',\n",
              " 'Earl Lee',\n",
              " 'Kathleen DeGrave',\n",
              " 'Kelley Armstrong',\n",
              " 'Oliver Sacks',\n",
              " 'M.R. Carey',\n",
              " 'Crockett Johnson',\n",
              " 'Hiromu Arakawa',\n",
              " 'Akira Watanabe',\n",
              " 'Joan Didion',\n",
              " 'Lionel Shriver',\n",
              " 'Edith Wharton',\n",
              " 'Geraldine Brooks',\n",
              " 'Michael Connelly',\n",
              " 'Sylvain Reynard',\n",
              " 'Judi Barrett',\n",
              " 'Ron Barrett',\n",
              " 'Helen Simonson',\n",
              " 'Nora Roberts',\n",
              " 'Irma S. Rombauer',\n",
              " 'Marion Rombauer Becker',\n",
              " 'Ethan Becker',\n",
              " 'Joe Haldeman',\n",
              " 'Bettina Blanch Tyroller',\n",
              " 'Azar Nafisi',\n",
              " 'Joe Abercrombie',\n",
              " 'Annie Proulx',\n",
              " 'Marie Kondō',\n",
              " 'Cathy Hirano',\n",
              " 'Jennifer Niven',\n",
              " 'فرانک معنوی',\n",
              " 'Kathy Reichs',\n",
              " 'Michael Scott',\n",
              " 'Margaret Sayers Peden',\n",
              " 'Ellen Hopkins',\n",
              " 'Richard Matheson',\n",
              " 'Elizabeth Strout',\n",
              " 'James C. Collins',\n",
              " 'Samuel Beckett',\n",
              " 'J.A. Redmerski',\n",
              " 'Kimberly McCreight',\n",
              " 'Michael Cunningham',\n",
              " 'Alice Clayton',\n",
              " 'Susan Ee',\n",
              " 'Richard Russo',\n",
              " 'Jandy Nelson',\n",
              " 'Catherine Hardwicke',\n",
              " 'James Joyce',\n",
              " 'Seamus Deane',\n",
              " 'George Eliot',\n",
              " 'Michel Faber',\n",
              " 'S.C. Stephens',\n",
              " 'Scott Turow',\n",
              " 'Stacy Schiff',\n",
              " 'Thomas L. Friedman',\n",
              " 'Marcus Pfister',\n",
              " 'J. Alison James',\n",
              " 'Gretchen Rubin',\n",
              " 'Philip K. Dick',\n",
              " 'Vincent Bugliosi',\n",
              " 'Curt Gentry',\n",
              " 'Dante Alighieri',\n",
              " 'Anthony M. Esolen',\n",
              " 'Patricia Briggs',\n",
              " 'Melissa de la Cruz',\n",
              " 'Ta-Nehisi Coates',\n",
              " 'John Milton',\n",
              " 'John      Leonard',\n",
              " 'Michael   Lewis',\n",
              " 'Frederick Forsyth',\n",
              " 'Jason Fried',\n",
              " 'David Heinemeier Hansson',\n",
              " 'Ilyana Kadushin',\n",
              " 'Matt Walters',\n",
              " 'Carol Rifka Brunt',\n",
              " 'Michelle Hodkin',\n",
              " 'Emmuska Orczy',\n",
              " 'Jon Stone',\n",
              " 'Michael J. Smollin',\n",
              " 'Leigh Bardugo',\n",
              " 'Carl Sagan',\n",
              " 'Zadie Smith',\n",
              " 'Chris Kyle',\n",
              " 'Scott McEwen',\n",
              " 'Jim DeFelice',\n",
              " 'Meg Wolitzer',\n",
              " 'Basil Creighton',\n",
              " 'Tess Gerritsen',\n",
              " 'Timothy Basil Ering',\n",
              " 'Steven L. Hopp',\n",
              " 'Camille Kingsolver',\n",
              " 'Richard A. Houser',\n",
              " 'Donald Miller',\n",
              " 'Brian K. Vaughan',\n",
              " 'Fiona Staples',\n",
              " 'Chad Harbach',\n",
              " 'Brandon Mull',\n",
              " 'Mildred D. Taylor',\n",
              " 'Constance Garnett',\n",
              " 'Alan Myers',\n",
              " 'Joseph Frank',\n",
              " 'Anna Brailovsky',\n",
              " 'Aziz Ansari',\n",
              " 'Eric Klinenberg',\n",
              " 'Katherine Applegate',\n",
              " 'Patricia Castelao',\n",
              " 'Sebastian Junger',\n",
              " 'Jim Fergus',\n",
              " 'Darrel Anderson',\n",
              " 'Salman Rushdie',\n",
              " 'Margaret Peterson Haddix',\n",
              " 'Elizabeth George Speare',\n",
              " 'Wilkie Collins',\n",
              " 'Matthew Sweet',\n",
              " 'James McBride',\n",
              " 'Karen Marie Moning',\n",
              " 'William Makepeace Thackeray',\n",
              " 'John Carey',\n",
              " 'Dominique Dill',\n",
              " \"Cynthia D'Aprix Sweeney\",\n",
              " 'Bill Willingham',\n",
              " 'Lan Medina',\n",
              " 'Steve Leialoha',\n",
              " 'Craig Hamilton',\n",
              " 'James Jean',\n",
              " 'David    Allen',\n",
              " 'James Redfield',\n",
              " 'Huntley Fitzpatrick',\n",
              " 'Chetan Bhagat',\n",
              " 'Laurell K. Hamilton',\n",
              " 'Rosemarie Morgan',\n",
              " 'Shannon Russell',\n",
              " 'Mark Z. Danielewski',\n",
              " 'Willa Cather',\n",
              " 'Susan Beth Pfeffer',\n",
              " 'Jon Stewart',\n",
              " 'Ben Karlin',\n",
              " 'David Javerbaum',\n",
              " 'Rich Bloomquist',\n",
              " 'Steve Bodow',\n",
              " 'Tim Carvell',\n",
              " 'Eric Drysdale',\n",
              " 'J.R. Havlan',\n",
              " 'Scott Jacobson',\n",
              " 'Tom Johnson',\n",
              " 'Rob Kutner',\n",
              " 'Chris Regan',\n",
              " 'Jason Reich',\n",
              " 'Jason Ross',\n",
              " 'Stephen Colbert',\n",
              " 'Samantha Bee',\n",
              " 'Rob Corddry',\n",
              " 'Brendan Hay',\n",
              " 'Ed Helms',\n",
              " 'Don Piper',\n",
              " 'Cecil Murphey',\n",
              " 'Lao Tzu',\n",
              " 'Gia-Fu Feng',\n",
              " 'Jane English',\n",
              " 'Chungliang Al Huang',\n",
              " 'Rowena Pattee Kryder',\n",
              " 'Toinette Lippe',\n",
              " 'Jeffrey Archer',\n",
              " 'Hans Christian Andersen',\n",
              " 'Lily Owens',\n",
              " 'Arthur Rackham',\n",
              " 'Hans Richter',\n",
              " 'Friedrich Nietzsche',\n",
              " 'Walter Kaufmann',\n",
              " 'Elizabeth Gaskell',\n",
              " 'Alan Shelston',\n",
              " 'Jaycee Dugard',\n",
              " 'Amish Tripathi',\n",
              " 'Aesop',\n",
              " 'Laura Harris',\n",
              " 'Laura Gibbs',\n",
              " 'Matsuri Hino',\n",
              " 'Tomo Kimura',\n",
              " 'Anne McCaffrey',\n",
              " 'Teodor Panasiński',\n",
              " 'Joanne Harris',\n",
              " 'Jay Anson',\n",
              " 'Michael Ondaatje',\n",
              " 'Jeri Johnson',\n",
              " 'Colum McCann',\n",
              " 'Harlan Coben',\n",
              " 'Rachel Hawkins',\n",
              " 'Austin Kleon',\n",
              " 'Neal Stephenson',\n",
              " 'Christina Lauren',\n",
              " 'Joyce Carol Oates',\n",
              " 'Scott McCloud',\n",
              " 'Jon Ronson',\n",
              " 'David Baldacci',\n",
              " 'Jonathan Stroud',\n",
              " 'Richard Dahm',\n",
              " 'Paul Dinello',\n",
              " 'Allison Silverman',\n",
              " 'Michael Brumm',\n",
              " 'Eric Drydale',\n",
              " 'Rob Dubbin',\n",
              " 'Glenn Eichler',\n",
              " 'Peter Grosz',\n",
              " 'Peter Gwinn',\n",
              " 'Jay Katsir',\n",
              " 'Laura Krafft',\n",
              " 'Frank Lesser',\n",
              " 'Tom Purcell',\n",
              " 'Leon Uris',\n",
              " 'Ursula Hegi',\n",
              " 'Raymond Chandler',\n",
              " 'Ellen DeGeneres',\n",
              " 'J. Lynn',\n",
              " 'Allen Mandelbaum',\n",
              " 'Eugenio Montale',\n",
              " 'Benjamin Hoff',\n",
              " 'Sarah Dunant',\n",
              " 'David Lagercrantz',\n",
              " 'George Goulding',\n",
              " 'Emma Cline',\n",
              " 'Shannon Hale',\n",
              " 'Isaac Marion',\n",
              " 'Everett H. Emerson',\n",
              " 'Elif Shafak',\n",
              " 'إليف شافاق',\n",
              " 'ارسلان فصیحی',\n",
              " 'محمد درويش',\n",
              " 'Hajime Isayama',\n",
              " 'Sheldon Drzka',\n",
              " 'Elena Ferrante',\n",
              " 'Ann Goldstein',\n",
              " 'Timothy Ferriss',\n",
              " 'Robin S. Sharma',\n",
              " 'Amor Towles',\n",
              " 'Larry Niven',\n",
              " 'Ruta Sepetys',\n",
              " 'Andrew Clements',\n",
              " 'Louise Erdrich',\n",
              " \"Madeleine L'Engle\",\n",
              " 'Hanya Yanagihara',\n",
              " 'Pia Guerra',\n",
              " 'José Marzán Jr.',\n",
              " 'Anne Tyler',\n",
              " 'Jennifer Bassett',\n",
              " 'Benjamin Alire Sáenz',\n",
              " 'Alfred Birnbaum',\n",
              " 'Alan R. Clarke',\n",
              " 'Johann David Wyss',\n",
              " 'Scott McKowen',\n",
              " 'Arthur Pober',\n",
              " 'Jennifer Probst',\n",
              " 'Watty Piper',\n",
              " 'Doris Hauman',\n",
              " 'George Hauman',\n",
              " 'Karen Joy Fowler',\n",
              " 'Alan Brennert',\n",
              " 'Frank E. Peretti',\n",
              " 'Jessica Sorensen',\n",
              " 'Lauren Groff',\n",
              " 'Janell Cannon',\n",
              " 'Nancy Horan',\n",
              " 'Lorelei King',\n",
              " 'Flora Rheta Schreiber',\n",
              " 'Rosamunde Pilcher',\n",
              " 'Ronald Holt',\n",
              " \"Bill O'Reilly\",\n",
              " 'Martin Dugard',\n",
              " 'John Flanagan',\n",
              " 'Laurie Halse Anderson',\n",
              " 'Ira Levin',\n",
              " 'Peter Straub',\n",
              " 'Katherine Boo',\n",
              " 'P.L. Travers',\n",
              " 'Mary Shepard',\n",
              " 'Sandra Cisneros',\n",
              " 'David Benioff',\n",
              " 'Jeaniene Frost',\n",
              " 'Peter de Jonge',\n",
              " 'Frank Herbert',\n",
              " 'James S.A. Corey',\n",
              " 'Art Spiegelman',\n",
              " 'Ezra Jack Keats',\n",
              " 'Richard   Preston',\n",
              " 'Lynne Truss',\n",
              " 'Kim Harrison',\n",
              " 'Clement C. Moore',\n",
              " 'Jan Brett',\n",
              " 'Cynthia Hand',\n",
              " 'Lee Strobel',\n",
              " 'Carl Hiaasen',\n",
              " 'Virgil',\n",
              " 'Robert Fitzgerald',\n",
              " 'Katie McGarry',\n",
              " 'Kennilworthy Whisp',\n",
              " 'Harry Allard',\n",
              " 'James  Marshall',\n",
              " 'Jennifer E. Smith',\n",
              " 'Tom Robbins',\n",
              " ...]"
            ]
          },
          "execution_count": 107,
          "metadata": {},
          "output_type": "execute_result"
        }
      ],
      "source": [
        "authorList"
      ],
      "id": "6af6bf4e"
    },
    {
      "cell_type": "code",
      "execution_count": null,
      "metadata": {
        "id": "6ea91b40"
      },
      "outputs": [],
      "source": [
        "df_book_genres.drop(columns=['author_bin'],inplace=True)"
      ],
      "id": "6ea91b40"
    },
    {
      "cell_type": "code",
      "execution_count": null,
      "metadata": {
        "id": "fd3c02d1",
        "outputId": "c9da9c9f-a124-422d-b2b2-ea6676a6821e"
      },
      "outputs": [
        {
          "data": {
            "text/html": [
              "<div>\n",
              "<style scoped>\n",
              "    .dataframe tbody tr th:only-of-type {\n",
              "        vertical-align: middle;\n",
              "    }\n",
              "\n",
              "    .dataframe tbody tr th {\n",
              "        vertical-align: top;\n",
              "    }\n",
              "\n",
              "    .dataframe thead th {\n",
              "        text-align: right;\n",
              "    }\n",
              "</style>\n",
              "<table border=\"1\" class=\"dataframe\">\n",
              "  <thead>\n",
              "    <tr style=\"text-align: right;\">\n",
              "      <th></th>\n",
              "      <th>book_id</th>\n",
              "      <th>genres</th>\n",
              "      <th>genres_bin</th>\n",
              "      <th>authors</th>\n",
              "    </tr>\n",
              "  </thead>\n",
              "  <tbody>\n",
              "    <tr>\n",
              "      <th>0</th>\n",
              "      <td>1</td>\n",
              "      <td>[young-adult, fiction, fantasy, science-fictio...</td>\n",
              "      <td>[1, 1, 1, 1, 1, 0, 0, 0, 0, 0, 0, 0, 0, 0, 0, ...</td>\n",
              "      <td>[Suzanne Collins]</td>\n",
              "    </tr>\n",
              "    <tr>\n",
              "      <th>1</th>\n",
              "      <td>2</td>\n",
              "      <td>[fantasy, fiction, young-adult, classics]</td>\n",
              "      <td>[1, 1, 1, 0, 0, 1, 0, 0, 0, 0, 0, 0, 0, 0, 0, ...</td>\n",
              "      <td>[J.K. Rowling, Mary GrandPré]</td>\n",
              "    </tr>\n",
              "    <tr>\n",
              "      <th>2</th>\n",
              "      <td>3</td>\n",
              "      <td>[young-adult, fantasy, romance, fiction, paran...</td>\n",
              "      <td>[1, 1, 1, 0, 1, 0, 1, 0, 0, 0, 0, 0, 0, 0, 0, ...</td>\n",
              "      <td>[Stephenie Meyer]</td>\n",
              "    </tr>\n",
              "    <tr>\n",
              "      <th>3</th>\n",
              "      <td>4</td>\n",
              "      <td>[classics, fiction, historical-fiction, young-...</td>\n",
              "      <td>[1, 1, 0, 0, 0, 1, 0, 1, 0, 0, 0, 0, 0, 0, 0, ...</td>\n",
              "      <td>[Harper Lee]</td>\n",
              "    </tr>\n",
              "    <tr>\n",
              "      <th>4</th>\n",
              "      <td>5</td>\n",
              "      <td>[classics, fiction, historical-fiction, romance]</td>\n",
              "      <td>[0, 1, 0, 0, 1, 1, 0, 1, 0, 0, 0, 0, 0, 0, 0, ...</td>\n",
              "      <td>[F. Scott Fitzgerald]</td>\n",
              "    </tr>\n",
              "    <tr>\n",
              "      <th>...</th>\n",
              "      <td>...</td>\n",
              "      <td>...</td>\n",
              "      <td>...</td>\n",
              "      <td>...</td>\n",
              "    </tr>\n",
              "    <tr>\n",
              "      <th>9959</th>\n",
              "      <td>9981</td>\n",
              "      <td>[mystery, thriller, fiction, crime, suspense, ...</td>\n",
              "      <td>[0, 1, 0, 0, 0, 0, 0, 0, 1, 1, 1, 1, 1, 0, 0, ...</td>\n",
              "      <td>[[Jeffery Deaver]]</td>\n",
              "    </tr>\n",
              "    <tr>\n",
              "      <th>9960</th>\n",
              "      <td>9982</td>\n",
              "      <td>[fantasy, paranormal, romance, fiction, myster...</td>\n",
              "      <td>[0, 1, 1, 0, 1, 0, 1, 0, 1, 1, 0, 1, 0, 0, 0, ...</td>\n",
              "      <td>[[Karen Marie Moning]]</td>\n",
              "    </tr>\n",
              "    <tr>\n",
              "      <th>9961</th>\n",
              "      <td>9985</td>\n",
              "      <td>[fiction, thriller, books, mystery, suspense, ...</td>\n",
              "      <td>[0, 1, 0, 1, 0, 0, 0, 0, 0, 1, 1, 1, 0, 0, 0, ...</td>\n",
              "      <td>[[Steve Perry, Tom Clancy, Steve Pieczenik]]</td>\n",
              "    </tr>\n",
              "    <tr>\n",
              "      <th>9962</th>\n",
              "      <td>9987</td>\n",
              "      <td>[mystery, fiction, thriller, suspense, crime, ...</td>\n",
              "      <td>[0, 1, 0, 0, 1, 0, 1, 0, 1, 1, 1, 1, 1, 0, 0, ...</td>\n",
              "      <td>[[Iris Johansen]]</td>\n",
              "    </tr>\n",
              "    <tr>\n",
              "      <th>9963</th>\n",
              "      <td>10000</td>\n",
              "      <td>[history, nonfiction, historical-fiction]</td>\n",
              "      <td>[0, 0, 0, 0, 0, 0, 0, 1, 0, 0, 0, 0, 0, 1, 1, ...</td>\n",
              "      <td>[[John Keegan]]</td>\n",
              "    </tr>\n",
              "  </tbody>\n",
              "</table>\n",
              "<p>9964 rows × 4 columns</p>\n",
              "</div>"
            ],
            "text/plain": [
              "      book_id                                             genres  \\\n",
              "0           1  [young-adult, fiction, fantasy, science-fictio...   \n",
              "1           2          [fantasy, fiction, young-adult, classics]   \n",
              "2           3  [young-adult, fantasy, romance, fiction, paran...   \n",
              "3           4  [classics, fiction, historical-fiction, young-...   \n",
              "4           5   [classics, fiction, historical-fiction, romance]   \n",
              "...       ...                                                ...   \n",
              "9959     9981  [mystery, thriller, fiction, crime, suspense, ...   \n",
              "9960     9982  [fantasy, paranormal, romance, fiction, myster...   \n",
              "9961     9985  [fiction, thriller, books, mystery, suspense, ...   \n",
              "9962     9987  [mystery, fiction, thriller, suspense, crime, ...   \n",
              "9963    10000          [history, nonfiction, historical-fiction]   \n",
              "\n",
              "                                             genres_bin  \\\n",
              "0     [1, 1, 1, 1, 1, 0, 0, 0, 0, 0, 0, 0, 0, 0, 0, ...   \n",
              "1     [1, 1, 1, 0, 0, 1, 0, 0, 0, 0, 0, 0, 0, 0, 0, ...   \n",
              "2     [1, 1, 1, 0, 1, 0, 1, 0, 0, 0, 0, 0, 0, 0, 0, ...   \n",
              "3     [1, 1, 0, 0, 0, 1, 0, 1, 0, 0, 0, 0, 0, 0, 0, ...   \n",
              "4     [0, 1, 0, 0, 1, 1, 0, 1, 0, 0, 0, 0, 0, 0, 0, ...   \n",
              "...                                                 ...   \n",
              "9959  [0, 1, 0, 0, 0, 0, 0, 0, 1, 1, 1, 1, 1, 0, 0, ...   \n",
              "9960  [0, 1, 1, 0, 1, 0, 1, 0, 1, 1, 0, 1, 0, 0, 0, ...   \n",
              "9961  [0, 1, 0, 1, 0, 0, 0, 0, 0, 1, 1, 1, 0, 0, 0, ...   \n",
              "9962  [0, 1, 0, 0, 1, 0, 1, 0, 1, 1, 1, 1, 1, 0, 0, ...   \n",
              "9963  [0, 0, 0, 0, 0, 0, 0, 1, 0, 0, 0, 0, 0, 1, 1, ...   \n",
              "\n",
              "                                           authors  \n",
              "0                                [Suzanne Collins]  \n",
              "1                    [J.K. Rowling, Mary GrandPré]  \n",
              "2                                [Stephenie Meyer]  \n",
              "3                                     [Harper Lee]  \n",
              "4                            [F. Scott Fitzgerald]  \n",
              "...                                            ...  \n",
              "9959                            [[Jeffery Deaver]]  \n",
              "9960                        [[Karen Marie Moning]]  \n",
              "9961  [[Steve Perry, Tom Clancy, Steve Pieczenik]]  \n",
              "9962                             [[Iris Johansen]]  \n",
              "9963                               [[John Keegan]]  \n",
              "\n",
              "[9964 rows x 4 columns]"
            ]
          },
          "execution_count": 125,
          "metadata": {},
          "output_type": "execute_result"
        }
      ],
      "source": [
        "df_book_genres"
      ],
      "id": "fd3c02d1"
    },
    {
      "cell_type": "code",
      "execution_count": null,
      "metadata": {
        "id": "d90b824f"
      },
      "outputs": [],
      "source": [
        "authorList = []\n",
        "for index, row in df_book_genres.iterrows():\n",
        "    authors = row[\"authors\"]\n",
        "    \n",
        "    for i in authors:\n",
        "        if i not in authorList:\n",
        "            authorList.append(i)"
      ],
      "id": "d90b824f"
    },
    {
      "cell_type": "code",
      "execution_count": null,
      "metadata": {
        "id": "98517ec7",
        "outputId": "c9bf8e58-f61a-4438-9637-655f117772ed"
      },
      "outputs": [
        {
          "data": {
            "text/plain": [
              "['Suzanne Collins',\n",
              " 'J.K. Rowling',\n",
              " 'Mary GrandPré',\n",
              " 'Stephenie Meyer',\n",
              " 'Harper Lee',\n",
              " 'F. Scott Fitzgerald',\n",
              " 'John Green',\n",
              " 'J.R.R. Tolkien',\n",
              " 'J.D. Salinger',\n",
              " 'Dan Brown',\n",
              " 'Jane Austen',\n",
              " 'Khaled Hosseini',\n",
              " 'Veronica Roth',\n",
              " 'Anne Frank',\n",
              " 'Eleanor Roosevelt',\n",
              " 'B.M. Mooyaart-Doubleday',\n",
              " 'Stieg Larsson',\n",
              " 'Reg Keeland',\n",
              " 'Rufus Beck',\n",
              " 'Alice Sebold',\n",
              " 'William Golding',\n",
              " 'William Shakespeare',\n",
              " 'Robert           Jackson',\n",
              " 'Gillian Flynn',\n",
              " 'Kathryn Stockett',\n",
              " 'John Steinbeck',\n",
              " 'Arthur Golden',\n",
              " 'E.L. James',\n",
              " 'Lois Lowry',\n",
              " 'C.S. Lewis',\n",
              " 'Audrey Niffenegger',\n",
              " 'George R.R. Martin',\n",
              " 'Elizabeth Gilbert',\n",
              " 'Rick Riordan',\n",
              " 'Louisa May Alcott',\n",
              " 'Charlotte Brontë',\n",
              " 'Michael Mason',\n",
              " 'Yann Martel',\n",
              " 'Sara Gruen',\n",
              " 'Markus Zusak',\n",
              " 'Shel Silverstein',\n",
              " 'Cassandra Clare',\n",
              " 'Christopher Paolini',\n",
              " 'Douglas Adams',\n",
              " 'Aldous Huxley',\n",
              " 'Sue Monk Kidd',\n",
              " 'Mark Twain',\n",
              " 'John Seelye',\n",
              " 'Guy Cardwell',\n",
              " 'E.B. White',\n",
              " 'Garth Williams',\n",
              " 'Rosemary Wells',\n",
              " 'Mark Haddon',\n",
              " 'Paula Hawkins',\n",
              " 'Philip Pullman',\n",
              " 'Emily Brontë',\n",
              " 'Richard J. Dunn',\n",
              " 'Jodi Picoult',\n",
              " 'Kurt Vonnegut Jr.',\n",
              " 'Margaret Mitchell',\n",
              " 'Stephen Chbosky',\n",
              " 'Orson Scott Card',\n",
              " 'Stephen King',\n",
              " 'Helen Fielding',\n",
              " 'Tony Tanner',\n",
              " 'Ros Ballaster',\n",
              " 'Louis Sachar',\n",
              " 'Lauren Weisberger',\n",
              " 'Homer',\n",
              " 'Robert Fagles',\n",
              " 'E.V. Rieu',\n",
              " 'Frédéric Mugler',\n",
              " 'Bernard Knox',\n",
              " 'Antoine de Saint-Exupéry',\n",
              " 'Richard Howard',\n",
              " 'Dom Marcos Barbosa',\n",
              " 'Melina Karakosta',\n",
              " 'Jeannette Walls',\n",
              " 'Jon Krakauer',\n",
              " 'Charles Dickens',\n",
              " 'Richard Maxwell',\n",
              " 'Hablot Knight Browne',\n",
              " 'John Grisham',\n",
              " 'Elie Wiesel',\n",
              " 'Marion Wiesel',\n",
              " 'William Goldman',\n",
              " 'S.E. Hinton',\n",
              " 'James Dashner',\n",
              " 'Steven D. Levitt',\n",
              " 'Stephen J. Dubner',\n",
              " 'Frances Hodgson Burnett',\n",
              " 'Gabriel García Márquez',\n",
              " 'Gregory Rabassa',\n",
              " 'Oscar Wilde',\n",
              " 'Jeffrey Eugenides',\n",
              " 'Bram Stoker',\n",
              " 'Nina Auerbach',\n",
              " 'David J. Skal',\n",
              " 'Barbara Kingsolver',\n",
              " 'David Sedaris',\n",
              " 'Maurice Sendak',\n",
              " 'Alexandre Dumas',\n",
              " 'Robin Buss',\n",
              " 'Cormac McCarthy',\n",
              " 'Tina Fey',\n",
              " 'Sophie Kinsella',\n",
              " 'Victor Hugo',\n",
              " 'Lee Fahnestock',\n",
              " 'Norman MacAfee',\n",
              " 'Kim Edwards',\n",
              " 'Joseph Heller',\n",
              " 'Mitch Albom',\n",
              " 'Saulius Dagys',\n",
              " 'Amy Tan',\n",
              " 'Margaret Atwood',\n",
              " 'Ann Brashares',\n",
              " 'Vladimir Nabokov',\n",
              " 'Craig Raine',\n",
              " 'Gregory Maguire',\n",
              " 'Douglas Smith',\n",
              " 'Richard Andrews',\n",
              " 'Rex Gibson',\n",
              " 'Malcolm Gladwell',\n",
              " 'Walter Isaacson',\n",
              " 'Ken Kesey',\n",
              " 'Ernest Hemingway',\n",
              " 'L.M. Montgomery',\n",
              " 'Rebecca Wells',\n",
              " 'Diana Gabaldon',\n",
              " 'Nathaniel Hawthorne',\n",
              " 'Thomas E. Connolly',\n",
              " 'Nina Baym',\n",
              " 'Ransom Riggs',\n",
              " 'Andy Weir',\n",
              " 'Ken Follett',\n",
              " 'Anthony Doerr',\n",
              " 'Laura Hillenbrand',\n",
              " 'Donna Tartt',\n",
              " 'Tracy Chevalier',\n",
              " 'Gayle Forman',\n",
              " 'Anita Diamant',\n",
              " 'Nicholas Sparks',\n",
              " 'Emily Giffin',\n",
              " 'Dr. Seuss',\n",
              " 'לאה נאור',\n",
              " 'Roald Dahl',\n",
              " 'Quentin Blake',\n",
              " 'Albert Camus',\n",
              " 'Matthew    Ward',\n",
              " 'Rainbow Rowell',\n",
              " 'Ally Condie',\n",
              " 'Neil Gaiman',\n",
              " 'Bernie Wrightson',\n",
              " 'Fiona Stafford',\n",
              " 'Leo Tolstoy',\n",
              " 'Louise Maude',\n",
              " 'Leo Tolstoj',\n",
              " 'Aylmer Maude',\n",
              " 'Fyodor Dostoyevsky',\n",
              " 'David McDuff',\n",
              " 'Sylvia Plath',\n",
              " 'Frank McCourt',\n",
              " 'Hermann Hesse',\n",
              " 'Hilda Rosner',\n",
              " 'Truman Capote',\n",
              " 'Kami Garcia',\n",
              " 'Margaret Stohl',\n",
              " 'Erin Morgenstern',\n",
              " 'Philippa Gregory',\n",
              " 'Scott Westerfeld',\n",
              " 'Cheryl Strayed',\n",
              " 'Alan Moore',\n",
              " 'Dave Gibbons',\n",
              " 'John Higgins',\n",
              " 'Patrick Rothfuss',\n",
              " 'Herman Melville',\n",
              " 'Andrew Delbanco',\n",
              " 'Tom Quirk',\n",
              " 'Charlaine Harris',\n",
              " 'John Grogan',\n",
              " 'Agatha Christie',\n",
              " 'Becca Fitzpatrick',\n",
              " 'Jamie McGuire',\n",
              " 'Anne Rice',\n",
              " 'Kiera Cass',\n",
              " 'Janet Evanovich',\n",
              " 'Rebecca Skloot',\n",
              " 'Thomas Harris',\n",
              " 'Richelle Mead',\n",
              " 'Ian McEwan',\n",
              " 'Franz Kafka',\n",
              " 'Stanley Corngold',\n",
              " 'Ernest Cline',\n",
              " 'Garth Stein',\n",
              " 'Sylvia Day',\n",
              " 'Pauline Baynes',\n",
              " 'Mark Cotta Vaz',\n",
              " 'Dave Pelzer',\n",
              " 'Robert Ludlum',\n",
              " 'Eoin Colfer',\n",
              " 'Lauren Kate',\n",
              " 'Emma McLaughlin',\n",
              " 'Nicola Kraus',\n",
              " 'Lewis Carroll',\n",
              " 'John Tenniel',\n",
              " 'Martin Gardner',\n",
              " 'James Kinsley',\n",
              " 'Deidre Shauna Lynch',\n",
              " 'Tatiana de Rosnay',\n",
              " 'Edith Grossman',\n",
              " 'Liane Moriarty',\n",
              " 'Augusten Burroughs',\n",
              " 'Max Brooks',\n",
              " 'James Patterson',\n",
              " 'P.C. Cast',\n",
              " 'Kristin Cast',\n",
              " 'Stephen R. Covey',\n",
              " 'Barbara A. Mowat',\n",
              " 'Paul Werstine',\n",
              " 'Catherine Belsey',\n",
              " 'Jonathan Safran Foer',\n",
              " 'R.J. Palacio',\n",
              " 'Robert Galbraith',\n",
              " 'Maggie Stiefvater',\n",
              " 'Ayn Rand',\n",
              " 'Leonard Peikoff',\n",
              " 'Greg Mortenson',\n",
              " 'David Oliver Relin',\n",
              " 'Jane Carruth',\n",
              " 'Rene Cloke',\n",
              " 'Carlos Ruiz Zafón',\n",
              " 'Lucia Graves',\n",
              " 'Dale Carnegie',\n",
              " 'Frances Mayes',\n",
              " 'Gail Carson Levine',\n",
              " 'Betty  Smith',\n",
              " 'Kristin Hannah',\n",
              " 'Kazuo Ishiguro',\n",
              " 'Cecelia Ahern',\n",
              " 'Daphne du Maurier',\n",
              " 'Sally Beauman',\n",
              " 'Laura Esquivel',\n",
              " 'Thomas  Christensen',\n",
              " 'Carol Christensen',\n",
              " 'Mario Puzo',\n",
              " 'Robert Thompson',\n",
              " 'Peter Bart',\n",
              " 'Isaac Asimov',\n",
              " 'John Tiffany',\n",
              " 'Jack Thorne',\n",
              " 'Lauren Oliver',\n",
              " 'Terry Pratchett',\n",
              " 'Jack Kerouac',\n",
              " 'Graeme Simsion',\n",
              " 'Tom Clancy',\n",
              " 'Richard Adams',\n",
              " 'Mindy Kaling',\n",
              " 'Abraham Verghese',\n",
              " 'Robert Louis Stevenson',\n",
              " 'Eric Carle',\n",
              " 'H.G. Wells',\n",
              " 'Greg Bear',\n",
              " 'Carlo Pagetti',\n",
              " 'Todd Burpo',\n",
              " 'Lynn Vincent',\n",
              " 'John Boyne',\n",
              " 'Joseph Conrad',\n",
              " 'Rhonda Byrne',\n",
              " 'Wally Lamb',\n",
              " 'Jennifer Weiner',\n",
              " 'Colleen McCullough',\n",
              " 'Dave McKean',\n",
              " 'M.L. Stedman',\n",
              " 'Cornelia Funke',\n",
              " 'Anthea Bell',\n",
              " 'Spencer Johnson',\n",
              " 'Kenneth H. Blanchard',\n",
              " 'Bill Bryson',\n",
              " 'Maya Angelou',\n",
              " 'Christina Baker Kline',\n",
              " 'Maria Semple',\n",
              " 'Wilson Rawls',\n",
              " 'Milan Kundera',\n",
              " 'Michael Henry Heim',\n",
              " 'John Irving',\n",
              " 'Janet Fitch',\n",
              " 'Marie Lu',\n",
              " 'Robert Jordan',\n",
              " 'Lisa Genova',\n",
              " 'David Nicholls',\n",
              " 'Margaret Wise Brown',\n",
              " 'Clement Hurd',\n",
              " 'Pittacus Lore',\n",
              " 'L. Frank Baum',\n",
              " 'W.W. Denslow',\n",
              " 'E. Lockhart',\n",
              " 'Hunter S. Thompson',\n",
              " 'Ralph Steadman',\n",
              " 'Amy Poehler',\n",
              " 'Toni Morrison',\n",
              " 'Kristin Cashore',\n",
              " 'Lemony Snicket',\n",
              " 'Brett Helquist',\n",
              " 'Erich Maria Remarque',\n",
              " 'A.W. Wheen',\n",
              " 'George Cruikshank',\n",
              " 'Philip Horne',\n",
              " 'Stephanie Perkins',\n",
              " 'David   Lloyd',\n",
              " 'David McCullough',\n",
              " 'Dean Koontz',\n",
              " 'Jerry Spinelli',\n",
              " 'Robert A. Heinlein',\n",
              " 'Jack London',\n",
              " 'Jhumpa Lahiri',\n",
              " 'Deborah Harkness',\n",
              " 'Haruki Murakami',\n",
              " 'Jay Rubin',\n",
              " 'Billie Letts',\n",
              " 'David Levithan',\n",
              " 'James Frey',\n",
              " 'Susan Cain',\n",
              " 'Arthur Miller',\n",
              " 'Christopher Bigsby',\n",
              " 'Gary Paulsen',\n",
              " 'Brandon Sanderson',\n",
              " 'Mervyn Peake',\n",
              " 'Dan Chaon',\n",
              " 'Jeff Kinney',\n",
              " 'Sarah J. Maas',\n",
              " 'Jamie Ford',\n",
              " 'Patrick Süskind',\n",
              " 'John E. Woods',\n",
              " 'Eric Schlosser',\n",
              " 'Edgar Allan Poe',\n",
              " 'Sun Tzu',\n",
              " 'Thomas Cleary',\n",
              " 'William Landay',\n",
              " 'Betty Edwards',\n",
              " 'Ann Patchett',\n",
              " 'Jared Diamond',\n",
              " 'Fannie Flagg',\n",
              " 'Chinua Achebe',\n",
              " 'Gary Chapman',\n",
              " 'Chris Cleave',\n",
              " 'Alyson Noel',\n",
              " 'Diane Setterfield',\n",
              " 'Paula McLain',\n",
              " 'Umberto Eco',\n",
              " 'William Weaver',\n",
              " 'Seán Barrett',\n",
              " 'Beatrice Sparks',\n",
              " 'Anonymous',\n",
              " 'John Kennedy Toole',\n",
              " 'Walker Percy',\n",
              " 'Philip Gabriel',\n",
              " 'J.R. Ward',\n",
              " 'Arundhati Roy',\n",
              " 'Stephen Hawking',\n",
              " 'Cao Chi',\n",
              " 'Phạm Văn Thiều',\n",
              " 'Sarah Dessen',\n",
              " 'A.A. Milne',\n",
              " 'Ernest H. Shepard',\n",
              " 'S.J. Watson',\n",
              " 'Arthur Conan Doyle',\n",
              " 'Rick Warren',\n",
              " 'Jim Butcher',\n",
              " 'Alfred MacAdam',\n",
              " 'Rick Yancey',\n",
              " 'Charles Frazier',\n",
              " 'Laura Joffe Numeroff',\n",
              " 'Felicia Bond',\n",
              " 'Tennessee Williams',\n",
              " 'Emily St. John Mandel',\n",
              " 'Fredrik Backman',\n",
              " 'Henning Koch',\n",
              " 'Pearl S. Buck',\n",
              " 'John Berger',\n",
              " 'Chuck Dixon',\n",
              " 'David Wenzel',\n",
              " 'Sean Deming',\n",
              " 'Junot Díaz',\n",
              " 'Zora Neale Hurston',\n",
              " 'Newt Scamander',\n",
              " 'Albus Dumbledore',\n",
              " 'Malala Yousafzai',\n",
              " 'Christina Lamb',\n",
              " 'Kathryn Sutherland',\n",
              " 'Claire Lamont',\n",
              " 'Viktor E. Frankl',\n",
              " 'Richard Dawkins',\n",
              " 'Lee Child',\n",
              " 'Daniel Defoe',\n",
              " 'Gerald McCann',\n",
              " 'Virginia Woolf',\n",
              " 'Niccolò Machiavelli',\n",
              " 'Adolph Caso',\n",
              " 'Rufus Goodwin',\n",
              " 'Benjamin Martinez',\n",
              " 'Terry Goodkind',\n",
              " 'Kathleen Grissom',\n",
              " 'Chuck Palahniuk',\n",
              " 'Richard Pevear',\n",
              " 'Larissa Volokhonsky',\n",
              " 'Jeanne DuPrau',\n",
              " 'Michael Crichton',\n",
              " 'Kahlil Gibran',\n",
              " 'Dave Eggers',\n",
              " 'Anna Sewell',\n",
              " 'Henry Gifford',\n",
              " 'Bret Easton Ellis',\n",
              " 'Meg Cabot',\n",
              " 'Alexander McCall Smith',\n",
              " 'Robert Kirkman',\n",
              " 'Tony Moore',\n",
              " 'Arthur C. Clarke',\n",
              " 'Francine Rivers',\n",
              " 'Tim LaHaye',\n",
              " 'Jerry B. Jenkins',\n",
              " 'Barbara Ehrenreich',\n",
              " 'Patricia Cornwell',\n",
              " 'Corrie ten Boom',\n",
              " 'John Sherrill',\n",
              " 'Elizabeth Sherrill',\n",
              " 'Pat Conroy',\n",
              " 'Michael Chabon',\n",
              " 'Simone Elkeles',\n",
              " 'J.M. Barrie',\n",
              " 'Michael Hague',\n",
              " 'David Mitchell',\n",
              " \"Tim O'Brien\",\n",
              " 'Banksy',\n",
              " 'Jeff Lindsay',\n",
              " 'Jonathan Swift',\n",
              " 'Robert DeMaria Jr.',\n",
              " 'Gail Kern Paster',\n",
              " 'Robert          Jackson',\n",
              " 'Unknown',\n",
              " 'Seamus Heaney',\n",
              " 'Frank Miller',\n",
              " 'David Mazzucchelli',\n",
              " 'Richmond Lewis',\n",
              " \"Dennis O'Neil\",\n",
              " 'Laini Taylor',\n",
              " 'Victoria Aveyard',\n",
              " 'Charles Duhigg',\n",
              " 'John Berendt',\n",
              " 'Colleen Hoover',\n",
              " 'Nancy Bond',\n",
              " 'Laura Ingalls Wilder',\n",
              " 'Margery Williams Bianco',\n",
              " 'William   Nicholson',\n",
              " 'Robert M. Pirsig',\n",
              " 'Sara Shepard',\n",
              " 'Don Freeman',\n",
              " 'Michael Pollan',\n",
              " 'Kate Atkinson',\n",
              " 'Kenneth Branagh',\n",
              " 'Thomas Hardy',\n",
              " 'Tim Dolin',\n",
              " 'Margaret R. Higonnet',\n",
              " 'Gustave Flaubert',\n",
              " 'Margaret Mauldon',\n",
              " 'Malcolm Bowie',\n",
              " 'Mark Overstall',\n",
              " 'Norton Juster',\n",
              " 'Jules Feiffer',\n",
              " 'Ned Vizzini',\n",
              " 'Vanessa Diffenbaugh',\n",
              " 'Klaus Janson',\n",
              " 'Lynn Varley',\n",
              " 'Nick Hornby',\n",
              " 'John Gray',\n",
              " 'Anthony Bourdain',\n",
              " 'Voltaire',\n",
              " 'Natalie Babbitt',\n",
              " 'Marie Milpois',\n",
              " 'P.D. Eastman',\n",
              " 'E.H. Gombrich',\n",
              " 'Marissa Meyer',\n",
              " 'Robert T. Kiyosaki',\n",
              " 'Lev Grossman',\n",
              " 'Tsugumi Ohba',\n",
              " 'Takeshi Obata',\n",
              " 'Libba Bray',\n",
              " 'Tammara Webber',\n",
              " 'Jeremy Tambling',\n",
              " 'Sherman Alexie',\n",
              " 'Ellen Forney',\n",
              " 'Mikhail Bulgakov',\n",
              " \"Katherine Tiernan O'Connor\",\n",
              " 'Diana Burgin',\n",
              " 'Ellendea Proffer',\n",
              " 'Ursula K. Le Guin',\n",
              " 'Kate DiCamillo',\n",
              " 'Chris Sheban',\n",
              " 'John Knowles',\n",
              " 'Miguel de Cervantes Saavedra',\n",
              " 'Roberto González Echevarría',\n",
              " 'John Rutherford',\n",
              " 'Robin Hobb',\n",
              " 'Beatrix Potter',\n",
              " 'Susanna Kaysen',\n",
              " 'Chelsea Handler',\n",
              " 'Richard Bach',\n",
              " 'Russell Munson',\n",
              " 'Robert Munsch',\n",
              " 'Sheila McGraw',\n",
              " 'Daniel James Brown',\n",
              " 'Christopher Tolkien',\n",
              " 'Ted Nasmith',\n",
              " 'Kate Morton',\n",
              " 'Edwin Muir',\n",
              " 'Willa Muir',\n",
              " 'Max Brod',\n",
              " 'Piper Kerman',\n",
              " 'Anne Perry',\n",
              " 'Daniel Kahneman',\n",
              " 'Judy Blume',\n",
              " 'Chris Bohjalian',\n",
              " 'Chris Van Allsburg',\n",
              " 'Jon Scieszka',\n",
              " 'Lane Smith',\n",
              " 'Paulo Coelho',\n",
              " 'Margaret Jull Costa',\n",
              " 'Sheryl Sandberg',\n",
              " 'Nell Scovell',\n",
              " 'Tahereh Mafi',\n",
              " 'Jostein Gaarder',\n",
              " 'Paulette Møller',\n",
              " 'Ray Bradbury',\n",
              " 'Jennifer Egan',\n",
              " 'Johanna Spyri',\n",
              " 'Angelo  Rinaldi',\n",
              " 'Beverly Cleary',\n",
              " 'Alex Flinn',\n",
              " 'Geoffrey Chaucer',\n",
              " 'Nevill Coghill',\n",
              " 'Harriet Beecher Stowe',\n",
              " 'Gaston Leroux',\n",
              " 'Alexander Teixeira de Mattos',\n",
              " 'Jonathan Franzen',\n",
              " 'Ally Carter',\n",
              " 'Aravind Adiga',\n",
              " 'Barack Obama',\n",
              " 'Judith Viorst',\n",
              " 'Ray Cruz',\n",
              " 'Howard Zinn',\n",
              " 'Justin Cronin',\n",
              " 'Celeste Ng',\n",
              " 'Isabel Allende',\n",
              " 'Magda Bogin',\n",
              " 'Ροζίτα Σώκου',\n",
              " 'Chimamanda Ngozi Adichie',\n",
              " 'Christopher McDougall',\n",
              " 'Gabrielle Zevin',\n",
              " 'Ludwig Bemelmans',\n",
              " 'Napoleon Hill',\n",
              " 'Susanna Clarke',\n",
              " 'Michael  Grant',\n",
              " 'Jess Walter',\n",
              " 'Matthew Quick',\n",
              " 'Jules Verne',\n",
              " 'Anthony Bonner',\n",
              " 'Maureen Howard',\n",
              " 'Richard Bachman',\n",
              " 'Michael Glencross',\n",
              " 'Brian W. Aldiss',\n",
              " 'Sharon Creech',\n",
              " 'Julie Powell',\n",
              " 'Neal Shusterman',\n",
              " 'Kate Egan',\n",
              " 'William Faulkner',\n",
              " 'Eckhart Tolle',\n",
              " 'Tite Kubo',\n",
              " 'Allie Brosh',\n",
              " 'Gregory David Roberts',\n",
              " 'Ned Dameron',\n",
              " 'Jeffery Deaver',\n",
              " 'Bernhard Schlink',\n",
              " 'Carol Brown Janeway',\n",
              " 'Bill Martin Jr.',\n",
              " 'Dan Simmons',\n",
              " 'William Peter Blatty',\n",
              " 'David Guterson',\n",
              " 'Alex Haley',\n",
              " 'Brian Bolland',\n",
              " 'Tim Sale',\n",
              " 'Ralph Ellison',\n",
              " 'Ishmael Beah',\n",
              " \"Robert C. O'Brien\",\n",
              " 'Melissa Bank',\n",
              " 'Hugh Howey',\n",
              " 'Christopher Moore',\n",
              " 'Jenny  Lawson',\n",
              " 'Garth Nix',\n",
              " 'Jennifer L. Armentrout',\n",
              " \"Bryan Lee O'Malley\",\n",
              " 'Julie Kagawa',\n",
              " 'Larry McMurtry',\n",
              " 'Mary Roach',\n",
              " 'Thomas Keneally',\n",
              " 'Malcolm X',\n",
              " 'Sam Kieth',\n",
              " 'Mike Dringenberg',\n",
              " 'Malcolm Jones III',\n",
              " 'Todd Klein',\n",
              " 'Karen  Berger',\n",
              " 'Dennis Lehane',\n",
              " 'Roma Gill',\n",
              " 'Erik Larson',\n",
              " 'Plato',\n",
              " 'Desmond Lee',\n",
              " 'Patti Smith',\n",
              " 'Phaidon Press',\n",
              " 'Jane Green',\n",
              " 'Walter J. Cobb',\n",
              " 'Rohinton Mistry',\n",
              " 'Bill Watterson',\n",
              " 'G.B. Trudeau',\n",
              " 'Kate Chopin',\n",
              " 'Justin Halpern',\n",
              " 'Irvine Welsh',\n",
              " 'Eric Lindor Fall',\n",
              " 'Miguel Ruiz',\n",
              " 'Jacob Grimm',\n",
              " 'Wilhelm Grimm',\n",
              " 'Josef Scharl',\n",
              " 'Padraic Colum',\n",
              " 'Joseph Campbell',\n",
              " 'Margaret Raine Hunt',\n",
              " 'James Stern',\n",
              " 'E.L. Konigsburg',\n",
              " 'Samantha Young',\n",
              " 'Francis Chan',\n",
              " 'Danae Yankoski',\n",
              " 'Chris Tomlin',\n",
              " 'Helen Keller',\n",
              " 'Jonathan Tropper',\n",
              " 'Seth Grahame-Smith',\n",
              " 'Natsuki Takaya',\n",
              " 'Alethea Nibley',\n",
              " 'Athena Nibley',\n",
              " 'Brian Selznick',\n",
              " 'Christopher Hitchens',\n",
              " 'Bisco Hatori',\n",
              " 'Mary Kubica',\n",
              " 'Abbi Glines',\n",
              " 'Diana Wynne Jones',\n",
              " 'William Olivier Desmond',\n",
              " 'Henry David Thoreau',\n",
              " 'Julian Barnes',\n",
              " 'Sue Grafton',\n",
              " 'Sophocles',\n",
              " 'J.E. Thomas',\n",
              " 'Lisa See',\n",
              " 'Kenneth Grahame',\n",
              " 'Gillian Avery',\n",
              " 'Jenny Han',\n",
              " 'Marjane Satrapi',\n",
              " 'Mattias Ripa',\n",
              " 'E.M. Forster',\n",
              " 'Kody Keplinger',\n",
              " 'J.D. Robb',\n",
              " 'Masashi Kishimoto',\n",
              " 'Katy Bridges',\n",
              " 'Rachel Joyce',\n",
              " 'James Clavell',\n",
              " 'John Archambault',\n",
              " 'Lois Ehlert',\n",
              " 'Raina Telgemeier',\n",
              " 'George Orwell',\n",
              " 'Jacquelyn Mitchard',\n",
              " 'Louise Rennison',\n",
              " 'Robin Sloan',\n",
              " 'V.C. Andrews',\n",
              " 'Paul Kalanithi',\n",
              " 'Ellen Raskin',\n",
              " 'Pierce Brown',\n",
              " 'Brent Weeks',\n",
              " 'Sam McBratney',\n",
              " 'Anita Jeram',\n",
              " 'John D. MacDonald',\n",
              " 'Peter Benchley',\n",
              " 'Nicole Krauss',\n",
              " 'Astrid Lindgren',\n",
              " 'Lauren Child',\n",
              " 'Florence Lamborn',\n",
              " 'Nancy Seligsohn',\n",
              " 'Muriel Barbery',\n",
              " 'Alison Anderson',\n",
              " 'Doris Kearns Goodwin',\n",
              " 'Suzanne Toren',\n",
              " 'Stuart Gilbert',\n",
              " 'Susannah Cahalan',\n",
              " 'Melissa Marr',\n",
              " 'H.A. Rey',\n",
              " 'Michael Ende',\n",
              " 'Ralph Manheim',\n",
              " 'Roswitha Quadflieg',\n",
              " 'Sylvia Nasar',\n",
              " 'Upton Sinclair',\n",
              " 'Earl Lee',\n",
              " 'Kathleen DeGrave',\n",
              " 'Kelley Armstrong',\n",
              " 'Oliver Sacks',\n",
              " 'M.R. Carey',\n",
              " 'Crockett Johnson',\n",
              " 'Hiromu Arakawa',\n",
              " 'Akira Watanabe',\n",
              " 'Joan Didion',\n",
              " 'Lionel Shriver',\n",
              " 'Edith Wharton',\n",
              " 'Geraldine Brooks',\n",
              " 'Michael Connelly',\n",
              " 'Sylvain Reynard',\n",
              " 'Judi Barrett',\n",
              " 'Ron Barrett',\n",
              " 'Helen Simonson',\n",
              " 'Nora Roberts',\n",
              " 'Irma S. Rombauer',\n",
              " 'Marion Rombauer Becker',\n",
              " 'Ethan Becker',\n",
              " 'Joe Haldeman',\n",
              " 'Bettina Blanch Tyroller',\n",
              " 'Azar Nafisi',\n",
              " 'Joe Abercrombie',\n",
              " 'Annie Proulx',\n",
              " 'Marie Kondō',\n",
              " 'Cathy Hirano',\n",
              " 'Jennifer Niven',\n",
              " 'فرانک معنوی',\n",
              " 'Kathy Reichs',\n",
              " 'Michael Scott',\n",
              " 'Margaret Sayers Peden',\n",
              " 'Ellen Hopkins',\n",
              " 'Richard Matheson',\n",
              " 'Elizabeth Strout',\n",
              " 'James C. Collins',\n",
              " 'Samuel Beckett',\n",
              " 'J.A. Redmerski',\n",
              " 'Kimberly McCreight',\n",
              " 'Michael Cunningham',\n",
              " 'Alice Clayton',\n",
              " 'Susan Ee',\n",
              " 'Richard Russo',\n",
              " 'Jandy Nelson',\n",
              " 'Catherine Hardwicke',\n",
              " 'James Joyce',\n",
              " 'Seamus Deane',\n",
              " 'George Eliot',\n",
              " 'Michel Faber',\n",
              " 'S.C. Stephens',\n",
              " 'Scott Turow',\n",
              " 'Stacy Schiff',\n",
              " 'Thomas L. Friedman',\n",
              " 'Marcus Pfister',\n",
              " 'J. Alison James',\n",
              " 'Gretchen Rubin',\n",
              " 'Philip K. Dick',\n",
              " 'Vincent Bugliosi',\n",
              " 'Curt Gentry',\n",
              " 'Dante Alighieri',\n",
              " 'Anthony M. Esolen',\n",
              " 'Patricia Briggs',\n",
              " 'Melissa de la Cruz',\n",
              " 'Ta-Nehisi Coates',\n",
              " 'John Milton',\n",
              " 'John      Leonard',\n",
              " 'Michael   Lewis',\n",
              " 'Frederick Forsyth',\n",
              " 'Jason Fried',\n",
              " 'David Heinemeier Hansson',\n",
              " 'Ilyana Kadushin',\n",
              " 'Matt Walters',\n",
              " 'Carol Rifka Brunt',\n",
              " 'Michelle Hodkin',\n",
              " 'Emmuska Orczy',\n",
              " 'Jon Stone',\n",
              " 'Michael J. Smollin',\n",
              " 'Leigh Bardugo',\n",
              " 'Carl Sagan',\n",
              " 'Zadie Smith',\n",
              " 'Chris Kyle',\n",
              " 'Scott McEwen',\n",
              " 'Jim DeFelice',\n",
              " 'Meg Wolitzer',\n",
              " 'Basil Creighton',\n",
              " 'Tess Gerritsen',\n",
              " 'Timothy Basil Ering',\n",
              " 'Steven L. Hopp',\n",
              " 'Camille Kingsolver',\n",
              " 'Richard A. Houser',\n",
              " 'Donald Miller',\n",
              " 'Brian K. Vaughan',\n",
              " 'Fiona Staples',\n",
              " 'Chad Harbach',\n",
              " 'Brandon Mull',\n",
              " 'Mildred D. Taylor',\n",
              " 'Constance Garnett',\n",
              " 'Alan Myers',\n",
              " 'Joseph Frank',\n",
              " 'Anna Brailovsky',\n",
              " 'Aziz Ansari',\n",
              " 'Eric Klinenberg',\n",
              " 'Katherine Applegate',\n",
              " 'Patricia Castelao',\n",
              " 'Sebastian Junger',\n",
              " 'Jim Fergus',\n",
              " 'Darrel Anderson',\n",
              " 'Salman Rushdie',\n",
              " 'Margaret Peterson Haddix',\n",
              " 'Elizabeth George Speare',\n",
              " 'Wilkie Collins',\n",
              " 'Matthew Sweet',\n",
              " 'James McBride',\n",
              " 'Karen Marie Moning',\n",
              " 'William Makepeace Thackeray',\n",
              " 'John Carey',\n",
              " 'Dominique Dill',\n",
              " \"Cynthia D'Aprix Sweeney\",\n",
              " 'Bill Willingham',\n",
              " 'Lan Medina',\n",
              " 'Steve Leialoha',\n",
              " 'Craig Hamilton',\n",
              " 'James Jean',\n",
              " 'David    Allen',\n",
              " 'James Redfield',\n",
              " 'Huntley Fitzpatrick',\n",
              " 'Chetan Bhagat',\n",
              " 'Laurell K. Hamilton',\n",
              " 'Rosemarie Morgan',\n",
              " 'Shannon Russell',\n",
              " 'Mark Z. Danielewski',\n",
              " 'Willa Cather',\n",
              " 'Susan Beth Pfeffer',\n",
              " 'Jon Stewart',\n",
              " 'Ben Karlin',\n",
              " 'David Javerbaum',\n",
              " 'Rich Bloomquist',\n",
              " 'Steve Bodow',\n",
              " 'Tim Carvell',\n",
              " 'Eric Drysdale',\n",
              " 'J.R. Havlan',\n",
              " 'Scott Jacobson',\n",
              " 'Tom Johnson',\n",
              " 'Rob Kutner',\n",
              " 'Chris Regan',\n",
              " 'Jason Reich',\n",
              " 'Jason Ross',\n",
              " 'Stephen Colbert',\n",
              " 'Samantha Bee',\n",
              " 'Rob Corddry',\n",
              " 'Brendan Hay',\n",
              " 'Ed Helms',\n",
              " 'Don Piper',\n",
              " 'Cecil Murphey',\n",
              " 'Lao Tzu',\n",
              " 'Gia-Fu Feng',\n",
              " 'Jane English',\n",
              " 'Chungliang Al Huang',\n",
              " 'Rowena Pattee Kryder',\n",
              " 'Toinette Lippe',\n",
              " 'Jeffrey Archer',\n",
              " 'Hans Christian Andersen',\n",
              " 'Lily Owens',\n",
              " 'Arthur Rackham',\n",
              " 'Hans Richter',\n",
              " 'Friedrich Nietzsche',\n",
              " 'Walter Kaufmann',\n",
              " 'Elizabeth Gaskell',\n",
              " 'Alan Shelston',\n",
              " 'Jaycee Dugard',\n",
              " 'Amish Tripathi',\n",
              " 'Aesop',\n",
              " 'Laura Harris',\n",
              " 'Laura Gibbs',\n",
              " 'Matsuri Hino',\n",
              " 'Tomo Kimura',\n",
              " 'Anne McCaffrey',\n",
              " 'Teodor Panasiński',\n",
              " 'Joanne Harris',\n",
              " 'Jay Anson',\n",
              " 'Michael Ondaatje',\n",
              " 'Jeri Johnson',\n",
              " 'Colum McCann',\n",
              " 'Harlan Coben',\n",
              " 'Rachel Hawkins',\n",
              " 'Austin Kleon',\n",
              " 'Neal Stephenson',\n",
              " 'Christina Lauren',\n",
              " 'Joyce Carol Oates',\n",
              " 'Scott McCloud',\n",
              " 'Jon Ronson',\n",
              " 'David Baldacci',\n",
              " 'Jonathan Stroud',\n",
              " 'Richard Dahm',\n",
              " 'Paul Dinello',\n",
              " 'Allison Silverman',\n",
              " 'Michael Brumm',\n",
              " 'Eric Drydale',\n",
              " 'Rob Dubbin',\n",
              " 'Glenn Eichler',\n",
              " 'Peter Grosz',\n",
              " 'Peter Gwinn',\n",
              " 'Jay Katsir',\n",
              " 'Laura Krafft',\n",
              " 'Frank Lesser',\n",
              " 'Tom Purcell',\n",
              " 'Leon Uris',\n",
              " 'Ursula Hegi',\n",
              " 'Raymond Chandler',\n",
              " 'Ellen DeGeneres',\n",
              " 'J. Lynn',\n",
              " 'Allen Mandelbaum',\n",
              " 'Eugenio Montale',\n",
              " 'Benjamin Hoff',\n",
              " 'Sarah Dunant',\n",
              " 'David Lagercrantz',\n",
              " 'George Goulding',\n",
              " 'Emma Cline',\n",
              " 'Shannon Hale',\n",
              " 'Isaac Marion',\n",
              " 'Everett H. Emerson',\n",
              " 'Elif Shafak',\n",
              " 'إليف شافاق',\n",
              " 'ارسلان فصیحی',\n",
              " 'محمد درويش',\n",
              " 'Hajime Isayama',\n",
              " 'Sheldon Drzka',\n",
              " 'Elena Ferrante',\n",
              " 'Ann Goldstein',\n",
              " 'Timothy Ferriss',\n",
              " 'Robin S. Sharma',\n",
              " 'Amor Towles',\n",
              " 'Larry Niven',\n",
              " 'Ruta Sepetys',\n",
              " 'Andrew Clements',\n",
              " 'Louise Erdrich',\n",
              " \"Madeleine L'Engle\",\n",
              " 'Hanya Yanagihara',\n",
              " 'Pia Guerra',\n",
              " 'José Marzán Jr.',\n",
              " 'Anne Tyler',\n",
              " 'Jennifer Bassett',\n",
              " 'Benjamin Alire Sáenz',\n",
              " 'Alfred Birnbaum',\n",
              " 'Alan R. Clarke',\n",
              " 'Johann David Wyss',\n",
              " 'Scott McKowen',\n",
              " 'Arthur Pober',\n",
              " 'Jennifer Probst',\n",
              " 'Watty Piper',\n",
              " 'Doris Hauman',\n",
              " 'George Hauman',\n",
              " 'Karen Joy Fowler',\n",
              " 'Alan Brennert',\n",
              " 'Frank E. Peretti',\n",
              " 'Jessica Sorensen',\n",
              " 'Lauren Groff',\n",
              " 'Janell Cannon',\n",
              " 'Nancy Horan',\n",
              " 'Lorelei King',\n",
              " 'Flora Rheta Schreiber',\n",
              " 'Rosamunde Pilcher',\n",
              " 'Ronald Holt',\n",
              " \"Bill O'Reilly\",\n",
              " 'Martin Dugard',\n",
              " 'John Flanagan',\n",
              " 'Laurie Halse Anderson',\n",
              " 'Ira Levin',\n",
              " 'Peter Straub',\n",
              " 'Katherine Boo',\n",
              " 'P.L. Travers',\n",
              " 'Mary Shepard',\n",
              " 'Sandra Cisneros',\n",
              " 'David Benioff',\n",
              " 'Jeaniene Frost',\n",
              " 'Peter de Jonge',\n",
              " 'Frank Herbert',\n",
              " 'James S.A. Corey',\n",
              " 'Art Spiegelman',\n",
              " 'Ezra Jack Keats',\n",
              " 'Richard   Preston',\n",
              " 'Lynne Truss',\n",
              " 'Kim Harrison',\n",
              " 'Clement C. Moore',\n",
              " 'Jan Brett',\n",
              " 'Cynthia Hand',\n",
              " 'Lee Strobel',\n",
              " 'Carl Hiaasen',\n",
              " 'Virgil',\n",
              " 'Robert Fitzgerald',\n",
              " 'Katie McGarry',\n",
              " 'Kennilworthy Whisp',\n",
              " 'Harry Allard',\n",
              " 'James  Marshall',\n",
              " 'Jennifer E. Smith',\n",
              " 'Tom Robbins',\n",
              " ...]"
            ]
          },
          "execution_count": 127,
          "metadata": {},
          "output_type": "execute_result"
        }
      ],
      "source": [
        "authorList"
      ],
      "id": "98517ec7"
    },
    {
      "cell_type": "code",
      "execution_count": null,
      "metadata": {
        "id": "77c16c0f"
      },
      "outputs": [],
      "source": [
        "def binary(author_list):\n",
        "    binaryList = []\n",
        "    \n",
        "    for genre in authorList:\n",
        "        if genre in author_list:\n",
        "            binaryList.append(1)\n",
        "        else:\n",
        "            binaryList.append(0)\n",
        "    \n",
        "    return binaryList"
      ],
      "id": "77c16c0f"
    },
    {
      "cell_type": "code",
      "execution_count": null,
      "metadata": {
        "id": "cfc67117",
        "outputId": "1a74716c-298d-4a2b-adc1-84c7ae389c2b"
      },
      "outputs": [
        {
          "data": {
            "text/plain": [
              "0    [1, 0, 0, 0, 0, 0, 0, 0, 0, 0, 0, 0, 0, 0, 0, ...\n",
              "1    [0, 1, 1, 0, 0, 0, 0, 0, 0, 0, 0, 0, 0, 0, 0, ...\n",
              "2    [0, 0, 0, 1, 0, 0, 0, 0, 0, 0, 0, 0, 0, 0, 0, ...\n",
              "3    [0, 0, 0, 0, 1, 0, 0, 0, 0, 0, 0, 0, 0, 0, 0, ...\n",
              "4    [0, 0, 0, 0, 0, 1, 0, 0, 0, 0, 0, 0, 0, 0, 0, ...\n",
              "Name: author_bin, dtype: object"
            ]
          },
          "execution_count": 109,
          "metadata": {},
          "output_type": "execute_result"
        }
      ],
      "source": [
        "df_book_genres['author_bin'] = df_book_genres['authors'].apply(lambda x: binary(x))\n",
        "df_book_genres['author_bin'].head()"
      ],
      "id": "cfc67117"
    },
    {
      "cell_type": "code",
      "execution_count": null,
      "metadata": {
        "id": "fe1124f9",
        "outputId": "2ba0f2ab-51af-4986-faac-409f7c8ec9f8"
      },
      "outputs": [
        {
          "data": {
            "text/html": [
              "<div>\n",
              "<style scoped>\n",
              "    .dataframe tbody tr th:only-of-type {\n",
              "        vertical-align: middle;\n",
              "    }\n",
              "\n",
              "    .dataframe tbody tr th {\n",
              "        vertical-align: top;\n",
              "    }\n",
              "\n",
              "    .dataframe thead th {\n",
              "        text-align: right;\n",
              "    }\n",
              "</style>\n",
              "<table border=\"1\" class=\"dataframe\">\n",
              "  <thead>\n",
              "    <tr style=\"text-align: right;\">\n",
              "      <th></th>\n",
              "      <th>book_id</th>\n",
              "      <th>genres</th>\n",
              "      <th>authors</th>\n",
              "      <th>genres_bin</th>\n",
              "      <th>author_bin</th>\n",
              "    </tr>\n",
              "  </thead>\n",
              "  <tbody>\n",
              "    <tr>\n",
              "      <th>0</th>\n",
              "      <td>1</td>\n",
              "      <td>[young-adult, fiction, fantasy, science-fictio...</td>\n",
              "      <td>[Suzanne Collins]</td>\n",
              "      <td>[1, 1, 1, 1, 1, 0, 0, 0, 0, 0, 0, 0, 0, 0, 0, ...</td>\n",
              "      <td>[1, 0, 0, 0, 0, 0, 0, 0, 0, 0, 0, 0, 0, 0, 0, ...</td>\n",
              "    </tr>\n",
              "    <tr>\n",
              "      <th>1</th>\n",
              "      <td>2</td>\n",
              "      <td>[fantasy, fiction, young-adult, classics]</td>\n",
              "      <td>[J.K. Rowling, Mary GrandPré]</td>\n",
              "      <td>[1, 1, 1, 0, 0, 1, 0, 0, 0, 0, 0, 0, 0, 0, 0, ...</td>\n",
              "      <td>[0, 1, 1, 0, 0, 0, 0, 0, 0, 0, 0, 0, 0, 0, 0, ...</td>\n",
              "    </tr>\n",
              "    <tr>\n",
              "      <th>2</th>\n",
              "      <td>3</td>\n",
              "      <td>[young-adult, fantasy, romance, fiction, paran...</td>\n",
              "      <td>[Stephenie Meyer]</td>\n",
              "      <td>[1, 1, 1, 0, 1, 0, 1, 0, 0, 0, 0, 0, 0, 0, 0, ...</td>\n",
              "      <td>[0, 0, 0, 1, 0, 0, 0, 0, 0, 0, 0, 0, 0, 0, 0, ...</td>\n",
              "    </tr>\n",
              "    <tr>\n",
              "      <th>3</th>\n",
              "      <td>4</td>\n",
              "      <td>[classics, fiction, historical-fiction, young-...</td>\n",
              "      <td>[Harper Lee]</td>\n",
              "      <td>[1, 1, 0, 0, 0, 1, 0, 1, 0, 0, 0, 0, 0, 0, 0, ...</td>\n",
              "      <td>[0, 0, 0, 0, 1, 0, 0, 0, 0, 0, 0, 0, 0, 0, 0, ...</td>\n",
              "    </tr>\n",
              "    <tr>\n",
              "      <th>4</th>\n",
              "      <td>5</td>\n",
              "      <td>[classics, fiction, historical-fiction, romance]</td>\n",
              "      <td>[F. Scott Fitzgerald]</td>\n",
              "      <td>[0, 1, 0, 0, 1, 1, 0, 1, 0, 0, 0, 0, 0, 0, 0, ...</td>\n",
              "      <td>[0, 0, 0, 0, 0, 1, 0, 0, 0, 0, 0, 0, 0, 0, 0, ...</td>\n",
              "    </tr>\n",
              "    <tr>\n",
              "      <th>...</th>\n",
              "      <td>...</td>\n",
              "      <td>...</td>\n",
              "      <td>...</td>\n",
              "      <td>...</td>\n",
              "      <td>...</td>\n",
              "    </tr>\n",
              "    <tr>\n",
              "      <th>9959</th>\n",
              "      <td>9981</td>\n",
              "      <td>[mystery, thriller, fiction, crime, suspense, ...</td>\n",
              "      <td>[[Jeffery Deaver]]</td>\n",
              "      <td>[0, 1, 0, 0, 0, 0, 0, 0, 1, 1, 1, 1, 1, 0, 0, ...</td>\n",
              "      <td>[0, 0, 0, 0, 0, 0, 0, 0, 0, 0, 0, 0, 0, 0, 0, ...</td>\n",
              "    </tr>\n",
              "    <tr>\n",
              "      <th>9960</th>\n",
              "      <td>9982</td>\n",
              "      <td>[fantasy, paranormal, romance, fiction, myster...</td>\n",
              "      <td>[[Karen Marie Moning]]</td>\n",
              "      <td>[0, 1, 1, 0, 1, 0, 1, 0, 1, 1, 0, 1, 0, 0, 0, ...</td>\n",
              "      <td>[0, 0, 0, 0, 0, 0, 0, 0, 0, 0, 0, 0, 0, 0, 0, ...</td>\n",
              "    </tr>\n",
              "    <tr>\n",
              "      <th>9961</th>\n",
              "      <td>9985</td>\n",
              "      <td>[fiction, thriller, books, mystery, suspense, ...</td>\n",
              "      <td>[[Steve Perry, Tom Clancy, Steve Pieczenik]]</td>\n",
              "      <td>[0, 1, 0, 1, 0, 0, 0, 0, 0, 1, 1, 1, 0, 0, 0, ...</td>\n",
              "      <td>[0, 0, 0, 0, 0, 0, 0, 0, 0, 0, 0, 0, 0, 0, 0, ...</td>\n",
              "    </tr>\n",
              "    <tr>\n",
              "      <th>9962</th>\n",
              "      <td>9987</td>\n",
              "      <td>[mystery, fiction, thriller, suspense, crime, ...</td>\n",
              "      <td>[[Iris Johansen]]</td>\n",
              "      <td>[0, 1, 0, 0, 1, 0, 1, 0, 1, 1, 1, 1, 1, 0, 0, ...</td>\n",
              "      <td>[0, 0, 0, 0, 0, 0, 0, 0, 0, 0, 0, 0, 0, 0, 0, ...</td>\n",
              "    </tr>\n",
              "    <tr>\n",
              "      <th>9963</th>\n",
              "      <td>10000</td>\n",
              "      <td>[history, nonfiction, historical-fiction]</td>\n",
              "      <td>[[John Keegan]]</td>\n",
              "      <td>[0, 0, 0, 0, 0, 0, 0, 1, 0, 0, 0, 0, 0, 1, 1, ...</td>\n",
              "      <td>[0, 0, 0, 0, 0, 0, 0, 0, 0, 0, 0, 0, 0, 0, 0, ...</td>\n",
              "    </tr>\n",
              "  </tbody>\n",
              "</table>\n",
              "<p>9964 rows × 5 columns</p>\n",
              "</div>"
            ],
            "text/plain": [
              "      book_id                                             genres  \\\n",
              "0           1  [young-adult, fiction, fantasy, science-fictio...   \n",
              "1           2          [fantasy, fiction, young-adult, classics]   \n",
              "2           3  [young-adult, fantasy, romance, fiction, paran...   \n",
              "3           4  [classics, fiction, historical-fiction, young-...   \n",
              "4           5   [classics, fiction, historical-fiction, romance]   \n",
              "...       ...                                                ...   \n",
              "9959     9981  [mystery, thriller, fiction, crime, suspense, ...   \n",
              "9960     9982  [fantasy, paranormal, romance, fiction, myster...   \n",
              "9961     9985  [fiction, thriller, books, mystery, suspense, ...   \n",
              "9962     9987  [mystery, fiction, thriller, suspense, crime, ...   \n",
              "9963    10000          [history, nonfiction, historical-fiction]   \n",
              "\n",
              "                                           authors  \\\n",
              "0                                [Suzanne Collins]   \n",
              "1                    [J.K. Rowling, Mary GrandPré]   \n",
              "2                                [Stephenie Meyer]   \n",
              "3                                     [Harper Lee]   \n",
              "4                            [F. Scott Fitzgerald]   \n",
              "...                                            ...   \n",
              "9959                            [[Jeffery Deaver]]   \n",
              "9960                        [[Karen Marie Moning]]   \n",
              "9961  [[Steve Perry, Tom Clancy, Steve Pieczenik]]   \n",
              "9962                             [[Iris Johansen]]   \n",
              "9963                               [[John Keegan]]   \n",
              "\n",
              "                                             genres_bin  \\\n",
              "0     [1, 1, 1, 1, 1, 0, 0, 0, 0, 0, 0, 0, 0, 0, 0, ...   \n",
              "1     [1, 1, 1, 0, 0, 1, 0, 0, 0, 0, 0, 0, 0, 0, 0, ...   \n",
              "2     [1, 1, 1, 0, 1, 0, 1, 0, 0, 0, 0, 0, 0, 0, 0, ...   \n",
              "3     [1, 1, 0, 0, 0, 1, 0, 1, 0, 0, 0, 0, 0, 0, 0, ...   \n",
              "4     [0, 1, 0, 0, 1, 1, 0, 1, 0, 0, 0, 0, 0, 0, 0, ...   \n",
              "...                                                 ...   \n",
              "9959  [0, 1, 0, 0, 0, 0, 0, 0, 1, 1, 1, 1, 1, 0, 0, ...   \n",
              "9960  [0, 1, 1, 0, 1, 0, 1, 0, 1, 1, 0, 1, 0, 0, 0, ...   \n",
              "9961  [0, 1, 0, 1, 0, 0, 0, 0, 0, 1, 1, 1, 0, 0, 0, ...   \n",
              "9962  [0, 1, 0, 0, 1, 0, 1, 0, 1, 1, 1, 1, 1, 0, 0, ...   \n",
              "9963  [0, 0, 0, 0, 0, 0, 0, 1, 0, 0, 0, 0, 0, 1, 1, ...   \n",
              "\n",
              "                                             author_bin  \n",
              "0     [1, 0, 0, 0, 0, 0, 0, 0, 0, 0, 0, 0, 0, 0, 0, ...  \n",
              "1     [0, 1, 1, 0, 0, 0, 0, 0, 0, 0, 0, 0, 0, 0, 0, ...  \n",
              "2     [0, 0, 0, 1, 0, 0, 0, 0, 0, 0, 0, 0, 0, 0, 0, ...  \n",
              "3     [0, 0, 0, 0, 1, 0, 0, 0, 0, 0, 0, 0, 0, 0, 0, ...  \n",
              "4     [0, 0, 0, 0, 0, 1, 0, 0, 0, 0, 0, 0, 0, 0, 0, ...  \n",
              "...                                                 ...  \n",
              "9959  [0, 0, 0, 0, 0, 0, 0, 0, 0, 0, 0, 0, 0, 0, 0, ...  \n",
              "9960  [0, 0, 0, 0, 0, 0, 0, 0, 0, 0, 0, 0, 0, 0, 0, ...  \n",
              "9961  [0, 0, 0, 0, 0, 0, 0, 0, 0, 0, 0, 0, 0, 0, 0, ...  \n",
              "9962  [0, 0, 0, 0, 0, 0, 0, 0, 0, 0, 0, 0, 0, 0, 0, ...  \n",
              "9963  [0, 0, 0, 0, 0, 0, 0, 0, 0, 0, 0, 0, 0, 0, 0, ...  \n",
              "\n",
              "[9964 rows x 5 columns]"
            ]
          },
          "execution_count": 110,
          "metadata": {},
          "output_type": "execute_result"
        }
      ],
      "source": [
        "df_book_genres"
      ],
      "id": "fe1124f9"
    },
    {
      "cell_type": "code",
      "execution_count": null,
      "metadata": {
        "id": "8754e59e"
      },
      "outputs": [],
      "source": [
        "#finding distance between books based on genre and authors\n",
        "from scipy import spatial\n",
        "def Similarity(bookId1, bookId2):\n",
        "    a = df_book_genres.iloc[bookId1]\n",
        "    b = df_book_genres.iloc[bookId2]\n",
        "    \n",
        "    genresA = a['genres_bin']\n",
        "    genresB = b['genres_bin']\n",
        "    \n",
        "    genreDistance =spatial.distance.jaccard(genresA, genresB)\n",
        "    scoreA = a['author_bin']\n",
        "    scoreB = b['author_bin']\n",
        "    scoreDistance =spatial.distance.jaccard(scoreA, scoreB)\n",
        "    \n",
        "    return genreDistance+scoreDistance"
      ],
      "id": "8754e59e"
    },
    {
      "cell_type": "code",
      "execution_count": null,
      "metadata": {
        "id": "9e26d978",
        "outputId": "af85f912-a066-4161-a43d-f2ab3c0465ff"
      },
      "outputs": [
        {
          "data": {
            "text/plain": [
              "1.7142857142857144"
            ]
          },
          "execution_count": 114,
          "metadata": {},
          "output_type": "execute_result"
        }
      ],
      "source": [
        "Similarity(5,43)"
      ],
      "id": "9e26d978"
    },
    {
      "cell_type": "code",
      "execution_count": null,
      "metadata": {
        "id": "da7b419f",
        "outputId": "c9ecca08-0220-487c-dd51-30bbc00d661f"
      },
      "outputs": [
        {
          "data": {
            "text/plain": [
              "1.6666666666666665"
            ]
          },
          "execution_count": 119,
          "metadata": {},
          "output_type": "execute_result"
        }
      ],
      "source": [
        "Similarity(5,4)"
      ],
      "id": "da7b419f"
    },
    {
      "cell_type": "code",
      "execution_count": null,
      "metadata": {
        "id": "6fcc8118",
        "outputId": "97708979-92b9-4998-ab9f-cf401cc032e8"
      },
      "outputs": [
        {
          "data": {
            "text/plain": [
              "1.8888888888888888"
            ]
          },
          "execution_count": 122,
          "metadata": {},
          "output_type": "execute_result"
        }
      ],
      "source": [
        "Similarity(5,8)"
      ],
      "id": "6fcc8118"
    },
    {
      "cell_type": "code",
      "execution_count": null,
      "metadata": {
        "id": "25f22c23"
      },
      "outputs": [],
      "source": [
        "df_book_genres['title']=goodreads_df['title']"
      ],
      "id": "25f22c23"
    },
    {
      "cell_type": "code",
      "execution_count": null,
      "metadata": {
        "id": "c3461f2b",
        "outputId": "ab63d273-26c0-49ae-9315-70df547671a7"
      },
      "outputs": [
        {
          "name": "stdout",
          "output_type": "stream",
          "text": [
            "book_id                                                       6\n",
            "genres            [young-adult, romance, fiction, contemporary]\n",
            "authors                                            [John Green]\n",
            "genres_bin    [1, 1, 0, 0, 1, 0, 0, 0, 1, 0, 0, 0, 0, 0, 0, ...\n",
            "author_bin    [0, 0, 0, 0, 0, 0, 1, 0, 0, 0, 0, 0, 0, 0, 0, ...\n",
            "title                                    The Fault in Our Stars\n",
            "Name: 5, dtype: object\n",
            "book_id                                                      50\n",
            "genres        [poetry, classics, fiction, young-adult, fantasy]\n",
            "authors                                      [Shel Silverstein]\n",
            "genres_bin    [1, 1, 1, 0, 0, 1, 0, 0, 0, 0, 0, 0, 0, 0, 0, ...\n",
            "author_bin    [0, 0, 0, 0, 0, 0, 0, 0, 0, 0, 0, 0, 0, 0, 0, ...\n",
            "title                                   Where the Sidewalk Ends\n",
            "Name: 43, dtype: object\n"
          ]
        }
      ],
      "source": [
        "print(df_book_genres.loc[5])\n",
        "print(df_book_genres.loc[43])"
      ],
      "id": "c3461f2b"
    },
    {
      "cell_type": "code",
      "execution_count": null,
      "metadata": {
        "id": "b25628b2",
        "outputId": "09af66d7-a9ea-4f54-b690-360f67251998"
      },
      "outputs": [
        {
          "name": "stdout",
          "output_type": "stream",
          "text": [
            "book_id                                                       6\n",
            "genres            [young-adult, romance, fiction, contemporary]\n",
            "authors                                            [John Green]\n",
            "genres_bin    [1, 1, 0, 0, 1, 0, 0, 0, 1, 0, 0, 0, 0, 0, 0, ...\n",
            "author_bin    [0, 0, 0, 0, 0, 0, 1, 0, 0, 0, 0, 0, 0, 0, 0, ...\n",
            "title                                    The Fault in Our Stars\n",
            "Name: 5, dtype: object\n",
            "book_id                                                       5\n",
            "genres         [classics, fiction, historical-fiction, romance]\n",
            "authors                                   [F. Scott Fitzgerald]\n",
            "genres_bin    [0, 1, 0, 0, 1, 1, 0, 1, 0, 0, 0, 0, 0, 0, 0, ...\n",
            "author_bin    [0, 0, 0, 0, 0, 1, 0, 0, 0, 0, 0, 0, 0, 0, 0, ...\n",
            "title                                          The Great Gatsby\n",
            "Name: 4, dtype: object\n"
          ]
        }
      ],
      "source": [
        "print(df_book_genres.loc[5])\n",
        "print(df_book_genres.loc[4])"
      ],
      "id": "b25628b2"
    },
    {
      "cell_type": "code",
      "execution_count": null,
      "metadata": {
        "id": "844e7bf4",
        "outputId": "3a958c6a-ad6b-4925-eff5-8c8e3fb4c232"
      },
      "outputs": [
        {
          "name": "stdout",
          "output_type": "stream",
          "text": [
            "book_id                                                       6\n",
            "genres            [young-adult, romance, fiction, contemporary]\n",
            "authors                                            [John Green]\n",
            "genres_bin    [1, 1, 0, 0, 1, 0, 0, 0, 1, 0, 0, 0, 0, 0, 0, ...\n",
            "author_bin    [0, 0, 0, 0, 0, 0, 1, 0, 0, 0, 0, 0, 0, 0, 0, ...\n",
            "title                                    The Fault in Our Stars\n",
            "Name: 5, dtype: object\n",
            "book_id                                                       9\n",
            "genres        [fiction, mystery, thriller, suspense, crime, ...\n",
            "authors                                             [Dan Brown]\n",
            "genres_bin    [0, 1, 0, 0, 0, 0, 0, 1, 0, 1, 1, 1, 1, 0, 0, ...\n",
            "author_bin    [0, 0, 0, 0, 0, 0, 0, 0, 0, 1, 0, 0, 0, 0, 0, ...\n",
            "title                     Angels & Demons  (Robert Langdon, #1)\n",
            "Name: 8, dtype: object\n"
          ]
        }
      ],
      "source": [
        "print(df_book_genres.loc[5])\n",
        "print(df_book_genres.loc[8])"
      ],
      "id": "844e7bf4"
    },
    {
      "cell_type": "code",
      "execution_count": null,
      "metadata": {
        "id": "e6be9a8e",
        "outputId": "89895660-afc4-4888-f43e-fdaa76700770"
      },
      "outputs": [
        {
          "data": {
            "text/plain": [
              "1.4"
            ]
          },
          "execution_count": 128,
          "metadata": {},
          "output_type": "execute_result"
        }
      ],
      "source": [
        "Similarity(4,10)"
      ],
      "id": "e6be9a8e"
    },
    {
      "cell_type": "code",
      "execution_count": null,
      "metadata": {
        "id": "7cc16b94",
        "outputId": "d113aa23-e394-40f9-a771-87a0a32a779e"
      },
      "outputs": [
        {
          "name": "stdout",
          "output_type": "stream",
          "text": [
            "book_id                                                       5\n",
            "genres         [classics, fiction, historical-fiction, romance]\n",
            "authors                                   [F. Scott Fitzgerald]\n",
            "genres_bin    [0, 1, 0, 0, 1, 1, 0, 1, 0, 0, 0, 0, 0, 0, 0, ...\n",
            "author_bin    [0, 0, 0, 0, 0, 1, 0, 0, 0, 0, 0, 0, 0, 0, 0, ...\n",
            "title                                          The Great Gatsby\n",
            "Name: 4, dtype: object\n",
            "book_id                                                      11\n",
            "genres        [fiction, historical-fiction, contemporary, cl...\n",
            "authors                                       [Khaled Hosseini]\n",
            "genres_bin    [0, 1, 0, 0, 0, 1, 0, 1, 1, 0, 0, 0, 0, 0, 0, ...\n",
            "author_bin    [0, 0, 0, 0, 0, 0, 0, 0, 0, 0, 0, 1, 0, 0, 0, ...\n",
            "title                                           The Kite Runner\n",
            "Name: 10, dtype: object\n"
          ]
        }
      ],
      "source": [
        "print(df_book_genres.loc[4])\n",
        "print(df_book_genres.loc[10])"
      ],
      "id": "7cc16b94"
    },
    {
      "cell_type": "markdown",
      "metadata": {
        "id": "02c1ba7b"
      },
      "source": [
        "**The Fault in Our Stars** and ** Where the Sidewalk Ends** similarity score is higher than other two as they share two common genres\n",
        "where as **The Fault in Our Stars** and **The Great Gatsby** share only one genre"
      ],
      "id": "02c1ba7b"
    },
    {
      "cell_type": "code",
      "execution_count": null,
      "metadata": {
        "id": "b48b2c9a",
        "outputId": "51c960e8-bdc5-450e-a86d-a94feaba6155"
      },
      "outputs": [
        {
          "data": {
            "text/plain": [
              "9964"
            ]
          },
          "execution_count": 171,
          "metadata": {},
          "output_type": "execute_result"
        }
      ],
      "source": [
        "df_book_genres.shape[0]"
      ],
      "id": "b48b2c9a"
    },
    {
      "cell_type": "code",
      "execution_count": null,
      "metadata": {
        "id": "051ebb9a",
        "outputId": "2264176a-a118-4d8e-e8b7-d50646af2730"
      },
      "outputs": [
        {
          "data": {
            "text/html": [
              "<div>\n",
              "<style scoped>\n",
              "    .dataframe tbody tr th:only-of-type {\n",
              "        vertical-align: middle;\n",
              "    }\n",
              "\n",
              "    .dataframe tbody tr th {\n",
              "        vertical-align: top;\n",
              "    }\n",
              "\n",
              "    .dataframe thead th {\n",
              "        text-align: right;\n",
              "    }\n",
              "</style>\n",
              "<table border=\"1\" class=\"dataframe\">\n",
              "  <thead>\n",
              "    <tr style=\"text-align: right;\">\n",
              "      <th></th>\n",
              "      <th>book_id</th>\n",
              "      <th>genres</th>\n",
              "      <th>genres_bin</th>\n",
              "      <th>title</th>\n",
              "      <th>authors</th>\n",
              "      <th>author_bin</th>\n",
              "    </tr>\n",
              "  </thead>\n",
              "  <tbody>\n",
              "    <tr>\n",
              "      <th>0</th>\n",
              "      <td>1</td>\n",
              "      <td>[young-adult, fiction, fantasy, science-fictio...</td>\n",
              "      <td>[1, 1, 1, 1, 1, 0, 0, 0, 0, 0, 0, 0, 0, 0, 0, ...</td>\n",
              "      <td>The Hunger Games (The Hunger Games, #1)</td>\n",
              "      <td>[Suzanne Collins]</td>\n",
              "      <td>[1, 0, 0, 0, 0, 0, 0, 0, 0, 0, 0, 0, 0, 0, 0, ...</td>\n",
              "    </tr>\n",
              "    <tr>\n",
              "      <th>1</th>\n",
              "      <td>2</td>\n",
              "      <td>[fantasy, fiction, young-adult, classics]</td>\n",
              "      <td>[1, 1, 1, 0, 0, 1, 0, 0, 0, 0, 0, 0, 0, 0, 0, ...</td>\n",
              "      <td>Harry Potter and the Sorcerer's Stone (Harry P...</td>\n",
              "      <td>[J.K. Rowling, Mary GrandPré]</td>\n",
              "      <td>[0, 1, 1, 0, 0, 0, 0, 0, 0, 0, 0, 0, 0, 0, 0, ...</td>\n",
              "    </tr>\n",
              "    <tr>\n",
              "      <th>2</th>\n",
              "      <td>3</td>\n",
              "      <td>[young-adult, fantasy, romance, fiction, paran...</td>\n",
              "      <td>[1, 1, 1, 0, 1, 0, 1, 0, 0, 0, 0, 0, 0, 0, 0, ...</td>\n",
              "      <td>Twilight (Twilight, #1)</td>\n",
              "      <td>[Stephenie Meyer]</td>\n",
              "      <td>[0, 0, 0, 1, 0, 0, 0, 0, 0, 0, 0, 0, 0, 0, 0, ...</td>\n",
              "    </tr>\n",
              "    <tr>\n",
              "      <th>3</th>\n",
              "      <td>4</td>\n",
              "      <td>[classics, fiction, historical-fiction, young-...</td>\n",
              "      <td>[1, 1, 0, 0, 0, 1, 0, 1, 0, 0, 0, 0, 0, 0, 0, ...</td>\n",
              "      <td>To Kill a Mockingbird</td>\n",
              "      <td>[Harper Lee]</td>\n",
              "      <td>[0, 0, 0, 0, 1, 0, 0, 0, 0, 0, 0, 0, 0, 0, 0, ...</td>\n",
              "    </tr>\n",
              "    <tr>\n",
              "      <th>4</th>\n",
              "      <td>5</td>\n",
              "      <td>[classics, fiction, historical-fiction, romance]</td>\n",
              "      <td>[0, 1, 0, 0, 1, 1, 0, 1, 0, 0, 0, 0, 0, 0, 0, ...</td>\n",
              "      <td>The Great Gatsby</td>\n",
              "      <td>[F. Scott Fitzgerald]</td>\n",
              "      <td>[0, 0, 0, 0, 0, 1, 0, 0, 0, 0, 0, 0, 0, 0, 0, ...</td>\n",
              "    </tr>\n",
              "    <tr>\n",
              "      <th>...</th>\n",
              "      <td>...</td>\n",
              "      <td>...</td>\n",
              "      <td>...</td>\n",
              "      <td>...</td>\n",
              "      <td>...</td>\n",
              "      <td>...</td>\n",
              "    </tr>\n",
              "    <tr>\n",
              "      <th>9959</th>\n",
              "      <td>9981</td>\n",
              "      <td>[mystery, thriller, fiction, crime, suspense, ...</td>\n",
              "      <td>[0, 1, 0, 0, 0, 0, 0, 0, 1, 1, 1, 1, 1, 0, 0, ...</td>\n",
              "      <td>The Twelfth Card (Lincoln Rhyme, #6)</td>\n",
              "      <td>[[Jeffery Deaver]]</td>\n",
              "      <td>[0, 0, 0, 0, 0, 0, 0, 0, 0, 0, 0, 0, 0, 0, 0, ...</td>\n",
              "    </tr>\n",
              "    <tr>\n",
              "      <th>9960</th>\n",
              "      <td>9982</td>\n",
              "      <td>[fantasy, paranormal, romance, fiction, myster...</td>\n",
              "      <td>[0, 1, 1, 0, 1, 0, 1, 0, 1, 1, 0, 1, 0, 0, 0, ...</td>\n",
              "      <td>Feverborn (Fever, #8)</td>\n",
              "      <td>[[Karen Marie Moning]]</td>\n",
              "      <td>[0, 0, 0, 0, 0, 0, 0, 0, 0, 0, 0, 0, 0, 0, 0, ...</td>\n",
              "    </tr>\n",
              "    <tr>\n",
              "      <th>9961</th>\n",
              "      <td>9985</td>\n",
              "      <td>[fiction, thriller, books, mystery, suspense, ...</td>\n",
              "      <td>[0, 1, 0, 1, 0, 0, 0, 0, 0, 1, 1, 1, 0, 0, 0, ...</td>\n",
              "      <td>Breaking Point (Tom Clancy's Net Force, #4)</td>\n",
              "      <td>[[Steve Perry, Tom Clancy, Steve Pieczenik]]</td>\n",
              "      <td>[0, 0, 0, 0, 0, 0, 0, 0, 0, 0, 0, 0, 0, 0, 0, ...</td>\n",
              "    </tr>\n",
              "    <tr>\n",
              "      <th>9962</th>\n",
              "      <td>9987</td>\n",
              "      <td>[mystery, fiction, thriller, suspense, crime, ...</td>\n",
              "      <td>[0, 1, 0, 0, 1, 0, 1, 0, 1, 1, 1, 1, 1, 0, 0, ...</td>\n",
              "      <td>Chasing The Night (Eve Duncan, #11; Catherine ...</td>\n",
              "      <td>[[Iris Johansen]]</td>\n",
              "      <td>[0, 0, 0, 0, 0, 0, 0, 0, 0, 0, 0, 0, 0, 0, 0, ...</td>\n",
              "    </tr>\n",
              "    <tr>\n",
              "      <th>9963</th>\n",
              "      <td>10000</td>\n",
              "      <td>[history, nonfiction, historical-fiction]</td>\n",
              "      <td>[0, 0, 0, 0, 0, 0, 0, 1, 0, 0, 0, 0, 0, 1, 1, ...</td>\n",
              "      <td>The First World War</td>\n",
              "      <td>[[John Keegan]]</td>\n",
              "      <td>[0, 0, 0, 0, 0, 0, 0, 0, 0, 0, 0, 0, 0, 0, 0, ...</td>\n",
              "    </tr>\n",
              "  </tbody>\n",
              "</table>\n",
              "<p>9964 rows × 6 columns</p>\n",
              "</div>"
            ],
            "text/plain": [
              "      book_id                                             genres  \\\n",
              "0           1  [young-adult, fiction, fantasy, science-fictio...   \n",
              "1           2          [fantasy, fiction, young-adult, classics]   \n",
              "2           3  [young-adult, fantasy, romance, fiction, paran...   \n",
              "3           4  [classics, fiction, historical-fiction, young-...   \n",
              "4           5   [classics, fiction, historical-fiction, romance]   \n",
              "...       ...                                                ...   \n",
              "9959     9981  [mystery, thriller, fiction, crime, suspense, ...   \n",
              "9960     9982  [fantasy, paranormal, romance, fiction, myster...   \n",
              "9961     9985  [fiction, thriller, books, mystery, suspense, ...   \n",
              "9962     9987  [mystery, fiction, thriller, suspense, crime, ...   \n",
              "9963    10000          [history, nonfiction, historical-fiction]   \n",
              "\n",
              "                                             genres_bin  \\\n",
              "0     [1, 1, 1, 1, 1, 0, 0, 0, 0, 0, 0, 0, 0, 0, 0, ...   \n",
              "1     [1, 1, 1, 0, 0, 1, 0, 0, 0, 0, 0, 0, 0, 0, 0, ...   \n",
              "2     [1, 1, 1, 0, 1, 0, 1, 0, 0, 0, 0, 0, 0, 0, 0, ...   \n",
              "3     [1, 1, 0, 0, 0, 1, 0, 1, 0, 0, 0, 0, 0, 0, 0, ...   \n",
              "4     [0, 1, 0, 0, 1, 1, 0, 1, 0, 0, 0, 0, 0, 0, 0, ...   \n",
              "...                                                 ...   \n",
              "9959  [0, 1, 0, 0, 0, 0, 0, 0, 1, 1, 1, 1, 1, 0, 0, ...   \n",
              "9960  [0, 1, 1, 0, 1, 0, 1, 0, 1, 1, 0, 1, 0, 0, 0, ...   \n",
              "9961  [0, 1, 0, 1, 0, 0, 0, 0, 0, 1, 1, 1, 0, 0, 0, ...   \n",
              "9962  [0, 1, 0, 0, 1, 0, 1, 0, 1, 1, 1, 1, 1, 0, 0, ...   \n",
              "9963  [0, 0, 0, 0, 0, 0, 0, 1, 0, 0, 0, 0, 0, 1, 1, ...   \n",
              "\n",
              "                                                  title  \\\n",
              "0               The Hunger Games (The Hunger Games, #1)   \n",
              "1     Harry Potter and the Sorcerer's Stone (Harry P...   \n",
              "2                               Twilight (Twilight, #1)   \n",
              "3                                 To Kill a Mockingbird   \n",
              "4                                      The Great Gatsby   \n",
              "...                                                 ...   \n",
              "9959               The Twelfth Card (Lincoln Rhyme, #6)   \n",
              "9960                              Feverborn (Fever, #8)   \n",
              "9961        Breaking Point (Tom Clancy's Net Force, #4)   \n",
              "9962  Chasing The Night (Eve Duncan, #11; Catherine ...   \n",
              "9963                                The First World War   \n",
              "\n",
              "                                           authors  \\\n",
              "0                                [Suzanne Collins]   \n",
              "1                    [J.K. Rowling, Mary GrandPré]   \n",
              "2                                [Stephenie Meyer]   \n",
              "3                                     [Harper Lee]   \n",
              "4                            [F. Scott Fitzgerald]   \n",
              "...                                            ...   \n",
              "9959                            [[Jeffery Deaver]]   \n",
              "9960                        [[Karen Marie Moning]]   \n",
              "9961  [[Steve Perry, Tom Clancy, Steve Pieczenik]]   \n",
              "9962                             [[Iris Johansen]]   \n",
              "9963                               [[John Keegan]]   \n",
              "\n",
              "                                             author_bin  \n",
              "0     [1, 0, 0, 0, 0, 0, 0, 0, 0, 0, 0, 0, 0, 0, 0, ...  \n",
              "1     [0, 1, 1, 0, 0, 0, 0, 0, 0, 0, 0, 0, 0, 0, 0, ...  \n",
              "2     [0, 0, 0, 1, 0, 0, 0, 0, 0, 0, 0, 0, 0, 0, 0, ...  \n",
              "3     [0, 0, 0, 0, 1, 0, 0, 0, 0, 0, 0, 0, 0, 0, 0, ...  \n",
              "4     [0, 0, 0, 0, 0, 1, 0, 0, 0, 0, 0, 0, 0, 0, 0, ...  \n",
              "...                                                 ...  \n",
              "9959  [0, 0, 0, 0, 0, 0, 0, 0, 0, 0, 0, 0, 0, 0, 0, ...  \n",
              "9960  [0, 0, 0, 0, 0, 0, 0, 0, 0, 0, 0, 0, 0, 0, 0, ...  \n",
              "9961  [0, 0, 0, 0, 0, 0, 0, 0, 0, 0, 0, 0, 0, 0, 0, ...  \n",
              "9962  [0, 0, 0, 0, 0, 0, 0, 0, 0, 0, 0, 0, 0, 0, 0, ...  \n",
              "9963  [0, 0, 0, 0, 0, 0, 0, 0, 0, 0, 0, 0, 0, 0, 0, ...  \n",
              "\n",
              "[9964 rows x 6 columns]"
            ]
          },
          "execution_count": 81,
          "metadata": {},
          "output_type": "execute_result"
        }
      ],
      "source": [
        "df_book_genres"
      ],
      "id": "051ebb9a"
    },
    {
      "cell_type": "code",
      "execution_count": null,
      "metadata": {
        "id": "a1cad3dc",
        "outputId": "882e5b13-3104-487c-e6cb-8d952dc13ca6"
      },
      "outputs": [
        {
          "data": {
            "text/html": [
              "<div>\n",
              "<style scoped>\n",
              "    .dataframe tbody tr th:only-of-type {\n",
              "        vertical-align: middle;\n",
              "    }\n",
              "\n",
              "    .dataframe tbody tr th {\n",
              "        vertical-align: top;\n",
              "    }\n",
              "\n",
              "    .dataframe thead th {\n",
              "        text-align: right;\n",
              "    }\n",
              "</style>\n",
              "<table border=\"1\" class=\"dataframe\">\n",
              "  <thead>\n",
              "    <tr style=\"text-align: right;\">\n",
              "      <th></th>\n",
              "      <th>new_book_id</th>\n",
              "      <th>title</th>\n",
              "      <th>genres</th>\n",
              "      <th>genres_bin</th>\n",
              "      <th>authors</th>\n",
              "      <th>author_bin</th>\n",
              "    </tr>\n",
              "  </thead>\n",
              "  <tbody>\n",
              "    <tr>\n",
              "      <th>0</th>\n",
              "      <td>0</td>\n",
              "      <td>The Hunger Games (The Hunger Games, #1)</td>\n",
              "      <td>[young-adult, fiction, fantasy, science-fictio...</td>\n",
              "      <td>[1, 1, 1, 1, 1, 0, 0, 0, 0, 0, 0, 0, 0, 0, 0, ...</td>\n",
              "      <td>[Suzanne Collins]</td>\n",
              "      <td>[1, 0, 0, 0, 0, 0, 0, 0, 0, 0, 0, 0, 0, 0, 0, ...</td>\n",
              "    </tr>\n",
              "    <tr>\n",
              "      <th>1</th>\n",
              "      <td>1</td>\n",
              "      <td>Harry Potter and the Sorcerer's Stone (Harry P...</td>\n",
              "      <td>[fantasy, fiction, young-adult, classics]</td>\n",
              "      <td>[1, 1, 1, 0, 0, 1, 0, 0, 0, 0, 0, 0, 0, 0, 0, ...</td>\n",
              "      <td>[J.K. Rowling, Mary GrandPré]</td>\n",
              "      <td>[0, 1, 1, 0, 0, 0, 0, 0, 0, 0, 0, 0, 0, 0, 0, ...</td>\n",
              "    </tr>\n",
              "    <tr>\n",
              "      <th>2</th>\n",
              "      <td>2</td>\n",
              "      <td>Twilight (Twilight, #1)</td>\n",
              "      <td>[young-adult, fantasy, romance, fiction, paran...</td>\n",
              "      <td>[1, 1, 1, 0, 1, 0, 1, 0, 0, 0, 0, 0, 0, 0, 0, ...</td>\n",
              "      <td>[Stephenie Meyer]</td>\n",
              "      <td>[0, 0, 0, 1, 0, 0, 0, 0, 0, 0, 0, 0, 0, 0, 0, ...</td>\n",
              "    </tr>\n",
              "    <tr>\n",
              "      <th>3</th>\n",
              "      <td>3</td>\n",
              "      <td>To Kill a Mockingbird</td>\n",
              "      <td>[classics, fiction, historical-fiction, young-...</td>\n",
              "      <td>[1, 1, 0, 0, 0, 1, 0, 1, 0, 0, 0, 0, 0, 0, 0, ...</td>\n",
              "      <td>[Harper Lee]</td>\n",
              "      <td>[0, 0, 0, 0, 1, 0, 0, 0, 0, 0, 0, 0, 0, 0, 0, ...</td>\n",
              "    </tr>\n",
              "    <tr>\n",
              "      <th>4</th>\n",
              "      <td>4</td>\n",
              "      <td>The Great Gatsby</td>\n",
              "      <td>[classics, fiction, historical-fiction, romance]</td>\n",
              "      <td>[0, 1, 0, 0, 1, 1, 0, 1, 0, 0, 0, 0, 0, 0, 0, ...</td>\n",
              "      <td>[F. Scott Fitzgerald]</td>\n",
              "      <td>[0, 0, 0, 0, 0, 1, 0, 0, 0, 0, 0, 0, 0, 0, 0, ...</td>\n",
              "    </tr>\n",
              "  </tbody>\n",
              "</table>\n",
              "</div>"
            ],
            "text/plain": [
              "   new_book_id                                              title  \\\n",
              "0            0            The Hunger Games (The Hunger Games, #1)   \n",
              "1            1  Harry Potter and the Sorcerer's Stone (Harry P...   \n",
              "2            2                            Twilight (Twilight, #1)   \n",
              "3            3                              To Kill a Mockingbird   \n",
              "4            4                                   The Great Gatsby   \n",
              "\n",
              "                                              genres  \\\n",
              "0  [young-adult, fiction, fantasy, science-fictio...   \n",
              "1          [fantasy, fiction, young-adult, classics]   \n",
              "2  [young-adult, fantasy, romance, fiction, paran...   \n",
              "3  [classics, fiction, historical-fiction, young-...   \n",
              "4   [classics, fiction, historical-fiction, romance]   \n",
              "\n",
              "                                          genres_bin  \\\n",
              "0  [1, 1, 1, 1, 1, 0, 0, 0, 0, 0, 0, 0, 0, 0, 0, ...   \n",
              "1  [1, 1, 1, 0, 0, 1, 0, 0, 0, 0, 0, 0, 0, 0, 0, ...   \n",
              "2  [1, 1, 1, 0, 1, 0, 1, 0, 0, 0, 0, 0, 0, 0, 0, ...   \n",
              "3  [1, 1, 0, 0, 0, 1, 0, 1, 0, 0, 0, 0, 0, 0, 0, ...   \n",
              "4  [0, 1, 0, 0, 1, 1, 0, 1, 0, 0, 0, 0, 0, 0, 0, ...   \n",
              "\n",
              "                         authors  \\\n",
              "0              [Suzanne Collins]   \n",
              "1  [J.K. Rowling, Mary GrandPré]   \n",
              "2              [Stephenie Meyer]   \n",
              "3                   [Harper Lee]   \n",
              "4          [F. Scott Fitzgerald]   \n",
              "\n",
              "                                          author_bin  \n",
              "0  [1, 0, 0, 0, 0, 0, 0, 0, 0, 0, 0, 0, 0, 0, 0, ...  \n",
              "1  [0, 1, 1, 0, 0, 0, 0, 0, 0, 0, 0, 0, 0, 0, 0, ...  \n",
              "2  [0, 0, 0, 1, 0, 0, 0, 0, 0, 0, 0, 0, 0, 0, 0, ...  \n",
              "3  [0, 0, 0, 0, 1, 0, 0, 0, 0, 0, 0, 0, 0, 0, 0, ...  \n",
              "4  [0, 0, 0, 0, 0, 1, 0, 0, 0, 0, 0, 0, 0, 0, 0, ...  "
            ]
          },
          "execution_count": 129,
          "metadata": {},
          "output_type": "execute_result"
        }
      ],
      "source": [
        "new_book_id = list(range(0,df_book_genres.shape[0]))\n",
        "df_book_genres['new_book_id']=new_book_id\n",
        "df_book_genres=df_book_genres[['new_book_id','title','genres','genres_bin','authors','author_bin']]\n",
        "df_book_genres.head()"
      ],
      "id": "a1cad3dc"
    },
    {
      "cell_type": "code",
      "execution_count": null,
      "metadata": {
        "id": "911e1335"
      },
      "outputs": [],
      "source": [
        "df_book_genres['average_rating']=goodreads_df['average_rating']"
      ],
      "id": "911e1335"
    },
    {
      "cell_type": "code",
      "execution_count": null,
      "metadata": {
        "id": "05d8cb96",
        "outputId": "55e63ef6-4c37-4f8b-f8c9-03238fe97708"
      },
      "outputs": [
        {
          "data": {
            "text/html": [
              "<div>\n",
              "<style scoped>\n",
              "    .dataframe tbody tr th:only-of-type {\n",
              "        vertical-align: middle;\n",
              "    }\n",
              "\n",
              "    .dataframe tbody tr th {\n",
              "        vertical-align: top;\n",
              "    }\n",
              "\n",
              "    .dataframe thead th {\n",
              "        text-align: right;\n",
              "    }\n",
              "</style>\n",
              "<table border=\"1\" class=\"dataframe\">\n",
              "  <thead>\n",
              "    <tr style=\"text-align: right;\">\n",
              "      <th></th>\n",
              "      <th>new_book_id</th>\n",
              "      <th>title</th>\n",
              "      <th>genres</th>\n",
              "      <th>genres_bin</th>\n",
              "      <th>authors</th>\n",
              "      <th>author_bin</th>\n",
              "      <th>average_rating</th>\n",
              "    </tr>\n",
              "  </thead>\n",
              "  <tbody>\n",
              "    <tr>\n",
              "      <th>0</th>\n",
              "      <td>0</td>\n",
              "      <td>The Hunger Games (The Hunger Games, #1)</td>\n",
              "      <td>[young-adult, fiction, fantasy, science-fictio...</td>\n",
              "      <td>[1, 1, 1, 1, 1, 0, 0, 0, 0, 0, 0, 0, 0, 0, 0, ...</td>\n",
              "      <td>[Suzanne Collins]</td>\n",
              "      <td>[1, 0, 0, 0, 0, 0, 0, 0, 0, 0, 0, 0, 0, 0, 0, ...</td>\n",
              "      <td>4.34</td>\n",
              "    </tr>\n",
              "    <tr>\n",
              "      <th>1</th>\n",
              "      <td>1</td>\n",
              "      <td>Harry Potter and the Sorcerer's Stone (Harry P...</td>\n",
              "      <td>[fantasy, fiction, young-adult, classics]</td>\n",
              "      <td>[1, 1, 1, 0, 0, 1, 0, 0, 0, 0, 0, 0, 0, 0, 0, ...</td>\n",
              "      <td>[J.K. Rowling, Mary GrandPré]</td>\n",
              "      <td>[0, 1, 1, 0, 0, 0, 0, 0, 0, 0, 0, 0, 0, 0, 0, ...</td>\n",
              "      <td>4.44</td>\n",
              "    </tr>\n",
              "    <tr>\n",
              "      <th>2</th>\n",
              "      <td>2</td>\n",
              "      <td>Twilight (Twilight, #1)</td>\n",
              "      <td>[young-adult, fantasy, romance, fiction, paran...</td>\n",
              "      <td>[1, 1, 1, 0, 1, 0, 1, 0, 0, 0, 0, 0, 0, 0, 0, ...</td>\n",
              "      <td>[Stephenie Meyer]</td>\n",
              "      <td>[0, 0, 0, 1, 0, 0, 0, 0, 0, 0, 0, 0, 0, 0, 0, ...</td>\n",
              "      <td>3.57</td>\n",
              "    </tr>\n",
              "    <tr>\n",
              "      <th>3</th>\n",
              "      <td>3</td>\n",
              "      <td>To Kill a Mockingbird</td>\n",
              "      <td>[classics, fiction, historical-fiction, young-...</td>\n",
              "      <td>[1, 1, 0, 0, 0, 1, 0, 1, 0, 0, 0, 0, 0, 0, 0, ...</td>\n",
              "      <td>[Harper Lee]</td>\n",
              "      <td>[0, 0, 0, 0, 1, 0, 0, 0, 0, 0, 0, 0, 0, 0, 0, ...</td>\n",
              "      <td>4.25</td>\n",
              "    </tr>\n",
              "    <tr>\n",
              "      <th>4</th>\n",
              "      <td>4</td>\n",
              "      <td>The Great Gatsby</td>\n",
              "      <td>[classics, fiction, historical-fiction, romance]</td>\n",
              "      <td>[0, 1, 0, 0, 1, 1, 0, 1, 0, 0, 0, 0, 0, 0, 0, ...</td>\n",
              "      <td>[F. Scott Fitzgerald]</td>\n",
              "      <td>[0, 0, 0, 0, 0, 1, 0, 0, 0, 0, 0, 0, 0, 0, 0, ...</td>\n",
              "      <td>3.89</td>\n",
              "    </tr>\n",
              "  </tbody>\n",
              "</table>\n",
              "</div>"
            ],
            "text/plain": [
              "   new_book_id                                              title  \\\n",
              "0            0            The Hunger Games (The Hunger Games, #1)   \n",
              "1            1  Harry Potter and the Sorcerer's Stone (Harry P...   \n",
              "2            2                            Twilight (Twilight, #1)   \n",
              "3            3                              To Kill a Mockingbird   \n",
              "4            4                                   The Great Gatsby   \n",
              "\n",
              "                                              genres  \\\n",
              "0  [young-adult, fiction, fantasy, science-fictio...   \n",
              "1          [fantasy, fiction, young-adult, classics]   \n",
              "2  [young-adult, fantasy, romance, fiction, paran...   \n",
              "3  [classics, fiction, historical-fiction, young-...   \n",
              "4   [classics, fiction, historical-fiction, romance]   \n",
              "\n",
              "                                          genres_bin  \\\n",
              "0  [1, 1, 1, 1, 1, 0, 0, 0, 0, 0, 0, 0, 0, 0, 0, ...   \n",
              "1  [1, 1, 1, 0, 0, 1, 0, 0, 0, 0, 0, 0, 0, 0, 0, ...   \n",
              "2  [1, 1, 1, 0, 1, 0, 1, 0, 0, 0, 0, 0, 0, 0, 0, ...   \n",
              "3  [1, 1, 0, 0, 0, 1, 0, 1, 0, 0, 0, 0, 0, 0, 0, ...   \n",
              "4  [0, 1, 0, 0, 1, 1, 0, 1, 0, 0, 0, 0, 0, 0, 0, ...   \n",
              "\n",
              "                         authors  \\\n",
              "0              [Suzanne Collins]   \n",
              "1  [J.K. Rowling, Mary GrandPré]   \n",
              "2              [Stephenie Meyer]   \n",
              "3                   [Harper Lee]   \n",
              "4          [F. Scott Fitzgerald]   \n",
              "\n",
              "                                          author_bin  average_rating  \n",
              "0  [1, 0, 0, 0, 0, 0, 0, 0, 0, 0, 0, 0, 0, 0, 0, ...            4.34  \n",
              "1  [0, 1, 1, 0, 0, 0, 0, 0, 0, 0, 0, 0, 0, 0, 0, ...            4.44  \n",
              "2  [0, 0, 0, 1, 0, 0, 0, 0, 0, 0, 0, 0, 0, 0, 0, ...            3.57  \n",
              "3  [0, 0, 0, 0, 1, 0, 0, 0, 0, 0, 0, 0, 0, 0, 0, ...            4.25  \n",
              "4  [0, 0, 0, 0, 0, 1, 0, 0, 0, 0, 0, 0, 0, 0, 0, ...            3.89  "
            ]
          },
          "execution_count": 131,
          "metadata": {},
          "output_type": "execute_result"
        }
      ],
      "source": [
        "df_book_genres.head()"
      ],
      "id": "05d8cb96"
    },
    {
      "cell_type": "code",
      "execution_count": null,
      "metadata": {
        "id": "26d2cb2a"
      },
      "outputs": [],
      "source": [
        "##predict books based on content of books and predict score for a new book\n",
        "import operator\n",
        "\n",
        "def predict_score(name):\n",
        "    #name = input('Enter a Book title: ')\n",
        "    new_book = df_book_genres[df_book_genres['title'].str.contains(name)].iloc[0].to_frame().T\n",
        "    print('Selected book: ',new_book.title.values[0])\n",
        "    print('Genre : ',new_book.genres.values[0])\n",
        "    def getNeighbors(baseBook, K):\n",
        "        distances = []\n",
        "    \n",
        "        for index, book in df_book_genres.iterrows():\n",
        "            if book['new_book_id'] != baseBook['new_book_id'].values[0]:\n",
        "                dist = Similarity(baseBook['new_book_id'].values[0], book['new_book_id'])\n",
        "                distances.append((book['new_book_id'], dist))\n",
        "    \n",
        "        distances.sort(key=operator.itemgetter(1))\n",
        "        neighbors = []\n",
        "    \n",
        "        for x in range(K):\n",
        "            neighbors.append(distances[x])\n",
        "        return neighbors\n",
        "\n",
        "    K = 10\n",
        "    avgRating = 0\n",
        "    neighbors = getNeighbors(new_book, K)\n",
        "    rating_list=[]\n",
        "    print('\\nRecommended Books: \\n')\n",
        "    for neighbor in neighbors:\n",
        "        rating_list.append(df_book_genres.iloc[neighbor[0]][6])\n",
        "        avgRating = avgRating+df_book_genres.iloc[neighbor[0]][6]  \n",
        "        print( df_book_genres.iloc[neighbor[0]][1]+\" | Genres: \"+str(df_book_genres.iloc[neighbor[0]][2]).strip('[]').replace(' ','')+\" | Authors: \"+str(df_book_genres.iloc[neighbor[0]][4]).strip('[]').replace(' ','')+\" | Rating: \"+str(df_book_genres.iloc[neighbor[0]][6]))\n",
        "    rating_list.sort(reverse=True)\n",
        "    print(rating_list)\n",
        "    print('\\n')\n",
        "    avgRating = avgRating/K\n",
        "    print('The predicted rating for %s is: %f' %(new_book['title'].values[0],avgRating))\n",
        "    print('The actual rating for %s is %f' %(new_book['title'].values[0],new_book['average_rating']))"
      ],
      "id": "26d2cb2a"
    },
    {
      "cell_type": "code",
      "execution_count": null,
      "metadata": {
        "id": "3b42ea00",
        "outputId": "550faec0-0014-492f-b282-3f754892c79a"
      },
      "outputs": [
        {
          "name": "stdout",
          "output_type": "stream",
          "text": [
            "Selected book:  The Great Gatsby\n",
            "Genre :  ['classics', 'fiction', 'historical-fiction', 'romance']\n",
            "\n",
            "Recommended Books: \n",
            "\n",
            "This Side of Paradise | Genres: 'classics','fiction','historical-fiction','romance' | Authors: 'F.ScottFitzgerald' | Rating: 3.68\n",
            "The Beautiful and Damned | Genres: 'classics','fiction','romance','historical-fiction' | Authors: 'F.ScottFitzgerald' | Rating: 3.75\n",
            "Tender Is the Night | Genres: 'classics','fiction','romance' | Authors: 'F.ScottFitzgerald' | Rating: 3.83\n",
            "The Curious Case of Benjamin Button | Genres: 'classics','fiction','fantasy','science-fiction' | Authors: 'F.ScottFitzgerald' | Rating: 3.53\n",
            "Pride and Prejudice | Genres: 'classics','fiction','romance','historical-fiction' | Authors: 'JaneAusten' | Rating: 4.24\n",
            "Memoirs of a Geisha | Genres: 'fiction','historical-fiction','romance','classics' | Authors: 'ArthurGolden' | Rating: 4.08\n",
            "Jane Eyre | Genres: 'classics','fiction','romance','historical-fiction' | Authors: 'CharlotteBrontë','MichaelMason' | Rating: 4.1\n",
            "Wuthering Heights | Genres: 'classics','fiction','romance','historical-fiction' | Authors: 'EmilyBrontë','RichardJ.Dunn' | Rating: 3.82\n",
            "Gone with the Wind | Genres: 'classics','historical-fiction','fiction','romance' | Authors: 'MargaretMitchell' | Rating: 4.28\n",
            "The Count of Monte Cristo | Genres: 'classics','fiction','historical-fiction','romance' | Authors: 'AlexandreDumas','RobinBuss' | Rating: 4.21\n",
            "[4.28, 4.24, 4.21, 4.1, 4.08, 3.83, 3.82, 3.75, 3.68, 3.53]\n",
            "\n",
            "\n",
            "The predicted rating for The Great Gatsby is: 3.952000\n",
            "The actual rating for The Great Gatsby is 3.890000\n"
          ]
        }
      ],
      "source": [
        "predict_score('The Great Gatsby')"
      ],
      "id": "3b42ea00"
    },
    {
      "cell_type": "code",
      "execution_count": null,
      "metadata": {
        "id": "85f659b1"
      },
      "outputs": [],
      "source": [
        "##Recommendation based on TF-IDF Vectoriser\n",
        "from sklearn.metrics.pairwise import cosine_similarity"
      ],
      "id": "85f659b1"
    },
    {
      "cell_type": "code",
      "execution_count": null,
      "metadata": {
        "id": "53c1487b",
        "outputId": "386ea0c8-bc88-43a9-a0d8-a4732f97e20b"
      },
      "outputs": [
        {
          "data": {
            "text/plain": [
              "array([[1., 0., 0., ..., 0., 0., 0.],\n",
              "       [0., 1., 0., ..., 0., 0., 0.],\n",
              "       [0., 0., 1., ..., 0., 0., 0.],\n",
              "       ...,\n",
              "       [0., 0., 0., ..., 1., 0., 0.],\n",
              "       [0., 0., 0., ..., 0., 1., 0.],\n",
              "       [0., 0., 0., ..., 0., 0., 1.]])"
            ]
          },
          "execution_count": 20,
          "metadata": {},
          "output_type": "execute_result"
        }
      ],
      "source": [
        "from sklearn.feature_extraction.text import TfidfVectorizer\n",
        "from sklearn.metrics.pairwise import linear_kernel\n",
        "\n",
        "tf = TfidfVectorizer(analyzer = 'word', ngram_range = (1,2), min_df = 0, stop_words = 'english')\n",
        "tfidf_matrix = tf.fit_transform(df_book_titles['title'])\n",
        "cosine_sim = cosine_similarity(tfidf_matrix)\n",
        "cosine_sim"
      ],
      "id": "53c1487b"
    },
    {
      "cell_type": "code",
      "execution_count": null,
      "metadata": {
        "id": "7125302f"
      },
      "outputs": [],
      "source": [
        "titles = df_book_titles['title']\n",
        "indices = pd.Series(df_book_titles.index, index = df_book_titles['title']) #converting all titles into a Series\n",
        "\n",
        "#Function that gets book recommendations based on the cosine similarity score of book titles\n",
        "def book_recommendations(title, n):\n",
        "    idx = fuzzy_matching(book_to_idx,title, verbose=True)\n",
        "    sim_scores = list(enumerate(cosine_sim[idx]))\n",
        "    sim_scores = sorted(sim_scores, key = lambda x:x[1], reverse = True)\n",
        "    sim_scores = sim_scores[1:n+1]\n",
        "    book_indices = [i[0] for i in sim_scores]\n",
        "    return titles.iloc[book_indices]"
      ],
      "id": "7125302f"
    },
    {
      "cell_type": "code",
      "execution_count": null,
      "metadata": {
        "id": "e0c3a7c3",
        "outputId": "8d7b1094-cb6a-40eb-c0d8-12500f07b02d"
      },
      "outputs": [
        {
          "name": "stdout",
          "output_type": "stream",
          "text": [
            "enter the keyword of the title to get recommendations: great gatsby\n"
          ]
        }
      ],
      "source": [
        "book_keyword=input(\"enter the keyword of the title to get recommendations: \")"
      ],
      "id": "e0c3a7c3"
    },
    {
      "cell_type": "code",
      "execution_count": null,
      "metadata": {
        "id": "9e0bd484",
        "outputId": "2c0f8aaf-ba9d-4454-ea27-d060f3a2a4cc"
      },
      "outputs": [
        {
          "name": "stdout",
          "output_type": "stream",
          "text": [
            "Found possible matches in our database: ['The Great Gatsby', 'Great House', 'Great Expectations']\n",
            "\n"
          ]
        },
        {
          "data": {
            "text/plain": [
              "6421                                          Great House\n",
              "145                                    Great Expectations\n",
              "7392                     The Great Brain (Great Brain #1)\n",
              "3633                                    The Great Santini\n",
              "5144                             Sometimes a Great Notion\n",
              "8218                                    The Great Divorce\n",
              "1585                             The Great Dune Trilogy  \n",
              "8233                                   Small Great Things\n",
              "7563                                     Great North Road\n",
              "8207    All Creatures Great and Small (All Creatures G...\n",
              "5092                              The Great Train Robbery\n",
              "6339                             The Great Railway Bazaar\n",
              "3976                        Kitchens of the Great Midwest\n",
              "6318                              The Great Gilly Hopkins\n",
              "3730       The Great and Secret Show (Book of the Art #1)\n",
              "469                    The Great Hunt (Wheel of Time, #2)\n",
              "3899            White: The Great Pursuit (The Circle, #3)\n",
              "1059                             Let the Great World Spin\n",
              "5199            A Tale of Two Cities / Great Expectations\n",
              "1317             Catherine the Great: Portrait of a Woman\n",
              "Name: title, dtype: object"
            ]
          },
          "execution_count": 84,
          "metadata": {},
          "output_type": "execute_result"
        }
      ],
      "source": [
        "book_recommendations(book_keyword,n)"
      ],
      "id": "9e0bd484"
    },
    {
      "cell_type": "markdown",
      "metadata": {
        "id": "c289a034"
      },
      "source": [
        "# ALternating Least Squares with Matrix factorizartion"
      ],
      "id": "c289a034"
    },
    {
      "cell_type": "code",
      "execution_count": null,
      "metadata": {
        "colab": {
          "base_uri": "https://localhost:8080/",
          "height": 36
        },
        "id": "P23PkRjD1RAs",
        "outputId": "b6de5e7d-21ed-4c95-c1fd-9d33be0f504e"
      },
      "outputs": [
        {
          "data": {
            "application/vnd.google.colaboratory.intrinsic+json": {
              "type": "string"
            },
            "text/plain": [
              "'/device:GPU:0'"
            ]
          },
          "execution_count": 2,
          "metadata": {},
          "output_type": "execute_result"
        }
      ],
      "source": [
        "import tensorflow as tf\n",
        "tf.test.gpu_device_name()"
      ],
      "id": "P23PkRjD1RAs"
    },
    {
      "cell_type": "code",
      "execution_count": null,
      "metadata": {
        "colab": {
          "base_uri": "https://localhost:8080/"
        },
        "id": "707f968f",
        "outputId": "c5d6e606-70d5-4153-a3e3-0b15f9fddbd8"
      },
      "outputs": [
        {
          "output_type": "stream",
          "name": "stdout",
          "text": [
            "Looking in indexes: https://pypi.org/simple, https://us-python.pkg.dev/colab-wheels/public/simple/\n",
            "Collecting pyspark\n",
            "  Downloading pyspark-3.3.0.tar.gz (281.3 MB)\n",
            "\u001b[K     |████████████████████████████████| 281.3 MB 48 kB/s \n",
            "\u001b[?25hCollecting py4j==0.10.9.5\n",
            "  Downloading py4j-0.10.9.5-py2.py3-none-any.whl (199 kB)\n",
            "\u001b[K     |████████████████████████████████| 199 kB 64.1 MB/s \n",
            "\u001b[?25hBuilding wheels for collected packages: pyspark\n",
            "  Building wheel for pyspark (setup.py) ... \u001b[?25l\u001b[?25hdone\n",
            "  Created wheel for pyspark: filename=pyspark-3.3.0-py2.py3-none-any.whl size=281764026 sha256=42d03afc3109c172b3d3331b6ae969a49a7c746ebd05d59dea37841d669fee05\n",
            "  Stored in directory: /root/.cache/pip/wheels/7a/8e/1b/f73a52650d2e5f337708d9f6a1750d451a7349a867f928b885\n",
            "Successfully built pyspark\n",
            "Installing collected packages: py4j, pyspark\n",
            "Successfully installed py4j-0.10.9.5 pyspark-3.3.0\n"
          ]
        }
      ],
      "source": [
        "pip install pyspark"
      ],
      "id": "707f968f"
    },
    {
      "cell_type": "code",
      "execution_count": null,
      "metadata": {
        "id": "5202a6b2"
      },
      "outputs": [],
      "source": [
        "import os\n",
        "import time\n",
        "\n",
        "# spark imports\n",
        "from pyspark.sql import SparkSession\n",
        "from pyspark.sql.functions import UserDefinedFunction, explode, desc\n",
        "from pyspark.sql.types import StringType, ArrayType\n",
        "from pyspark.mllib.recommendation import ALS\n",
        "\n",
        "# data science imports\n",
        "import math\n",
        "import numpy as np\n",
        "import pandas as pd\n",
        "\n",
        "# visualization imports\n",
        "import seaborn as sns\n",
        "import matplotlib.pyplot as plt\n",
        "\n",
        "%matplotlib inline"
      ],
      "id": "5202a6b2"
    },
    {
      "cell_type": "code",
      "execution_count": null,
      "metadata": {
        "id": "0b702626",
        "outputId": "9e70c2f8-8124-4be5-ee4b-a98b7dfb4ff7"
      },
      "outputs": [
        {
          "data": {
            "text/plain": [
              "'C:\\\\apache-spark\\\\spark-3.3.0-bin-hadoop2'"
            ]
          },
          "execution_count": 2,
          "metadata": {},
          "output_type": "execute_result"
        }
      ],
      "source": [
        "import findspark\n",
        "findspark.init()\n",
        "findspark.find()"
      ],
      "id": "0b702626"
    },
    {
      "cell_type": "code",
      "execution_count": null,
      "metadata": {
        "id": "70f61f40"
      },
      "outputs": [],
      "source": [
        "# spark config\n",
        "spark = SparkSession \\\n",
        "    .builder \\\n",
        "    .appName(\"Book recommendation\") \\\n",
        "    .config(\"spark.driver.maxResultSize\", \"96g\") \\\n",
        "    .config(\"spark.driver.memory\", \"96g\") \\\n",
        "    .config(\"spark.executor.memory\", \"8g\") \\\n",
        "    .config(\"spark.master\", \"local[12]\") \\\n",
        "    .getOrCreate()\n",
        "# get spark context\n",
        "sc = spark.sparkContext"
      ],
      "id": "70f61f40"
    },
    {
      "cell_type": "code",
      "execution_count": null,
      "metadata": {
        "id": "53d83720"
      },
      "outputs": [],
      "source": [
        "# path config\n",
        "data_path = os.path.join(os.environ['DATA_PATH'], 'GoodreadBooks')"
      ],
      "id": "53d83720"
    },
    {
      "cell_type": "code",
      "execution_count": null,
      "metadata": {
        "id": "dc274dec"
      },
      "outputs": [],
      "source": [
        "##read data\n",
        "books = spark.read.load(os.path.join(data_path, 'books_preprocess_13_july.csv'), format='csv', header=True, inferSchema=True)\n",
        "ratings = spark.read.load(os.path.join(data_path, 'ratings.csv'), format='csv', header=True, inferSchema=True)\n",
        "book_tags = spark.read.load(os.path.join(data_path, 'book_tags.csv'), format='csv', header=True, inferSchema=True)\n",
        "tags = spark.read.load(os.path.join(data_path, 'tags.csv'), format='csv', header=True, inferSchema=True)"
      ],
      "id": "dc274dec"
    },
    {
      "cell_type": "code",
      "execution_count": null,
      "metadata": {
        "colab": {
          "base_uri": "https://localhost:8080/"
        },
        "id": "97c8a995",
        "outputId": "31493b60-544f-4076-c733-7ced8c290a0d"
      },
      "outputs": [
        {
          "name": "stdout",
          "output_type": "stream",
          "text": [
            "+--------------------+--------------+-------+-----------+--------------------+-----------------+--------------------+-------------+-------------------------+-----+-----------+---------+---------+---------+---------+---------+--------------------+\n",
            "|             authors|average_rating|book_id|books_count|              genres|goodreads_book_id|           image_url|language_code|original_publication_year|pages|publishDate|ratings_1|ratings_2|ratings_3|ratings_4|ratings_5|               title|\n",
            "+--------------------+--------------+-------+-----------+--------------------+-----------------+--------------------+-------------+-------------------------+-----+-----------+---------+---------+---------+---------+---------+--------------------+\n",
            "| ['Suzanne Collins']|          4.34|      1|        272|['young-adult', '...|          2767052|https://images.gr...|          eng|                     2008|  374|   09/14/08|    66715|   127936|   560092|  1481305|  2706317|The Hunger Games ...|\n",
            "|['J.K. Rowling', ...|          4.44|      2|        491|['fantasy', 'fict...|                3|https://images.gr...|          eng|                     1997|  309| 11/01/2003|    75504|   101676|   455024|  1156318|  3011543|Harry Potter and ...|\n",
            "| ['Stephenie Meyer']|          3.57|      3|        226|['young-adult', '...|            41865|https://images.gr...|          eng|                     2005|  501| 09/06/2006|   456191|   436802|   793319|   875073|  1355439|Twilight (Twiligh...|\n",
            "|      ['Harper Lee']|          4.25|      4|        487|['classics', 'fic...|             2657|https://images.gr...|          eng|                     1960|  324|   05/23/06|    60427|   117415|   446835|  1001952|  1714267|To Kill a Mocking...|\n",
            "|['F. Scott Fitzge...|          3.89|      5|       1356|['classics', 'fic...|             4671|https://images.gr...|          eng|                     1925|  200|   09/28/04|    86236|   197621|   606158|   936012|   947718|    The Great Gatsby|\n",
            "+--------------------+--------------+-------+-----------+--------------------+-----------------+--------------------+-------------+-------------------------+-----+-----------+---------+---------+---------+---------+---------+--------------------+\n",
            "only showing top 5 rows\n",
            "\n"
          ]
        }
      ],
      "source": [
        "books.show(5)"
      ],
      "id": "97c8a995"
    },
    {
      "cell_type": "code",
      "execution_count": null,
      "metadata": {
        "colab": {
          "base_uri": "https://localhost:8080/"
        },
        "id": "18620496",
        "outputId": "da30cdba-3505-41a6-b9f9-05377e3c3208",
        "scrolled": true
      },
      "outputs": [
        {
          "name": "stdout",
          "output_type": "stream",
          "text": [
            "+-------+-------+------+\n",
            "|user_id|book_id|rating|\n",
            "+-------+-------+------+\n",
            "|      1|    258|     5|\n",
            "|      2|   4081|     4|\n",
            "|      2|    260|     5|\n",
            "|      2|   9296|     5|\n",
            "|      2|   2318|     3|\n",
            "+-------+-------+------+\n",
            "only showing top 5 rows\n",
            "\n"
          ]
        }
      ],
      "source": [
        "ratings.show(5)"
      ],
      "id": "18620496"
    },
    {
      "cell_type": "code",
      "execution_count": null,
      "metadata": {
        "id": "4ed84e0b",
        "outputId": "18146be3-f14b-4bee-bf6a-3d1fa4f8a7c5"
      },
      "outputs": [
        {
          "name": "stdout",
          "output_type": "stream",
          "text": [
            "+-----------------+------+------+\n",
            "|goodreads_book_id|tag_id| count|\n",
            "+-----------------+------+------+\n",
            "|                1| 30574|167697|\n",
            "|                1| 11305| 37174|\n",
            "|                1| 11557| 34173|\n",
            "|                1|  8717| 12986|\n",
            "|                1| 33114| 12716|\n",
            "+-----------------+------+------+\n",
            "only showing top 5 rows\n",
            "\n"
          ]
        }
      ],
      "source": [
        "book_tags.show(5)"
      ],
      "id": "4ed84e0b"
    },
    {
      "cell_type": "code",
      "execution_count": null,
      "metadata": {
        "id": "55b37fd4",
        "outputId": "8265965f-7502-492b-b966-ee781ad3c947"
      },
      "outputs": [
        {
          "name": "stdout",
          "output_type": "stream",
          "text": [
            "+------+--------+\n",
            "|tag_id|tag_name|\n",
            "+------+--------+\n",
            "|     0|       -|\n",
            "|     1|    --1-|\n",
            "|     2|   --10-|\n",
            "|     3|   --12-|\n",
            "|     4|  --122-|\n",
            "+------+--------+\n",
            "only showing top 5 rows\n",
            "\n"
          ]
        }
      ],
      "source": [
        "tags.show(5)"
      ],
      "id": "55b37fd4"
    },
    {
      "cell_type": "code",
      "execution_count": null,
      "metadata": {
        "colab": {
          "base_uri": "https://localhost:8080/"
        },
        "id": "d671ea53",
        "outputId": "b9305add-f923-4a55-ab77-861db3a4bce7"
      },
      "outputs": [
        {
          "name": "stdout",
          "output_type": "stream",
          "text": [
            "Distinct values of ratings:\n",
            "['1', '2', '3', '4', '5']\n"
          ]
        }
      ],
      "source": [
        "print('Distinct values of ratings:')\n",
        "print(sorted(ratings.select('rating').distinct().rdd.map(lambda r: r[0]).collect()))"
      ],
      "id": "d671ea53"
    },
    {
      "cell_type": "code",
      "execution_count": null,
      "metadata": {
        "colab": {
          "base_uri": "https://localhost:8080/"
        },
        "id": "e7750058",
        "outputId": "98a3b5cc-1b03-4d15-c682-a3b6b3923e0b"
      },
      "outputs": [
        {
          "name": "stdout",
          "output_type": "stream",
          "text": [
            "For the users that rated books and the books that were rated:\n",
            "Minimum number of ratings per user is 19\n",
            "Minimum number of ratings per book is 8\n"
          ]
        }
      ],
      "source": [
        "tmp1 = ratings.groupBy(\"user_id\").count().toPandas()['count'].min()\n",
        "tmp2 = ratings.groupBy(\"book_id\").count().toPandas()['count'].min()\n",
        "print('For the users that rated books and the books that were rated:')\n",
        "print('Minimum number of ratings per user is {}'.format(tmp1))\n",
        "print('Minimum number of ratings per book is {}'.format(tmp2))"
      ],
      "id": "e7750058"
    },
    {
      "cell_type": "code",
      "execution_count": null,
      "metadata": {
        "colab": {
          "base_uri": "https://localhost:8080/"
        },
        "id": "8d69f825",
        "outputId": "0665ac93-2fef-42d4-e484-9c276b0c0cbb"
      },
      "outputs": [
        {
          "name": "stdout",
          "output_type": "stream",
          "text": [
            "0 out of 10000 books are rated by only one user\n"
          ]
        }
      ],
      "source": [
        "tmp1 = sum(ratings.groupBy(\"book_id\").count().toPandas()['count'] == 1)\n",
        "tmp2 = ratings.select('book_id').distinct().count()\n",
        "print('{} out of {} books are rated by only one user'.format(tmp1, tmp2))"
      ],
      "id": "8d69f825"
    },
    {
      "cell_type": "code",
      "execution_count": null,
      "metadata": {
        "colab": {
          "base_uri": "https://localhost:8080/"
        },
        "id": "cbdd31db",
        "outputId": "87e8ef63-1945-429f-de90-098639890d11"
      },
      "outputs": [
        {
          "name": "stdout",
          "output_type": "stream",
          "text": [
            "We have a total of 53424 distinct users in the data sets\n"
          ]
        }
      ],
      "source": [
        "tmp = ratings.select('user_id').distinct().count()\n",
        "print('We have a total of {} distinct users in the data sets'.format(tmp))"
      ],
      "id": "cbdd31db"
    },
    {
      "cell_type": "code",
      "execution_count": null,
      "metadata": {
        "colab": {
          "base_uri": "https://localhost:8080/"
        },
        "id": "37aee29f",
        "outputId": "86eda050-1c55-495d-e306-6a0b21eff39e"
      },
      "outputs": [
        {
          "name": "stdout",
          "output_type": "stream",
          "text": [
            "We have a total of 9964 distinct books in the data sets\n"
          ]
        }
      ],
      "source": [
        "tmp = books.select('book_id').distinct().count()\n",
        "print('We have a total of {} distinct books in the data sets'.format(tmp))"
      ],
      "id": "37aee29f"
    },
    {
      "cell_type": "code",
      "execution_count": null,
      "metadata": {
        "id": "c2290341"
      },
      "outputs": [],
      "source": [
        "# create a temp SQL table view for easier query\n",
        "books.createOrReplaceTempView(\"books\")\n",
        "ratings.createOrReplaceTempView(\"ratings\")\n",
        "print('List movies that are not rated yet: ')\n",
        "# SQL query (NOTE: WHERE ... NOT IN ... == ... LEFT JOIN ... WHERE ... IS NULL)\n",
        "# Approach 1\n",
        "spark.sql(\n",
        "    \"SELECT book_id, title \"\n",
        "    \"FROM books \"\n",
        "    \"WHERE book_id NOT IN (SELECT distinct(book_id) FROM ratings)\"\n",
        ").show(10)\n",
        "# Approach 2\n",
        "# spark.sql(\n",
        "#     \"SELECT m.movieId, m.title \"\n",
        "#     \"FROM movies m LEFT JOIN ratings r ON m.movieId=r.movieId \"\n",
        "#     \"WHERE r.movieId IS NULL\"\n",
        "# ).show(10)"
      ],
      "id": "c2290341"
    },
    {
      "cell_type": "code",
      "execution_count": null,
      "metadata": {
        "colab": {
          "base_uri": "https://localhost:8080/"
        },
        "id": "b13adeba",
        "outputId": "7d09d26f-769f-4999-85c3-6b765703e701"
      },
      "outputs": [
        {
          "data": {
            "text/plain": [
              "PythonRDD[128] at RDD at PythonRDD.scala:53"
            ]
          },
          "execution_count": 20,
          "metadata": {},
          "output_type": "execute_result"
        }
      ],
      "source": [
        "train, validation, test = rating_data.randomSplit([6, 2, 2], seed=99)\n",
        "# cache data\n",
        "train.cache()\n",
        "validation.cache()\n",
        "test.cache()"
      ],
      "id": "b13adeba"
    },
    {
      "cell_type": "code",
      "execution_count": null,
      "metadata": {
        "id": "6d1c62ac"
      },
      "outputs": [],
      "source": [
        "def train_ALS(train_data, validation_data, num_iters, reg_param, ranks):\n",
        "    \"\"\"\n",
        "    Grid Search Function to select the best model based on RMSE of hold-out data\n",
        "    \"\"\"\n",
        "    # initial\n",
        "    min_error = float('inf')\n",
        "    best_rank = -1\n",
        "    best_regularization = 0\n",
        "    best_model = None\n",
        "    for rank in ranks:\n",
        "        for reg in reg_param:\n",
        "            # train ALS model\n",
        "            model = ALS.train(\n",
        "                ratings=train_data,    # (userID, productID, rating) tuple\n",
        "                iterations=num_iters,\n",
        "                rank=rank,\n",
        "                lambda_=reg,           # regularization param\n",
        "                seed=99)\n",
        "            # make prediction\n",
        "            valid_data = validation_data.map(lambda p: (p[0], p[1]))\n",
        "            predictions = model.predictAll(valid_data).map(lambda r: ((r[0], r[1]), r[2]))\n",
        "            # get the rating result\n",
        "            ratesAndPreds = validation_data.map(lambda r: ((r[0], r[1]), r[2])).join(predictions)\n",
        "            # get the RMSE\n",
        "            MSE = ratesAndPreds.map(lambda r: (r[1][0] - r[1][1])**2).mean()\n",
        "            error = math.sqrt(MSE)\n",
        "            print('{} latent factors and regularization = {}: validation RMSE is {}'.format(rank, reg, error))\n",
        "            if error < min_error:\n",
        "                min_error = error\n",
        "                best_rank = rank\n",
        "                best_regularization = reg\n",
        "                best_model = model\n",
        "    print('\\nThe best model has {} latent factors and regularization = {}'.format(best_rank, best_regularization))\n",
        "    return best_model"
      ],
      "id": "6d1c62ac"
    },
    {
      "cell_type": "code",
      "execution_count": null,
      "metadata": {
        "id": "22691629"
      },
      "outputs": [],
      "source": [
        "# hyper-param config\n",
        "num_iterations = 10\n",
        "ranks = [20,30]\n",
        "reg_params = [0.001, 0.01]\n",
        "\n",
        "# grid search and select best model\n",
        "start_time = time.time()\n",
        "final_model = train_ALS(train, validation, num_iterations, reg_params, ranks)\n",
        "\n",
        "print ('Total Runtime: {:.2f} seconds'.format(time.time() - start_time))"
      ],
      "id": "22691629"
    },
    {
      "cell_type": "code",
      "execution_count": null,
      "metadata": {
        "id": "490d9665"
      },
      "outputs": [],
      "source": [
        "##Alternative implementation of ALS from blog :\n",
        "#https://towardsdatascience.com/build-recommendation-system-with-pyspark-using-alternating-least-squares-als-matrix-factorisation-ebe1ad2e7679"
      ],
      "id": "490d9665"
    },
    {
      "cell_type": "code",
      "execution_count": null,
      "metadata": {
        "colab": {
          "base_uri": "https://localhost:8080/"
        },
        "id": "gpXjL7zkj70j",
        "outputId": "6eef5383-0b59-46ea-ce2c-b925c4e11da7"
      },
      "outputs": [
        {
          "name": "stdout",
          "output_type": "stream",
          "text": [
            "nvcc: NVIDIA (R) Cuda compiler driver\n",
            "Copyright (c) 2005-2020 NVIDIA Corporation\n",
            "Built on Mon_Oct_12_20:09:46_PDT_2020\n",
            "Cuda compilation tools, release 11.1, V11.1.105\n",
            "Build cuda_11.1.TC455_06.29190527_0\n"
          ]
        }
      ],
      "source": [
        "!nvcc --version"
      ],
      "id": "gpXjL7zkj70j"
    },
    {
      "cell_type": "code",
      "execution_count": null,
      "metadata": {
        "id": "f932975d"
      },
      "outputs": [],
      "source": [
        "import pandas as pd\n",
        "from pyspark.sql.functions import col, explode\n",
        "from pyspark import SparkContext\n",
        "from pyspark.ml.tuning import CrossValidatorModel\n",
        "from pyspark.ml.tuning import TrainValidationSplit"
      ],
      "id": "f932975d"
    },
    {
      "cell_type": "code",
      "execution_count": null,
      "metadata": {
        "id": "f886975b"
      },
      "outputs": [],
      "source": [
        "from pyspark.sql import SparkSession\n",
        "sc = SparkContext\n",
        "# sc.setCheckpointDir('checkpoint')\n",
        "spark = SparkSession.builder.appName('Recommendations').getOrCreate()"
      ],
      "id": "f886975b"
    },
    {
      "cell_type": "code",
      "execution_count": null,
      "metadata": {
        "colab": {
          "base_uri": "https://localhost:8080/"
        },
        "id": "zUPpTK-Dih00",
        "outputId": "ae715cfa-0dd5-42b8-cc10-44513ba56a2a"
      },
      "outputs": [
        {
          "output_type": "stream",
          "name": "stdout",
          "text": [
            "Mounted at /content/drive\n"
          ]
        }
      ],
      "source": [
        "from google.colab import drive\n",
        "drive.mount('/content/drive')"
      ],
      "id": "zUPpTK-Dih00"
    },
    {
      "cell_type": "code",
      "execution_count": null,
      "metadata": {
        "id": "c8eb4d00"
      },
      "outputs": [],
      "source": [
        "books = spark.read.csv(\"/content/drive/MyDrive/Goodreads_dataset/books_preprocess_13_july.csv\",header=True,inferSchema=True)\n",
        "ratings = spark.read.csv(\"/content/drive/MyDrive/Goodreads_dataset/ratings.csv\",header=True,inferSchema=True)"
      ],
      "id": "c8eb4d00"
    },
    {
      "cell_type": "code",
      "source": [
        "train_ratings=spark.read.csv('/content/drive/MyDrive/saved_data/train.csv',inferSchema=True)\n",
        "validation_ratings=spark.read.csv('/content/drive/MyDrive/saved_data/validation.csv',inferSchema=True)\n",
        "test_ratings=spark.read.csv('/content/drive/MyDrive/saved_data/test.csv',inferSchema=True)"
      ],
      "metadata": {
        "id": "c_WaY1INZgLY"
      },
      "id": "c_WaY1INZgLY",
      "execution_count": null,
      "outputs": []
    },
    {
      "cell_type": "code",
      "source": [
        "validation_ratings.head()"
      ],
      "metadata": {
        "colab": {
          "base_uri": "https://localhost:8080/"
        },
        "id": "U-swAgYVfMNk",
        "outputId": "3e378a27-14b3-489b-98dc-8459f94ece3f"
      },
      "id": "U-swAgYVfMNk",
      "execution_count": null,
      "outputs": [
        {
          "output_type": "execute_result",
          "data": {
            "text/plain": [
              "Row(_c0=1, _c1=13, _c2=4.0)"
            ]
          },
          "metadata": {},
          "execution_count": 18
        }
      ]
    },
    {
      "cell_type": "code",
      "source": [
        "##converted the datatype of ratings from double to float \n",
        "validation_ratings=validation_ratings.withColumnRenamed(\"_c0\",\"user_id\").withColumnRenamed(\"_c1\",\"book_id\").withColumnRenamed(\"_c2\",\"rating\")"
      ],
      "metadata": {
        "id": "4rHYykU_fDBA"
      },
      "id": "4rHYykU_fDBA",
      "execution_count": null,
      "outputs": []
    },
    {
      "cell_type": "code",
      "source": [
        "test_ratings.head()"
      ],
      "metadata": {
        "colab": {
          "base_uri": "https://localhost:8080/"
        },
        "id": "0p2mUwdHh7mv",
        "outputId": "b95eaf19-ee6c-4477-d1ba-af221f03a748"
      },
      "id": "0p2mUwdHh7mv",
      "execution_count": null,
      "outputs": [
        {
          "output_type": "execute_result",
          "data": {
            "text/plain": [
              "Row(_c0=1, _c1=35, _c2=5.0)"
            ]
          },
          "metadata": {},
          "execution_count": 26
        }
      ]
    },
    {
      "cell_type": "code",
      "source": [
        "test_ratings=test_ratings.withColumnRenamed(\"_c0\",\"user_id\").withColumnRenamed(\"_c1\",\"book_id\").withColumnRenamed(\"_c2\",\"rating\")"
      ],
      "metadata": {
        "id": "-O6nHebXhZcq"
      },
      "id": "-O6nHebXhZcq",
      "execution_count": null,
      "outputs": []
    },
    {
      "cell_type": "code",
      "source": [
        "test_ratings.head()"
      ],
      "metadata": {
        "colab": {
          "base_uri": "https://localhost:8080/"
        },
        "id": "jN9L1eYrhJrX",
        "outputId": "9f549050-2f36-4b91-d267-c8a4c826414b"
      },
      "id": "jN9L1eYrhJrX",
      "execution_count": null,
      "outputs": [
        {
          "output_type": "execute_result",
          "data": {
            "text/plain": [
              "Row(user_id=1, book_id=35, rating=5.0)"
            ]
          },
          "metadata": {},
          "execution_count": 28
        }
      ]
    },
    {
      "cell_type": "code",
      "source": [
        "##converted the datatype of ratings from double to float \n",
        "validation_ratings = validation_ratings.\\\n",
        "    withColumn('rating', col('rating').cast('float'))"
      ],
      "metadata": {
        "id": "9QQGTPf2dU_N"
      },
      "id": "9QQGTPf2dU_N",
      "execution_count": null,
      "outputs": []
    },
    {
      "cell_type": "code",
      "source": [
        "##converted the datatype of ratings from double to float \n",
        "test_ratings = validation_ratings.\\\n",
        "    withColumn('rating', col('rating').cast('float'))"
      ],
      "metadata": {
        "id": "WccU7tfudnQL"
      },
      "id": "WccU7tfudnQL",
      "execution_count": null,
      "outputs": []
    },
    {
      "cell_type": "code",
      "source": [
        "validation_ratings.show()"
      ],
      "metadata": {
        "colab": {
          "base_uri": "https://localhost:8080/"
        },
        "id": "joQJnsKkj3yX",
        "outputId": "c4627a48-5a9e-40ce-b6a8-fa64c8ba5fdc"
      },
      "id": "joQJnsKkj3yX",
      "execution_count": null,
      "outputs": [
        {
          "output_type": "stream",
          "name": "stdout",
          "text": [
            "+-------+-------+------+\n",
            "|user_id|book_id|rating|\n",
            "+-------+-------+------+\n",
            "|      1|     13|   4.0|\n",
            "|      1|     22|   3.0|\n",
            "|      1|     57|   3.0|\n",
            "|      1|     60|   3.0|\n",
            "|      1|     94|   1.0|\n",
            "|      1|    132|   3.0|\n",
            "|      1|    140|   3.0|\n",
            "|      1|    179|   2.0|\n",
            "|      1|    216|   3.0|\n",
            "|      1|    233|   4.0|\n",
            "|      1|    354|   3.0|\n",
            "|      1|   3406|   2.0|\n",
            "|      2|     33|   4.0|\n",
            "|      2|    264|   3.0|\n",
            "|      3|     28|   2.0|\n",
            "|      3|    101|   1.0|\n",
            "|      3|    118|   3.0|\n",
            "|      3|    501|   1.0|\n",
            "|      3|    531|   2.0|\n",
            "|      3|    782|   2.0|\n",
            "+-------+-------+------+\n",
            "only showing top 20 rows\n",
            "\n"
          ]
        }
      ]
    },
    {
      "cell_type": "code",
      "execution_count": null,
      "metadata": {
        "colab": {
          "base_uri": "https://localhost:8080/"
        },
        "id": "5d44c20b",
        "outputId": "8e839239-2ff7-4882-cc3e-4965695d9ba4"
      },
      "outputs": [
        {
          "output_type": "stream",
          "name": "stdout",
          "text": [
            "+-------+-------+------+\n",
            "|user_id|book_id|rating|\n",
            "+-------+-------+------+\n",
            "|      1|    258|     5|\n",
            "|      2|   4081|     4|\n",
            "|      2|    260|     5|\n",
            "|      2|   9296|     5|\n",
            "|      2|   2318|     3|\n",
            "|      2|     26|     4|\n",
            "|      2|    315|     3|\n",
            "|      2|     33|     4|\n",
            "|      2|    301|     5|\n",
            "|      2|   2686|     5|\n",
            "|      2|   3753|     5|\n",
            "|      2|   8519|     5|\n",
            "|      4|     70|     4|\n",
            "|      4|    264|     3|\n",
            "|      4|    388|     4|\n",
            "|      4|     18|     5|\n",
            "|      4|     27|     5|\n",
            "|      4|     21|     5|\n",
            "|      4|      2|     5|\n",
            "|      4|     23|     5|\n",
            "+-------+-------+------+\n",
            "only showing top 20 rows\n",
            "\n"
          ]
        }
      ],
      "source": [
        "ratings.show()"
      ],
      "id": "5d44c20b"
    },
    {
      "cell_type": "code",
      "execution_count": null,
      "metadata": {
        "colab": {
          "base_uri": "https://localhost:8080/"
        },
        "id": "20395764",
        "outputId": "95924c23-4b74-4784-eace-c5399a27147b"
      },
      "outputs": [
        {
          "name": "stdout",
          "output_type": "stream",
          "text": [
            "root\n",
            " |-- user_id: integer (nullable = true)\n",
            " |-- book_id: integer (nullable = true)\n",
            " |-- rating: integer (nullable = true)\n",
            "\n"
          ]
        }
      ],
      "source": [
        "ratings.printSchema()"
      ],
      "id": "20395764"
    },
    {
      "cell_type": "code",
      "execution_count": null,
      "metadata": {
        "id": "4e71ad71"
      },
      "outputs": [],
      "source": [
        "##converted the datatype of ratings from int to float \n",
        "ratings = ratings.\\\n",
        "    withColumn('rating', col('rating').cast('float'))\n"
      ],
      "id": "4e71ad71"
    },
    {
      "cell_type": "code",
      "execution_count": null,
      "metadata": {
        "colab": {
          "base_uri": "https://localhost:8080/"
        },
        "id": "ad957e11",
        "outputId": "6a3ec331-9947-4cc6-df2a-1daf726b9e82"
      },
      "outputs": [
        {
          "output_type": "stream",
          "name": "stdout",
          "text": [
            "+-------+-------+------+\n",
            "|user_id|book_id|rating|\n",
            "+-------+-------+------+\n",
            "|      1|    258|   5.0|\n",
            "|      2|   4081|   4.0|\n",
            "|      2|    260|   5.0|\n",
            "|      2|   9296|   5.0|\n",
            "|      2|   2318|   3.0|\n",
            "|      2|     26|   4.0|\n",
            "|      2|    315|   3.0|\n",
            "|      2|     33|   4.0|\n",
            "|      2|    301|   5.0|\n",
            "|      2|   2686|   5.0|\n",
            "|      2|   3753|   5.0|\n",
            "|      2|   8519|   5.0|\n",
            "|      4|     70|   4.0|\n",
            "|      4|    264|   3.0|\n",
            "|      4|    388|   4.0|\n",
            "|      4|     18|   5.0|\n",
            "|      4|     27|   5.0|\n",
            "|      4|     21|   5.0|\n",
            "|      4|      2|   5.0|\n",
            "|      4|     23|   5.0|\n",
            "+-------+-------+------+\n",
            "only showing top 20 rows\n",
            "\n"
          ]
        }
      ],
      "source": [
        "ratings.show()"
      ],
      "id": "ad957e11"
    },
    {
      "cell_type": "code",
      "execution_count": null,
      "metadata": {
        "id": "de7c89ae"
      },
      "outputs": [],
      "source": [
        "#@markdown sparsity=1-dense_matrix\n",
        "\n",
        "#@markdown dense_matrix=No of dense elements% Total no of elements\n",
        "\n"
      ],
      "id": "de7c89ae"
    },
    {
      "cell_type": "code",
      "execution_count": null,
      "metadata": {
        "colab": {
          "base_uri": "https://localhost:8080/"
        },
        "id": "0788d2d2",
        "outputId": "ba377aa0-4ce6-4013-b4bb-ea8e01613f57"
      },
      "outputs": [
        {
          "name": "stdout",
          "output_type": "stream",
          "text": [
            "The ratings dataframe is  98.88% empty.\n"
          ]
        }
      ],
      "source": [
        " # Count the total number of ratings in the dataset\n",
        "numerator = ratings.select(\"rating\").count()\n",
        "\n",
        "# Count the number of distinct userIds and distinct bookIds\n",
        "num_users = ratings.select(\"user_id\").distinct().count()\n",
        "num_books = ratings.select(\"book_id\").distinct().count()\n",
        "\n",
        "# Set the denominator equal to the number of users multiplied by the number of books\n",
        "denominator = num_users * num_books\n",
        "\n",
        "# Divide the numerator by the denominator\n",
        "sparsity = (1.0 - (numerator *1.0)/denominator)*100\n",
        "print(\"The ratings dataframe is \", \"%.2f\" % sparsity + \"% empty.\")"
      ],
      "id": "0788d2d2"
    },
    {
      "cell_type": "code",
      "execution_count": null,
      "metadata": {
        "colab": {
          "base_uri": "https://localhost:8080/"
        },
        "id": "599dc5b1",
        "outputId": "6cbca793-7aa8-4595-e7f8-dfb67dd1bb61"
      },
      "outputs": [
        {
          "name": "stdout",
          "output_type": "stream",
          "text": [
            "+-------+-----+\n",
            "|user_id|count|\n",
            "+-------+-----+\n",
            "|  12874|  200|\n",
            "|  30944|  200|\n",
            "|  12381|  199|\n",
            "|  52036|  199|\n",
            "|  28158|  199|\n",
            "|  45554|  197|\n",
            "|   6630|  197|\n",
            "|   7563|  196|\n",
            "|  14372|  196|\n",
            "|  37834|  196|\n",
            "|  19729|  196|\n",
            "|   9806|  196|\n",
            "|  24143|  196|\n",
            "|  15604|  196|\n",
            "|   9668|  196|\n",
            "|   9731|  195|\n",
            "|  25840|  195|\n",
            "|  33065|  195|\n",
            "|  10509|  195|\n",
            "|  38798|  195|\n",
            "+-------+-----+\n",
            "only showing top 20 rows\n",
            "\n"
          ]
        }
      ],
      "source": [
        "# Group data by userId, count ratings\n",
        "userId_ratings = ratings.groupBy(\"user_id\").count().orderBy('count', ascending=False)\n",
        "userId_ratings.show()"
      ],
      "id": "599dc5b1"
    },
    {
      "cell_type": "code",
      "execution_count": null,
      "metadata": {
        "colab": {
          "base_uri": "https://localhost:8080/"
        },
        "id": "Mv-LoivG9E7f",
        "outputId": "fe8ff7b3-da93-4761-95c8-9512196c3409"
      },
      "outputs": [
        {
          "name": "stdout",
          "output_type": "stream",
          "text": [
            "+-------+-----+\n",
            "|user_id|count|\n",
            "+-------+-----+\n",
            "|  34590|   19|\n",
            "|  43675|   20|\n",
            "|  32128|   21|\n",
            "|  40753|   21|\n",
            "|  51725|   21|\n",
            "|  50918|   22|\n",
            "|  34099|   22|\n",
            "|  48077|   22|\n",
            "|  42736|   22|\n",
            "|  43672|   22|\n",
            "|  37640|   22|\n",
            "|  16470|   22|\n",
            "|  38280|   22|\n",
            "|  32960|   22|\n",
            "|  25856|   22|\n",
            "|  40299|   22|\n",
            "|  22020|   22|\n",
            "|  25258|   22|\n",
            "|  13782|   23|\n",
            "|  18327|   23|\n",
            "+-------+-----+\n",
            "only showing top 20 rows\n",
            "\n"
          ]
        }
      ],
      "source": [
        "# Group data by userId, count ratings\n",
        "#This code shows count of books a user rated ,the maximum is 200 and minimum of 19\n",
        "userId_ratings = ratings.groupBy(\"user_id\").count().orderBy('count', ascending=True)\n",
        "userId_ratings.show()"
      ],
      "id": "Mv-LoivG9E7f"
    },
    {
      "cell_type": "code",
      "execution_count": null,
      "metadata": {
        "id": "9tcGZV3k98m_"
      },
      "outputs": [],
      "source": [
        "#Default title text\n",
        "#@markdown This code shows count of books a user rated ,the maximum is 200 and minimum of 19"
      ],
      "id": "9tcGZV3k98m_"
    },
    {
      "cell_type": "code",
      "execution_count": null,
      "metadata": {
        "colab": {
          "base_uri": "https://localhost:8080/"
        },
        "id": "9fa0226f",
        "outputId": "d5118d57-f6d1-4729-c4e6-d3855a90d596"
      },
      "outputs": [
        {
          "name": "stdout",
          "output_type": "stream",
          "text": [
            "+-------+-----+\n",
            "|book_id|count|\n",
            "+-------+-----+\n",
            "|      1|22806|\n",
            "|      2|21850|\n",
            "|      4|19088|\n",
            "|      3|16931|\n",
            "|      5|16604|\n",
            "|     17|16549|\n",
            "|     20|15953|\n",
            "|     18|15855|\n",
            "|     23|15657|\n",
            "|      7|15558|\n",
            "|     24|15523|\n",
            "|     25|15304|\n",
            "|     21|15258|\n",
            "|     27|15081|\n",
            "|     13|14693|\n",
            "|      8|14472|\n",
            "|     16|14382|\n",
            "|     14|14328|\n",
            "|     28|13556|\n",
            "|      9|13451|\n",
            "+-------+-----+\n",
            "only showing top 20 rows\n",
            "\n"
          ]
        }
      ],
      "source": [
        "# Group data by bookId, count ratings\n",
        "book_id_ratings = ratings.groupBy(\"book_id\").count().orderBy('count', ascending=False)\n",
        "book_id_ratings.show()"
      ],
      "id": "9fa0226f"
    },
    {
      "cell_type": "code",
      "execution_count": null,
      "metadata": {
        "colab": {
          "base_uri": "https://localhost:8080/"
        },
        "id": "A0gg2rD49k5l",
        "outputId": "f7fb3f0d-147a-4d9f-879a-346e7b82a0ca"
      },
      "outputs": [
        {
          "name": "stdout",
          "output_type": "stream",
          "text": [
            "+-------+-----+\n",
            "|book_id|count|\n",
            "+-------+-----+\n",
            "|   7803|    8|\n",
            "|   9345|   11|\n",
            "|   9486|   24|\n",
            "|   1935|   33|\n",
            "|   9315|   36|\n",
            "|   9553|   41|\n",
            "|   8181|   45|\n",
            "|   9479|   48|\n",
            "|   9260|   48|\n",
            "|   9705|   50|\n",
            "|   9918|   52|\n",
            "|   9249|   52|\n",
            "|   9904|   53|\n",
            "|   9307|   53|\n",
            "|   9769|   54|\n",
            "|   8368|   54|\n",
            "|   8971|   54|\n",
            "|   8999|   55|\n",
            "|   8601|   57|\n",
            "|   9534|   57|\n",
            "+-------+-----+\n",
            "only showing top 20 rows\n",
            "\n"
          ]
        }
      ],
      "source": [
        "# Group data by bookID, count ratings\n",
        "book_id_ratings = ratings.groupBy(\"book_id\").count().orderBy('count', ascending=True)\n",
        "book_id_ratings.show()"
      ],
      "id": "A0gg2rD49k5l"
    },
    {
      "cell_type": "code",
      "execution_count": null,
      "metadata": {
        "id": "e2348d26"
      },
      "outputs": [],
      "source": [
        "#@markdown This code shows count of users rated for a book,the maximum is 22806 and minimum of 8"
      ],
      "id": "e2348d26"
    },
    {
      "cell_type": "code",
      "execution_count": null,
      "metadata": {
        "id": "-_fPMrTtuJ_7"
      },
      "outputs": [],
      "source": [],
      "id": "-_fPMrTtuJ_7"
    },
    {
      "cell_type": "code",
      "execution_count": null,
      "metadata": {
        "id": "e656895c"
      },
      "outputs": [],
      "source": [
        "# Import the required functions\n",
        "from pyspark.ml.evaluation import RegressionEvaluator\n",
        "from pyspark.ml.recommendation import ALS\n",
        "from pyspark.ml.tuning import ParamGridBuilder, CrossValidator"
      ],
      "id": "e656895c"
    },
    {
      "cell_type": "code",
      "execution_count": null,
      "metadata": {
        "id": "1JVATYzCvcB-"
      },
      "outputs": [],
      "source": [
        "# Create test and train set\n",
        "(train, validation, test) = ratings.randomSplit([0.6, 0.2, 0.2], seed = 1234)"
      ],
      "id": "1JVATYzCvcB-"
    },
    {
      "cell_type": "code",
      "execution_count": null,
      "metadata": {
        "id": "7LGUej5evcnN"
      },
      "outputs": [],
      "source": [
        "# Create test and train set\n",
        "(train_otherset, validation_otherset, test_otherset) = ratings.randomSplit([0.8, 0.1, 0.1], seed = 234)"
      ],
      "id": "7LGUej5evcnN"
    },
    {
      "cell_type": "code",
      "source": [
        "train_otherset.write.csv('/content/drive/MyDrive/saved_data/train.csv')"
      ],
      "metadata": {
        "id": "c7lqdSs03eiy"
      },
      "id": "c7lqdSs03eiy",
      "execution_count": null,
      "outputs": []
    },
    {
      "cell_type": "code",
      "source": [
        "validation_otherset.write.csv('/content/drive/MyDrive/saved_data/validation.csv')"
      ],
      "metadata": {
        "id": "M-0hapon4VGg"
      },
      "id": "M-0hapon4VGg",
      "execution_count": null,
      "outputs": []
    },
    {
      "cell_type": "code",
      "source": [
        "test_otherset.write.csv('/content/drive/MyDrive/saved_data/test.csv')"
      ],
      "metadata": {
        "id": "lPtNyR2k4nEK"
      },
      "id": "lPtNyR2k4nEK",
      "execution_count": null,
      "outputs": []
    },
    {
      "cell_type": "code",
      "execution_count": null,
      "metadata": {
        "colab": {
          "base_uri": "https://localhost:8080/"
        },
        "id": "6e247ddd",
        "outputId": "62c236ee-dd42-4ddb-b698-7dd62f1833a0"
      },
      "outputs": [
        {
          "output_type": "execute_result",
          "data": {
            "text/plain": [
              "pyspark.ml.recommendation.ALS"
            ]
          },
          "metadata": {},
          "execution_count": 33
        }
      ],
      "source": [
        "\n",
        "\n",
        "# Create ALS model\n",
        "als = ALS(userCol=\"user_id\", itemCol=\"book_id\", ratingCol=\"rating\", nonnegative = True, implicitPrefs = False, coldStartStrategy=\"drop\")\n",
        "\n",
        "# Confirm that a model called \"als\" was created\n",
        "type(als)"
      ],
      "id": "6e247ddd"
    },
    {
      "cell_type": "code",
      "execution_count": null,
      "metadata": {
        "id": "eOKGQUKFwG8y"
      },
      "outputs": [],
      "source": [
        "rank_params=[60,50,40]\n",
        "reg_params=[0.01,0.1]"
      ],
      "id": "eOKGQUKFwG8y"
    },
    {
      "cell_type": "code",
      "execution_count": null,
      "metadata": {
        "colab": {
          "base_uri": "https://localhost:8080/"
        },
        "id": "ced497c7",
        "outputId": "a4a1d926-4b87-4e53-e44e-b0a4120d93bf"
      },
      "outputs": [
        {
          "output_type": "stream",
          "name": "stdout",
          "text": [
            "Num models to be tested:  1\n"
          ]
        }
      ],
      "source": [
        "# Import the requisite items\n",
        "from pyspark.ml.evaluation import RegressionEvaluator,RankingEvaluator\n",
        "from pyspark.ml.tuning import ParamGridBuilder, CrossValidator\n",
        "\n",
        "\n",
        "# Add hyperparameters and their respective values to param_grid\n",
        "param_grid = ParamGridBuilder() \\\n",
        "            .addGrid(als.rank,[rank_params[1]]) \\\n",
        "            .addGrid(als.regParam,[reg_params[1]]) \\\n",
        "            .build()\n",
        "            #             .addGrid(als.maxIter, [5, 50, 100, 200]) \\\n",
        "\n",
        "           \n",
        "# Define evaluator as RMSE and print length of evaluator\n",
        "evaluator = RegressionEvaluator(metricName=\"rmse\", labelCol=\"rating\", predictionCol=\"prediction\") \n",
        "print (\"Num models to be tested: \", len(param_grid))"
      ],
      "id": "ced497c7"
    },
    {
      "cell_type": "code",
      "execution_count": null,
      "metadata": {
        "id": "0PDjpStsfX5x"
      },
      "outputs": [],
      "source": [
        "# Import the requisite items\n",
        "from pyspark.ml.evaluation import RegressionEvaluator,RankingEvaluator\n",
        "from pyspark.ml.tuning import ParamGridBuilder, CrossValidator\n",
        "\n",
        "# Add hyperparameters and their respective values to param_grid\n",
        "param_grid = ParamGridBuilder() \\\n",
        "            .addGrid(als.rank,[rank_params[1]]) \\\n",
        "            .addGrid(als.regParam,[reg_params[0]]) \\\n",
        "            .build()\n",
        "            #             .addGrid(als.maxIter, [5, 50, 100, 200]) \\"
      ],
      "id": "0PDjpStsfX5x"
    },
    {
      "cell_type": "code",
      "execution_count": null,
      "metadata": {
        "id": "YDqWhHdQIpIX"
      },
      "outputs": [],
      "source": [
        " #Define evaluator as RMSE and print length of evaluator\n",
        "evaluator = RegressionEvaluator(metricName=\"rmse\", labelCol=\"rating\", predictionCol=\"prediction\") \n",
        "print (\"Num models to be tested: \", len(param_grid))"
      ],
      "id": "YDqWhHdQIpIX"
    },
    {
      "cell_type": "code",
      "execution_count": null,
      "metadata": {
        "colab": {
          "base_uri": "https://localhost:8080/"
        },
        "id": "zPAhU7KvxLiY",
        "outputId": "e9baa5e2-7216-4a62-b1ec-6bc98c2b3021"
      },
      "outputs": [
        {
          "name": "stdout",
          "output_type": "stream",
          "text": [
            "Num models to be tested:  1\n"
          ]
        }
      ],
      "source": [
        "# Define evaluator as NDCG and print length of evaluator\n",
        "evaluator = RankingEvaluator(metricName=\"ndcgAtK\", labelCol=\"rating\", predictionCol=\"prediction\") \n",
        "print (\"Num models to be tested: \", len(param_grid))"
      ],
      "id": "zPAhU7KvxLiY"
    },
    {
      "cell_type": "code",
      "execution_count": null,
      "metadata": {
        "colab": {
          "base_uri": "https://localhost:8080/"
        },
        "id": "O1XhgQU-y-cR",
        "outputId": "156b3f22-99b9-4394-c8ec-52086724fc73"
      },
      "outputs": [
        {
          "data": {
            "text/plain": [
              "RegressionEvaluator_26456adc8203"
            ]
          },
          "execution_count": 46,
          "metadata": {},
          "output_type": "execute_result"
        }
      ],
      "source": [
        "evaluator"
      ],
      "id": "O1XhgQU-y-cR"
    },
    {
      "cell_type": "code",
      "execution_count": null,
      "metadata": {
        "colab": {
          "base_uri": "https://localhost:8080/"
        },
        "id": "X72wQqybNtCj",
        "outputId": "792690fa-176e-4173-b040-4ceb867c4f6b"
      },
      "outputs": [
        {
          "name": "stdout",
          "output_type": "stream",
          "text": [
            "Num models to be tested:  1\n"
          ]
        }
      ],
      "source": [
        "# Import the requisite items\n",
        "from pyspark.ml.evaluation import RegressionEvaluator\n",
        "from pyspark.ml.tuning import ParamGridBuilder, CrossValidator\n",
        "\n",
        "# Add hyperparameters and their respective values to param_grid\n",
        "param_grid = ParamGridBuilder() \\\n",
        "            .addGrid(als.rank, [rank_params[2]]) \\\n",
        "            .addGrid(als.regParam,[reg_params[1]]) \\\n",
        "            .build()\n",
        "            #             .addGrid(als.maxIter, [5, 50, 100, 200]) \\\n",
        "\n",
        "           \n",
        "# Define evaluator as RMSE and print length of evaluator\n",
        "evaluator = RegressionEvaluator(metricName=\"rmse\", labelCol=\"rating\", predictionCol=\"prediction\") \n",
        "print (\"Num models to be tested: \", len(param_grid))"
      ],
      "id": "X72wQqybNtCj"
    },
    {
      "cell_type": "code",
      "execution_count": null,
      "metadata": {
        "colab": {
          "base_uri": "https://localhost:8080/"
        },
        "id": "5c5xR65W5pqD",
        "outputId": "913c25c0-112a-47cc-d7a3-d3f67d9dac23"
      },
      "outputs": [
        {
          "name": "stdout",
          "output_type": "stream",
          "text": [
            "Num models to be tested:  1\n"
          ]
        }
      ],
      "source": [
        "# Import the requisite items\n",
        "from pyspark.ml.evaluation import RegressionEvaluator\n",
        "from pyspark.ml.tuning import ParamGridBuilder, CrossValidator\n",
        "\n",
        "# Add hyperparameters and their respective values to param_grid\n",
        "param_grid = ParamGridBuilder() \\\n",
        "            .addGrid(als.rank, [20]) \\\n",
        "            .addGrid(als.regParam, [.1]) \\\n",
        "            .build()\n",
        "            #             .addGrid(als.maxIter, [5, 50, 100, 200]) \\\n",
        "\n",
        "           \n",
        "# Define evaluator as RMSE and print length of evaluator\n",
        "evaluator = RegressionEvaluator(metricName=\"rmse\", labelCol=\"rating\", predictionCol=\"prediction\") \n",
        "print (\"Num models to be tested: \", len(param_grid))"
      ],
      "id": "5c5xR65W5pqD"
    },
    {
      "cell_type": "code",
      "execution_count": null,
      "metadata": {
        "colab": {
          "base_uri": "https://localhost:8080/"
        },
        "id": "cApNocgKwydm",
        "outputId": "65b92baf-8c63-40d2-fc63-1a345d02c61a"
      },
      "outputs": [
        {
          "name": "stdout",
          "output_type": "stream",
          "text": [
            "Num models to be tested:  1\n"
          ]
        }
      ],
      "source": [
        "# Import the requisite items\n",
        "from pyspark.ml.evaluation import RegressionEvaluator\n",
        "from pyspark.ml.tuning import ParamGridBuilder, CrossValidator\n",
        "\n",
        "# Add hyperparameters and their respective values to param_grid\n",
        "param_grid = ParamGridBuilder() \\\n",
        "            .addGrid(als.rank, [rank_params[2]]) \\\n",
        "            .addGrid(als.regParam,[reg_params[0]]) \\\n",
        "            .build()\n",
        "            #             .addGrid(als.maxIter, [5, 50, 100, 200]) \\\n",
        "\n",
        "           \n",
        "# Define evaluator as RMSE and print length of evaluator\n",
        "evaluator = RegressionEvaluator(metricName=\"rmse\", labelCol=\"rating\", predictionCol=\"prediction\") \n",
        "print (\"Num models to be tested: \", len(param_grid))"
      ],
      "id": "cApNocgKwydm"
    },
    {
      "cell_type": "code",
      "execution_count": null,
      "metadata": {
        "colab": {
          "base_uri": "https://localhost:8080/"
        },
        "id": "d1cf2966",
        "outputId": "56ab7162-e9ee-43d6-c490-42b6d6919e5f"
      },
      "outputs": [
        {
          "output_type": "stream",
          "name": "stdout",
          "text": [
            "CrossValidator_deea7f38fc5a\n"
          ]
        }
      ],
      "source": [
        "# Build cross validation using CrossValidator\n",
        "cv = CrossValidator(estimator=als, estimatorParamMaps=param_grid, evaluator=evaluator, numFolds=5)\n",
        "\n",
        "# Confirm cv was built\n",
        "print(cv)"
      ],
      "id": "d1cf2966"
    },
    {
      "cell_type": "code",
      "execution_count": null,
      "metadata": {
        "id": "5hQlLJ4CmxrY"
      },
      "outputs": [],
      "source": [
        "temp_path='/content/drive/MyDrive/models'"
      ],
      "id": "5hQlLJ4CmxrY"
    },
    {
      "cell_type": "code",
      "execution_count": null,
      "metadata": {
        "colab": {
          "background_save": true
        },
        "id": "e77ef7f9"
      },
      "outputs": [],
      "source": [
        "#Fit cross   validator to the 'train' dataset\n",
        "model = cv.fit(train_otherset)\n",
        "\n",
        "#Extract best model from the cv model above\n",
        "best_model = model.bestModel\n",
        "model_path = temp_path + \"/als_model_2\"\n",
        "best_model.save(model_path)"
      ],
      "id": "e77ef7f9"
    },
    {
      "cell_type": "code",
      "source": [
        "from pyspark.ml.recommendation import ALSModel\n",
        "\n",
        "model_50 = ALSModel.load(\"/content/drive/MyDrive/models/als_model\")"
      ],
      "metadata": {
        "id": "KxEBs6Ej0O8E"
      },
      "id": "KxEBs6Ej0O8E",
      "execution_count": null,
      "outputs": []
    },
    {
      "cell_type": "code",
      "source": [
        "from pyspark.ml.recommendation import ALSModel\n",
        "\n",
        "model_60_01 = ALSModel.load(\"/content/drive/MyDrive/models/als_model_2\")"
      ],
      "metadata": {
        "id": "IjxF9ppYaXXu"
      },
      "id": "IjxF9ppYaXXu",
      "execution_count": null,
      "outputs": []
    },
    {
      "cell_type": "code",
      "source": [
        "from pyspark.ml.recommendation import ALSModel\n",
        "\n",
        "model_60_001 = ALSModel.load(\"/content/drive/MyDrive/models/als_model_3\")"
      ],
      "metadata": {
        "id": "tLOgEuUOaYyG"
      },
      "id": "tLOgEuUOaYyG",
      "execution_count": null,
      "outputs": []
    },
    {
      "cell_type": "code",
      "source": [
        "from pyspark.ml.recommendation import ALSModel\n",
        "\n",
        "model_40_01 = ALSModel.load(\"/content/drive/MyDrive/models/als_model_4\")"
      ],
      "metadata": {
        "id": "m6-uE1zmaaY_"
      },
      "id": "m6-uE1zmaaY_",
      "execution_count": null,
      "outputs": []
    },
    {
      "cell_type": "code",
      "source": [
        "RMSE_validations=[]\n",
        "RMSE_test=[]\n"
      ],
      "metadata": {
        "id": "E9x5DdxubBUd"
      },
      "id": "E9x5DdxubBUd",
      "execution_count": null,
      "outputs": []
    },
    {
      "cell_type": "code",
      "source": [
        "validation_ratings.printSchema()"
      ],
      "metadata": {
        "colab": {
          "base_uri": "https://localhost:8080/"
        },
        "id": "lX4HjVlJbfhM",
        "outputId": "a4efcb2b-f6b8-4a7a-f6f1-e8d217b55eb9"
      },
      "id": "lX4HjVlJbfhM",
      "execution_count": null,
      "outputs": [
        {
          "output_type": "stream",
          "name": "stdout",
          "text": [
            "root\n",
            " |-- _c0: integer (nullable = true)\n",
            " |-- _c1: integer (nullable = true)\n",
            " |-- _c2: double (nullable = true)\n",
            "\n"
          ]
        }
      ]
    },
    {
      "cell_type": "code",
      "source": [
        "model_50.getParam"
      ],
      "metadata": {
        "colab": {
          "base_uri": "https://localhost:8080/"
        },
        "id": "EIn_tq6DjpTC",
        "outputId": "233d7958-12c3-41b0-a18d-bd61ae07df98"
      },
      "id": "EIn_tq6DjpTC",
      "execution_count": null,
      "outputs": [
        {
          "output_type": "execute_result",
          "data": {
            "text/plain": [
              "<bound method Params.getParam of ALSModel: uid=ALS_f96928850a7f, rank=50>"
            ]
          },
          "metadata": {},
          "execution_count": 44
        }
      ]
    },
    {
      "cell_type": "code",
      "source": [
        "##Predictions for rank=50\n",
        "validate_predictions = model_50.transform(validation_ratings)\n",
        "RMSE_validations.append(evaluator.evaluate(validate_predictions))\n",
        "test_pred = model_50.transform(test_ratings)\n",
        "RMSE_test.append(evaluator.evaluate(test_pred))"
      ],
      "metadata": {
        "id": "oHqMBGMia6LI"
      },
      "id": "oHqMBGMia6LI",
      "execution_count": null,
      "outputs": []
    },
    {
      "cell_type": "code",
      "source": [
        "##Predictions for rank=60, reg=0.1\n",
        "validate_predictions = model_60_01.transform(validation_ratings)\n",
        "RMSE_validations.append(evaluator.evaluate(validate_predictions))\n",
        "test_pred = model_60_01.transform(test_ratings)\n",
        "RMSE_test.append(evaluator.evaluate(test_pred))"
      ],
      "metadata": {
        "id": "Mb4nbuGnjghG"
      },
      "id": "Mb4nbuGnjghG",
      "execution_count": null,
      "outputs": []
    },
    {
      "cell_type": "code",
      "source": [
        "##Predictions for rank=60, reg=0.01\n",
        "validate_predictions = model_60_001.transform(validation_ratings)\n",
        "RMSE_validations.append(evaluator.evaluate(validate_predictions))\n",
        "test_pred = model_60_001.transform(test_ratings)\n",
        "RMSE_test.append(evaluator.evaluate(test_pred))"
      ],
      "metadata": {
        "id": "0I21CQe-kghx"
      },
      "id": "0I21CQe-kghx",
      "execution_count": null,
      "outputs": []
    },
    {
      "cell_type": "code",
      "source": [
        "##Predictions for rank=40, reg=0.1\n",
        "validate_predictions = model_40_01.transform(validation_ratings)\n",
        "RMSE_validations.append(evaluator.evaluate(validate_predictions))\n",
        "test_pred = model_40_01.transform(test_ratings)\n",
        "RMSE_test.append(evaluator.evaluate(test_pred))"
      ],
      "metadata": {
        "id": "v_2w6nH5lkGf"
      },
      "id": "v_2w6nH5lkGf",
      "execution_count": null,
      "outputs": []
    },
    {
      "cell_type": "code",
      "source": [
        "RMSE_validations"
      ],
      "metadata": {
        "colab": {
          "base_uri": "https://localhost:8080/"
        },
        "id": "1lQu9BG7jVMd",
        "outputId": "8aa81b51-d56d-4ffa-9647-28cf029a1cca"
      },
      "id": "1lQu9BG7jVMd",
      "execution_count": null,
      "outputs": [
        {
          "output_type": "execute_result",
          "data": {
            "text/plain": [
              "[0.9216080380803043,\n",
              " 0.8212674431928401,\n",
              " 0.9294209713259305,\n",
              " 0.8230285104522589]"
            ]
          },
          "metadata": {},
          "execution_count": 56
        }
      ]
    },
    {
      "cell_type": "code",
      "source": [
        "RMSE_test"
      ],
      "metadata": {
        "colab": {
          "base_uri": "https://localhost:8080/"
        },
        "id": "dQbqLoo9jYOO",
        "outputId": "9c15a86e-e3d6-4dea-908f-8ff44a01870e"
      },
      "id": "dQbqLoo9jYOO",
      "execution_count": null,
      "outputs": [
        {
          "output_type": "execute_result",
          "data": {
            "text/plain": [
              "[0.9216080380803043,\n",
              " 0.8212674431928401,\n",
              " 0.9294209713259305,\n",
              " 0.8230285104522589]"
            ]
          },
          "metadata": {},
          "execution_count": 57
        }
      ]
    },
    {
      "cell_type": "code",
      "source": [
        "model_names=['model-50-0.01','model-60-0.1','model-60-0.01','model-40-0.1']"
      ],
      "metadata": {
        "id": "jLKTmfLYmKw8"
      },
      "id": "jLKTmfLYmKw8",
      "execution_count": null,
      "outputs": []
    },
    {
      "cell_type": "code",
      "source": [],
      "metadata": {
        "id": "GLbld59vpEX7"
      },
      "id": "GLbld59vpEX7",
      "execution_count": null,
      "outputs": []
    },
    {
      "cell_type": "code",
      "source": [
        "from matplotlib.pyplot import xlim\n",
        "import matplotlib.pyplot as plt\n",
        "import numpy as np\n",
        "x_pos = np.arange(len(model_names))\n",
        "plt.bar(model_names,RMSE_validations,color=['purple', 'red', 'green', 'blue', 'cyan'])\n",
        "plt.xticks(x_pos,model_names)\n",
        "plt.title('ALgorithms with different ranks and regularisation params')\n",
        "plt.ylabel('RMSE')\n",
        "plt.show()\n",
        "#plt.xlabel('Model names  with format (name-no of latent factors-regularisation_params)')"
      ],
      "metadata": {
        "colab": {
          "base_uri": "https://localhost:8080/",
          "height": 281
        },
        "id": "he7zckx4mIBf",
        "outputId": "9e267db7-f058-4fff-8ba8-37d099991668"
      },
      "id": "he7zckx4mIBf",
      "execution_count": null,
      "outputs": [
        {
          "output_type": "display_data",
          "data": {
            "text/plain": [
              "<Figure size 432x288 with 1 Axes>"
            ],
            "image/png": "[encoded data removed]"
          },
          "metadata": {
            "needs_background": "light"
          }
        }
      ]
    },
    {
      "cell_type": "code",
      "execution_count": null,
      "metadata": {
        "colab": {
          "base_uri": "https://localhost:8080/"
        },
        "id": "CtKpAwb5WyOQ",
        "outputId": "23cf2708-2615-4c8b-a5bb-006257bc7bc5"
      },
      "outputs": [
        {
          "name": "stdout",
          "output_type": "stream",
          "text": [
            "0.8373167150705427\n"
          ]
        }
      ],
      "source": [
        "# View the predictions\n",
        "#rank=10 reg_param=0.01\n",
        "test_predictions = best_model.transform(test)\n",
        "RMSE = evaluator.evaluate(test_predictions)\n",
        "print(RMSE)"
      ],
      "id": "CtKpAwb5WyOQ"
    },
    {
      "cell_type": "code",
      "execution_count": null,
      "metadata": {
        "colab": {
          "base_uri": "https://localhost:8080/"
        },
        "id": "Stq1Y6oq5nFO",
        "outputId": "d44b8017-bd37-44f0-cae8-ab59a65d12f2"
      },
      "outputs": [
        {
          "name": "stdout",
          "output_type": "stream",
          "text": [
            "0.8213626072249998\n"
          ]
        }
      ],
      "source": [
        "# View the predictions\n",
        "#rank=50 reg_param=0.1\n",
        "test_predictions = best_model.transform(test)\n",
        "RMSE = evaluator.evaluate(test_predictions)\n",
        "print(RMSE)"
      ],
      "id": "Stq1Y6oq5nFO"
    },
    {
      "cell_type": "code",
      "execution_count": null,
      "metadata": {
        "colab": {
          "base_uri": "https://localhost:8080/"
        },
        "id": "CgGDWq5bywOh",
        "outputId": "7fabdde1-95cf-40a1-c548-65656e157e5b"
      },
      "outputs": [
        {
          "name": "stdout",
          "output_type": "stream",
          "text": [
            "0.8453870771802666\n"
          ]
        }
      ],
      "source": [
        "#rank=20 reg_param=0.05\n",
        "test_predictions = best_model.transform(test)\n",
        "RMSE = evaluator.evaluate(test_predictions)\n",
        "print(RMSE)"
      ],
      "id": "CgGDWq5bywOh"
    },
    {
      "cell_type": "code",
      "execution_count": null,
      "metadata": {
        "colab": {
          "base_uri": "https://localhost:8080/"
        },
        "id": "ceSd5hHf13W2",
        "outputId": "f7ad8e8d-b038-44b6-95c9-183722b91021"
      },
      "outputs": [
        {
          "name": "stdout",
          "output_type": "stream",
          "text": [
            "0.8463621177858696\n"
          ]
        }
      ],
      "source": [
        "#rank=20 reg_param=0.05\n",
        "test_predictions = best_model.transform(validation)\n",
        "RMSE = evaluator.evaluate(test_predictions)\n",
        "print(RMSE)"
      ],
      "id": "ceSd5hHf13W2"
    },
    {
      "cell_type": "code",
      "execution_count": null,
      "metadata": {
        "colab": {
          "base_uri": "https://localhost:8080/"
        },
        "id": "cXjLbrEDAFtG",
        "outputId": "7e8640b7-bfe7-47ae-f9b2-43c59e11d6da"
      },
      "outputs": [
        {
          "name": "stdout",
          "output_type": "stream",
          "text": [
            "0.8341117748662664\n"
          ]
        }
      ],
      "source": [
        "#rank=20 reg_param=0.1\n",
        "test_predictions = best_model.transform(test)\n",
        "RMSE = evaluator.evaluate(test_predictions)\n",
        "print(RMSE)"
      ],
      "id": "cXjLbrEDAFtG"
    },
    {
      "cell_type": "code",
      "execution_count": null,
      "metadata": {
        "id": "ECdaJE7DTv6n"
      },
      "outputs": [],
      "source": [],
      "id": "ECdaJE7DTv6n"
    },
    {
      "cell_type": "code",
      "execution_count": null,
      "metadata": {
        "colab": {
          "base_uri": "https://localhost:8080/"
        },
        "id": "jWcCjRp3Lhtl",
        "outputId": "118e657c-01d9-4ffc-8436-93948b471947"
      },
      "outputs": [
        {
          "name": "stdout",
          "output_type": "stream",
          "text": [
            "0.8352477886052904\n"
          ]
        }
      ],
      "source": [
        "#rank=20 reg_param=0.1\n",
        "test_predictions = best_model.transform(validation)\n",
        "RMSE = evaluator.evaluate(test_predictions)\n",
        "print(RMSE)"
      ],
      "id": "jWcCjRp3Lhtl"
    },
    {
      "cell_type": "code",
      "source": [
        "from pyspark.ml.recommendation import ALSModel\n",
        "\n",
        "model = ALSModel.load(\"/content/drive/MyDrive/models/als_model\")"
      ],
      "metadata": {
        "id": "ySry8Utr0RV-"
      },
      "id": "ySry8Utr0RV-",
      "execution_count": null,
      "outputs": []
    },
    {
      "cell_type": "code",
      "source": [
        "model.getParam"
      ],
      "metadata": {
        "colab": {
          "base_uri": "https://localhost:8080/"
        },
        "id": "aagYRYQu0xav",
        "outputId": "7d44fb5b-865c-4010-bcb9-105fa8f9b741"
      },
      "id": "aagYRYQu0xav",
      "execution_count": null,
      "outputs": [
        {
          "output_type": "execute_result",
          "data": {
            "text/plain": [
              "<bound method Params.getParam of ALSModel: uid=ALS_f96928850a7f, rank=50>"
            ]
          },
          "metadata": {},
          "execution_count": 38
        }
      ]
    },
    {
      "cell_type": "code",
      "source": [
        "RMSE_validations"
      ],
      "metadata": {
        "colab": {
          "base_uri": "https://localhost:8080/"
        },
        "id": "ENa0YmrI28TT",
        "outputId": "e90aaaf4-435f-428c-a7a9-441a2ee2214b"
      },
      "id": "ENa0YmrI28TT",
      "execution_count": null,
      "outputs": [
        {
          "output_type": "execute_result",
          "data": {
            "text/plain": [
              "[0.8212674431928401, 0.9294209713259193]"
            ]
          },
          "metadata": {},
          "execution_count": 42
        }
      ]
    },
    {
      "cell_type": "code",
      "execution_count": null,
      "metadata": {
        "id": "SJtUiYv5Tk_D"
      },
      "outputs": [],
      "source": [
        "##Predictions for rank=50 reg_param=0.01\n",
        "validate_predictions = model.transform(validation)\n",
        "RMSE_validations.append(evaluator.evaluate(validate_predictions))\n"
      ],
      "id": "SJtUiYv5Tk_D"
    },
    {
      "cell_type": "code",
      "source": [
        "##Predictions for rank=50\n",
        "test_pred = model.transform(test)\n",
        "RMSE_test.append(evaluator.evaluate(test_pred))"
      ],
      "metadata": {
        "id": "7KH50slG4BDA"
      },
      "id": "7KH50slG4BDA",
      "execution_count": null,
      "outputs": []
    },
    {
      "cell_type": "code",
      "source": [
        "print(RMSE_validations)"
      ],
      "metadata": {
        "colab": {
          "base_uri": "https://localhost:8080/"
        },
        "id": "VCFKPWlA3Try",
        "outputId": "27076e9a-f412-4c03-ac7e-9cefd5c68e88"
      },
      "id": "VCFKPWlA3Try",
      "execution_count": null,
      "outputs": [
        {
          "output_type": "stream",
          "name": "stdout",
          "text": [
            "[0.8212674431928401, 0.9294209713259193, 0.6004729384360469]\n"
          ]
        }
      ]
    },
    {
      "cell_type": "code",
      "execution_count": null,
      "metadata": {
        "id": "fdidgOqyYVhS"
      },
      "outputs": [],
      "source": [
        "##Predictions for rank=50 reg_param=0.01\n",
        "test_predictions = best_model.transform(test)\n",
        "RMSE = evaluator.evaluate(validate_predictions)\n",
        "print(RMSE)"
      ],
      "id": "fdidgOqyYVhS"
    },
    {
      "cell_type": "code",
      "execution_count": null,
      "metadata": {
        "id": "62-HbjmIpxMy"
      },
      "outputs": [],
      "source": [
        "RMSE_validations=[]"
      ],
      "id": "62-HbjmIpxMy"
    },
    {
      "cell_type": "code",
      "execution_count": null,
      "metadata": {
        "id": "ld5mKgT9c3MK"
      },
      "outputs": [],
      "source": [
        "from pyspark.ml.recommendation import ALSModel\n",
        "\n",
        "model = ALSModel.load(\"/content/drive/MyDrive/models/als_model_2\")\n",
        "\n"
      ],
      "id": "ld5mKgT9c3MK"
    },
    {
      "cell_type": "code",
      "execution_count": null,
      "metadata": {
        "colab": {
          "base_uri": "https://localhost:8080/"
        },
        "id": "qmIPZgFuq4Tf",
        "outputId": "2af7d7c8-b55b-439d-dbc6-8e72bc334f79"
      },
      "outputs": [
        {
          "name": "stdout",
          "output_type": "stream",
          "text": [
            "0.8212674431928401\n"
          ]
        }
      ],
      "source": [
        "#Score the model using validation data\n",
        "##Predictions for rank=60 reg_param=0.1\n",
        "validate_predictions = model.transform(validation_otherset)\n",
        "#validate_predictions = best_model.transform(validation)\n",
        "RMSE_validations.append(evaluator.evaluate(validate_predictions))\n",
        "print(RMSE_validations[0])"
      ],
      "id": "qmIPZgFuq4Tf"
    },
    {
      "cell_type": "code",
      "execution_count": null,
      "metadata": {
        "id": "gvO3jSlErNEN"
      },
      "outputs": [],
      "source": [
        "RMSE_test=[]"
      ],
      "id": "gvO3jSlErNEN"
    },
    {
      "cell_type": "code",
      "execution_count": null,
      "metadata": {
        "colab": {
          "background_save": true
        },
        "id": "Zs2mlrGYmvt_",
        "outputId": "0f88c0ea-8b70-44c0-eea2-ba9f2eb4a261"
      },
      "outputs": [
        {
          "name": "stdout",
          "output_type": "stream",
          "text": [
            "0.8212124820909017\n"
          ]
        }
      ],
      "source": [
        "test_predictions = model.transform(test_otherset)\n",
        "RMSE_test.append(evaluator.evaluate(test_predictions))\n",
        "print(RMSE_test[0])"
      ],
      "id": "Zs2mlrGYmvt_"
    },
    {
      "cell_type": "code",
      "execution_count": null,
      "metadata": {
        "id": "RnwdNnmsDfbL"
      },
      "outputs": [],
      "source": [
        "#Fit cross   validator to the 'train' dataset\n",
        "model = cv.fit(train_otherset)\n",
        "\n",
        "#Extract best model from the cv model above\n",
        "best_model = model.bestModel\n",
        "model_path = temp_path + \"/als_model_3\"\n",
        "best_model.save(model_path)"
      ],
      "id": "RnwdNnmsDfbL"
    },
    {
      "cell_type": "code",
      "execution_count": null,
      "metadata": {
        "colab": {
          "base_uri": "https://localhost:8080/"
        },
        "id": "HgMLNpzXwT9j",
        "outputId": "4adf0b9a-89aa-4ffd-ebee-f2b408c5a7d6"
      },
      "outputs": [
        {
          "output_type": "stream",
          "name": "stdout",
          "text": [
            "0.9294209713259193\n"
          ]
        }
      ],
      "source": [
        "#Score the model using validation data\n",
        "#rank=60,reg=0.01\n",
        "validate_predictions = best_model.transform(validation_otherset)\n",
        "#validate_predictions = best_model.transform(validation)\n",
        "RMSE_validations.append(evaluator.evaluate(validate_predictions))\n",
        "print(RMSE_validations[1])"
      ],
      "id": "HgMLNpzXwT9j"
    },
    {
      "cell_type": "code",
      "source": [
        "print(RMSE_validations)"
      ],
      "metadata": {
        "colab": {
          "base_uri": "https://localhost:8080/"
        },
        "id": "8B5LksrTxl2w",
        "outputId": "e3386cad-b57a-4223-e5fe-5ee767ab4048"
      },
      "id": "8B5LksrTxl2w",
      "execution_count": null,
      "outputs": [
        {
          "output_type": "stream",
          "name": "stdout",
          "text": [
            "[0.8212674431928401, 0.9294209713259193, 0.6004729384360469]\n"
          ]
        }
      ]
    },
    {
      "cell_type": "code",
      "source": [
        "#rank=60,reg=0.01\n",
        "test_predictions = best_model.transform(test_otherset)\n",
        "RMSE_test.append(evaluator.evaluate(test_predictions))\n",
        "print(RMSE_test[1])"
      ],
      "metadata": {
        "colab": {
          "base_uri": "https://localhost:8080/"
        },
        "id": "KkoCP8RHxtDL",
        "outputId": "cb925c8b-0a91-4534-c653-1648a49ab69e"
      },
      "id": "KkoCP8RHxtDL",
      "execution_count": null,
      "outputs": [
        {
          "output_type": "stream",
          "name": "stdout",
          "text": [
            "0.8212124820909017\n"
          ]
        }
      ]
    },
    {
      "cell_type": "code",
      "source": [
        "print(RMSE_test)"
      ],
      "metadata": {
        "colab": {
          "base_uri": "https://localhost:8080/"
        },
        "id": "K-9_CtPhzPK1",
        "outputId": "83cb33ac-6b89-4b6f-e18b-5f1c0608802a"
      },
      "id": "K-9_CtPhzPK1",
      "execution_count": null,
      "outputs": [
        {
          "output_type": "stream",
          "name": "stdout",
          "text": [
            "[0.8212124820909017, 0.9301648899387973, 0.6006150106529102]\n"
          ]
        }
      ]
    },
    {
      "cell_type": "code",
      "source": [
        "#Fit cross   validator to the 'train' dataset\n",
        "model = cv.fit(train_otherset)\n",
        "\n",
        "#Extract best model from the cv model above\n",
        "best_model = model.bestModel\n",
        "model_path = temp_path + \"/als_model_4\"\n",
        "best_model.save(model_path)"
      ],
      "metadata": {
        "id": "T7xm9TAB9aKv"
      },
      "id": "T7xm9TAB9aKv",
      "execution_count": null,
      "outputs": []
    },
    {
      "cell_type": "code",
      "source": [
        "#Score the model using validation data\n",
        "#rank=40,reg=0.1\n",
        "validate_predictions = best_model.transform(validation_otherset)\n",
        "#validate_predictions = best_model.transform(validation)\n",
        "RMSE=evaluator.evaluate(validate_predictions)\n",
        "#RMSE_validations.append(evaluator.evaluate(validate_predictions))\n",
        "#print(RMSE_validations)"
      ],
      "metadata": {
        "id": "y8BhsZ9gXy0z"
      },
      "id": "y8BhsZ9gXy0z",
      "execution_count": null,
      "outputs": []
    },
    {
      "cell_type": "code",
      "execution_count": null,
      "metadata": {
        "colab": {
          "base_uri": "https://localhost:8080/"
        },
        "id": "eADQUo3tPwp2",
        "outputId": "9c04a7e5-e233-479a-de06-dda79c13cd67"
      },
      "outputs": [
        {
          "name": "stdout",
          "output_type": "stream",
          "text": [
            "+-------+--------------------+\n",
            "|user_id|     recommendations|\n",
            "+-------+--------------------+\n",
            "|      1|[{8946, 4.5825987...|\n",
            "|      3|[{464, 2.674022},...|\n",
            "|      5|[{8946, 4.796386}...|\n",
            "|      6|[{9537, 5.193078}...|\n",
            "|      9|[{6920, 4.249055}...|\n",
            "|     12|[{8946, 4.8706894...|\n",
            "|     13|[{4868, 5.1269636...|\n",
            "|     15|[{9842, 5.1204014...|\n",
            "|     16|[{7063, 4.851418}...|\n",
            "|     17|[{8946, 5.3222265...|\n",
            "|     19|[{8946, 4.0324717...|\n",
            "|     20|[{5990, 4.9759674...|\n",
            "|     22|[{8946, 4.533051}...|\n",
            "|     26|[{8946, 4.6841087...|\n",
            "|     27|[{4868, 4.6853733...|\n",
            "|     28|[{8946, 4.940489}...|\n",
            "|     31|[{8946, 4.2108564...|\n",
            "|     34|[{8946, 4.5941434...|\n",
            "|     35|[{6920, 3.84977},...|\n",
            "|     37|[{8946, 5.3904037...|\n",
            "+-------+--------------------+\n",
            "only showing top 20 rows\n",
            "\n"
          ]
        }
      ],
      "source": [
        "# Generate n Recommendations for all users\n",
        "recommendations = best_model.recommendForAllUsers(5)\n",
        "recommendations.show()"
      ],
      "id": "eADQUo3tPwp2"
    },
    {
      "cell_type": "code",
      "execution_count": null,
      "metadata": {
        "colab": {
          "base_uri": "https://localhost:8080/"
        },
        "id": "GSazDyrIQYFD",
        "outputId": "03c78a8f-459a-4772-9b47-6e6592aa543e"
      },
      "outputs": [
        {
          "name": "stdout",
          "output_type": "stream",
          "text": [
            "+-------+--------------------+\n",
            "|user_id|     recommendations|\n",
            "+-------+--------------------+\n",
            "|      1|[{8946, 4.5825987...|\n",
            "|      3|[{464, 2.674022},...|\n",
            "|      5|[{8946, 4.796386}...|\n",
            "|      6|[{9537, 5.193078}...|\n",
            "|      9|[{6920, 4.249055}...|\n",
            "|     12|[{8946, 4.8706894...|\n",
            "|     13|[{4868, 5.1269636...|\n",
            "|     15|[{9842, 5.1204014...|\n",
            "|     16|[{7063, 4.851418}...|\n",
            "|     17|[{8946, 5.3222265...|\n",
            "+-------+--------------------+\n",
            "\n"
          ]
        }
      ],
      "source": [
        "nrecommendations = recommendations\\\n",
        "    .withColumn(\"rec_exp\", explode(\"recommendations\"))\\\n",
        "    .select('user_id', col(\"rec_exp.book_id\"), col(\"rec_exp.rating\"))\n"
      ],
      "id": "GSazDyrIQYFD"
    },
    {
      "cell_type": "code",
      "execution_count": null,
      "metadata": {
        "colab": {
          "base_uri": "https://localhost:8080/"
        },
        "id": "GPNSmMYQSwaz",
        "outputId": "2abe8b39-6799-4c15-9163-1f91c1fe14d8"
      },
      "outputs": [
        {
          "name": "stdout",
          "output_type": "stream",
          "text": [
            "+-------+-------+---------+\n",
            "|user_id|book_id|   rating|\n",
            "+-------+-------+---------+\n",
            "|      1|   8946|4.5825987|\n",
            "|      1|   7947|4.4613237|\n",
            "|      1|   3628|4.3915706|\n",
            "|      1|   9566|4.3506875|\n",
            "|      1|   6920|4.3174577|\n",
            "|      3|    464| 2.674022|\n",
            "|      3|   4090|2.5850894|\n",
            "|      3|   6618|2.4757845|\n",
            "|      3|   7499|2.4717994|\n",
            "|      3|   4376|2.4188144|\n",
            "+-------+-------+---------+\n",
            "\n"
          ]
        }
      ],
      "source": [
        "nrecommendations.limit(10).show()"
      ],
      "id": "GPNSmMYQSwaz"
    },
    {
      "cell_type": "code",
      "execution_count": null,
      "metadata": {
        "colab": {
          "base_uri": "https://localhost:8080/"
        },
        "id": "QjIeUW2oSzAw",
        "outputId": "b2ac1df0-631e-4821-a6ab-bf5b15fd86b1"
      },
      "outputs": [
        {
          "name": "stdout",
          "output_type": "stream",
          "text": [
            "+-------+-------+---------+--------------------+--------------+-----------+--------------------+-----------------+--------------------+-------------+-------------------------+-----+--------------------+---------+---------+---------+---------+---------+--------------------+\n",
            "|book_id|user_id|   rating|             authors|average_rating|books_count|              genres|goodreads_book_id|           image_url|language_code|original_publication_year|pages|         publishDate|ratings_1|ratings_2|ratings_3|ratings_4|ratings_5|               title|\n",
            "+-------+-------+---------+--------------------+--------------+-----------+--------------------+-----------------+--------------------+-------------+-------------------------+-----+--------------------+---------+---------+---------+---------+---------+--------------------+\n",
            "|   8946|    100| 4.352078|           ['Hafez']|          4.63|         91|['poetry', 'class...|            46292|https://images.gr...|          eng|                     1380|  566|                2003|       89|      116|      384|      872|     4862|           The Divan|\n",
            "|   6772|    100| 4.072658|['[Omar Khayyám',...|          4.18|        777|['poetry', 'class...|           716696|https://images.gr...|          per|                     1120|  184|(None, None, '2007')|      218|      568|     2233|     4163|     6542|        رباعيات خيام|\n",
            "|   6920|    100| 3.853837|  ['Bill Watterson']|          4.73|         19|['comics', 'ficti...|            24815|https://s.gr-asse...|          eng|                     1992|  255|                1992|       19|       62|      666|     2969|    13195|The Indispensable...|\n",
            "|   9578|    100|3.8497293|['Kentaro Miura',...|          4.37|         19|['manga', 'fantas...|           248871|https://images.gr...|          eng|                     1990|  224|   November 4th 2003|      158|      329|     1191|     2579|     6253|Berserk, Vol. 1 (...|\n",
            "|   8286|    100|   3.8112|  ['[Harold McGee]']|          4.48|         22|['cookbooks', 'sc...|           101255|https://s.gr-asse...|          eng|                     1984|  896|('11', '16', '2004')|       97|      172|      991|     2883|     6993|On Food and Cooki...|\n",
            "+-------+-------+---------+--------------------+--------------+-----------+--------------------+-----------------+--------------------+-------------+-------------------------+-----+--------------------+---------+---------+---------+---------+---------+--------------------+\n",
            "\n"
          ]
        }
      ],
      "source": [
        "nrecommendations.join(books, on='book_id').filter('user_id = 100').show()"
      ],
      "id": "QjIeUW2oSzAw"
    },
    {
      "cell_type": "code",
      "execution_count": null,
      "metadata": {
        "colab": {
          "base_uri": "https://localhost:8080/"
        },
        "id": "ObrO5S7rS3r_",
        "outputId": "9043166f-d3bf-4599-e069-26927e7e14e5"
      },
      "outputs": [
        {
          "name": "stdout",
          "output_type": "stream",
          "text": [
            "+-------+-------+------+--------------------+--------------+-----------+--------------------+-----------------+--------------------+-------------+-------------------------+-----+--------------------+---------+---------+---------+---------+---------+--------------------+\n",
            "|book_id|user_id|rating|             authors|average_rating|books_count|              genres|goodreads_book_id|           image_url|language_code|original_publication_year|pages|         publishDate|ratings_1|ratings_2|ratings_3|ratings_4|ratings_5|               title|\n",
            "+-------+-------+------+--------------------+--------------+-----------+--------------------+-----------------+--------------------+-------------+-------------------------+-----+--------------------+---------+---------+---------+---------+---------+--------------------+\n",
            "|   8946|    100|   5.0|           ['Hafez']|          4.63|         91|['poetry', 'class...|            46292|https://images.gr...|          eng|                     1380|  566|                2003|       89|      116|      384|      872|     4862|           The Divan|\n",
            "|   6772|    100|   5.0|['[Omar Khayyám',...|          4.18|        777|['poetry', 'class...|           716696|https://images.gr...|          per|                     1120|  184|(None, None, '2007')|      218|      568|     2233|     4163|     6542|        رباعيات خيام|\n",
            "|     33|    100|   4.0|   ['Arthur Golden']|          4.08|        220|['fiction', 'hist...|              930|https://s.gr-asse...|          eng|                     1997|  503|            11/22/05|    23500|    59033|   258700|   517157|   559782| Memoirs of a Geisha|\n",
            "|   3379|    100|   4.0|['Honoré de Balzac']|          3.82|        650|['classics', 'fic...|            59145|https://s.gr-asse...|          eng|                     1834|  370|  December 17th 1997|      722|     2448|     8503|    12543|     9513|         Père Goriot|\n",
            "|    635|    100|   4.0|['Jostein Gaarder...|          3.88|        239|['philosophy', 'f...|            10959|https://images.gr...|          eng|                     1991|  403|            10/28/95|     3975|     9949|    32355|    50286|    46828|      Sophie's World|\n",
            "|   6160|    100|   4.0|['Heinrich Böll',...|          4.05|        127|['fiction', 'clas...|           326272|https://images.gr...|          per|                     1963|  272|       June 1st 1994|      225|      659|     2598|     5101|     5314|       عقاید یک دلقک|\n",
            "|     66|    100|   4.0|['Margaret Mitche...|          4.28|        409|['classics', 'his...|            18405|https://images.gr...|          eng|                     1936| 1037|          04/01/1999|    19996|    33136|   116160|   234290|   493721|  Gone with the Wind|\n",
            "|   1131|    100|   4.0|   ['Joanne Harris']|          3.95|        143|['fiction', 'roma...|            47401|https://s.gr-asse...|          eng|                     1998|  306|          11/01/2000|      916|     4161|    22099|    37751|    28165|Chocolat (Chocola...|\n",
            "|     85|    100|   4.0|['Shel Silverstein']|          4.38|         81|['classics', 'fic...|           370493|https://images.gr...|          eng|                     1964|   64|          10/07/1964|    15345|    20408|    76071|   167542|   428921|     The Giving Tree|\n",
            "|    323|    100|   4.0|['Milan Kundera',...|          4.08|        274|['fiction', 'clas...|             9717|https://images.gr...|          eng|                     1984|  320|            10/27/09|     4894|    12964|    42199|    84519|   103404|The Unbearable Li...|\n",
            "+-------+-------+------+--------------------+--------------+-----------+--------------------+-----------------+--------------------+-------------+-------------------------+-----+--------------------+---------+---------+---------+---------+---------+--------------------+\n",
            "\n"
          ]
        }
      ],
      "source": [
        "ratings.join(books, on='book_id').filter('user_id = 100').sort('rating', ascending=False).limit(10).show()"
      ],
      "id": "ObrO5S7rS3r_"
    },
    {
      "cell_type": "code",
      "execution_count": null,
      "metadata": {
        "id": "376cceae"
      },
      "outputs": [],
      "source": [
        "###Tried executing google colab ,HPC Account but it takes too long to run "
      ],
      "id": "376cceae"
    },
    {
      "cell_type": "code",
      "execution_count": null,
      "metadata": {
        "id": "59fb1ca7"
      },
      "outputs": [],
      "source": [
        "###Neural Collabarative filtering \n"
      ],
      "id": "59fb1ca7"
    },
    {
      "cell_type": "code",
      "execution_count": null,
      "metadata": {
        "id": "1e0876b8"
      },
      "outputs": [],
      "source": [
        "import os\n",
        "\n",
        "# data science imports\n",
        "import numpy as np\n",
        "import pandas as pd\n",
        "\n",
        "# sklearn imports\n",
        "from sklearn.model_selection import train_test_split\n",
        "\n",
        "# keras/tensorflow imports\n",
        "from tensorflow.keras.layers import Input, Embedding, Flatten, Dense, Multiply, Concatenate\n",
        "from tensorflow.keras.regularizers import l2\n",
        "from tensorflow.keras.models import Model\n",
        "# from tensorflow.keras.optimizers import Adagrad, Adam, SGD, RMSprop\n",
        "from tensorflow.keras.callbacks import EarlyStopping, ModelCheckpoint\n",
        "import tensorflow.keras.backend as K\n",
        "from tensorflow.keras.models import load_model\n",
        "\n",
        "# visualization imports\n",
        "import matplotlib.pyplot as plt\n",
        "%matplotlib inline"
      ],
      "id": "1e0876b8"
    },
    {
      "cell_type": "code",
      "execution_count": null,
      "metadata": {
        "id": "aaad10a5"
      },
      "outputs": [],
      "source": [
        "# path config\n",
        "data_path = os.path.join(os.environ['DATA_PATH'], 'GoodreadBooks')\n",
        "ratings_filename = 'ratings.csv'"
      ],
      "id": "aaad10a5"
    },
    {
      "cell_type": "code",
      "execution_count": null,
      "metadata": {
        "id": "9964a113"
      },
      "outputs": [],
      "source": [
        "df_ratings = pd.read_csv(\n",
        "    os.path.join(data_path, ratings_filename),\n",
        "    usecols=['user_id', 'book_id', 'rating'],\n",
        "    dtype={'user_id': 'int32', 'book_id': 'int32', 'rating': 'float32'})"
      ],
      "id": "9964a113"
    },
    {
      "cell_type": "code",
      "execution_count": null,
      "metadata": {
        "id": "0325bcf7",
        "outputId": "d1ba9043-29a6-4706-f8fc-1591430e0b5a"
      },
      "outputs": [
        {
          "name": "stdout",
          "output_type": "stream",
          "text": [
            "<class 'pandas.core.frame.DataFrame'>\n",
            "RangeIndex: 5976479 entries, 0 to 5976478\n",
            "Data columns (total 3 columns):\n",
            " #   Column   Dtype  \n",
            "---  ------   -----  \n",
            " 0   user_id  int32  \n",
            " 1   book_id  int32  \n",
            " 2   rating   float32\n",
            "dtypes: float32(1), int32(2)\n",
            "memory usage: 68.4 MB\n"
          ]
        }
      ],
      "source": [
        "df_ratings.info()"
      ],
      "id": "0325bcf7"
    },
    {
      "cell_type": "code",
      "execution_count": null,
      "metadata": {
        "id": "165a83ac",
        "outputId": "6946dece-8fbd-45cf-9e07-2ebc66da7019"
      },
      "outputs": [
        {
          "data": {
            "text/html": [
              "<div>\n",
              "<style scoped>\n",
              "    .dataframe tbody tr th:only-of-type {\n",
              "        vertical-align: middle;\n",
              "    }\n",
              "\n",
              "    .dataframe tbody tr th {\n",
              "        vertical-align: top;\n",
              "    }\n",
              "\n",
              "    .dataframe thead th {\n",
              "        text-align: right;\n",
              "    }\n",
              "</style>\n",
              "<table border=\"1\" class=\"dataframe\">\n",
              "  <thead>\n",
              "    <tr style=\"text-align: right;\">\n",
              "      <th></th>\n",
              "      <th>user_id</th>\n",
              "      <th>book_id</th>\n",
              "      <th>rating</th>\n",
              "    </tr>\n",
              "  </thead>\n",
              "  <tbody>\n",
              "    <tr>\n",
              "      <th>0</th>\n",
              "      <td>1</td>\n",
              "      <td>258</td>\n",
              "      <td>5.0</td>\n",
              "    </tr>\n",
              "    <tr>\n",
              "      <th>1</th>\n",
              "      <td>2</td>\n",
              "      <td>4081</td>\n",
              "      <td>4.0</td>\n",
              "    </tr>\n",
              "    <tr>\n",
              "      <th>2</th>\n",
              "      <td>2</td>\n",
              "      <td>260</td>\n",
              "      <td>5.0</td>\n",
              "    </tr>\n",
              "    <tr>\n",
              "      <th>3</th>\n",
              "      <td>2</td>\n",
              "      <td>9296</td>\n",
              "      <td>5.0</td>\n",
              "    </tr>\n",
              "    <tr>\n",
              "      <th>4</th>\n",
              "      <td>2</td>\n",
              "      <td>2318</td>\n",
              "      <td>3.0</td>\n",
              "    </tr>\n",
              "  </tbody>\n",
              "</table>\n",
              "</div>"
            ],
            "text/plain": [
              "   user_id  book_id  rating\n",
              "0        1      258     5.0\n",
              "1        2     4081     4.0\n",
              "2        2      260     5.0\n",
              "3        2     9296     5.0\n",
              "4        2     2318     3.0"
            ]
          },
          "execution_count": 6,
          "metadata": {},
          "output_type": "execute_result"
        }
      ],
      "source": [
        "df_ratings.head()"
      ],
      "id": "165a83ac"
    },
    {
      "cell_type": "code",
      "execution_count": null,
      "metadata": {
        "id": "88539763",
        "outputId": "46ac27ed-4713-45bd-a3ea-b4800404942f"
      },
      "outputs": [
        {
          "name": "stdout",
          "output_type": "stream",
          "text": [
            "There are 53424 unique users and 10000 unique movies in this data set\n"
          ]
        }
      ],
      "source": [
        "num_users = len(df_ratings.user_id.unique())\n",
        "num_items = len(df_ratings.book_id.unique())\n",
        "print('There are {} unique users and {} unique movies in this data set'.format(num_users, num_items))"
      ],
      "id": "88539763"
    },
    {
      "cell_type": "code",
      "execution_count": null,
      "metadata": {
        "id": "bb75839f",
        "outputId": "051886bf-b679-450d-ae7e-42c15c29df1b"
      },
      "outputs": [
        {
          "name": "stdout",
          "output_type": "stream",
          "text": [
            "There are 53424 distinct users and the max of user ID is also 53424\n",
            "There are 10000 distinct movies, however, the max of movie ID is 10000\n",
            "In the context of matrix factorization, the current item vector is in unnecessarily high dimensional space\n",
            "So we need to do some data cleaning to reduce the dimension of item vector back to 10000\n"
          ]
        }
      ],
      "source": [
        "user_maxId = df_ratings.user_id.max()\n",
        "item_maxId = df_ratings.book_id.max()\n",
        "print('There are {} distinct users and the max of user ID is also {}'.format(num_users, user_maxId))\n",
        "print('There are {} distinct movies, however, the max of movie ID is {}'.format(num_items, item_maxId))\n",
        "print('In the context of matrix factorization, the current item vector is in unnecessarily high dimensional space')\n",
        "print('So we need to do some data cleaning to reduce the dimension of item vector back to {}'.format(num_items))"
      ],
      "id": "bb75839f"
    },
    {
      "cell_type": "code",
      "execution_count": null,
      "metadata": {
        "id": "e728ba02"
      },
      "outputs": [],
      "source": [
        "def reduce_item_dim(df_ratings):\n",
        "    \"\"\"\n",
        "    Reduce item vector dimension to the number of distinct items in our data sets\n",
        "    \n",
        "    input: pd.DataFrame, df_ratings should have columns ['userId', 'movieId', 'rating']\n",
        "    output: pd.DataFrame, df_ratings with new 'MovieID' that is compressed\n",
        "    \"\"\"\n",
        "    # pivot\n",
        "    df_user_item = df_ratings.pivot(index='user_id', columns='book_id', values='rating')\n",
        "    # reset movieId\n",
        "    df_user_item = df_user_item.T.reset_index(drop=True).T\n",
        "    # undo pivot/melt - compress data frame\n",
        "    df_ratings_new = df_user_item \\\n",
        "        .reset_index('user_id') \\\n",
        "        .melt(\n",
        "            id_vars='user_id', \n",
        "            value_vars=df_user_item.columns,\n",
        "            var_name='book_id',\n",
        "            value_name='rating')\n",
        "    # drop nan and final clean up\n",
        "    return df_ratings_new.dropna().sort_values(['user_id', 'book_id']).reset_index(drop=True)"
      ],
      "id": "e728ba02"
    },
    {
      "cell_type": "code",
      "execution_count": null,
      "metadata": {
        "id": "6ea55e43",
        "outputId": "f41dadd7-41b8-4227-e873-acc19a2723c5"
      },
      "outputs": [
        {
          "name": "stdout",
          "output_type": "stream",
          "text": [
            "reduce item dimension before:\n"
          ]
        },
        {
          "data": {
            "text/html": [
              "<div>\n",
              "<style scoped>\n",
              "    .dataframe tbody tr th:only-of-type {\n",
              "        vertical-align: middle;\n",
              "    }\n",
              "\n",
              "    .dataframe tbody tr th {\n",
              "        vertical-align: top;\n",
              "    }\n",
              "\n",
              "    .dataframe thead th {\n",
              "        text-align: right;\n",
              "    }\n",
              "</style>\n",
              "<table border=\"1\" class=\"dataframe\">\n",
              "  <thead>\n",
              "    <tr style=\"text-align: right;\">\n",
              "      <th></th>\n",
              "      <th>user_id</th>\n",
              "      <th>book_id</th>\n",
              "      <th>rating</th>\n",
              "    </tr>\n",
              "  </thead>\n",
              "  <tbody>\n",
              "    <tr>\n",
              "      <th>0</th>\n",
              "      <td>1</td>\n",
              "      <td>258</td>\n",
              "      <td>5.0</td>\n",
              "    </tr>\n",
              "    <tr>\n",
              "      <th>1</th>\n",
              "      <td>2</td>\n",
              "      <td>4081</td>\n",
              "      <td>4.0</td>\n",
              "    </tr>\n",
              "    <tr>\n",
              "      <th>2</th>\n",
              "      <td>2</td>\n",
              "      <td>260</td>\n",
              "      <td>5.0</td>\n",
              "    </tr>\n",
              "    <tr>\n",
              "      <th>3</th>\n",
              "      <td>2</td>\n",
              "      <td>9296</td>\n",
              "      <td>5.0</td>\n",
              "    </tr>\n",
              "    <tr>\n",
              "      <th>4</th>\n",
              "      <td>2</td>\n",
              "      <td>2318</td>\n",
              "      <td>3.0</td>\n",
              "    </tr>\n",
              "  </tbody>\n",
              "</table>\n",
              "</div>"
            ],
            "text/plain": [
              "   user_id  book_id  rating\n",
              "0        1      258     5.0\n",
              "1        2     4081     4.0\n",
              "2        2      260     5.0\n",
              "3        2     9296     5.0\n",
              "4        2     2318     3.0"
            ]
          },
          "execution_count": 12,
          "metadata": {},
          "output_type": "execute_result"
        }
      ],
      "source": [
        "print('reduce item dimension before:')\n",
        "df_ratings.head()"
      ],
      "id": "6ea55e43"
    },
    {
      "cell_type": "code",
      "execution_count": null,
      "metadata": {
        "id": "60c87517",
        "outputId": "ac25e51e-f80d-4b61-fcc2-43097a2f59da"
      },
      "outputs": [
        {
          "name": "stdout",
          "output_type": "stream",
          "text": [
            "reduce item dimension after:\n"
          ]
        },
        {
          "data": {
            "text/html": [
              "<div>\n",
              "<style scoped>\n",
              "    .dataframe tbody tr th:only-of-type {\n",
              "        vertical-align: middle;\n",
              "    }\n",
              "\n",
              "    .dataframe tbody tr th {\n",
              "        vertical-align: top;\n",
              "    }\n",
              "\n",
              "    .dataframe thead th {\n",
              "        text-align: right;\n",
              "    }\n",
              "</style>\n",
              "<table border=\"1\" class=\"dataframe\">\n",
              "  <thead>\n",
              "    <tr style=\"text-align: right;\">\n",
              "      <th></th>\n",
              "      <th>user_id</th>\n",
              "      <th>book_id</th>\n",
              "      <th>rating</th>\n",
              "    </tr>\n",
              "  </thead>\n",
              "  <tbody>\n",
              "    <tr>\n",
              "      <th>0</th>\n",
              "      <td>1</td>\n",
              "      <td>3</td>\n",
              "      <td>5.0</td>\n",
              "    </tr>\n",
              "    <tr>\n",
              "      <th>1</th>\n",
              "      <td>1</td>\n",
              "      <td>9</td>\n",
              "      <td>4.0</td>\n",
              "    </tr>\n",
              "    <tr>\n",
              "      <th>2</th>\n",
              "      <td>1</td>\n",
              "      <td>10</td>\n",
              "      <td>5.0</td>\n",
              "    </tr>\n",
              "    <tr>\n",
              "      <th>3</th>\n",
              "      <td>1</td>\n",
              "      <td>12</td>\n",
              "      <td>4.0</td>\n",
              "    </tr>\n",
              "    <tr>\n",
              "      <th>4</th>\n",
              "      <td>1</td>\n",
              "      <td>15</td>\n",
              "      <td>3.0</td>\n",
              "    </tr>\n",
              "  </tbody>\n",
              "</table>\n",
              "</div>"
            ],
            "text/plain": [
              "   user_id book_id  rating\n",
              "0        1       3     5.0\n",
              "1        1       9     4.0\n",
              "2        1      10     5.0\n",
              "3        1      12     4.0\n",
              "4        1      15     3.0"
            ]
          },
          "execution_count": 13,
          "metadata": {},
          "output_type": "execute_result"
        }
      ],
      "source": [
        "df_ratings = reduce_item_dim(df_ratings)\n",
        "print('reduce item dimension after:')\n",
        "df_ratings.head()"
      ],
      "id": "60c87517"
    },
    {
      "cell_type": "code",
      "execution_count": null,
      "metadata": {
        "id": "66038d45",
        "outputId": "3b453e93-c37c-4c53-bf1b-473bbfd2dd66"
      },
      "outputs": [
        {
          "name": "stdout",
          "output_type": "stream",
          "text": [
            "shape of training data set:\n",
            "(4781183, 3)\n",
            "shape of test data set:\n",
            "(1195296, 3)\n"
          ]
        }
      ],
      "source": [
        "df_train, df_test = train_test_split(df_ratings, test_size=0.2, shuffle=True, random_state=99)\n",
        "print('shape of training data set:')\n",
        "print(df_train.shape)\n",
        "print('shape of test data set:')\n",
        "print(df_test.shape)"
      ],
      "id": "66038d45"
    },
    {
      "cell_type": "code",
      "execution_count": null,
      "metadata": {
        "id": "5f6d3ee9"
      },
      "outputs": [],
      "source": [
        "def get_GMF_model(num_users, num_items, latent_dim, vu_reg, vi_reg):\n",
        "    \"\"\"\n",
        "    Build Generalized Matrix Factorization Model Topology\n",
        "    \n",
        "    Parameters\n",
        "    ----------\n",
        "    num_users: int, total number of users\n",
        "    num_iterms: int, total number of items\n",
        "    latent_dim: int, embedded dimension for user vector and item vector\n",
        "    vu_reg: float, L2 regularization of user embedded layer\n",
        "    vi_reg: float, L2 regularization of item embedded layer\n",
        "\n",
        "    Return\n",
        "    ------\n",
        "    A Keras Model with GMF model architeture\n",
        "    \"\"\"\n",
        "    # Input variables\n",
        "    user_input = Input(shape=(1,), dtype='int32', name='user_input')\n",
        "    item_input = Input(shape=(1,), dtype='int32', name='item_input')\n",
        "\n",
        "    MF_Embedding_User = Embedding(\n",
        "        input_dim=num_users + 1,\n",
        "        output_dim=latent_dim,\n",
        "        embeddings_initializer='uniform',\n",
        "        name='user_embedding',\n",
        "        embeddings_regularizer=l2(vu_reg),\n",
        "        input_length=1)\n",
        "    MF_Embedding_Item = Embedding(\n",
        "        input_dim=num_items + 1,\n",
        "        output_dim=latent_dim,\n",
        "        embeddings_initializer='uniform',\n",
        "        name='item_embedding',\n",
        "        embeddings_regularizer=l2(vi_reg),\n",
        "        input_length=1) \n",
        "    \n",
        "    # Crucial to flatten an embedding vector!\n",
        "    user_latent = Flatten()(MF_Embedding_User(user_input))\n",
        "    item_latent = Flatten()(MF_Embedding_Item(item_input))\n",
        "\n",
        "    # Element-wise product of user and item embeddings \n",
        "    predict_vector = Multiply()([user_latent, item_latent])\n",
        "    \n",
        "    # Final prediction layer\n",
        "    prediction = Dense(1, kernel_initializer='glorot_uniform', name='prediction')(predict_vector)\n",
        "    \n",
        "    # Stitch input and output\n",
        "    model = Model([user_input, item_input], prediction)\n",
        "    \n",
        "    return model\n",
        "\n",
        "\n",
        "def train_model(model, learner, batch_size, epochs, val_split, inputs, outputs):\n",
        "    \"\"\"\n",
        "    define training routine, train models and save best model\n",
        "    \n",
        "    Parameters\n",
        "    ----------\n",
        "    model: a Keras model\n",
        "    learner: str, one of ['sgd', 'adam', 'rmsprop', 'adagrad']\n",
        "    batch_size: num samples per update\n",
        "    epochs: num iterations\n",
        "    val_split: split ratio for validation data\n",
        "    inputs: inputs data\n",
        "    outputs: outputs data\n",
        "    \"\"\"\n",
        "    # add customized metric\n",
        "    def rmse(y_true, y_pred):\n",
        "        return K.sqrt(K.mean(K.square(y_true - y_pred)))\n",
        "    \n",
        "    # compile model\n",
        "    model.compile(optimizer=learner.lower(), loss='mean_squared_error', metrics=['mean_squared_error', rmse])\n",
        "    \n",
        "    # add call backs\n",
        "    early_stopper = EarlyStopping(monitor='val_rmse', patience=10, verbose=1)\n",
        "    model_saver = ModelCheckpoint(filepath=os.path.join(data_path, 'tmp/model.hdf5'),\n",
        "                                  monitor='val_rmse',\n",
        "                                  save_best_only=True,\n",
        "                                  save_weights_only=True)\n",
        "    # train model\n",
        "    history = model.fit(inputs, outputs,\n",
        "                        batch_size=batch_size,\n",
        "                        epochs=epochs,\n",
        "                        validation_split=val_split,\n",
        "                        callbacks=[early_stopper, model_saver])\n",
        "    return history\n",
        "\n",
        "\n",
        "def load_trained_model(model, weights_path):\n",
        "    model.load_weights(weights_path)\n",
        "    return model"
      ],
      "id": "5f6d3ee9"
    },
    {
      "cell_type": "code",
      "execution_count": null,
      "metadata": {
        "id": "017d77db",
        "outputId": "83bf2a66-f537-401b-e9e6-894c053c098b"
      },
      "outputs": [
        {
          "name": "stdout",
          "output_type": "stream",
          "text": [
            "Model: \"model\"\n",
            "__________________________________________________________________________________________________\n",
            "Layer (type)                    Output Shape         Param #     Connected to                     \n",
            "==================================================================================================\n",
            "user_input (InputLayer)         [(None, 1)]          0                                            \n",
            "__________________________________________________________________________________________________\n",
            "item_input (InputLayer)         [(None, 1)]          0                                            \n",
            "__________________________________________________________________________________________________\n",
            "user_embedding (Embedding)      (None, 1, 10)        534250      user_input[0][0]                 \n",
            "__________________________________________________________________________________________________\n",
            "item_embedding (Embedding)      (None, 1, 10)        100010      item_input[0][0]                 \n",
            "__________________________________________________________________________________________________\n",
            "flatten (Flatten)               (None, 10)           0           user_embedding[0][0]             \n",
            "__________________________________________________________________________________________________\n",
            "flatten_1 (Flatten)             (None, 10)           0           item_embedding[0][0]             \n",
            "__________________________________________________________________________________________________\n",
            "multiply (Multiply)             (None, 10)           0           flatten[0][0]                    \n",
            "                                                                 flatten_1[0][0]                  \n",
            "__________________________________________________________________________________________________\n",
            "prediction (Dense)              (None, 1)            11          multiply[0][0]                   \n",
            "==================================================================================================\n",
            "Total params: 634,271\n",
            "Trainable params: 634,271\n",
            "Non-trainable params: 0\n",
            "__________________________________________________________________________________________________\n"
          ]
        }
      ],
      "source": [
        "GMF_model = get_GMF_model(num_users, num_items, 10, 0, 0)\n",
        "GMF_model.summary()"
      ],
      "id": "017d77db"
    },
    {
      "cell_type": "code",
      "execution_count": null,
      "metadata": {
        "id": "64d707b6"
      },
      "outputs": [],
      "source": [
        "import numpy as np\n",
        "\n",
        "user_id_values = np.asarray(df_train.user_id.values).astype(np.float32)\n",
        "book_id_values=np.asarray(df_train.book_id.values).astype(np.float32)"
      ],
      "id": "64d707b6"
    },
    {
      "cell_type": "code",
      "execution_count": null,
      "metadata": {
        "id": "ca51abd2",
        "outputId": "f7bfac27-7a52-4dd1-ff59-47893de4034b"
      },
      "outputs": [
        {
          "name": "stdout",
          "output_type": "stream",
          "text": [
            "Epoch 1/30\n",
            "56030/56030 [==============================] - 317s 6ms/step - loss: 0.6979 - mean_squared_error: 0.6979 - rmse: 0.8308 - val_loss: 0.7170 - val_mean_squared_error: 0.7170 - val_rmse: 0.8422\n",
            "Epoch 2/30\n",
            "56030/56030 [==============================] - 302s 5ms/step - loss: 0.6474 - mean_squared_error: 0.6474 - rmse: 0.7999 - val_loss: 0.7088 - val_mean_squared_error: 0.7088 - val_rmse: 0.8371\n",
            "Epoch 3/30\n",
            "56030/56030 [==============================] - 294s 5ms/step - loss: 0.6198 - mean_squared_error: 0.6198 - rmse: 0.7824 - val_loss: 0.7087 - val_mean_squared_error: 0.7087 - val_rmse: 0.8370\n",
            "Epoch 4/30\n",
            "56030/56030 [==============================] - 261s 5ms/step - loss: 0.6024 - mean_squared_error: 0.6024 - rmse: 0.7712 - val_loss: 0.7085 - val_mean_squared_error: 0.7085 - val_rmse: 0.8370\n",
            "Epoch 5/30\n",
            "56030/56030 [==============================] - 281s 5ms/step - loss: 0.5904 - mean_squared_error: 0.5904 - rmse: 0.7634 - val_loss: 0.7114 - val_mean_squared_error: 0.7114 - val_rmse: 0.8387\n",
            "Epoch 6/30\n",
            "56030/56030 [==============================] - 347s 6ms/step - loss: 0.5815 - mean_squared_error: 0.5815 - rmse: 0.7576 - val_loss: 0.7131 - val_mean_squared_error: 0.7131 - val_rmse: 0.8397\n",
            "Epoch 7/30\n",
            "56030/56030 [==============================] - 342s 6ms/step - loss: 0.5748 - mean_squared_error: 0.5748 - rmse: 0.7531 - val_loss: 0.7142 - val_mean_squared_error: 0.7142 - val_rmse: 0.8402\n",
            "Epoch 8/30\n",
            "56030/56030 [==============================] - 305s 5ms/step - loss: 0.5694 - mean_squared_error: 0.5694 - rmse: 0.7496 - val_loss: 0.7167 - val_mean_squared_error: 0.7167 - val_rmse: 0.8416\n",
            "Epoch 9/30\n",
            "56030/56030 [==============================] - 337s 6ms/step - loss: 0.5649 - mean_squared_error: 0.5649 - rmse: 0.7466 - val_loss: 0.7182 - val_mean_squared_error: 0.7182 - val_rmse: 0.8425\n",
            "Epoch 10/30\n",
            "56030/56030 [==============================] - 374s 7ms/step - loss: 0.5613 - mean_squared_error: 0.5613 - rmse: 0.7441 - val_loss: 0.7199 - val_mean_squared_error: 0.7199 - val_rmse: 0.8436\n",
            "Epoch 11/30\n",
            "56030/56030 [==============================] - 317s 6ms/step - loss: 0.5581 - mean_squared_error: 0.5581 - rmse: 0.7420 - val_loss: 0.7167 - val_mean_squared_error: 0.7167 - val_rmse: 0.8418\n",
            "Epoch 12/30\n",
            "56030/56030 [==============================] - 313s 6ms/step - loss: 0.5553 - mean_squared_error: 0.5553 - rmse: 0.7401 - val_loss: 0.7177 - val_mean_squared_error: 0.7177 - val_rmse: 0.8423\n",
            "Epoch 13/30\n",
            "56030/56030 [==============================] - 321s 6ms/step - loss: 0.5530 - mean_squared_error: 0.5530 - rmse: 0.7385 - val_loss: 0.7199 - val_mean_squared_error: 0.7199 - val_rmse: 0.8436\n",
            "Epoch 14/30\n",
            "56030/56030 [==============================] - 302s 5ms/step - loss: 0.5509 - mean_squared_error: 0.5509 - rmse: 0.7371 - val_loss: 0.7250 - val_mean_squared_error: 0.7250 - val_rmse: 0.8465\n",
            "Epoch 00014: early stopping\n"
          ]
        }
      ],
      "source": [
        "# model config\n",
        "BATCH_SIZE = 64\n",
        "EPOCHS = 30\n",
        "VAL_SPLIT = 0.25\n",
        "\n",
        "# train model\n",
        "history = train_model(GMF_model, 'adam', BATCH_SIZE, EPOCHS, VAL_SPLIT, \n",
        "                      inputs=[user_id_values, book_id_values],\n",
        "                      outputs=df_train.rating.values)"
      ],
      "id": "ca51abd2"
    },
    {
      "cell_type": "code",
      "execution_count": null,
      "metadata": {
        "id": "8db90520"
      },
      "outputs": [],
      "source": [
        "def plot_learning_curve(history, metric):\n",
        "    \"\"\"\n",
        "    Plot learning curve to compare training error vs. validation error\n",
        "    \"\"\"\n",
        "    # get training error\n",
        "    errors = history.history[metric]\n",
        "    # get validation error\n",
        "    val_errors = history.history['val_{}'.format(metric)]\n",
        "    # get epochs\n",
        "    epochs = range(1, len(errors) + 1)\n",
        "\n",
        "    # plot\n",
        "    plt.figure(figsize=(12, 7))\n",
        "    plt.plot(epochs, errors, 'bo', label='training {}'.format(metric))\n",
        "    plt.plot(epochs, val_errors, 'b', label='validation {}'.format(metric))\n",
        "    plt.xlabel('number of epochs')\n",
        "    plt.ylabel(metric)\n",
        "    plt.title('Model Learning Curve')\n",
        "    plt.grid(True)\n",
        "    plt.legend()\n",
        "    plt.show()"
      ],
      "id": "8db90520"
    },
    {
      "cell_type": "code",
      "execution_count": null,
      "metadata": {
        "id": "4c8162ca",
        "outputId": "fd9d5548-4128-417c-f347-596b5296cec8"
      },
      "outputs": [
        {
          "data": {
            "image/png": "[encoded data removed]",
            "text/plain": [
              "<Figure size 864x504 with 1 Axes>"
            ]
          },
          "metadata": {},
          "output_type": "display_data"
        }
      ],
      "source": [
        "plot_learning_curve(history, 'rmse')"
      ],
      "id": "4c8162ca"
    },
    {
      "cell_type": "code",
      "execution_count": null,
      "metadata": {
        "id": "25263fc5"
      },
      "outputs": [],
      "source": [
        "# define rmse function\n",
        "rmse = lambda true, pred: np.sqrt(np.mean(np.square(np.squeeze(predictions) - np.squeeze(df_test.rating.values))))"
      ],
      "id": "25263fc5"
    },
    {
      "cell_type": "code",
      "execution_count": null,
      "metadata": {
        "id": "a0e40795"
      },
      "outputs": [],
      "source": [
        "user_id_test_values = np.asarray(df_test.user_id.values).astype(np.float32)\n",
        "book_id_test_values=np.asarray(df_test.book_id.values).astype(np.float32)"
      ],
      "id": "a0e40795"
    },
    {
      "cell_type": "code",
      "execution_count": null,
      "metadata": {
        "id": "1ab0ebb8",
        "outputId": "38e62ba2-1e46-4971-a816-f5c66126cccd"
      },
      "outputs": [
        {
          "name": "stdout",
          "output_type": "stream",
          "text": [
            "The out-of-sample RMSE of rating predictions is 0.8425\n"
          ]
        }
      ],
      "source": [
        " #load best model\n",
        "GMF_model = get_GMF_model(num_users, num_items, 10, 0, 0)\n",
        "GMF_model = load_trained_model(GMF_model, os.path.join(data_path, 'tmp/model.hdf5'))\n",
        "# make prediction using test data\n",
        "predictions = GMF_model.predict([user_id_test_values, book_id_test_values])\n",
        "# get the RMSE\n",
        "error = rmse(df_test.rating.values, predictions)\n",
        "print('The out-of-sample RMSE of rating predictions is', round(error, 4))"
      ],
      "id": "1ab0ebb8"
    },
    {
      "cell_type": "code",
      "execution_count": null,
      "metadata": {
        "id": "af8f8fd4"
      },
      "outputs": [],
      "source": [],
      "id": "af8f8fd4"
    },
    {
      "cell_type": "code",
      "execution_count": null,
      "metadata": {
        "id": "4d19d718"
      },
      "outputs": [],
      "source": [
        "def get_MLP_model(num_users, num_items, layers, reg_layers):\n",
        "    \"\"\"\n",
        "    Build Multi-Layer Perceptron Model Topology\n",
        "    \n",
        "    Parameters\n",
        "    ----------\n",
        "    num_users: int, total number of users\n",
        "    num_iterms: int, total number of items\n",
        "    layers: list of int, each element is the number of hidden units for each layer,\n",
        "        with the exception of first element. First element is the sum of dims of\n",
        "        user latent vector and item latent vector\n",
        "    reg_layers: list of int, each element is the L2 regularization parameter for\n",
        "        each layer in MLP\n",
        "\n",
        "    Return\n",
        "    ------\n",
        "    A Keras Model with MLP model architeture\n",
        "    \"\"\"\n",
        "    assert len(layers) == len(reg_layers)\n",
        "    num_layer = len(layers) # Number of layers in the MLP\n",
        "    # Input variables\n",
        "    user_input = Input(shape=(1,), dtype='int32', name='user_input')\n",
        "    item_input = Input(shape=(1,), dtype='int32', name='item_input')\n",
        "\n",
        "    MLP_Embedding_User = Embedding(\n",
        "        input_dim=num_users + 1,\n",
        "        output_dim=layers[0] // 2,\n",
        "        embeddings_initializer='uniform',\n",
        "        name='user_embedding',\n",
        "        embeddings_regularizer=l2(reg_layers[0]),\n",
        "        input_length=1)\n",
        "    MLP_Embedding_Item = Embedding(\n",
        "        input_dim=num_items + 1,\n",
        "        output_dim=layers[0] // 2,\n",
        "        embeddings_initializer='uniform',\n",
        "        name='item_embedding',\n",
        "        embeddings_regularizer=l2(reg_layers[0]),\n",
        "        input_length=1) \n",
        "    \n",
        "    # Crucial to flatten an embedding vector!\n",
        "    user_latent = Flatten()(MLP_Embedding_User(user_input))\n",
        "    item_latent = Flatten()(MLP_Embedding_Item(item_input))\n",
        "\n",
        "    # The 0-th layer is the concatenation of embedding layers\n",
        "    vector = Concatenate(axis=-1)([user_latent, item_latent])\n",
        "\n",
        "    # MLP layers\n",
        "    for idx in range(1, num_layer):\n",
        "        layer = Dense(\n",
        "            units=layers[idx],\n",
        "            activation='relu',\n",
        "            kernel_initializer='glorot_uniform',\n",
        "            kernel_regularizer=l2(reg_layers[idx]),\n",
        "            name = 'layer%d' %idx)\n",
        "        vector = layer(vector)\n",
        "    \n",
        "    # Final prediction layer\n",
        "    prediction = Dense(1, kernel_initializer='glorot_uniform', name='prediction')(vector)\n",
        "    \n",
        "    # Stitch input and output\n",
        "    model = Model([user_input, item_input], prediction)\n",
        "    \n",
        "    return model"
      ],
      "id": "4d19d718"
    },
    {
      "cell_type": "code",
      "execution_count": null,
      "metadata": {
        "id": "abf2fc83"
      },
      "outputs": [],
      "source": [],
      "id": "abf2fc83"
    },
    {
      "cell_type": "code",
      "execution_count": null,
      "metadata": {
        "id": "279a5029",
        "outputId": "bd1b8eda-c70c-4b34-8883-baed5bad2d6e"
      },
      "outputs": [
        {
          "name": "stdout",
          "output_type": "stream",
          "text": [
            "Model: \"model_4\"\n",
            "__________________________________________________________________________________________________\n",
            "Layer (type)                    Output Shape         Param #     Connected to                     \n",
            "==================================================================================================\n",
            "user_input (InputLayer)         [(None, 1)]          0                                            \n",
            "__________________________________________________________________________________________________\n",
            "item_input (InputLayer)         [(None, 1)]          0                                            \n",
            "__________________________________________________________________________________________________\n",
            "user_embedding (Embedding)      (None, 1, 32)        1709600     user_input[0][0]                 \n",
            "__________________________________________________________________________________________________\n",
            "item_embedding (Embedding)      (None, 1, 32)        320032      item_input[0][0]                 \n",
            "__________________________________________________________________________________________________\n",
            "flatten_8 (Flatten)             (None, 32)           0           user_embedding[0][0]             \n",
            "__________________________________________________________________________________________________\n",
            "flatten_9 (Flatten)             (None, 32)           0           item_embedding[0][0]             \n",
            "__________________________________________________________________________________________________\n",
            "concatenate (Concatenate)       (None, 64)           0           flatten_8[0][0]                  \n",
            "                                                                 flatten_9[0][0]                  \n",
            "__________________________________________________________________________________________________\n",
            "layer1 (Dense)                  (None, 32)           2080        concatenate[0][0]                \n",
            "__________________________________________________________________________________________________\n",
            "layer2 (Dense)                  (None, 16)           528         layer1[0][0]                     \n",
            "__________________________________________________________________________________________________\n",
            "layer3 (Dense)                  (None, 8)            136         layer2[0][0]                     \n",
            "__________________________________________________________________________________________________\n",
            "prediction (Dense)              (None, 1)            9           layer3[0][0]                     \n",
            "==================================================================================================\n",
            "Total params: 2,032,385\n",
            "Trainable params: 2,032,385\n",
            "Non-trainable params: 0\n",
            "__________________________________________________________________________________________________\n"
          ]
        }
      ],
      "source": [
        "MLP_model = get_MLP_model(num_users, num_items, [64, 32, 16, 8], [0, 0, 0, 0])\n",
        "MLP_model.summary()"
      ],
      "id": "279a5029"
    },
    {
      "cell_type": "code",
      "execution_count": null,
      "metadata": {
        "id": "44de7c32",
        "outputId": "2797a1ca-ec4c-4052-e169-f2f119b87462"
      },
      "outputs": [
        {
          "name": "stdout",
          "output_type": "stream",
          "text": [
            "Epoch 1/30\n",
            "56030/56030 [==============================] - 1649s 29ms/step - loss: 0.7926 - mean_squared_error: 0.7926 - rmse: 0.8802 - val_loss: 0.7377 - val_mean_squared_error: 0.7377 - val_rmse: 0.8543\n",
            "Epoch 2/30\n",
            "56030/56030 [==============================] - 702s 13ms/step - loss: 0.7181 - mean_squared_error: 0.7181 - rmse: 0.8427 - val_loss: 0.7225 - val_mean_squared_error: 0.7225 - val_rmse: 0.8458\n",
            "Epoch 3/30\n",
            "56030/56030 [==============================] - 667s 12ms/step - loss: 0.6831 - mean_squared_error: 0.6831 - rmse: 0.8217 - val_loss: 0.7077 - val_mean_squared_error: 0.7077 - val_rmse: 0.8369\n",
            "Epoch 4/30\n",
            "56030/56030 [==============================] - 695s 12ms/step - loss: 0.6550 - mean_squared_error: 0.6550 - rmse: 0.8045 - val_loss: 0.6998 - val_mean_squared_error: 0.6998 - val_rmse: 0.8320\n",
            "Epoch 5/30\n",
            "56030/56030 [==============================] - 33357s 595ms/step - loss: 0.6309 - mean_squared_error: 0.6309 - rmse: 0.7894 - val_loss: 0.6993 - val_mean_squared_error: 0.6993 - val_rmse: 0.8316\n",
            "Epoch 6/30\n",
            "56030/56030 [==============================] - 714s 13ms/step - loss: 0.6091 - mean_squared_error: 0.6091 - rmse: 0.7755 - val_loss: 0.6993 - val_mean_squared_error: 0.6993 - val_rmse: 0.8315\n",
            "Epoch 7/30\n",
            "56030/56030 [==============================] - 657s 12ms/step - loss: 0.5891 - mean_squared_error: 0.5891 - rmse: 0.7626 - val_loss: 0.7053 - val_mean_squared_error: 0.7053 - val_rmse: 0.8352\n",
            "Epoch 8/30\n",
            "56030/56030 [==============================] - 621s 11ms/step - loss: 0.5705 - mean_squared_error: 0.5705 - rmse: 0.7502 - val_loss: 0.7082 - val_mean_squared_error: 0.7082 - val_rmse: 0.8367\n",
            "Epoch 9/30\n",
            "56030/56030 [==============================] - 687s 12ms/step - loss: 0.5537 - mean_squared_error: 0.5537 - rmse: 0.7389 - val_loss: 0.7152 - val_mean_squared_error: 0.7152 - val_rmse: 0.8408\n",
            "Epoch 10/30\n",
            "56030/56030 [==============================] - 703s 13ms/step - loss: 0.5384 - mean_squared_error: 0.5384 - rmse: 0.7285 - val_loss: 0.7258 - val_mean_squared_error: 0.7258 - val_rmse: 0.8468\n",
            "Epoch 11/30\n",
            "56030/56030 [==============================] - 696s 12ms/step - loss: 0.5244 - mean_squared_error: 0.5244 - rmse: 0.7188 - val_loss: 0.7333 - val_mean_squared_error: 0.7333 - val_rmse: 0.8512\n",
            "Epoch 12/30\n",
            "56030/56030 [==============================] - 687s 12ms/step - loss: 0.5115 - mean_squared_error: 0.5115 - rmse: 0.7098 - val_loss: 0.7398 - val_mean_squared_error: 0.7398 - val_rmse: 0.8550\n",
            "Epoch 13/30\n",
            "56030/56030 [==============================] - 5131s 92ms/step - loss: 0.4999 - mean_squared_error: 0.4999 - rmse: 0.7016 - val_loss: 0.7405 - val_mean_squared_error: 0.7405 - val_rmse: 0.8554\n",
            "Epoch 14/30\n",
            "56030/56030 [==============================] - 804s 14ms/step - loss: 0.4896 - mean_squared_error: 0.4896 - rmse: 0.6942 - val_loss: 0.7572 - val_mean_squared_error: 0.7572 - val_rmse: 0.8650\n",
            "Epoch 15/30\n",
            "56030/56030 [==============================] - 3575s 64ms/step - loss: 0.4800 - mean_squared_error: 0.4800 - rmse: 0.6872 - val_loss: 0.7688 - val_mean_squared_error: 0.7688 - val_rmse: 0.8717\n",
            "Epoch 16/30\n",
            "56030/56030 [==============================] - 647s 12ms/step - loss: 0.4714 - mean_squared_error: 0.4714 - rmse: 0.6810 - val_loss: 0.7676 - val_mean_squared_error: 0.7676 - val_rmse: 0.8709\n",
            "Epoch 00016: early stopping\n"
          ]
        }
      ],
      "source": [
        "# model config\n",
        "BATCH_SIZE = 64\n",
        "EPOCHS = 30\n",
        "VAL_SPLIT = 0.25\n",
        "\n",
        "# train model\n",
        "history = train_model(MLP_model, 'adam', BATCH_SIZE, EPOCHS, VAL_SPLIT, \n",
        "                      inputs=[user_id_values, book_id_values],\n",
        "                      outputs=df_train.rating.values)"
      ],
      "id": "44de7c32"
    },
    {
      "cell_type": "code",
      "execution_count": null,
      "metadata": {
        "id": "c52dc3fb",
        "outputId": "7594db67-c996-4a52-ccea-b8d2368dbe0f"
      },
      "outputs": [
        {
          "data": {
            "image/png": "[encoded data removed]",
            "text/plain": [
              "<Figure size 864x504 with 1 Axes>"
            ]
          },
          "metadata": {},
          "output_type": "display_data"
        }
      ],
      "source": [
        "plot_learning_curve(history, 'rmse')"
      ],
      "id": "c52dc3fb"
    },
    {
      "cell_type": "code",
      "execution_count": null,
      "metadata": {
        "id": "569f1cf4",
        "outputId": "df1f73b9-aa94-4412-f556-282b481260f2"
      },
      "outputs": [
        {
          "name": "stdout",
          "output_type": "stream",
          "text": [
            "The out-of-sample RMSE of rating predictions is 0.8367\n"
          ]
        }
      ],
      "source": [
        "# load best model\n",
        "MLP_model = get_MLP_model(num_users, num_items, [64, 32, 16, 8], [0, 0, 0, 0])\n",
        "MLP_model = load_trained_model(MLP_model, os.path.join(data_path, 'tmp/model.hdf5'))\n",
        "# make prediction using test data\n",
        "predictions = MLP_model.predict([user_id_test_values,book_id_test_values])\n",
        "# get the RMSE\n",
        "error = rmse(df_test.rating.values, predictions)\n",
        "print('The out-of-sample RMSE of rating predictions is', round(error, 4))"
      ],
      "id": "569f1cf4"
    },
    {
      "cell_type": "code",
      "execution_count": null,
      "metadata": {
        "id": "f10d6b11"
      },
      "outputs": [],
      "source": [
        "def get_NeuMF_model(num_users, num_items, MF_dim, MF_reg, MLP_layers, MLP_regs):\n",
        "    \"\"\"\n",
        "    Build Neural Matrix Factorization (NeuMF) Model Topology.\n",
        "    This is stack version of both GMF and MLP\n",
        "    \n",
        "    Parameters\n",
        "    ----------\n",
        "    num_users: int, total number of users\n",
        "    num_iterms: int, total number of items\n",
        "    MF_dim: int, embedded dimension for user vector and item vector in MF\n",
        "    MF_reg: tuple of float, L2 regularization of MF embedded layer\n",
        "    MLP_layers: list of int, each element is the number of hidden units for each MLP layer,\n",
        "        with the exception of first element. First element is the sum of dims of\n",
        "        user latent vector and item latent vector\n",
        "    MLP_regs: list of int, each element is the L2 regularization parameter for\n",
        "        each layer in MLP\n",
        "\n",
        "    Return\n",
        "    ------\n",
        "    A Keras Model with MLP model architeture\n",
        "    \"\"\"\n",
        "    assert len(MLP_layers) == len(MLP_regs)\n",
        "    num_MLP_layer = len(MLP_layers) # Number of layers in the MLP\n",
        "    # Input variables\n",
        "    user_input = Input(shape=(1,), dtype='int32', name='user_input')\n",
        "    item_input = Input(shape=(1,), dtype='int32', name='item_input')\n",
        "\n",
        "    \n",
        "     # Embedding layer\n",
        "    \n",
        "    # MF\n",
        "    MF_Embedding_User = Embedding(\n",
        "        input_dim=num_users + 1,\n",
        "        output_dim=MF_dim,\n",
        "        embeddings_initializer='uniform',\n",
        "        name='mf_user_embedding',\n",
        "        embeddings_regularizer=l2(MF_reg[0]),\n",
        "        input_length=1)\n",
        "    MF_Embedding_Item = Embedding(\n",
        "        input_dim=num_items + 1,\n",
        "        output_dim=MF_dim,\n",
        "        embeddings_initializer='uniform',\n",
        "        name='mf_item_embedding',\n",
        "        embeddings_regularizer=l2(MF_reg[1]),\n",
        "        input_length=1)\n",
        "    \n",
        "    # MLP\n",
        "    MLP_Embedding_User = Embedding(\n",
        "        input_dim=num_users + 1,\n",
        "        output_dim=MLP_layers[0] // 2,\n",
        "        embeddings_initializer='uniform',\n",
        "        name='mlp_user_embedding',\n",
        "        embeddings_regularizer=l2(MLP_regs[0]),\n",
        "        input_length=1)\n",
        "    MLP_Embedding_Item = Embedding(\n",
        "        input_dim=num_items + 1,output_dim=MLP_layers[0] // 2,\n",
        "        embeddings_initializer='uniform',\n",
        "        name='mlp_item_embedding',\n",
        "        embeddings_regularizer=l2(MLP_regs[0]),\n",
        "        input_length=1) \n",
        "    \n",
        "    # MF part\n",
        "    mf_user_latent = Flatten()(MF_Embedding_User(user_input))\n",
        "    mf_item_latent = Flatten()(MF_Embedding_Item(item_input))\n",
        "    mf_vector = Multiply()([mf_user_latent, mf_item_latent])\n",
        "\n",
        "    # MLP part\n",
        "    mlp_user_latent = Flatten()(MLP_Embedding_User(user_input))\n",
        "    mlp_item_latent = Flatten()(MLP_Embedding_Item(item_input))\n",
        "    mlp_vector = Concatenate(axis=-1)([mlp_user_latent, mlp_item_latent])\n",
        "    for idx in range(1, num_MLP_layer):\n",
        "        layer = Dense(\n",
        "            units=MLP_layers[idx],\n",
        "            activation='relu',\n",
        "            kernel_initializer='glorot_uniform',\n",
        "            kernel_regularizer=l2(MLP_regs[idx]),\n",
        "            name = 'layer%d' %idx)\n",
        "        mlp_vector = layer(mlp_vector)\n",
        "    \n",
        "    # Concatenate MF and MLP parts\n",
        "    predict_vector = Concatenate(axis=-1)([mf_vector, mlp_vector])\n",
        "\n",
        "    # Final prediction layer\n",
        "    prediction = Dense(1, kernel_initializer='glorot_uniform', name='prediction')(predict_vector)\n",
        "    \n",
        "    # Stitch input and output\n",
        "    model = Model([user_input, item_input], prediction)\n",
        "    \n",
        "    return model"
      ],
      "id": "f10d6b11"
    },
    {
      "cell_type": "code",
      "execution_count": null,
      "metadata": {
        "id": "7355f230",
        "outputId": "fb911d93-85c3-4101-95b6-3fe0feea8958"
      },
      "outputs": [
        {
          "name": "stdout",
          "output_type": "stream",
          "text": [
            "Model: \"model_6\"\n",
            "__________________________________________________________________________________________________\n",
            "Layer (type)                    Output Shape         Param #     Connected to                     \n",
            "==================================================================================================\n",
            "user_input (InputLayer)         [(None, 1)]          0                                            \n",
            "__________________________________________________________________________________________________\n",
            "item_input (InputLayer)         [(None, 1)]          0                                            \n",
            "__________________________________________________________________________________________________\n",
            "mlp_user_embedding (Embedding)  (None, 1, 32)        1709600     user_input[0][0]                 \n",
            "__________________________________________________________________________________________________\n",
            "mlp_item_embedding (Embedding)  (None, 1, 32)        320032      item_input[0][0]                 \n",
            "__________________________________________________________________________________________________\n",
            "flatten_14 (Flatten)            (None, 32)           0           mlp_user_embedding[0][0]         \n",
            "__________________________________________________________________________________________________\n",
            "flatten_15 (Flatten)            (None, 32)           0           mlp_item_embedding[0][0]         \n",
            "__________________________________________________________________________________________________\n",
            "concatenate_2 (Concatenate)     (None, 64)           0           flatten_14[0][0]                 \n",
            "                                                                 flatten_15[0][0]                 \n",
            "__________________________________________________________________________________________________\n",
            "mf_user_embedding (Embedding)   (None, 1, 10)        534250      user_input[0][0]                 \n",
            "__________________________________________________________________________________________________\n",
            "mf_item_embedding (Embedding)   (None, 1, 10)        100010      item_input[0][0]                 \n",
            "__________________________________________________________________________________________________\n",
            "layer1 (Dense)                  (None, 32)           2080        concatenate_2[0][0]              \n",
            "__________________________________________________________________________________________________\n",
            "flatten_12 (Flatten)            (None, 10)           0           mf_user_embedding[0][0]          \n",
            "__________________________________________________________________________________________________\n",
            "flatten_13 (Flatten)            (None, 10)           0           mf_item_embedding[0][0]          \n",
            "__________________________________________________________________________________________________\n",
            "layer2 (Dense)                  (None, 16)           528         layer1[0][0]                     \n",
            "__________________________________________________________________________________________________\n",
            "multiply_4 (Multiply)           (None, 10)           0           flatten_12[0][0]                 \n",
            "                                                                 flatten_13[0][0]                 \n",
            "__________________________________________________________________________________________________\n",
            "layer3 (Dense)                  (None, 8)            136         layer2[0][0]                     \n",
            "__________________________________________________________________________________________________\n",
            "concatenate_3 (Concatenate)     (None, 18)           0           multiply_4[0][0]                 \n",
            "                                                                 layer3[0][0]                     \n",
            "__________________________________________________________________________________________________\n",
            "prediction (Dense)              (None, 1)            19          concatenate_3[0][0]              \n",
            "==================================================================================================\n",
            "Total params: 2,666,655\n",
            "Trainable params: 2,666,655\n",
            "Non-trainable params: 0\n",
            "__________________________________________________________________________________________________\n"
          ]
        }
      ],
      "source": [
        "NeuMF_model = get_NeuMF_model(\n",
        "    num_users=num_users,\n",
        "    num_items=num_items,\n",
        "    MF_dim=10,\n",
        "    MF_reg=(0, 0),\n",
        "    MLP_layers=[64, 32, 16, 8],\n",
        "    MLP_regs=[0, 0, 0, 0])\n",
        "NeuMF_model.summary()"
      ],
      "id": "7355f230"
    },
    {
      "cell_type": "code",
      "execution_count": null,
      "metadata": {
        "id": "be0306a1",
        "outputId": "766008b6-8b40-4b14-f648-af4e8d90d71f"
      },
      "outputs": [
        {
          "name": "stdout",
          "output_type": "stream",
          "text": [
            "Epoch 1/30\n",
            "56030/56030 [==============================] - 823s 15ms/step - loss: 0.7956 - mean_squared_error: 0.7956 - rmse: 0.8792 - val_loss: 0.7221 - val_mean_squared_error: 0.7221 - val_rmse: 0.8451\n",
            "Epoch 2/30\n",
            "56030/56030 [==============================] - 842s 15ms/step - loss: 0.6652 - mean_squared_error: 0.6652 - rmse: 0.8109 - val_loss: 0.7075 - val_mean_squared_error: 0.7075 - val_rmse: 0.8363\n",
            "Epoch 3/30\n",
            "56030/56030 [==============================] - 819s 15ms/step - loss: 0.6094 - mean_squared_error: 0.6094 - rmse: 0.7757 - val_loss: 0.7109 - val_mean_squared_error: 0.7109 - val_rmse: 0.8381\n",
            "Epoch 4/30\n",
            "56030/56030 [==============================] - 842s 15ms/step - loss: 0.5741 - mean_squared_error: 0.5741 - rmse: 0.7526 - val_loss: 0.7126 - val_mean_squared_error: 0.7126 - val_rmse: 0.8393\n",
            "Epoch 5/30\n",
            "56030/56030 [==============================] - 844s 15ms/step - loss: 0.5468 - mean_squared_error: 0.5468 - rmse: 0.7342 - val_loss: 0.7226 - val_mean_squared_error: 0.7226 - val_rmse: 0.8451\n",
            "Epoch 6/30\n",
            "56030/56030 [==============================] - 842s 15ms/step - loss: 0.5236 - mean_squared_error: 0.5236 - rmse: 0.7183 - val_loss: 0.7322 - val_mean_squared_error: 0.7322 - val_rmse: 0.8507\n",
            "Epoch 7/30\n",
            "56030/56030 [==============================] - 842s 15ms/step - loss: 0.5028 - mean_squared_error: 0.5028 - rmse: 0.7037 - val_loss: 0.7414 - val_mean_squared_error: 0.7414 - val_rmse: 0.8562\n",
            "Epoch 8/30\n",
            "56030/56030 [==============================] - 839s 15ms/step - loss: 0.4840 - mean_squared_error: 0.4840 - rmse: 0.6902 - val_loss: 0.7551 - val_mean_squared_error: 0.7551 - val_rmse: 0.8642\n",
            "Epoch 9/30\n",
            "56030/56030 [==============================] - 845s 15ms/step - loss: 0.4669 - mean_squared_error: 0.4669 - rmse: 0.6777 - val_loss: 0.7640 - val_mean_squared_error: 0.7640 - val_rmse: 0.8693\n",
            "Epoch 10/30\n",
            "56030/56030 [==============================] - 826s 15ms/step - loss: 0.4513 - mean_squared_error: 0.4513 - rmse: 0.6662 - val_loss: 0.7786 - val_mean_squared_error: 0.7786 - val_rmse: 0.8774\n",
            "Epoch 11/30\n",
            "56030/56030 [==============================] - 853s 15ms/step - loss: 0.4374 - mean_squared_error: 0.4374 - rmse: 0.6558 - val_loss: 0.7859 - val_mean_squared_error: 0.7859 - val_rmse: 0.8814\n",
            "Epoch 12/30\n",
            "56030/56030 [==============================] - 858s 15ms/step - loss: 0.4248 - mean_squared_error: 0.4248 - rmse: 0.6460 - val_loss: 0.7925 - val_mean_squared_error: 0.7925 - val_rmse: 0.8853\n",
            "Epoch 00012: early stopping\n"
          ]
        }
      ],
      "source": [
        "BATCH_SIZE = 64\n",
        "EPOCHS = 30\n",
        "VAL_SPLIT = 0.25\n",
        "\n",
        "# train model\n",
        "history = train_model(NeuMF_model, 'adam', BATCH_SIZE, EPOCHS, VAL_SPLIT, \n",
        "                      inputs=[user_id_values, book_id_values],\n",
        "                      outputs=df_train.rating.values)"
      ],
      "id": "be0306a1"
    },
    {
      "cell_type": "code",
      "execution_count": null,
      "metadata": {
        "id": "38fde080",
        "outputId": "983413a0-f9c7-45f1-f0ec-90b2f4baed10"
      },
      "outputs": [
        {
          "data": {
            "image/png": "[encoded data removed]",
            "text/plain": [
              "<Figure size 864x504 with 1 Axes>"
            ]
          },
          "metadata": {},
          "output_type": "display_data"
        }
      ],
      "source": [
        "plot_learning_curve(history, 'rmse')"
      ],
      "id": "38fde080"
    },
    {
      "cell_type": "code",
      "execution_count": null,
      "metadata": {
        "id": "1be2c9e2",
        "outputId": "13722fce-d69b-4a60-e16c-943f3da96d7f"
      },
      "outputs": [
        {
          "name": "stdout",
          "output_type": "stream",
          "text": [
            "The out-of-sample RMSE of rating predictions is 0.8417\n"
          ]
        }
      ],
      "source": [
        "# load best model\n",
        "NeuMF_model = get_NeuMF_model(\n",
        "    num_users=num_users,\n",
        "    num_items=num_items,\n",
        "    MF_dim=10,\n",
        "    MF_reg=(0, 0),\n",
        "    MLP_layers=[64, 32, 16, 8],\n",
        "    MLP_regs=[0, 0, 0, 0])\n",
        "NeuMF_model = load_trained_model(NeuMF_model, os.path.join(data_path, 'tmp/model.hdf5'))\n",
        "# make prediction using test data\n",
        "predictions = NeuMF_model.predict([user_id_test_values, book_id_test_values])\n",
        "# get the RMSE\n",
        "error = rmse(df_test.rating.values, predictions)\n",
        "print('The out-of-sample RMSE of rating predictions is', round(error, 4))"
      ],
      "id": "1be2c9e2"
    },
    {
      "cell_type": "code",
      "execution_count": null,
      "metadata": {
        "id": "d538eb73"
      },
      "outputs": [],
      "source": [],
      "id": "d538eb73"
    }
  ],
  "metadata": {
    "accelerator": "GPU",
    "colab": {
      "collapsed_sections": [
        "d5177af4",
        "e85e7a70",
        "3ed1fc29",
        "ba6d2178",
        "4b67b07f",
        "b728d4cf",
        "215c03db",
        "c12a2b44",
        "437baf7c",
        "596df8f8"
      ],
      "name": "18_08_2022_GoodReadsBook_Recommendation_System.ipynb",
      "provenance": [],
      "include_colab_link": true
    },
    "gpuClass": "standard",
    "kernelspec": {
      "display_name": "Python 3",
      "language": "python",
      "name": "python3"
    },
    "language_info": {
      "codemirror_mode": {
        "name": "ipython",
        "version": 3
      },
      "file_extension": ".py",
      "mimetype": "text/x-python",
      "name": "python",
      "nbconvert_exporter": "python",
      "pygments_lexer": "ipython3",
      "version": "3.8.8"
    }
  },
  "nbformat": 4,
  "nbformat_minor": 5
}